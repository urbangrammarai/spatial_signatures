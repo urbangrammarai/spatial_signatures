{
 "cells": [
  {
   "cell_type": "markdown",
   "id": "lasting-climate",
   "metadata": {},
   "source": [
    "# Functional data\n",
    "\n",
    "This notebook links various functional layers to ET cells across GB.\n",
    "\n",
    "## Population estimates"
   ]
  },
  {
   "cell_type": "code",
   "execution_count": 1,
   "id": "harmful-maintenance",
   "metadata": {},
   "outputs": [],
   "source": [
    "import warnings\n",
    "\n",
    "import geopandas as gpd\n",
    "import pandas as pd\n",
    "import numpy as np\n",
    "import tobler\n",
    "from time import time\n",
    "import xarray\n",
    "import rioxarray\n",
    "import rasterstats\n",
    "\n",
    "from dask.distributed import Client, LocalCluster, as_completed\n",
    "import dask.dataframe as dd"
   ]
  },
  {
   "cell_type": "code",
   "execution_count": 2,
   "id": "surrounded-distance",
   "metadata": {},
   "outputs": [],
   "source": [
    "warnings.filterwarnings('ignore', message='.*initial implementation of Parquet.*')"
   ]
  },
  {
   "cell_type": "code",
   "execution_count": 2,
   "id": "nearby-implementation",
   "metadata": {},
   "outputs": [],
   "source": [
    "population_est = gpd.read_parquet(\"../../urbangrammar_samba/functional_data/population_estimates/gb_population_estimates.pq\")"
   ]
  },
  {
   "cell_type": "code",
   "execution_count": 3,
   "id": "defensive-orchestra",
   "metadata": {},
   "outputs": [
    {
     "data": {
      "text/html": [
       "<div>\n",
       "<style scoped>\n",
       "    .dataframe tbody tr th:only-of-type {\n",
       "        vertical-align: middle;\n",
       "    }\n",
       "\n",
       "    .dataframe tbody tr th {\n",
       "        vertical-align: top;\n",
       "    }\n",
       "\n",
       "    .dataframe thead th {\n",
       "        text-align: right;\n",
       "    }\n",
       "</style>\n",
       "<table border=\"1\" class=\"dataframe\">\n",
       "  <thead>\n",
       "    <tr style=\"text-align: right;\">\n",
       "      <th></th>\n",
       "      <th>code</th>\n",
       "      <th>population</th>\n",
       "      <th>geometry</th>\n",
       "    </tr>\n",
       "  </thead>\n",
       "  <tbody>\n",
       "    <tr>\n",
       "      <th>0</th>\n",
       "      <td>E00000095</td>\n",
       "      <td>508</td>\n",
       "      <td>POLYGON ((549375.280 184970.971, 549375.032 18...</td>\n",
       "    </tr>\n",
       "    <tr>\n",
       "      <th>1</th>\n",
       "      <td>E00000096</td>\n",
       "      <td>322</td>\n",
       "      <td>POLYGON ((549003.992 184933.133, 549007.974 18...</td>\n",
       "    </tr>\n",
       "    <tr>\n",
       "      <th>2</th>\n",
       "      <td>E00000097</td>\n",
       "      <td>348</td>\n",
       "      <td>POLYGON ((548895.389 184911.808, 548897.030 18...</td>\n",
       "    </tr>\n",
       "    <tr>\n",
       "      <th>3</th>\n",
       "      <td>E00000098</td>\n",
       "      <td>305</td>\n",
       "      <td>POLYGON ((548320.415 184671.916, 548317.197 18...</td>\n",
       "    </tr>\n",
       "    <tr>\n",
       "      <th>4</th>\n",
       "      <td>E00000001</td>\n",
       "      <td>251</td>\n",
       "      <td>POLYGON ((532303.125 181877.594, 532301.345 18...</td>\n",
       "    </tr>\n",
       "    <tr>\n",
       "      <th>...</th>\n",
       "      <td>...</td>\n",
       "      <td>...</td>\n",
       "      <td>...</td>\n",
       "    </tr>\n",
       "    <tr>\n",
       "      <th>6971</th>\n",
       "      <td>S01013477</td>\n",
       "      <td>638</td>\n",
       "      <td>POLYGON ((308686.000 672220.000, 308688.000 67...</td>\n",
       "    </tr>\n",
       "    <tr>\n",
       "      <th>6972</th>\n",
       "      <td>S01013478</td>\n",
       "      <td>809</td>\n",
       "      <td>POLYGON ((307423.889 672579.756, 307424.594 67...</td>\n",
       "    </tr>\n",
       "    <tr>\n",
       "      <th>6973</th>\n",
       "      <td>S01013479</td>\n",
       "      <td>758</td>\n",
       "      <td>POLYGON ((308478.000 672440.000, 308485.000 67...</td>\n",
       "    </tr>\n",
       "    <tr>\n",
       "      <th>6974</th>\n",
       "      <td>S01013480</td>\n",
       "      <td>703</td>\n",
       "      <td>POLYGON ((308734.000 672598.000, 308743.000 67...</td>\n",
       "    </tr>\n",
       "    <tr>\n",
       "      <th>6975</th>\n",
       "      <td>S01013481</td>\n",
       "      <td>682</td>\n",
       "      <td>POLYGON ((309949.893 672738.667, 309970.518 67...</td>\n",
       "    </tr>\n",
       "  </tbody>\n",
       "</table>\n",
       "<p>188384 rows × 3 columns</p>\n",
       "</div>"
      ],
      "text/plain": [
       "           code  population                                           geometry\n",
       "0     E00000095         508  POLYGON ((549375.280 184970.971, 549375.032 18...\n",
       "1     E00000096         322  POLYGON ((549003.992 184933.133, 549007.974 18...\n",
       "2     E00000097         348  POLYGON ((548895.389 184911.808, 548897.030 18...\n",
       "3     E00000098         305  POLYGON ((548320.415 184671.916, 548317.197 18...\n",
       "4     E00000001         251  POLYGON ((532303.125 181877.594, 532301.345 18...\n",
       "...         ...         ...                                                ...\n",
       "6971  S01013477         638  POLYGON ((308686.000 672220.000, 308688.000 67...\n",
       "6972  S01013478         809  POLYGON ((307423.889 672579.756, 307424.594 67...\n",
       "6973  S01013479         758  POLYGON ((308478.000 672440.000, 308485.000 67...\n",
       "6974  S01013480         703  POLYGON ((308734.000 672598.000, 308743.000 67...\n",
       "6975  S01013481         682  POLYGON ((309949.893 672738.667, 309970.518 67...\n",
       "\n",
       "[188384 rows x 3 columns]"
      ]
     },
     "execution_count": 3,
     "metadata": {},
     "output_type": "execute_result"
    }
   ],
   "source": [
    "population_est"
   ]
  },
  {
   "cell_type": "code",
   "execution_count": 15,
   "id": "spanish-italy",
   "metadata": {},
   "outputs": [],
   "source": [
    "chunk = gpd.read_parquet(\"../../urbangrammar_samba/spatial_signatures/tessellation/tess_0.pq\")"
   ]
  },
  {
   "cell_type": "code",
   "execution_count": 8,
   "id": "purple-struggle",
   "metadata": {},
   "outputs": [
    {
     "data": {
      "text/html": [
       "<div>\n",
       "<style scoped>\n",
       "    .dataframe tbody tr th:only-of-type {\n",
       "        vertical-align: middle;\n",
       "    }\n",
       "\n",
       "    .dataframe tbody tr th {\n",
       "        vertical-align: top;\n",
       "    }\n",
       "\n",
       "    .dataframe thead th {\n",
       "        text-align: right;\n",
       "    }\n",
       "</style>\n",
       "<table border=\"1\" class=\"dataframe\">\n",
       "  <thead>\n",
       "    <tr style=\"text-align: right;\">\n",
       "      <th></th>\n",
       "      <th>hindex</th>\n",
       "      <th>tessellation</th>\n",
       "      <th>buildings</th>\n",
       "    </tr>\n",
       "  </thead>\n",
       "  <tbody>\n",
       "    <tr>\n",
       "      <th>0</th>\n",
       "      <td>c000e109777t0000</td>\n",
       "      <td>POLYGON ((336287.376 427055.178, 336286.745 42...</td>\n",
       "      <td>POLYGON ((336281.920 427085.170, 336285.250 42...</td>\n",
       "    </tr>\n",
       "    <tr>\n",
       "      <th>1</th>\n",
       "      <td>c000e109777t0001</td>\n",
       "      <td>POLYGON ((336192.633 427056.666, 336192.607 42...</td>\n",
       "      <td>POLYGON ((336196.990 427062.730, 336209.420 42...</td>\n",
       "    </tr>\n",
       "    <tr>\n",
       "      <th>2</th>\n",
       "      <td>c000e109777t0002</td>\n",
       "      <td>POLYGON ((336202.056 427028.254, 336199.483 42...</td>\n",
       "      <td>POLYGON ((336198.720 427052.340, 336200.960 42...</td>\n",
       "    </tr>\n",
       "    <tr>\n",
       "      <th>3</th>\n",
       "      <td>c000e109777t0003</td>\n",
       "      <td>POLYGON ((336194.678 427020.851, 336196.952 42...</td>\n",
       "      <td>POLYGON ((336213.400 427028.670, 336214.800 42...</td>\n",
       "    </tr>\n",
       "    <tr>\n",
       "      <th>4</th>\n",
       "      <td>c000e109777t0004</td>\n",
       "      <td>POLYGON ((336220.377 427052.195, 336218.829 42...</td>\n",
       "      <td>POLYGON ((336248.750 427066.160, 336246.990 42...</td>\n",
       "    </tr>\n",
       "    <tr>\n",
       "      <th>...</th>\n",
       "      <td>...</td>\n",
       "      <td>...</td>\n",
       "      <td>...</td>\n",
       "    </tr>\n",
       "    <tr>\n",
       "      <th>114648</th>\n",
       "      <td>c000e599810t0000</td>\n",
       "      <td>POLYGON Z ((348790.934 452623.250 0.000, 34878...</td>\n",
       "      <td>None</td>\n",
       "    </tr>\n",
       "    <tr>\n",
       "      <th>114649</th>\n",
       "      <td>c000e094707t0000</td>\n",
       "      <td>POLYGON ((352410.100 452567.740, 352408.620 45...</td>\n",
       "      <td>None</td>\n",
       "    </tr>\n",
       "    <tr>\n",
       "      <th>114650</th>\n",
       "      <td>c000e599602t0000</td>\n",
       "      <td>POLYGON Z ((352035.703 452585.968 0.000, 35204...</td>\n",
       "      <td>None</td>\n",
       "    </tr>\n",
       "    <tr>\n",
       "      <th>114651</th>\n",
       "      <td>c000e599795t0000</td>\n",
       "      <td>POLYGON Z ((348790.934 452623.250 0.000, 34879...</td>\n",
       "      <td>None</td>\n",
       "    </tr>\n",
       "    <tr>\n",
       "      <th>114652</th>\n",
       "      <td>c000e599790t0000</td>\n",
       "      <td>POLYGON Z ((348431.535 452642.577 0.000, 34842...</td>\n",
       "      <td>None</td>\n",
       "    </tr>\n",
       "  </tbody>\n",
       "</table>\n",
       "<p>114653 rows × 3 columns</p>\n",
       "</div>"
      ],
      "text/plain": [
       "                  hindex                                       tessellation  \\\n",
       "0       c000e109777t0000  POLYGON ((336287.376 427055.178, 336286.745 42...   \n",
       "1       c000e109777t0001  POLYGON ((336192.633 427056.666, 336192.607 42...   \n",
       "2       c000e109777t0002  POLYGON ((336202.056 427028.254, 336199.483 42...   \n",
       "3       c000e109777t0003  POLYGON ((336194.678 427020.851, 336196.952 42...   \n",
       "4       c000e109777t0004  POLYGON ((336220.377 427052.195, 336218.829 42...   \n",
       "...                  ...                                                ...   \n",
       "114648  c000e599810t0000  POLYGON Z ((348790.934 452623.250 0.000, 34878...   \n",
       "114649  c000e094707t0000  POLYGON ((352410.100 452567.740, 352408.620 45...   \n",
       "114650  c000e599602t0000  POLYGON Z ((352035.703 452585.968 0.000, 35204...   \n",
       "114651  c000e599795t0000  POLYGON Z ((348790.934 452623.250 0.000, 34879...   \n",
       "114652  c000e599790t0000  POLYGON Z ((348431.535 452642.577 0.000, 34842...   \n",
       "\n",
       "                                                buildings  \n",
       "0       POLYGON ((336281.920 427085.170, 336285.250 42...  \n",
       "1       POLYGON ((336196.990 427062.730, 336209.420 42...  \n",
       "2       POLYGON ((336198.720 427052.340, 336200.960 42...  \n",
       "3       POLYGON ((336213.400 427028.670, 336214.800 42...  \n",
       "4       POLYGON ((336248.750 427066.160, 336246.990 42...  \n",
       "...                                                   ...  \n",
       "114648                                               None  \n",
       "114649                                               None  \n",
       "114650                                               None  \n",
       "114651                                               None  \n",
       "114652                                               None  \n",
       "\n",
       "[114653 rows x 3 columns]"
      ]
     },
     "execution_count": 8,
     "metadata": {},
     "output_type": "execute_result"
    }
   ],
   "source": [
    "chunk"
   ]
  },
  {
   "cell_type": "code",
   "execution_count": 5,
   "id": "innocent-trail",
   "metadata": {},
   "outputs": [],
   "source": [
    "xmin, ymin, xmax, ymax = chunk.total_bounds"
   ]
  },
  {
   "cell_type": "code",
   "execution_count": 6,
   "id": "warming-dryer",
   "metadata": {},
   "outputs": [
    {
     "name": "stdout",
     "output_type": "stream",
     "text": [
      "CPU times: user 6.69 s, sys: 18 ms, total: 6.71 s\n",
      "Wall time: 6.71 s\n"
     ]
    }
   ],
   "source": [
    "%%time\n",
    "ests = tobler.area_weighted.area_interpolate(population_est.cx[xmin:xmax, ymin:ymax], chunk.set_geometry(\"buildings\"), extensive_variables=['population'])"
   ]
  },
  {
   "cell_type": "code",
   "execution_count": 9,
   "id": "incredible-torture",
   "metadata": {},
   "outputs": [
    {
     "data": {
      "text/plain": [
       "373.49790543317795"
      ]
     },
     "execution_count": 9,
     "metadata": {},
     "output_type": "execute_result"
    }
   ],
   "source": [
    "ests.population.max()"
   ]
  },
  {
   "cell_type": "code",
   "execution_count": 10,
   "id": "representative-administration",
   "metadata": {},
   "outputs": [
    {
     "name": "stdout",
     "output_type": "stream",
     "text": [
      "Chunk 0 processed sucessfully in 6.84471321105957 seconds.\n",
      "Chunk 1 processed sucessfully in 8.95691466331482 seconds.\n",
      "Chunk 2 processed sucessfully in 7.748736381530762 seconds.\n",
      "Chunk 3 processed sucessfully in 8.444145202636719 seconds.\n",
      "Chunk 4 processed sucessfully in 12.662679195404053 seconds.\n",
      "Chunk 5 processed sucessfully in 33.37630248069763 seconds.\n",
      "Chunk 6 processed sucessfully in 26.04380989074707 seconds.\n",
      "Chunk 7 processed sucessfully in 8.81340217590332 seconds.\n",
      "Chunk 8 processed sucessfully in 9.171989679336548 seconds.\n",
      "Chunk 9 processed sucessfully in 7.381581783294678 seconds.\n",
      "Chunk 10 processed sucessfully in 8.442428827285767 seconds.\n",
      "Chunk 11 processed sucessfully in 8.21262001991272 seconds.\n",
      "Chunk 12 processed sucessfully in 13.600036859512329 seconds.\n",
      "Chunk 13 processed sucessfully in 9.243984937667847 seconds.\n",
      "Chunk 14 processed sucessfully in 10.093465805053711 seconds.\n",
      "Chunk 15 processed sucessfully in 7.550076246261597 seconds.\n",
      "Chunk 16 processed sucessfully in 7.128798007965088 seconds.\n",
      "Chunk 17 processed sucessfully in 6.8270556926727295 seconds.\n",
      "Chunk 18 processed sucessfully in 6.49470067024231 seconds.\n",
      "Chunk 19 processed sucessfully in 9.43128228187561 seconds.\n",
      "Chunk 20 processed sucessfully in 9.012417316436768 seconds.\n",
      "Chunk 21 processed sucessfully in 6.9743428230285645 seconds.\n",
      "Chunk 22 processed sucessfully in 7.980851411819458 seconds.\n",
      "Chunk 23 processed sucessfully in 7.119813442230225 seconds.\n",
      "Chunk 24 processed sucessfully in 9.437546253204346 seconds.\n",
      "Chunk 25 processed sucessfully in 6.803953409194946 seconds.\n",
      "Chunk 26 processed sucessfully in 9.637716293334961 seconds.\n",
      "Chunk 27 processed sucessfully in 10.971379280090332 seconds.\n",
      "Chunk 28 processed sucessfully in 6.771683216094971 seconds.\n",
      "Chunk 29 processed sucessfully in 7.680195569992065 seconds.\n",
      "Chunk 30 processed sucessfully in 9.643282890319824 seconds.\n",
      "Chunk 31 processed sucessfully in 8.81855821609497 seconds.\n",
      "Chunk 32 processed sucessfully in 13.103512048721313 seconds.\n",
      "Chunk 33 processed sucessfully in 8.799424409866333 seconds.\n",
      "Chunk 34 processed sucessfully in 8.385125398635864 seconds.\n",
      "Chunk 35 processed sucessfully in 7.943921089172363 seconds.\n",
      "Chunk 36 processed sucessfully in 8.670780181884766 seconds.\n",
      "Chunk 37 processed sucessfully in 9.39652395248413 seconds.\n",
      "Chunk 38 processed sucessfully in 15.169151782989502 seconds.\n",
      "Chunk 39 processed sucessfully in 8.4164559841156 seconds.\n",
      "Chunk 40 processed sucessfully in 13.69991397857666 seconds.\n",
      "Chunk 41 processed sucessfully in 7.764244079589844 seconds.\n",
      "Chunk 42 processed sucessfully in 15.848462104797363 seconds.\n",
      "Chunk 43 processed sucessfully in 6.976937770843506 seconds.\n",
      "Chunk 44 processed sucessfully in 6.865246772766113 seconds.\n",
      "Chunk 45 processed sucessfully in 8.11099624633789 seconds.\n",
      "Chunk 46 processed sucessfully in 8.987512826919556 seconds.\n",
      "Chunk 47 processed sucessfully in 11.197800874710083 seconds.\n",
      "Chunk 48 processed sucessfully in 12.576496839523315 seconds.\n",
      "Chunk 49 processed sucessfully in 8.557328939437866 seconds.\n",
      "Chunk 50 processed sucessfully in 9.006227254867554 seconds.\n",
      "Chunk 51 processed sucessfully in 7.308640956878662 seconds.\n",
      "Chunk 52 processed sucessfully in 6.800082445144653 seconds.\n",
      "Chunk 53 processed sucessfully in 9.72713017463684 seconds.\n",
      "Chunk 54 processed sucessfully in 11.267854452133179 seconds.\n",
      "Chunk 55 processed sucessfully in 6.751447916030884 seconds.\n",
      "Chunk 56 processed sucessfully in 7.8523406982421875 seconds.\n",
      "Chunk 57 processed sucessfully in 7.844626426696777 seconds.\n",
      "Chunk 58 processed sucessfully in 10.484244346618652 seconds.\n",
      "Chunk 59 processed sucessfully in 9.79651427268982 seconds.\n",
      "Chunk 60 processed sucessfully in 8.072324752807617 seconds.\n",
      "Chunk 61 processed sucessfully in 11.107304334640503 seconds.\n",
      "Chunk 62 processed sucessfully in 8.907939672470093 seconds.\n",
      "Chunk 63 processed sucessfully in 7.690721750259399 seconds.\n",
      "Chunk 64 processed sucessfully in 13.754353046417236 seconds.\n",
      "Chunk 65 processed sucessfully in 10.253072500228882 seconds.\n",
      "Chunk 66 processed sucessfully in 11.333423614501953 seconds.\n",
      "Chunk 67 processed sucessfully in 14.56236720085144 seconds.\n",
      "Chunk 68 processed sucessfully in 7.398583889007568 seconds.\n",
      "Chunk 69 processed sucessfully in 9.372607469558716 seconds.\n",
      "Chunk 70 processed sucessfully in 8.01703691482544 seconds.\n",
      "Chunk 71 processed sucessfully in 16.29048180580139 seconds.\n",
      "Chunk 72 processed sucessfully in 7.994531154632568 seconds.\n",
      "Chunk 73 processed sucessfully in 11.008782386779785 seconds.\n",
      "Chunk 74 processed sucessfully in 8.612136125564575 seconds.\n",
      "Chunk 75 processed sucessfully in 11.12154507637024 seconds.\n",
      "Chunk 76 processed sucessfully in 11.133208751678467 seconds.\n",
      "Chunk 77 processed sucessfully in 15.550080060958862 seconds.\n",
      "Chunk 78 processed sucessfully in 13.50342082977295 seconds.\n",
      "Chunk 79 processed sucessfully in 6.586763381958008 seconds.\n",
      "Chunk 80 processed sucessfully in 9.003321886062622 seconds.\n",
      "Chunk 81 processed sucessfully in 5.388545274734497 seconds.\n",
      "Chunk 82 processed sucessfully in 8.296855211257935 seconds.\n",
      "Chunk 83 processed sucessfully in 15.966768264770508 seconds.\n",
      "Chunk 84 processed sucessfully in 10.587163925170898 seconds.\n",
      "Chunk 85 processed sucessfully in 15.459435939788818 seconds.\n",
      "Chunk 86 processed sucessfully in 8.884847640991211 seconds.\n",
      "Chunk 87 processed sucessfully in 72.90204572677612 seconds.\n",
      "Chunk 88 processed sucessfully in 12.681055545806885 seconds.\n",
      "Chunk 89 processed sucessfully in 20.51318907737732 seconds.\n",
      "Chunk 90 processed sucessfully in 7.61368465423584 seconds.\n",
      "Chunk 91 processed sucessfully in 9.144746541976929 seconds.\n",
      "Chunk 92 processed sucessfully in 12.611844301223755 seconds.\n",
      "Chunk 93 processed sucessfully in 8.325418472290039 seconds.\n",
      "Chunk 94 processed sucessfully in 7.072360038757324 seconds.\n",
      "Chunk 95 processed sucessfully in 8.754754304885864 seconds.\n",
      "Chunk 96 processed sucessfully in 6.333356857299805 seconds.\n",
      "Chunk 97 processed sucessfully in 23.62648057937622 seconds.\n",
      "Chunk 98 processed sucessfully in 11.09464406967163 seconds.\n",
      "Chunk 99 processed sucessfully in 12.188191413879395 seconds.\n",
      "Chunk 100 processed sucessfully in 9.159373998641968 seconds.\n",
      "Chunk 101 processed sucessfully in 13.356648683547974 seconds.\n",
      "Chunk 102 processed sucessfully in 8.125576972961426 seconds.\n"
     ]
    }
   ],
   "source": [
    "for chunk_id in range(103):\n",
    "    s = time()\n",
    "    chunk = gpd.read_parquet(f\"../../urbangrammar_samba/spatial_signatures/tessellation/tess_{chunk_id}.pq\", columns=[\"hindex\", \"buildings\"]).set_geometry(\"buildings\")\n",
    "    xmin, ymin, xmax, ymax = chunk.total_bounds\n",
    "    ests = tobler.area_weighted.area_interpolate(population_est.cx[xmin:xmax, ymin:ymax], chunk, extensive_variables=['population'])\n",
    "    pop = pd.DataFrame({'hindex': chunk.hindex.values, \"population\": ests.population.values})\n",
    "    pop.to_parquet(f\"../../urbangrammar_samba/spatial_signatures/functional/population/pop_{chunk_id}\")\n",
    "    print(f\"Chunk {chunk_id} processed sucessfully in {time() - s} seconds.\")"
   ]
  },
  {
   "cell_type": "markdown",
   "id": "expired-delicious",
   "metadata": {},
   "source": [
    "## Night lights"
   ]
  },
  {
   "cell_type": "code",
   "execution_count": 24,
   "id": "driven-cologne",
   "metadata": {},
   "outputs": [],
   "source": [
    "nl = xarray.open_rasterio(\"../../urbangrammar_samba/functional_data/employment/night_lights_osgb.tif\")\n",
    "nl_clip = nl.rio.clip_box(*chunk.total_bounds)\n",
    "arr = nl_clip.values\n",
    "affine = nl_clip.rio.transform()"
   ]
  },
  {
   "cell_type": "code",
   "execution_count": 25,
   "id": "capital-energy",
   "metadata": {},
   "outputs": [
    {
     "name": "stdout",
     "output_type": "stream",
     "text": [
      "CPU times: user 1min 42s, sys: 6.97 s, total: 1min 49s\n",
      "Wall time: 1min 44s\n"
     ]
    }
   ],
   "source": [
    "%%time \n",
    "stats_nl = rasterstats.zonal_stats(\n",
    "    chunk.tessellation, \n",
    "    raster=arr[0],\n",
    "    affine=affine,\n",
    "    stats=['mean'],\n",
    "    all_touched=True,\n",
    "    nodata = np.nan,\n",
    ")"
   ]
  },
  {
   "cell_type": "code",
   "execution_count": 26,
   "id": "matched-synthesis",
   "metadata": {
    "collapsed": true,
    "jupyter": {
     "outputs_hidden": true
    },
    "tags": []
   },
   "outputs": [
    {
     "data": {
      "text/plain": [
       "[{'mean': 5.210000038146973},\n",
       " {'mean': 4.674999952316284},\n",
       " {'mean': 4.674999952316284},\n",
       " {'mean': 4.674999952316284},\n",
       " {'mean': 4.674999952316284},\n",
       " {'mean': 5.210000038146973},\n",
       " {'mean': 5.210000038146973},\n",
       " {'mean': 5.210000038146973},\n",
       " {'mean': 5.210000038146973},\n",
       " {'mean': 5.210000038146973},\n",
       " {'mean': 5.210000038146973},\n",
       " {'mean': 5.210000038146973},\n",
       " {'mean': 5.210000038146973},\n",
       " {'mean': 5.210000038146973},\n",
       " {'mean': 5.210000038146973},\n",
       " {'mean': 5.210000038146973},\n",
       " {'mean': 5.210000038146973},\n",
       " {'mean': 5.210000038146973},\n",
       " {'mean': 5.210000038146973},\n",
       " {'mean': 5.210000038146973},\n",
       " {'mean': 5.210000038146973},\n",
       " {'mean': 3.5999999046325684},\n",
       " {'mean': 3.5999999046325684},\n",
       " {'mean': 3.5999999046325684},\n",
       " {'mean': 3.5999999046325684},\n",
       " {'mean': 3.5999999046325684},\n",
       " {'mean': 3.5999999046325684},\n",
       " {'mean': 3.5999999046325684},\n",
       " {'mean': 3.5999999046325684},\n",
       " {'mean': 3.5999999046325684},\n",
       " {'mean': 3.5999999046325684},\n",
       " {'mean': 3.5999999046325684},\n",
       " {'mean': 3.5999999046325684},\n",
       " {'mean': 3.5999999046325684},\n",
       " {'mean': 3.5999999046325684},\n",
       " {'mean': 3.5999999046325684},\n",
       " {'mean': 3.5999999046325684},\n",
       " {'mean': 3.5999999046325684},\n",
       " {'mean': 3.5999999046325684},\n",
       " {'mean': 3.869999885559082},\n",
       " {'mean': 3.869999885559082},\n",
       " {'mean': 3.5999999046325684},\n",
       " {'mean': 3.5999999046325684},\n",
       " {'mean': 3.5999999046325684},\n",
       " {'mean': 3.5999999046325684},\n",
       " {'mean': 3.869999885559082},\n",
       " {'mean': 3.5999999046325684},\n",
       " {'mean': 3.869999885559082},\n",
       " {'mean': 3.869999885559082},\n",
       " {'mean': 3.869999885559082},\n",
       " {'mean': 3.869999885559082},\n",
       " {'mean': 4.139999866485596},\n",
       " {'mean': 4.139999866485596},\n",
       " {'mean': 4.139999866485596},\n",
       " {'mean': 4.139999866485596},\n",
       " {'mean': 4.139999866485596},\n",
       " {'mean': 4.139999866485596},\n",
       " {'mean': 4.139999866485596},\n",
       " {'mean': 4.139999866485596},\n",
       " {'mean': 4.139999866485596},\n",
       " {'mean': 5.210000038146973},\n",
       " {'mean': 5.210000038146973},\n",
       " {'mean': 5.210000038146973},\n",
       " {'mean': 5.210000038146973},\n",
       " {'mean': 5.210000038146973},\n",
       " {'mean': 5.210000038146973},\n",
       " {'mean': 4.139999866485596},\n",
       " {'mean': 4.139999866485596},\n",
       " {'mean': 4.139999866485596},\n",
       " {'mean': 4.139999866485596},\n",
       " {'mean': 4.139999866485596},\n",
       " {'mean': 4.139999866485596},\n",
       " {'mean': 4.139999866485596},\n",
       " {'mean': 4.139999866485596},\n",
       " {'mean': 4.139999866485596},\n",
       " {'mean': 6.829999923706055},\n",
       " {'mean': 6.829999923706055},\n",
       " {'mean': 6.829999923706055},\n",
       " {'mean': 6.829999923706055},\n",
       " {'mean': 6.829999923706055},\n",
       " {'mean': 6.829999923706055},\n",
       " {'mean': 6.829999923706055},\n",
       " {'mean': 6.829999923706055},\n",
       " {'mean': 6.829999923706055},\n",
       " {'mean': 6.829999923706055},\n",
       " {'mean': 6.829999923706055},\n",
       " {'mean': 6.829999923706055},\n",
       " {'mean': 6.829999923706055},\n",
       " {'mean': 6.829999923706055},\n",
       " {'mean': 6.829999923706055},\n",
       " {'mean': 6.829999923706055},\n",
       " {'mean': 6.829999923706055},\n",
       " {'mean': 6.829999923706055},\n",
       " {'mean': 5.210000038146973},\n",
       " {'mean': 5.210000038146973},\n",
       " {'mean': 5.210000038146973},\n",
       " {'mean': 6.829999923706055},\n",
       " {'mean': 6.829999923706055},\n",
       " {'mean': 6.829999923706055},\n",
       " {'mean': 6.829999923706055},\n",
       " {'mean': 6.829999923706055},\n",
       " {'mean': 6.829999923706055},\n",
       " {'mean': 6.829999923706055},\n",
       " {'mean': 6.829999923706055},\n",
       " {'mean': 5.909999847412109},\n",
       " {'mean': 6.829999923706055},\n",
       " {'mean': 5.210000038146973},\n",
       " {'mean': 5.210000038146973},\n",
       " {'mean': 5.210000038146973},\n",
       " {'mean': 5.210000038146973},\n",
       " {'mean': 6.019999980926514},\n",
       " {'mean': 6.829999923706055},\n",
       " {'mean': 6.829999923706055},\n",
       " {'mean': 6.829999923706055},\n",
       " {'mean': 6.829999923706055},\n",
       " {'mean': 4.139999866485596},\n",
       " {'mean': 4.139999866485596},\n",
       " {'mean': 4.674999952316284},\n",
       " {'mean': 4.139999866485596},\n",
       " {'mean': 4.674999952316284},\n",
       " {'mean': 4.674999952316284},\n",
       " {'mean': 4.674999952316284},\n",
       " {'mean': 4.989999771118164},\n",
       " {'mean': 4.989999771118164},\n",
       " {'mean': 4.989999771118164},\n",
       " {'mean': 4.989999771118164},\n",
       " {'mean': 4.989999771118164},\n",
       " {'mean': 4.989999771118164},\n",
       " {'mean': 4.989999771118164},\n",
       " {'mean': 4.989999771118164},\n",
       " {'mean': 5.210000038146973},\n",
       " {'mean': 5.210000038146973},\n",
       " {'mean': 5.210000038146973},\n",
       " {'mean': 5.210000038146973},\n",
       " {'mean': 5.210000038146973},\n",
       " {'mean': 5.210000038146973},\n",
       " {'mean': 5.210000038146973},\n",
       " {'mean': 5.210000038146973},\n",
       " {'mean': 5.210000038146973},\n",
       " {'mean': 5.210000038146973},\n",
       " {'mean': 5.210000038146973},\n",
       " {'mean': 5.210000038146973},\n",
       " {'mean': 5.210000038146973},\n",
       " {'mean': 5.210000038146973},\n",
       " {'mean': 6.829999923706055},\n",
       " {'mean': 6.829999923706055},\n",
       " {'mean': 3.5999999046325684},\n",
       " {'mean': 3.409999966621399},\n",
       " {'mean': 3.5999999046325684},\n",
       " {'mean': 3.409999966621399},\n",
       " {'mean': 3.5999999046325684},\n",
       " {'mean': 3.5999999046325684},\n",
       " {'mean': 3.5999999046325684},\n",
       " {'mean': 3.5999999046325684},\n",
       " {'mean': 3.5999999046325684},\n",
       " {'mean': 3.5999999046325684},\n",
       " {'mean': 3.5999999046325684},\n",
       " {'mean': 3.5999999046325684},\n",
       " {'mean': 3.5999999046325684},\n",
       " {'mean': 5.5299999713897705},\n",
       " {'mean': 6.070000171661377},\n",
       " {'mean': 6.070000171661377},\n",
       " {'mean': 6.070000171661377},\n",
       " {'mean': 5.5299999713897705},\n",
       " {'mean': 6.070000171661377},\n",
       " {'mean': 6.070000171661377},\n",
       " {'mean': 6.070000171661377},\n",
       " {'mean': 6.070000171661377},\n",
       " {'mean': 4.989999771118164},\n",
       " {'mean': 4.989999771118164},\n",
       " {'mean': 4.989999771118164},\n",
       " {'mean': 4.989999771118164},\n",
       " {'mean': 4.989999771118164},\n",
       " {'mean': 4.989999771118164},\n",
       " {'mean': 4.989999771118164},\n",
       " {'mean': 4.989999771118164},\n",
       " {'mean': 4.989999771118164},\n",
       " {'mean': 4.989999771118164},\n",
       " {'mean': 4.989999771118164},\n",
       " {'mean': 4.989999771118164},\n",
       " {'mean': 6.829999923706055},\n",
       " {'mean': 6.829999923706055},\n",
       " {'mean': 6.829999923706055},\n",
       " {'mean': 6.829999923706055},\n",
       " {'mean': 6.829999923706055},\n",
       " {'mean': 6.829999923706055},\n",
       " {'mean': 6.829999923706055},\n",
       " {'mean': 6.829999923706055},\n",
       " {'mean': 6.829999923706055},\n",
       " {'mean': 5.909999847412109},\n",
       " {'mean': 4.989999771118164},\n",
       " {'mean': 4.989999771118164},\n",
       " {'mean': 4.989999771118164},\n",
       " {'mean': 4.989999771118164},\n",
       " {'mean': 4.989999771118164},\n",
       " {'mean': 4.989999771118164},\n",
       " {'mean': 4.989999771118164},\n",
       " {'mean': 4.989999771118164},\n",
       " {'mean': 4.989999771118164},\n",
       " {'mean': 3.2200000286102295},\n",
       " {'mean': 3.2200000286102295},\n",
       " {'mean': 3.2200000286102295},\n",
       " {'mean': 3.2200000286102295},\n",
       " {'mean': 3.2200000286102295},\n",
       " {'mean': 3.2200000286102295},\n",
       " {'mean': 3.409999966621399},\n",
       " {'mean': 3.409999966621399},\n",
       " {'mean': 3.409999966621399},\n",
       " {'mean': 3.409999966621399},\n",
       " {'mean': 6.019999980926514},\n",
       " {'mean': 6.019999980926514},\n",
       " {'mean': 5.210000038146973},\n",
       " {'mean': 5.210000038146973},\n",
       " {'mean': 5.210000038146973},\n",
       " {'mean': 6.070000171661377},\n",
       " {'mean': 6.070000171661377},\n",
       " {'mean': 6.070000171661377},\n",
       " {'mean': 6.070000171661377},\n",
       " {'mean': 6.070000171661377},\n",
       " {'mean': 6.070000171661377},\n",
       " {'mean': 6.070000171661377},\n",
       " {'mean': 6.070000171661377},\n",
       " {'mean': 6.070000171661377},\n",
       " {'mean': 6.070000171661377},\n",
       " {'mean': 6.829999923706055},\n",
       " {'mean': 6.829999923706055},\n",
       " {'mean': 6.829999923706055},\n",
       " {'mean': 6.829999923706055},\n",
       " {'mean': 6.829999923706055},\n",
       " {'mean': 5.5299999713897705},\n",
       " {'mean': 4.989999771118164},\n",
       " {'mean': 6.070000171661377},\n",
       " {'mean': 5.5299999713897705},\n",
       " {'mean': 6.070000171661377},\n",
       " {'mean': 6.070000171661377},\n",
       " {'mean': 4.989999771118164},\n",
       " {'mean': 4.989999771118164},\n",
       " {'mean': 4.989999771118164},\n",
       " {'mean': 4.989999771118164},\n",
       " {'mean': 4.989999771118164},\n",
       " {'mean': 4.989999771118164},\n",
       " {'mean': 4.989999771118164},\n",
       " {'mean': 4.989999771118164},\n",
       " {'mean': 4.989999771118164},\n",
       " {'mean': 4.989999771118164},\n",
       " {'mean': 6.070000171661377},\n",
       " {'mean': 6.070000171661377},\n",
       " {'mean': 6.070000171661377},\n",
       " {'mean': 5.210000038146973},\n",
       " {'mean': 5.210000038146973},\n",
       " {'mean': 5.210000038146973},\n",
       " {'mean': 4.045000076293945},\n",
       " {'mean': 4.045000076293945},\n",
       " {'mean': 3.2200000286102295},\n",
       " {'mean': 3.2200000286102295},\n",
       " {'mean': 3.2200000286102295},\n",
       " {'mean': 3.2200000286102295},\n",
       " {'mean': 3.2200000286102295},\n",
       " {'mean': 3.2200000286102295},\n",
       " {'mean': 3.2200000286102295},\n",
       " {'mean': 3.2200000286102295},\n",
       " {'mean': 3.2200000286102295},\n",
       " {'mean': 3.2200000286102295},\n",
       " {'mean': 3.2200000286102295},\n",
       " {'mean': 3.2200000286102295},\n",
       " {'mean': 3.2200000286102295},\n",
       " {'mean': 3.2200000286102295},\n",
       " {'mean': 3.2200000286102295},\n",
       " {'mean': 3.2200000286102295},\n",
       " {'mean': 5.909999847412109},\n",
       " {'mean': 4.989999771118164},\n",
       " {'mean': 4.989999771118164},\n",
       " {'mean': 4.989999771118164},\n",
       " {'mean': 4.989999771118164},\n",
       " {'mean': 4.989999771118164},\n",
       " {'mean': 4.989999771118164},\n",
       " {'mean': 4.989999771118164},\n",
       " {'mean': 4.989999771118164},\n",
       " {'mean': 4.989999771118164},\n",
       " {'mean': 4.989999771118164},\n",
       " {'mean': 4.989999771118164},\n",
       " {'mean': 4.989999771118164},\n",
       " {'mean': 4.989999771118164},\n",
       " {'mean': 4.989999771118164},\n",
       " {'mean': 4.989999771118164},\n",
       " {'mean': 4.045000076293945},\n",
       " {'mean': 4.045000076293945},\n",
       " {'mean': 5.210000038146973},\n",
       " {'mean': 5.644999980926514},\n",
       " {'mean': 5.909999847412109},\n",
       " {'mean': 5.644999980926514},\n",
       " {'mean': 5.644999980926514},\n",
       " {'mean': 5.644999980926514},\n",
       " {'mean': 4.2749998569488525},\n",
       " {'mean': 4.2749998569488525},\n",
       " {'mean': 6.829999923706055},\n",
       " {'mean': 6.829999923706055},\n",
       " {'mean': 6.829999923706055},\n",
       " {'mean': 4.045000076293945},\n",
       " {'mean': 5.210000038146973},\n",
       " {'mean': 5.210000038146973},\n",
       " {'mean': 5.210000038146973},\n",
       " {'mean': 5.210000038146973},\n",
       " {'mean': 5.210000038146973},\n",
       " {'mean': 5.210000038146973},\n",
       " {'mean': 4.045000076293945},\n",
       " {'mean': 4.045000076293945},\n",
       " {'mean': 4.045000076293945},\n",
       " {'mean': 5.210000038146973},\n",
       " {'mean': 4.045000076293945},\n",
       " {'mean': 3.8799999952316284},\n",
       " {'mean': 4.045000076293945},\n",
       " {'mean': 6.31000018119812},\n",
       " {'mean': 4.87333329518636},\n",
       " {'mean': 5.292500019073486},\n",
       " {'mean': 4.973333358764648},\n",
       " {'mean': 4.8450000286102295},\n",
       " {'mean': 6.829999923706055},\n",
       " {'mean': 6.31000018119812},\n",
       " {'mean': 6.31000018119812},\n",
       " {'mean': 6.550000190734863},\n",
       " {'mean': 6.31000018119812},\n",
       " {'mean': 6.31000018119812},\n",
       " {'mean': 5.644999980926514},\n",
       " {'mean': 5.644999980926514},\n",
       " {'mean': 6.829999923706055},\n",
       " {'mean': 5.644999980926514},\n",
       " {'mean': 5.644999980926514},\n",
       " {'mean': 5.644999980926514},\n",
       " {'mean': 5.644999980926514},\n",
       " {'mean': 5.644999980926514},\n",
       " {'mean': 5.644999980926514},\n",
       " {'mean': 5.644999980926514},\n",
       " {'mean': 4.460000038146973},\n",
       " {'mean': 5.644999980926514},\n",
       " {'mean': 5.644999980926514},\n",
       " {'mean': 5.644999980926514},\n",
       " {'mean': 6.31000018119812},\n",
       " {'mean': 6.550000190734863},\n",
       " {'mean': 6.550000190734863},\n",
       " {'mean': 6.31000018119812},\n",
       " {'mean': 6.31000018119812},\n",
       " {'mean': 6.31000018119812},\n",
       " {'mean': 3.2200000286102295},\n",
       " {'mean': 3.2200000286102295},\n",
       " {'mean': 3.2200000286102295},\n",
       " {'mean': 3.2200000286102295},\n",
       " {'mean': 3.2200000286102295},\n",
       " {'mean': 3.2200000286102295},\n",
       " {'mean': 3.2200000286102295},\n",
       " {'mean': 3.2200000286102295},\n",
       " {'mean': 3.2200000286102295},\n",
       " {'mean': 3.2200000286102295},\n",
       " {'mean': 3.2200000286102295},\n",
       " {'mean': 3.2200000286102295},\n",
       " {'mean': 3.2200000286102295},\n",
       " {'mean': 3.2200000286102295},\n",
       " {'mean': 3.2200000286102295},\n",
       " {'mean': 3.2200000286102295},\n",
       " {'mean': 4.139999866485596},\n",
       " {'mean': 4.139999866485596},\n",
       " {'mean': 4.139999866485596},\n",
       " {'mean': 4.139999866485596},\n",
       " {'mean': 4.139999866485596},\n",
       " {'mean': 4.139999866485596},\n",
       " {'mean': 4.139999866485596},\n",
       " {'mean': 4.139999866485596},\n",
       " {'mean': 4.139999866485596},\n",
       " {'mean': 4.139999866485596},\n",
       " {'mean': 4.674999952316284},\n",
       " {'mean': 4.674999952316284},\n",
       " {'mean': 5.210000038146973},\n",
       " {'mean': 4.139999866485596},\n",
       " {'mean': 3.5999999046325684},\n",
       " {'mean': 4.139999866485596},\n",
       " {'mean': 3.869999885559082},\n",
       " {'mean': 4.139999866485596},\n",
       " {'mean': 4.139999866485596},\n",
       " {'mean': 4.139999866485596},\n",
       " {'mean': 3.5999999046325684},\n",
       " {'mean': 4.139999866485596},\n",
       " {'mean': 4.139999866485596},\n",
       " {'mean': 3.676666577657064},\n",
       " {'mean': 4.139999866485596},\n",
       " {'mean': 3.7149999141693115},\n",
       " {'mean': 3.7149999141693115},\n",
       " {'mean': 3.65749990940094},\n",
       " {'mean': 3.7149999141693115},\n",
       " {'mean': 2.880000114440918},\n",
       " {'mean': 2.880000114440918},\n",
       " {'mean': 2.880000114440918},\n",
       " {'mean': 2.880000114440918},\n",
       " {'mean': 2.880000114440918},\n",
       " {'mean': 2.880000114440918},\n",
       " {'mean': 2.880000114440918},\n",
       " {'mean': 2.880000114440918},\n",
       " {'mean': 2.880000114440918},\n",
       " {'mean': 2.880000114440918},\n",
       " {'mean': 2.880000114440918},\n",
       " {'mean': 2.880000114440918},\n",
       " {'mean': 2.880000114440918},\n",
       " {'mean': 2.880000114440918},\n",
       " {'mean': 2.880000114440918},\n",
       " {'mean': 2.880000114440918},\n",
       " {'mean': 2.880000114440918},\n",
       " {'mean': 3.2899999618530273},\n",
       " {'mean': 3.2899999618530273},\n",
       " {'mean': 3.2899999618530273},\n",
       " {'mean': 3.7149999141693115},\n",
       " {'mean': 3.7149999141693115},\n",
       " {'mean': 3.7149999141693115},\n",
       " {'mean': 3.2899999618530273},\n",
       " {'mean': 3.2899999618530273},\n",
       " {'mean': 3.2899999618530273},\n",
       " {'mean': 3.7149999141693115},\n",
       " {'mean': 3.2899999618530273},\n",
       " {'mean': 3.0850000381469727},\n",
       " {'mean': 3.0850000381469727},\n",
       " {'mean': 3.0850000381469727},\n",
       " {'mean': 2.880000114440918},\n",
       " {'mean': 2.880000114440918},\n",
       " {'mean': 2.880000114440918},\n",
       " {'mean': 3.7149999141693115},\n",
       " {'mean': 3.2899999618530273},\n",
       " {'mean': 3.2899999618530273},\n",
       " {'mean': 3.2899999618530273},\n",
       " {'mean': 3.2899999618530273},\n",
       " {'mean': 3.2899999618530273},\n",
       " {'mean': 3.2899999618530273},\n",
       " {'mean': 3.444999933242798},\n",
       " {'mean': 3.2899999618530273},\n",
       " {'mean': 3.2899999618530273},\n",
       " {'mean': 3.2899999618530273},\n",
       " {'mean': 3.2899999618530273},\n",
       " {'mean': 3.2899999618530273},\n",
       " {'mean': 3.5999999046325684},\n",
       " {'mean': 3.5999999046325684},\n",
       " {'mean': 3.5999999046325684},\n",
       " {'mean': 3.5999999046325684},\n",
       " {'mean': 3.5999999046325684},\n",
       " {'mean': 3.5999999046325684},\n",
       " {'mean': 3.409999966621399},\n",
       " {'mean': 3.4733332792917886},\n",
       " {'mean': 3.5999999046325684},\n",
       " {'mean': 3.409999966621399},\n",
       " {'mean': 3.5999999046325684},\n",
       " {'mean': 3.3466666539510093},\n",
       " {'mean': 3.5999999046325684},\n",
       " {'mean': 3.5999999046325684},\n",
       " {'mean': 3.5999999046325684},\n",
       " {'mean': 3.409999966621399},\n",
       " {'mean': 3.2200000286102295},\n",
       " {'mean': 3.2200000286102295},\n",
       " {'mean': 3.2200000286102295},\n",
       " {'mean': 3.2200000286102295},\n",
       " {'mean': 3.2200000286102295},\n",
       " {'mean': 3.3466666539510093},\n",
       " {'mean': 3.409999966621399},\n",
       " {'mean': 3.3466666539510093},\n",
       " {'mean': 3.2200000286102295},\n",
       " {'mean': 3.2200000286102295},\n",
       " {'mean': 3.2200000286102295},\n",
       " {'mean': 3.2200000286102295},\n",
       " {'mean': 3.2200000286102295},\n",
       " {'mean': 3.2200000286102295},\n",
       " {'mean': 3.2200000286102295},\n",
       " {'mean': 3.2200000286102295},\n",
       " {'mean': 3.2200000286102295},\n",
       " {'mean': 3.2200000286102295},\n",
       " {'mean': 3.2200000286102295},\n",
       " {'mean': 3.2200000286102295},\n",
       " {'mean': 3.2200000286102295},\n",
       " {'mean': 3.2200000286102295},\n",
       " {'mean': 3.2200000286102295},\n",
       " {'mean': 3.2200000286102295},\n",
       " {'mean': 3.2200000286102295},\n",
       " {'mean': 3.2200000286102295},\n",
       " {'mean': 3.2200000286102295},\n",
       " {'mean': 3.2200000286102295},\n",
       " {'mean': 3.2200000286102295},\n",
       " {'mean': 5.5299999713897705},\n",
       " {'mean': 6.31000018119812},\n",
       " {'mean': 6.070000171661377},\n",
       " {'mean': 6.070000171661377},\n",
       " {'mean': 6.070000171661377},\n",
       " {'mean': 6.31000018119812},\n",
       " {'mean': 5.639999961853027},\n",
       " {'mean': 5.909999847412109},\n",
       " {'mean': 5.909999847412109},\n",
       " {'mean': 5.5299999713897705},\n",
       " {'mean': 3.409999966621399},\n",
       " {'mean': 3.409999966621399},\n",
       " {'mean': 3.5999999046325684},\n",
       " {'mean': 4.424999952316284},\n",
       " {'mean': 4.739999771118164},\n",
       " {'mean': 4.739999771118164},\n",
       " {'mean': 4.956666469573975},\n",
       " {'mean': 3.5828570468085155},\n",
       " {'mean': 5.46999979019165},\n",
       " {'mean': 3.93666664759318},\n",
       " {'mean': 3.1649999618530273},\n",
       " {'mean': 3.0924999713897705},\n",
       " {'mean': 2.359999895095825},\n",
       " {'mean': 3.9033332665761313},\n",
       " {'mean': 3.869999885559082},\n",
       " {'mean': 3.869999885559082},\n",
       " {'mean': 3.869999885559082},\n",
       " {'mean': 3.869999885559082},\n",
       " {'mean': 3.9199999570846558},\n",
       " {'mean': 3.869999885559082},\n",
       " {'mean': 4.069999933242798},\n",
       " {'mean': 4.069999933242798},\n",
       " {'mean': 3.9049999713897705},\n",
       " {'mean': 3.5399999618530273},\n",
       " {'mean': 3.5399999618530273},\n",
       " {'mean': 3.5399999618530273},\n",
       " {'mean': 3.5399999618530273},\n",
       " {'mean': 3.5399999618530273},\n",
       " {'mean': 3.5399999618530273},\n",
       " {'mean': 3.5399999618530273},\n",
       " {'mean': 3.5399999618530273},\n",
       " {'mean': 3.3799999952316284},\n",
       " {'mean': 3.3799999952316284},\n",
       " {'mean': 3.2200000286102295},\n",
       " {'mean': 3.5399999618530273},\n",
       " {'mean': 3.2200000286102295},\n",
       " {'mean': 3.2200000286102295},\n",
       " {'mean': 3.5399999618530273},\n",
       " {'mean': 3.5399999618530273},\n",
       " {'mean': 3.5399999618530273},\n",
       " {'mean': 3.5399999618530273},\n",
       " {'mean': 3.3799999952316284},\n",
       " {'mean': 3.3799999952316284},\n",
       " {'mean': 3.2200000286102295},\n",
       " {'mean': 3.2200000286102295},\n",
       " {'mean': 3.2200000286102295},\n",
       " {'mean': 3.2200000286102295},\n",
       " {'mean': 3.2200000286102295},\n",
       " {'mean': 3.2200000286102295},\n",
       " {'mean': 3.2200000286102295},\n",
       " {'mean': 3.2200000286102295},\n",
       " {'mean': 3.2200000286102295},\n",
       " {'mean': 3.2200000286102295},\n",
       " {'mean': 3.2200000286102295},\n",
       " {'mean': 3.2200000286102295},\n",
       " {'mean': 3.2200000286102295},\n",
       " {'mean': 3.2200000286102295},\n",
       " {'mean': 3.2200000286102295},\n",
       " {'mean': 3.2200000286102295},\n",
       " {'mean': 3.2200000286102295},\n",
       " {'mean': 3.2200000286102295},\n",
       " {'mean': 3.2200000286102295},\n",
       " {'mean': 3.409999966621399},\n",
       " {'mean': 3.409999966621399},\n",
       " {'mean': 3.3799999952316284},\n",
       " {'mean': 3.5399999618530273},\n",
       " {'mean': 3.5399999618530273},\n",
       " {'mean': 3.5399999618530273},\n",
       " {'mean': 3.2200000286102295},\n",
       " {'mean': 3.3799999952316284},\n",
       " {'mean': 3.5399999618530273},\n",
       " {'mean': 3.3799999952316284},\n",
       " {'mean': 3.3799999952316284},\n",
       " {'mean': 3.5399999618530273},\n",
       " {'mean': 3.5399999618530273},\n",
       " {'mean': 3.5399999618530273},\n",
       " {'mean': 3.3799999952316284},\n",
       " {'mean': 3.5399999618530273},\n",
       " {'mean': 3.5399999618530273},\n",
       " {'mean': 3.5399999618530273},\n",
       " {'mean': 3.5399999618530273},\n",
       " {'mean': 4.460000038146973},\n",
       " {'mean': 4.460000038146973},\n",
       " {'mean': 4.460000038146973},\n",
       " {'mean': 4.460000038146973},\n",
       " {'mean': 6.31000018119812},\n",
       " {'mean': 6.550000190734863},\n",
       " {'mean': 6.550000190734863},\n",
       " {'mean': 6.550000190734863},\n",
       " {'mean': 6.550000190734863},\n",
       " {'mean': 6.550000190734863},\n",
       " {'mean': 6.550000190734863},\n",
       " {'mean': 6.550000190734863},\n",
       " {'mean': 6.550000190734863},\n",
       " {'mean': 3.559999942779541},\n",
       " {'mean': 3.559999942779541},\n",
       " {'mean': 3.559999942779541},\n",
       " {'mean': 3.559999942779541},\n",
       " {'mean': 3.559999942779541},\n",
       " {'mean': 3.559999942779541},\n",
       " {'mean': 6.550000190734863},\n",
       " {'mean': 6.550000190734863},\n",
       " {'mean': 6.550000190734863},\n",
       " {'mean': 6.550000190734863},\n",
       " {'mean': 6.550000190734863},\n",
       " {'mean': 6.31000018119812},\n",
       " {'mean': 6.31000018119812},\n",
       " {'mean': 6.550000190734863},\n",
       " {'mean': 6.550000190734863},\n",
       " {'mean': 6.550000190734863},\n",
       " {'mean': 6.550000190734863},\n",
       " {'mean': 6.550000190734863},\n",
       " {'mean': 3.559999942779541},\n",
       " {'mean': 3.559999942779541},\n",
       " {'mean': 3.559999942779541},\n",
       " {'mean': 3.559999942779541},\n",
       " {'mean': 3.559999942779541},\n",
       " {'mean': 3.559999942779541},\n",
       " {'mean': 6.550000190734863},\n",
       " {'mean': 6.550000190734863},\n",
       " {'mean': 6.550000190734863},\n",
       " {'mean': 6.550000190734863},\n",
       " {'mean': 6.550000190734863},\n",
       " {'mean': 5.055000066757202},\n",
       " {'mean': 5.055000066757202},\n",
       " {'mean': 3.559999942779541},\n",
       " {'mean': 5.055000066757202},\n",
       " {'mean': 3.559999942779541},\n",
       " {'mean': 3.559999942779541},\n",
       " {'mean': 4.460000038146973},\n",
       " {'mean': 4.460000038146973},\n",
       " {'mean': 4.460000038146973},\n",
       " {'mean': 4.460000038146973},\n",
       " {'mean': 4.460000038146973},\n",
       " {'mean': 4.460000038146973},\n",
       " {'mean': 4.460000038146973},\n",
       " {'mean': 4.460000038146973},\n",
       " {'mean': 4.460000038146973},\n",
       " {'mean': 4.460000038146973},\n",
       " {'mean': 4.460000038146973},\n",
       " {'mean': 4.460000038146973},\n",
       " {'mean': 4.460000038146973},\n",
       " {'mean': 4.460000038146973},\n",
       " {'mean': 4.460000038146973},\n",
       " {'mean': 4.460000038146973},\n",
       " {'mean': 4.460000038146973},\n",
       " {'mean': 4.460000038146973},\n",
       " {'mean': 4.460000038146973},\n",
       " {'mean': 4.460000038146973},\n",
       " {'mean': 4.460000038146973},\n",
       " {'mean': 4.269999980926514},\n",
       " {'mean': 4.269999980926514},\n",
       " {'mean': 4.269999980926514},\n",
       " {'mean': 4.269999980926514},\n",
       " {'mean': 4.269999980926514},\n",
       " {'mean': 4.269999980926514},\n",
       " {'mean': 4.269999980926514},\n",
       " {'mean': 4.269999980926514},\n",
       " {'mean': 4.269999980926514},\n",
       " {'mean': 4.269999980926514},\n",
       " {'mean': 4.269999980926514},\n",
       " {'mean': 4.269999980926514},\n",
       " {'mean': 4.269999980926514},\n",
       " {'mean': 4.269999980926514},\n",
       " {'mean': 4.269999980926514},\n",
       " {'mean': 3.9049999713897705},\n",
       " {'mean': 3.9049999713897705},\n",
       " {'mean': 3.9049999713897705},\n",
       " {'mean': 3.9049999713897705},\n",
       " {'mean': 3.9049999713897705},\n",
       " {'mean': 3.5399999618530273},\n",
       " {'mean': 3.5399999618530273},\n",
       " {'mean': 3.9049999713897705},\n",
       " {'mean': 3.5399999618530273},\n",
       " {'mean': 3.5399999618530273},\n",
       " {'mean': 3.5399999618530273},\n",
       " {'mean': 3.5399999618530273},\n",
       " {'mean': 3.5399999618530273},\n",
       " {'mean': 4.460000038146973},\n",
       " {'mean': 4.460000038146973},\n",
       " {'mean': 4.460000038146973},\n",
       " {'mean': 6.550000190734863},\n",
       " {'mean': 6.550000190734863},\n",
       " {'mean': 6.550000190734863},\n",
       " {'mean': 6.550000190734863},\n",
       " {'mean': 6.550000190734863},\n",
       " {'mean': 6.550000190734863},\n",
       " {'mean': 6.550000190734863},\n",
       " {'mean': 6.550000190734863},\n",
       " {'mean': 6.550000190734863},\n",
       " {'mean': 6.210000038146973},\n",
       " {'mean': 3.559999942779541},\n",
       " {'mean': 5.055000066757202},\n",
       " {'mean': 3.559999942779541},\n",
       " {'mean': 3.559999942779541},\n",
       " {'mean': 6.550000190734863},\n",
       " {'mean': 5.055000066757202},\n",
       " {'mean': 5.055000066757202},\n",
       " {'mean': 6.550000190734863},\n",
       " {'mean': 6.550000190734863},\n",
       " {'mean': 3.559999942779541},\n",
       " {'mean': 3.559999942779541},\n",
       " {'mean': 3.559999942779541},\n",
       " {'mean': 3.559999942779541},\n",
       " {'mean': 3.559999942779541},\n",
       " {'mean': 4.2749998569488525},\n",
       " {'mean': 4.959999918937683},\n",
       " {'mean': 4.2749998569488525},\n",
       " {'mean': 4.2749998569488525},\n",
       " {'mean': 4.2749998569488525},\n",
       " {'mean': 3.559999942779541},\n",
       " {'mean': 3.559999942779541},\n",
       " {'mean': 4.009999990463257},\n",
       " {'mean': 3.559999942779541},\n",
       " {'mean': 3.559999942779541},\n",
       " {'mean': 3.559999942779541},\n",
       " {'mean': 3.559999942779541},\n",
       " {'mean': 4.009999990463257},\n",
       " {'mean': 4.009999990463257},\n",
       " {'mean': 4.009999990463257},\n",
       " {'mean': 5.869999885559082},\n",
       " {'mean': 5.869999885559082},\n",
       " {'mean': 5.869999885559082},\n",
       " {'mean': 5.869999885559082},\n",
       " {'mean': 5.869999885559082},\n",
       " {'mean': 5.869999885559082},\n",
       " {'mean': 5.869999885559082},\n",
       " {'mean': 5.869999885559082},\n",
       " {'mean': 5.869999885559082},\n",
       " {'mean': 5.869999885559082},\n",
       " {'mean': 5.869999885559082},\n",
       " {'mean': 5.869999885559082},\n",
       " {'mean': 5.869999885559082},\n",
       " {'mean': 5.869999885559082},\n",
       " {'mean': 5.869999885559082},\n",
       " {'mean': 5.869999885559082},\n",
       " {'mean': 5.869999885559082},\n",
       " {'mean': 5.869999885559082},\n",
       " {'mean': 5.869999885559082},\n",
       " {'mean': 5.869999885559082},\n",
       " {'mean': 5.869999885559082},\n",
       " {'mean': 5.869999885559082},\n",
       " {'mean': 5.869999885559082},\n",
       " {'mean': 5.869999885559082},\n",
       " {'mean': 5.869999885559082},\n",
       " {'mean': 5.869999885559082},\n",
       " {'mean': 5.869999885559082},\n",
       " {'mean': 5.869999885559082},\n",
       " {'mean': 5.869999885559082},\n",
       " {'mean': 5.869999885559082},\n",
       " {'mean': 5.869999885559082},\n",
       " {'mean': 5.869999885559082},\n",
       " {'mean': 5.869999885559082},\n",
       " {'mean': 5.869999885559082},\n",
       " {'mean': 5.869999885559082},\n",
       " {'mean': 5.869999885559082},\n",
       " {'mean': 5.869999885559082},\n",
       " {'mean': 5.869999885559082},\n",
       " {'mean': 5.869999885559082},\n",
       " {'mean': 5.869999885559082},\n",
       " {'mean': 5.869999885559082},\n",
       " {'mean': 5.869999885559082},\n",
       " {'mean': 5.869999885559082},\n",
       " {'mean': 5.869999885559082},\n",
       " {'mean': 5.869999885559082},\n",
       " {'mean': 5.869999885559082},\n",
       " {'mean': 5.869999885559082},\n",
       " {'mean': 5.869999885559082},\n",
       " {'mean': 6.210000038146973},\n",
       " {'mean': 6.210000038146973},\n",
       " {'mean': 5.869999885559082},\n",
       " {'mean': 5.869999885559082},\n",
       " {'mean': 6.210000038146973},\n",
       " {'mean': 5.869999885559082},\n",
       " {'mean': 6.210000038146973},\n",
       " {'mean': 5.869999885559082},\n",
       " {'mean': 5.869999885559082},\n",
       " {'mean': 4.919999957084656},\n",
       " {'mean': 4.919999957084656},\n",
       " {'mean': 4.919999957084656},\n",
       " {'mean': 4.919999957084656},\n",
       " {'mean': 5.869999885559082},\n",
       " {'mean': 5.869999885559082},\n",
       " {'mean': 5.869999885559082},\n",
       " {'mean': 5.020000100135803},\n",
       " {'mean': 3.9700000286102295},\n",
       " {'mean': 5.020000100135803},\n",
       " {'mean': 3.9700000286102295},\n",
       " {'mean': 5.020000100135803},\n",
       " {'mean': 4.919999957084656},\n",
       " {'mean': 4.919999957084656},\n",
       " {'mean': 5.615000069141388},\n",
       " {'mean': 6.210000038146973},\n",
       " {'mean': 3.2200000286102295},\n",
       " {'mean': 3.3799999952316284},\n",
       " {'mean': 3.2200000286102295},\n",
       " {'mean': 3.5399999618530273},\n",
       " {'mean': 3.5399999618530273},\n",
       " {'mean': 3.5399999618530273},\n",
       " {'mean': 3.3799999952316284},\n",
       " {'mean': 3.2200000286102295},\n",
       " {'mean': 3.5399999618530273},\n",
       " {'mean': 3.2200000286102295},\n",
       " {'mean': 3.2200000286102295},\n",
       " {'mean': 3.5399999618530273},\n",
       " {'mean': 3.3799999952316284},\n",
       " {'mean': 3.5399999618530273},\n",
       " {'mean': 3.3799999952316284},\n",
       " {'mean': 3.5399999618530273},\n",
       " {'mean': 3.5399999618530273},\n",
       " {'mean': 3.5399999618530273},\n",
       " {'mean': 3.2200000286102295},\n",
       " {'mean': 3.5399999618530273},\n",
       " {'mean': 3.5399999618530273},\n",
       " {'mean': 3.5399999618530273},\n",
       " {'mean': 3.5399999618530273},\n",
       " {'mean': 3.5399999618530273},\n",
       " {'mean': 3.5399999618530273},\n",
       " {'mean': 3.5399999618530273},\n",
       " {'mean': 3.5399999618530273},\n",
       " {'mean': 3.5399999618530273},\n",
       " {'mean': 3.5399999618530273},\n",
       " {'mean': 3.5399999618530273},\n",
       " {'mean': 3.5399999618530273},\n",
       " {'mean': 3.5399999618530273},\n",
       " {'mean': 3.5399999618530273},\n",
       " {'mean': 3.5399999618530273},\n",
       " {'mean': 3.5399999618530273},\n",
       " {'mean': 3.5399999618530273},\n",
       " {'mean': 3.5399999618530273},\n",
       " {'mean': 3.5399999618530273},\n",
       " {'mean': 3.5399999618530273},\n",
       " {'mean': 3.5399999618530273},\n",
       " {'mean': 3.5399999618530273},\n",
       " {'mean': 3.5399999618530273},\n",
       " {'mean': 3.5399999618530273},\n",
       " {'mean': 3.5399999618530273},\n",
       " {'mean': 3.5399999618530273},\n",
       " {'mean': 3.5399999618530273},\n",
       " {'mean': 3.5399999618530273},\n",
       " {'mean': 3.5399999618530273},\n",
       " {'mean': 3.5399999618530273},\n",
       " {'mean': 3.5399999618530273},\n",
       " {'mean': 3.5399999618530273},\n",
       " {'mean': 3.5399999618530273},\n",
       " {'mean': 3.5399999618530273},\n",
       " {'mean': 6.550000190734863},\n",
       " {'mean': 6.550000190734863},\n",
       " {'mean': 6.550000190734863},\n",
       " {'mean': 6.550000190734863},\n",
       " {'mean': 6.550000190734863},\n",
       " {'mean': 6.550000190734863},\n",
       " {'mean': 6.550000190734863},\n",
       " {'mean': 6.550000190734863},\n",
       " {'mean': 6.550000190734863},\n",
       " {'mean': 6.550000190734863},\n",
       " {'mean': 6.550000190734863},\n",
       " {'mean': 6.550000190734863},\n",
       " {'mean': 6.550000190734863},\n",
       " {'mean': 6.550000190734863},\n",
       " {'mean': 6.550000190734863},\n",
       " {'mean': 3.5399999618530273},\n",
       " {'mean': 3.5399999618530273},\n",
       " {'mean': 3.5399999618530273},\n",
       " {'mean': 3.5399999618530273},\n",
       " {'mean': 3.5399999618530273},\n",
       " {'mean': 3.5399999618530273},\n",
       " {'mean': 3.5399999618530273},\n",
       " {'mean': 3.5399999618530273},\n",
       " {'mean': 3.5399999618530273},\n",
       " {'mean': 3.5399999618530273},\n",
       " {'mean': 3.9049999713897705},\n",
       " {'mean': 3.5399999618530273},\n",
       " {'mean': 3.5399999618530273},\n",
       " {'mean': 3.5399999618530273},\n",
       " {'mean': 3.9049999713897705},\n",
       " {'mean': 4.269999980926514},\n",
       " {'mean': 3.9049999713897705},\n",
       " {'mean': 6.099999904632568},\n",
       " {'mean': 6.099999904632568},\n",
       " {'mean': 6.099999904632568},\n",
       " {'mean': 4.829999923706055},\n",
       " {'mean': 6.099999904632568},\n",
       " {'mean': 6.099999904632568},\n",
       " {'mean': 3.559999942779541},\n",
       " {'mean': 3.559999942779541},\n",
       " {'mean': 4.829999923706055},\n",
       " {'mean': 3.559999942779541},\n",
       " {'mean': 4.829999923706055},\n",
       " {'mean': 3.309999942779541},\n",
       " {'mean': 3.559999942779541},\n",
       " {'mean': 3.309999942779541},\n",
       " {'mean': 3.559999942779541},\n",
       " {'mean': 3.559999942779541},\n",
       " {'mean': 3.559999942779541},\n",
       " {'mean': 3.559999942779541},\n",
       " {'mean': 6.099999904632568},\n",
       " {'mean': 6.099999904632568},\n",
       " {'mean': 6.099999904632568},\n",
       " {'mean': 6.099999904632568},\n",
       " {'mean': 6.099999904632568},\n",
       " {'mean': 6.099999904632568},\n",
       " {'mean': 6.099999904632568},\n",
       " {'mean': 4.829999923706055},\n",
       " {'mean': 6.099999904632568},\n",
       " {'mean': 6.099999904632568},\n",
       " {'mean': 6.099999904632568},\n",
       " {'mean': 6.099999904632568},\n",
       " {'mean': 4.829999923706055},\n",
       " {'mean': 6.099999904632568},\n",
       " {'mean': 6.099999904632568},\n",
       " {'mean': 6.099999904632568},\n",
       " {'mean': 6.099999904632568},\n",
       " {'mean': 6.099999904632568},\n",
       " {'mean': 4.829999923706055},\n",
       " {'mean': 6.099999904632568},\n",
       " {'mean': 6.099999904632568},\n",
       " {'mean': 6.099999904632568},\n",
       " {'mean': 4.829999923706055},\n",
       " {'mean': 6.099999904632568},\n",
       " {'mean': 6.099999904632568},\n",
       " {'mean': 6.099999904632568},\n",
       " {'mean': 6.099999904632568},\n",
       " {'mean': 6.099999904632568},\n",
       " {'mean': 6.099999904632568},\n",
       " {'mean': 6.099999904632568},\n",
       " {'mean': 6.099999904632568},\n",
       " {'mean': 6.099999904632568},\n",
       " {'mean': 6.099999904632568},\n",
       " {'mean': 6.099999904632568},\n",
       " {'mean': 6.099999904632568},\n",
       " {'mean': 6.099999904632568},\n",
       " {'mean': 6.099999904632568},\n",
       " {'mean': 6.099999904632568},\n",
       " {'mean': 6.099999904632568},\n",
       " {'mean': 6.099999904632568},\n",
       " {'mean': 6.099999904632568},\n",
       " {'mean': 6.099999904632568},\n",
       " {'mean': 6.099999904632568},\n",
       " {'mean': 6.099999904632568},\n",
       " {'mean': 6.099999904632568},\n",
       " {'mean': 6.099999904632568},\n",
       " {'mean': 6.099999904632568},\n",
       " {'mean': 6.099999904632568},\n",
       " {'mean': 6.099999904632568},\n",
       " {'mean': 6.099999904632568},\n",
       " {'mean': 6.099999904632568},\n",
       " {'mean': 5.75},\n",
       " {'mean': 5.136666615804036},\n",
       " {'mean': 5.75},\n",
       " {'mean': 5.269999980926514},\n",
       " {'mean': 8.454999923706055},\n",
       " {'mean': 8.454999923706055},\n",
       " {'mean': 5.75},\n",
       " {'mean': 6.099999904632568},\n",
       " {'mean': 5.75},\n",
       " {'mean': 5.75},\n",
       " {'mean': 5.75},\n",
       " {'mean': 5.75},\n",
       " {'mean': 6.099999904632568},\n",
       " {'mean': 5.924999952316284},\n",
       " {'mean': 5.75},\n",
       " {'mean': 5.75},\n",
       " {'mean': 5.75},\n",
       " {'mean': 5.75},\n",
       " {'mean': 5.75},\n",
       " {'mean': 5.924999952316284},\n",
       " {'mean': 5.924999952316284},\n",
       " {'mean': 5.75},\n",
       " {'mean': 5.75},\n",
       " {'mean': 12.40999984741211},\n",
       " {'mean': 12.40999984741211},\n",
       " {'mean': 12.40999984741211},\n",
       " {'mean': 12.40999984741211},\n",
       " {'mean': 12.40999984741211},\n",
       " {'mean': 12.40999984741211},\n",
       " {'mean': 12.40999984741211},\n",
       " {'mean': 12.40999984741211},\n",
       " {'mean': 12.40999984741211},\n",
       " {'mean': 12.40999984741211},\n",
       " {'mean': 12.40999984741211},\n",
       " {'mean': 12.40999984741211},\n",
       " {'mean': 12.40999984741211},\n",
       " {'mean': 12.40999984741211},\n",
       " {'mean': 12.40999984741211},\n",
       " {'mean': 12.40999984741211},\n",
       " {'mean': 12.40999984741211},\n",
       " {'mean': 12.40999984741211},\n",
       " {'mean': 4.5},\n",
       " {'mean': 4.5},\n",
       " {'mean': 4.5},\n",
       " {'mean': 8.454999923706055},\n",
       " {'mean': 8.454999923706055},\n",
       " {'mean': 4.5},\n",
       " {'mean': 4.5},\n",
       " {'mean': 4.5},\n",
       " {'mean': 8.454999923706055},\n",
       " {'mean': 4.5},\n",
       " {'mean': 8.454999923706055},\n",
       " {'mean': 4.5},\n",
       " {'mean': 4.5},\n",
       " {'mean': 4.5},\n",
       " {'mean': 8.454999923706055},\n",
       " {'mean': 4.5},\n",
       " {'mean': 4.5},\n",
       " {'mean': 4.5},\n",
       " {'mean': 4.5},\n",
       " {'mean': 8.454999923706055},\n",
       " {'mean': 4.5},\n",
       " {'mean': 4.5},\n",
       " ...]"
      ]
     },
     "execution_count": 26,
     "metadata": {},
     "output_type": "execute_result"
    }
   ],
   "source": [
    "stats_nl"
   ]
  },
  {
   "cell_type": "code",
   "execution_count": 20,
   "id": "sorted-lawyer",
   "metadata": {},
   "outputs": [
    {
     "data": {
      "text/html": [
       "<table style=\"border: 2px solid white;\">\n",
       "<tr>\n",
       "<td style=\"vertical-align: top; border: 0px solid white\">\n",
       "<h3 style=\"text-align: left;\">Client</h3>\n",
       "<ul style=\"text-align: left; list-style: none; margin: 0; padding: 0;\">\n",
       "  <li><b>Scheduler: </b>tcp://127.0.0.1:38779</li>\n",
       "  <li><b>Dashboard: </b><a href='http://127.0.0.1:8787/status' target='_blank'>http://127.0.0.1:8787/status</a></li>\n",
       "</ul>\n",
       "</td>\n",
       "<td style=\"vertical-align: top; border: 0px solid white\">\n",
       "<h3 style=\"text-align: left;\">Cluster</h3>\n",
       "<ul style=\"text-align: left; list-style:none; margin: 0; padding: 0;\">\n",
       "  <li><b>Workers: </b>8</li>\n",
       "  <li><b>Cores: </b>8</li>\n",
       "  <li><b>Memory: </b>134.91 GB</li>\n",
       "</ul>\n",
       "</td>\n",
       "</tr>\n",
       "</table>"
      ],
      "text/plain": [
       "<Client: 'tcp://127.0.0.1:38779' processes=8 threads=8, memory=134.91 GB>"
      ]
     },
     "execution_count": 20,
     "metadata": {},
     "output_type": "execute_result"
    }
   ],
   "source": [
    "workers = 8\n",
    "client = Client(LocalCluster(n_workers=workers, threads_per_worker=1))\n",
    "client"
   ]
  },
  {
   "cell_type": "code",
   "execution_count": 32,
   "id": "interested-dragon",
   "metadata": {},
   "outputs": [],
   "source": [
    "def _night_lights(chunk_id):\n",
    "    import rioxarray\n",
    "    \n",
    "    s = time()\n",
    "    \n",
    "    chunk = gpd.read_parquet(f\"../../urbangrammar_samba/spatial_signatures/tessellation/tess_{chunk_id}.pq\", columns=[\"hindex\", \"tessellation\"])\n",
    "    nl = xarray.open_rasterio(\"../../urbangrammar_samba/functional_data/employment/night_lights_osgb.tif\")\n",
    "    nl_clip = nl.rio.clip_box(*chunk.total_bounds)\n",
    "    arr = nl_clip.values\n",
    "    affine = nl_clip.rio.transform()\n",
    "    stats_nl = rasterstats.zonal_stats(\n",
    "        chunk.tessellation, \n",
    "        raster=arr[0],\n",
    "        affine=affine,\n",
    "        stats=['mean'],\n",
    "        all_touched=True,\n",
    "        nodata = np.nan,\n",
    "    )\n",
    "    chunk[\"night_lights\"] = [x['mean'] for x in stats_nl]\n",
    "    chunk[[\"hindex\", \"night_lights\"]].to_parquet(f\"../../urbangrammar_samba/spatial_signatures/functional/night_lights/nl_{chunk_id}\")\n",
    "    \n",
    "    return f\"Chunk {chunk_id} processed sucessfully in {time() - s} seconds.\""
   ]
  },
  {
   "cell_type": "code",
   "execution_count": 33,
   "id": "speaking-sheet",
   "metadata": {
    "tags": []
   },
   "outputs": [
    {
     "name": "stdout",
     "output_type": "stream",
     "text": [
      "Chunk 3 processed sucessfully in 101.62825918197632 seconds.\n",
      "Chunk 0 processed sucessfully in 108.6822566986084 seconds.\n",
      "Chunk 2 processed sucessfully in 115.19350171089172 seconds.\n",
      "Chunk 1 processed sucessfully in 122.15239238739014 seconds.\n",
      "Chunk 7 processed sucessfully in 135.8249044418335 seconds.\n",
      "Chunk 4 processed sucessfully in 151.0806565284729 seconds.\n",
      "Chunk 11 processed sucessfully in 96.01190829277039 seconds.\n",
      "Chunk 10 processed sucessfully in 106.74090838432312 seconds.\n",
      "Chunk 5 processed sucessfully in 222.54443430900574 seconds.\n",
      "Chunk 9 processed sucessfully in 118.09922075271606 seconds.\n",
      "Chunk 8 processed sucessfully in 138.83542704582214 seconds.\n",
      "Chunk 6 processed sucessfully in 245.05762553215027 seconds.\n",
      "Chunk 13 processed sucessfully in 131.59788346290588 seconds.\n",
      "Chunk 15 processed sucessfully in 100.00797629356384 seconds.\n",
      "Chunk 12 processed sucessfully in 189.21026062965393 seconds.\n",
      "Chunk 16 processed sucessfully in 110.26696038246155 seconds.\n",
      "Chunk 17 processed sucessfully in 106.11720705032349 seconds.\n",
      "Chunk 18 processed sucessfully in 96.18992209434509 seconds.\n",
      "Chunk 14 processed sucessfully in 140.87093257904053 seconds.\n",
      "Chunk 19 processed sucessfully in 138.64996123313904 seconds.\n",
      "Chunk 20 processed sucessfully in 101.9511969089508 seconds.\n",
      "Chunk 21 processed sucessfully in 101.76437902450562 seconds.\n",
      "Chunk 22 processed sucessfully in 101.0459156036377 seconds.\n",
      "Chunk 25 processed sucessfully in 94.92612791061401 seconds.\n",
      "Chunk 23 processed sucessfully in 100.61872792243958 seconds.\n",
      "Chunk 24 processed sucessfully in 143.85778379440308 seconds.\n",
      "Chunk 28 processed sucessfully in 98.6511640548706 seconds.\n",
      "Chunk 26 processed sucessfully in 149.18314170837402 seconds.\n",
      "Chunk 27 processed sucessfully in 132.90636014938354 seconds.\n",
      "Chunk 29 processed sucessfully in 115.51502442359924 seconds.\n",
      "Chunk 30 processed sucessfully in 116.42731094360352 seconds.\n",
      "Chunk 31 processed sucessfully in 123.73720860481262 seconds.\n",
      "Chunk 34 processed sucessfully in 109.74327087402344 seconds.\n",
      "Chunk 33 processed sucessfully in 119.46904826164246 seconds.\n",
      "Chunk 36 processed sucessfully in 101.37444949150085 seconds.\n",
      "Chunk 32 processed sucessfully in 193.43646478652954 seconds.\n",
      "Chunk 35 processed sucessfully in 125.17357873916626 seconds.\n",
      "Chunk 39 processed sucessfully in 112.63721680641174 seconds.\n",
      "Chunk 37 processed sucessfully in 142.00179624557495 seconds.\n",
      "Chunk 41 processed sucessfully in 123.84309720993042 seconds.\n",
      "Chunk 43 processed sucessfully in 108.66190791130066 seconds.\n",
      "Chunk 44 processed sucessfully in 108.84255719184875 seconds.\n",
      "Chunk 38 processed sucessfully in 214.8878664970398 seconds.\n",
      "Chunk 42 processed sucessfully in 141.92127871513367 seconds.\n",
      "Chunk 45 processed sucessfully in 126.95859885215759 seconds.\n",
      "Chunk 40 processed sucessfully in 210.22668433189392 seconds.\n",
      "Chunk 46 processed sucessfully in 130.38542461395264 seconds.\n",
      "Chunk 47 processed sucessfully in 107.3020806312561 seconds.\n",
      "Chunk 48 processed sucessfully in 117.02449750900269 seconds.\n",
      "Chunk 49 processed sucessfully in 126.16321659088135 seconds.\n",
      "Chunk 51 processed sucessfully in 111.30655455589294 seconds.\n",
      "Chunk 50 processed sucessfully in 134.84748768806458 seconds.\n",
      "Chunk 52 processed sucessfully in 98.01691603660583 seconds.\n",
      "Chunk 53 processed sucessfully in 117.51246094703674 seconds.\n",
      "Chunk 55 processed sucessfully in 95.78628873825073 seconds.\n",
      "Chunk 54 processed sucessfully in 115.85429787635803 seconds.\n",
      "Chunk 56 processed sucessfully in 119.20770120620728 seconds.\n",
      "Chunk 58 processed sucessfully in 113.76907634735107 seconds.\n",
      "Chunk 57 processed sucessfully in 121.98187804222107 seconds.\n",
      "Chunk 60 processed sucessfully in 113.2664635181427 seconds.\n",
      "Chunk 59 processed sucessfully in 122.7981789112091 seconds.\n",
      "Chunk 63 processed sucessfully in 112.39697980880737 seconds.\n",
      "Chunk 62 processed sucessfully in 135.0854411125183 seconds.\n",
      "Chunk 65 processed sucessfully in 146.32753658294678 seconds.\n",
      "Chunk 61 processed sucessfully in 211.46607542037964 seconds.\n",
      "Chunk 66 processed sucessfully in 155.82709622383118 seconds.\n",
      "Chunk 68 processed sucessfully in 143.95870995521545 seconds.\n",
      "Chunk 69 processed sucessfully in 125.38387680053711 seconds.\n",
      "Chunk 64 processed sucessfully in 204.88879561424255 seconds.\n",
      "Chunk 70 processed sucessfully in 132.9638316631317 seconds.\n",
      "Chunk 67 processed sucessfully in 193.78993225097656 seconds.\n",
      "Chunk 72 processed sucessfully in 112.94817781448364 seconds.\n",
      "Chunk 71 processed sucessfully in 122.566561460495 seconds.\n",
      "Chunk 74 processed sucessfully in 116.82614398002625 seconds.\n",
      "Chunk 73 processed sucessfully in 148.04683184623718 seconds.\n",
      "Chunk 78 processed sucessfully in 108.32322216033936 seconds.\n",
      "Chunk 76 processed sucessfully in 140.81055283546448 seconds.\n",
      "Chunk 75 processed sucessfully in 154.37837100028992 seconds.\n",
      "Chunk 77 processed sucessfully in 128.91402673721313 seconds.\n",
      "Chunk 79 processed sucessfully in 102.94285678863525 seconds.\n",
      "Chunk 81 processed sucessfully in 102.62431001663208 seconds.\n",
      "Chunk 80 processed sucessfully in 137.5996527671814 seconds.\n",
      "Chunk 82 processed sucessfully in 124.79260563850403 seconds.\n",
      "Chunk 84 processed sucessfully in 107.91151261329651 seconds.\n",
      "Chunk 83 processed sucessfully in 140.00971031188965 seconds.\n",
      "Chunk 86 processed sucessfully in 133.80312609672546 seconds.\n",
      "Chunk 85 processed sucessfully in 167.24382519721985 seconds.\n",
      "Chunk 87 processed sucessfully in 139.44678568840027 seconds.\n",
      "Chunk 90 processed sucessfully in 103.32630372047424 seconds.\n",
      "Chunk 88 processed sucessfully in 145.87574434280396 seconds.\n",
      "Chunk 91 processed sucessfully in 108.21565079689026 seconds.\n",
      "Chunk 93 processed sucessfully in 97.64255046844482 seconds.\n",
      "Chunk 94 processed sucessfully in 97.6534776687622 seconds.\n",
      "Chunk 95 processed sucessfully in 111.41735768318176 seconds.\n",
      "Chunk 89 processed sucessfully in 214.96267175674438 seconds.\n",
      "Chunk 92 processed sucessfully in 158.95460724830627 seconds.\n",
      "Chunk 96 processed sucessfully in 99.61702299118042 seconds.\n",
      "Chunk 97 processed sucessfully in 107.10965180397034 seconds.\n",
      "Chunk 99 processed sucessfully in 125.9698793888092 seconds.\n",
      "Chunk 100 processed sucessfully in 114.7315890789032 seconds.\n",
      "Chunk 98 processed sucessfully in 171.67523050308228 seconds.\n",
      "Chunk 102 processed sucessfully in 107.2398579120636 seconds.\n",
      "Chunk 101 processed sucessfully in 210.63564276695251 seconds.\n"
     ]
    }
   ],
   "source": [
    "inputs = iter(range(103))\n",
    "futures = [client.submit(_night_lights, next(inputs)) for i in range(workers)]\n",
    "ac = as_completed(futures)\n",
    "for finished_future in ac:\n",
    "    # submit new future \n",
    "    try:\n",
    "        new_future = client.submit(_night_lights, next(inputs))\n",
    "        ac.add(new_future)\n",
    "    except StopIteration:\n",
    "        pass\n",
    "    print(finished_future.result())"
   ]
  },
  {
   "cell_type": "markdown",
   "id": "mediterranean-mayor",
   "metadata": {},
   "source": [
    "## Worplace population by industry"
   ]
  },
  {
   "cell_type": "code",
   "execution_count": 34,
   "id": "possible-constraint",
   "metadata": {},
   "outputs": [],
   "source": [
    "wpz = gpd.read_parquet('../../urbangrammar_samba/functional_data/employment/workplace/workplace_by_industry_gb.pq')"
   ]
  },
  {
   "cell_type": "code",
   "execution_count": 46,
   "id": "intellectual-television",
   "metadata": {
    "tags": []
   },
   "outputs": [
    {
     "name": "stdout",
     "output_type": "stream",
     "text": [
      "Chunk 0 processed sucessfully in 4.339667081832886 seconds.\n",
      "Chunk 1 processed sucessfully in 4.707739353179932 seconds.\n",
      "Chunk 2 processed sucessfully in 4.347376346588135 seconds.\n",
      "Chunk 3 processed sucessfully in 3.9326553344726562 seconds.\n",
      "Chunk 4 processed sucessfully in 6.005887031555176 seconds.\n",
      "Chunk 5 processed sucessfully in 10.901556253433228 seconds.\n",
      "Chunk 6 processed sucessfully in 10.061571836471558 seconds.\n",
      "Chunk 7 processed sucessfully in 5.373244285583496 seconds.\n",
      "Chunk 8 processed sucessfully in 5.54592227935791 seconds.\n",
      "Chunk 9 processed sucessfully in 4.712031602859497 seconds.\n",
      "Chunk 10 processed sucessfully in 4.334367275238037 seconds.\n",
      "Chunk 11 processed sucessfully in 4.112551212310791 seconds.\n",
      "Chunk 12 processed sucessfully in 7.6018900871276855 seconds.\n",
      "Chunk 13 processed sucessfully in 5.514501094818115 seconds.\n",
      "Chunk 14 processed sucessfully in 5.70710563659668 seconds.\n",
      "Chunk 15 processed sucessfully in 5.131793260574341 seconds.\n",
      "Chunk 16 processed sucessfully in 4.482264757156372 seconds.\n",
      "Chunk 17 processed sucessfully in 4.294769287109375 seconds.\n",
      "Chunk 18 processed sucessfully in 4.081661939620972 seconds.\n",
      "Chunk 19 processed sucessfully in 5.647871494293213 seconds.\n",
      "Chunk 20 processed sucessfully in 4.536542177200317 seconds.\n",
      "Chunk 21 processed sucessfully in 4.321038484573364 seconds.\n",
      "Chunk 22 processed sucessfully in 4.270464181900024 seconds.\n",
      "Chunk 23 processed sucessfully in 4.08439040184021 seconds.\n",
      "Chunk 24 processed sucessfully in 5.9558069705963135 seconds.\n",
      "Chunk 25 processed sucessfully in 3.8234286308288574 seconds.\n",
      "Chunk 26 processed sucessfully in 6.06632924079895 seconds.\n",
      "Chunk 27 processed sucessfully in 5.437521457672119 seconds.\n",
      "Chunk 28 processed sucessfully in 4.044689178466797 seconds.\n",
      "Chunk 29 processed sucessfully in 4.635800123214722 seconds.\n",
      "Chunk 30 processed sucessfully in 4.824749946594238 seconds.\n",
      "Chunk 31 processed sucessfully in 5.066036939620972 seconds.\n",
      "Chunk 32 processed sucessfully in 7.901488542556763 seconds.\n",
      "Chunk 33 processed sucessfully in 4.961339235305786 seconds.\n",
      "Chunk 34 processed sucessfully in 5.217444658279419 seconds.\n",
      "Chunk 35 processed sucessfully in 5.148958921432495 seconds.\n",
      "Chunk 36 processed sucessfully in 4.371359825134277 seconds.\n",
      "Chunk 37 processed sucessfully in 5.85659646987915 seconds.\n",
      "Chunk 38 processed sucessfully in 9.245384693145752 seconds.\n",
      "Chunk 39 processed sucessfully in 4.758932828903198 seconds.\n",
      "Chunk 40 processed sucessfully in 8.429875612258911 seconds.\n",
      "Chunk 41 processed sucessfully in 5.242368936538696 seconds.\n",
      "Chunk 42 processed sucessfully in 6.48029899597168 seconds.\n",
      "Chunk 43 processed sucessfully in 4.376807451248169 seconds.\n",
      "Chunk 44 processed sucessfully in 4.464801549911499 seconds.\n",
      "Chunk 45 processed sucessfully in 5.512848854064941 seconds.\n",
      "Chunk 46 processed sucessfully in 5.31675124168396 seconds.\n",
      "Chunk 47 processed sucessfully in 4.655490875244141 seconds.\n",
      "Chunk 48 processed sucessfully in 5.132812976837158 seconds.\n",
      "Chunk 49 processed sucessfully in 5.258089065551758 seconds.\n",
      "Chunk 50 processed sucessfully in 5.555590867996216 seconds.\n",
      "Chunk 51 processed sucessfully in 4.771127462387085 seconds.\n",
      "Chunk 52 processed sucessfully in 4.057063341140747 seconds.\n",
      "Chunk 53 processed sucessfully in 4.942548990249634 seconds.\n",
      "Chunk 54 processed sucessfully in 5.032382249832153 seconds.\n",
      "Chunk 55 processed sucessfully in 4.095034837722778 seconds.\n",
      "Chunk 56 processed sucessfully in 4.977262735366821 seconds.\n",
      "Chunk 57 processed sucessfully in 5.027353048324585 seconds.\n",
      "Chunk 58 processed sucessfully in 4.670578241348267 seconds.\n",
      "Chunk 59 processed sucessfully in 5.135795593261719 seconds.\n",
      "Chunk 60 processed sucessfully in 4.671122789382935 seconds.\n",
      "Chunk 61 processed sucessfully in 8.880449771881104 seconds.\n",
      "Chunk 62 processed sucessfully in 5.604400873184204 seconds.\n",
      "Chunk 63 processed sucessfully in 4.67211127281189 seconds.\n",
      "Chunk 64 processed sucessfully in 8.094477891921997 seconds.\n",
      "Chunk 65 processed sucessfully in 6.022216558456421 seconds.\n",
      "Chunk 66 processed sucessfully in 6.465723752975464 seconds.\n",
      "Chunk 67 processed sucessfully in 7.837080955505371 seconds.\n",
      "Chunk 68 processed sucessfully in 5.973193168640137 seconds.\n",
      "Chunk 69 processed sucessfully in 5.307929039001465 seconds.\n",
      "Chunk 70 processed sucessfully in 5.387362718582153 seconds.\n",
      "Chunk 71 processed sucessfully in 5.858233451843262 seconds.\n",
      "Chunk 72 processed sucessfully in 4.696798801422119 seconds.\n",
      "Chunk 73 processed sucessfully in 6.033826112747192 seconds.\n",
      "Chunk 74 processed sucessfully in 4.885943412780762 seconds.\n",
      "Chunk 75 processed sucessfully in 6.394996643066406 seconds.\n",
      "Chunk 76 processed sucessfully in 6.0048158168792725 seconds.\n",
      "Chunk 77 processed sucessfully in 5.594425439834595 seconds.\n",
      "Chunk 78 processed sucessfully in 4.688212871551514 seconds.\n",
      "Chunk 79 processed sucessfully in 4.243328332901001 seconds.\n",
      "Chunk 80 processed sucessfully in 5.588174819946289 seconds.\n",
      "Chunk 81 processed sucessfully in 4.6399085521698 seconds.\n",
      "Chunk 82 processed sucessfully in 5.229525089263916 seconds.\n",
      "Chunk 83 processed sucessfully in 6.632182836532593 seconds.\n",
      "Chunk 84 processed sucessfully in 4.818341016769409 seconds.\n",
      "Chunk 85 processed sucessfully in 7.419586420059204 seconds.\n",
      "Chunk 86 processed sucessfully in 5.356421709060669 seconds.\n",
      "Chunk 87 processed sucessfully in 10.653902769088745 seconds.\n",
      "Chunk 88 processed sucessfully in 6.0132811069488525 seconds.\n",
      "Chunk 89 processed sucessfully in 9.062174797058105 seconds.\n",
      "Chunk 90 processed sucessfully in 4.185963869094849 seconds.\n",
      "Chunk 91 processed sucessfully in 4.496687650680542 seconds.\n",
      "Chunk 92 processed sucessfully in 6.412658452987671 seconds.\n",
      "Chunk 93 processed sucessfully in 4.199322462081909 seconds.\n",
      "Chunk 94 processed sucessfully in 3.998373508453369 seconds.\n",
      "Chunk 95 processed sucessfully in 4.693262577056885 seconds.\n",
      "Chunk 96 processed sucessfully in 4.068650722503662 seconds.\n",
      "Chunk 97 processed sucessfully in 6.195067882537842 seconds.\n",
      "Chunk 98 processed sucessfully in 7.321539402008057 seconds.\n",
      "Chunk 99 processed sucessfully in 9.910168886184692 seconds.\n",
      "Chunk 100 processed sucessfully in 5.308680772781372 seconds.\n",
      "Chunk 101 processed sucessfully in 9.048706769943237 seconds.\n",
      "Chunk 102 processed sucessfully in 4.633718013763428 seconds.\n"
     ]
    }
   ],
   "source": [
    "for chunk_id in range(103):\n",
    "    s = time()\n",
    "    chunk = gpd.read_parquet(f\"../../urbangrammar_samba/spatial_signatures/tessellation/tess_{chunk_id}.pq\", columns=[\"hindex\", \"buildings\"]).set_geometry(\"buildings\")\n",
    "    xmin, ymin, xmax, ymax = chunk.total_bounds\n",
    "    ests = tobler.area_weighted.area_interpolate(wpz.cx[xmin:xmax, ymin:ymax], chunk, extensive_variables=wpz.columns[1:-1].to_list())\n",
    "    ests['hindex'] = chunk.hindex.values\n",
    "    ests.drop(columns=\"geometry\").to_parquet(f\"../../urbangrammar_samba/spatial_signatures/functional/workplace/pop_{chunk_id}\")\n",
    "    print(f\"Chunk {chunk_id} processed sucessfully in {time() - s} seconds.\")"
   ]
  },
  {
   "cell_type": "markdown",
   "id": "marked-socket",
   "metadata": {},
   "source": [
    "## CORINE Land cover"
   ]
  },
  {
   "cell_type": "code",
   "execution_count": 3,
   "id": "noted-region",
   "metadata": {},
   "outputs": [],
   "source": [
    "corine = gpd.read_parquet(\"../../urbangrammar_samba/functional_data/land_use/corine/corine_gb.pq\")"
   ]
  },
  {
   "cell_type": "code",
   "execution_count": 4,
   "id": "described-dressing",
   "metadata": {},
   "outputs": [
    {
     "data": {
      "text/html": [
       "<div>\n",
       "<style scoped>\n",
       "    .dataframe tbody tr th:only-of-type {\n",
       "        vertical-align: middle;\n",
       "    }\n",
       "\n",
       "    .dataframe tbody tr th {\n",
       "        vertical-align: top;\n",
       "    }\n",
       "\n",
       "    .dataframe thead th {\n",
       "        text-align: right;\n",
       "    }\n",
       "</style>\n",
       "<table border=\"1\" class=\"dataframe\">\n",
       "  <thead>\n",
       "    <tr style=\"text-align: right;\">\n",
       "      <th></th>\n",
       "      <th>Code_18</th>\n",
       "      <th>Remark</th>\n",
       "      <th>Area_Ha</th>\n",
       "      <th>ID</th>\n",
       "      <th>geometry</th>\n",
       "    </tr>\n",
       "  </thead>\n",
       "  <tbody>\n",
       "    <tr>\n",
       "      <th>0</th>\n",
       "      <td>112</td>\n",
       "      <td>None</td>\n",
       "      <td>1.893751e+02</td>\n",
       "      <td>EU_514927</td>\n",
       "      <td>MULTIPOLYGON (((274002.422 39453.334, 273980.8...</td>\n",
       "    </tr>\n",
       "    <tr>\n",
       "      <th>1</th>\n",
       "      <td>112</td>\n",
       "      <td>None</td>\n",
       "      <td>2.696926e+01</td>\n",
       "      <td>EU_514928</td>\n",
       "      <td>MULTIPOLYGON (((271153.999 39775.080, 271144.0...</td>\n",
       "    </tr>\n",
       "    <tr>\n",
       "      <th>2</th>\n",
       "      <td>112</td>\n",
       "      <td>None</td>\n",
       "      <td>4.202325e+01</td>\n",
       "      <td>EU_514929</td>\n",
       "      <td>MULTIPOLYGON (((267987.903 40256.489, 267988.2...</td>\n",
       "    </tr>\n",
       "    <tr>\n",
       "      <th>3</th>\n",
       "      <td>112</td>\n",
       "      <td>None</td>\n",
       "      <td>2.576880e+01</td>\n",
       "      <td>EU_514930</td>\n",
       "      <td>MULTIPOLYGON (((280792.702 43134.915, 280767.8...</td>\n",
       "    </tr>\n",
       "    <tr>\n",
       "      <th>4</th>\n",
       "      <td>112</td>\n",
       "      <td>None</td>\n",
       "      <td>2.976197e+01</td>\n",
       "      <td>EU_514931</td>\n",
       "      <td>MULTIPOLYGON (((278839.382 42981.648, 278811.9...</td>\n",
       "    </tr>\n",
       "    <tr>\n",
       "      <th>...</th>\n",
       "      <td>...</td>\n",
       "      <td>...</td>\n",
       "      <td>...</td>\n",
       "      <td>...</td>\n",
       "      <td>...</td>\n",
       "    </tr>\n",
       "    <tr>\n",
       "      <th>71785</th>\n",
       "      <td>231</td>\n",
       "      <td>None</td>\n",
       "      <td>3.937547e+01</td>\n",
       "      <td>EU_1596493</td>\n",
       "      <td>MULTIPOLYGON (((608620.221 323294.882, 608615....</td>\n",
       "    </tr>\n",
       "    <tr>\n",
       "      <th>71786</th>\n",
       "      <td>231</td>\n",
       "      <td>None</td>\n",
       "      <td>1.024217e+02</td>\n",
       "      <td>EU_1596519</td>\n",
       "      <td>MULTIPOLYGON (((608837.110 324476.901, 608680....</td>\n",
       "    </tr>\n",
       "    <tr>\n",
       "      <th>71787</th>\n",
       "      <td>112</td>\n",
       "      <td>None</td>\n",
       "      <td>7.649168e+01</td>\n",
       "      <td>EU_1573352</td>\n",
       "      <td>MULTIPOLYGON (((610635.771 323374.952, 610577....</td>\n",
       "    </tr>\n",
       "    <tr>\n",
       "      <th>71788</th>\n",
       "      <td>512</td>\n",
       "      <td>None</td>\n",
       "      <td>2.985387e+01</td>\n",
       "      <td>EU_1625523</td>\n",
       "      <td>MULTIPOLYGON (((597901.209 325401.890, 597852....</td>\n",
       "    </tr>\n",
       "    <tr>\n",
       "      <th>71789</th>\n",
       "      <td>523</td>\n",
       "      <td>None</td>\n",
       "      <td>3.428866e+06</td>\n",
       "      <td>EU_2364838</td>\n",
       "      <td>MULTIPOLYGON (((1070758.429 489408.563, 107073...</td>\n",
       "    </tr>\n",
       "  </tbody>\n",
       "</table>\n",
       "<p>71790 rows × 5 columns</p>\n",
       "</div>"
      ],
      "text/plain": [
       "      Code_18 Remark       Area_Ha          ID  \\\n",
       "0         112   None  1.893751e+02   EU_514927   \n",
       "1         112   None  2.696926e+01   EU_514928   \n",
       "2         112   None  4.202325e+01   EU_514929   \n",
       "3         112   None  2.576880e+01   EU_514930   \n",
       "4         112   None  2.976197e+01   EU_514931   \n",
       "...       ...    ...           ...         ...   \n",
       "71785     231   None  3.937547e+01  EU_1596493   \n",
       "71786     231   None  1.024217e+02  EU_1596519   \n",
       "71787     112   None  7.649168e+01  EU_1573352   \n",
       "71788     512   None  2.985387e+01  EU_1625523   \n",
       "71789     523   None  3.428866e+06  EU_2364838   \n",
       "\n",
       "                                                geometry  \n",
       "0      MULTIPOLYGON (((274002.422 39453.334, 273980.8...  \n",
       "1      MULTIPOLYGON (((271153.999 39775.080, 271144.0...  \n",
       "2      MULTIPOLYGON (((267987.903 40256.489, 267988.2...  \n",
       "3      MULTIPOLYGON (((280792.702 43134.915, 280767.8...  \n",
       "4      MULTIPOLYGON (((278839.382 42981.648, 278811.9...  \n",
       "...                                                  ...  \n",
       "71785  MULTIPOLYGON (((608620.221 323294.882, 608615....  \n",
       "71786  MULTIPOLYGON (((608837.110 324476.901, 608680....  \n",
       "71787  MULTIPOLYGON (((610635.771 323374.952, 610577....  \n",
       "71788  MULTIPOLYGON (((597901.209 325401.890, 597852....  \n",
       "71789  MULTIPOLYGON (((1070758.429 489408.563, 107073...  \n",
       "\n",
       "[71790 rows x 5 columns]"
      ]
     },
     "execution_count": 4,
     "metadata": {},
     "output_type": "execute_result"
    }
   ],
   "source": [
    "corine"
   ]
  },
  {
   "cell_type": "code",
   "execution_count": 11,
   "id": "challenging-dealer",
   "metadata": {},
   "outputs": [],
   "source": [
    "def _dask_binning(corine, cells, n_chunks=512):\n",
    "    import dask_geopandas as dgpd\n",
    "    from scipy.sparse import coo_matrix\n",
    "    \n",
    "    ids_src, ids_tgt = cells.sindex.query_bulk(corine.geometry, predicate=\"intersects\")\n",
    "    df = gpd.GeoDataFrame({'clc': corine.geometry.values[ids_src], 'tess': cells.geometry.values[ids_tgt]})\n",
    "    ddf = dgpd.from_geopandas(df, npartitions=n_chunks)\n",
    "    areas = ddf.clc.intersection(ddf.tess).area.compute()\n",
    "    table = coo_matrix(\n",
    "        (areas, (ids_src, ids_tgt),),\n",
    "        shape=(corine.shape[0], cells.shape[0]),\n",
    "        dtype=np.float32,\n",
    "    )\n",
    "\n",
    "    table = table.todok()\n",
    "\n",
    "    return table\n",
    "\n",
    "\n",
    "def _dask_area_interpolate(corine, cells, n_chunks=512, categorical_variables=None):\n",
    "    table = _dask_binning(corine, cells, n_chunks)\n",
    "    \n",
    "    if categorical_variables:\n",
    "        categorical = {}\n",
    "        for variable in categorical_variables:\n",
    "            unique = corine[variable].unique()\n",
    "            for value in unique:\n",
    "                mask = corine[variable] == value\n",
    "                categorical[f\"{variable}_{value}\"] = np.asarray(\n",
    "                    table[mask].sum(axis=0)\n",
    "                )[0]\n",
    "\n",
    "        categorical = pd.DataFrame(categorical)\n",
    "        categorical = categorical.div(cells.area, axis=\"rows\")\n",
    "    \n",
    "    return categorical"
   ]
  },
  {
   "cell_type": "code",
   "execution_count": 14,
   "id": "promising-medication",
   "metadata": {},
   "outputs": [
    {
     "name": "stderr",
     "output_type": "stream",
     "text": [
      "/opt/conda/lib/python3.8/site-packages/dask_geopandas/backends.py:31: FutureWarning: The input object of type 'LineString' is an array-like implementing one of the corresponding protocols (`__array__`, `__array_interface__` or `__array_struct__`); but not a sequence (or 0-D). In the future, this object will be coerced as if it was first converted using `np.array(obj)`. To retain the old behaviour, you have to either modify the type 'LineString', or assign to an empty array created with `np.empty(correct_shape, dtype=object)`.\n",
      "  a = np.array(\n"
     ]
    },
    {
     "name": "stdout",
     "output_type": "stream",
     "text": [
      "Chunk 0 processed sucessfully in 15.180331945419312 seconds.\n"
     ]
    },
    {
     "name": "stderr",
     "output_type": "stream",
     "text": [
      "/opt/conda/lib/python3.8/site-packages/dask_geopandas/backends.py:31: FutureWarning: The input object of type 'LineString' is an array-like implementing one of the corresponding protocols (`__array__`, `__array_interface__` or `__array_struct__`); but not a sequence (or 0-D). In the future, this object will be coerced as if it was first converted using `np.array(obj)`. To retain the old behaviour, you have to either modify the type 'LineString', or assign to an empty array created with `np.empty(correct_shape, dtype=object)`.\n",
      "  a = np.array(\n"
     ]
    },
    {
     "name": "stdout",
     "output_type": "stream",
     "text": [
      "Chunk 1 processed sucessfully in 30.089888095855713 seconds.\n"
     ]
    },
    {
     "name": "stderr",
     "output_type": "stream",
     "text": [
      "/opt/conda/lib/python3.8/site-packages/dask_geopandas/backends.py:31: FutureWarning: The input object of type 'LineString' is an array-like implementing one of the corresponding protocols (`__array__`, `__array_interface__` or `__array_struct__`); but not a sequence (or 0-D). In the future, this object will be coerced as if it was first converted using `np.array(obj)`. To retain the old behaviour, you have to either modify the type 'LineString', or assign to an empty array created with `np.empty(correct_shape, dtype=object)`.\n",
      "  a = np.array(\n"
     ]
    },
    {
     "name": "stdout",
     "output_type": "stream",
     "text": [
      "Chunk 2 processed sucessfully in 21.882530212402344 seconds.\n"
     ]
    },
    {
     "name": "stderr",
     "output_type": "stream",
     "text": [
      "/opt/conda/lib/python3.8/site-packages/dask_geopandas/backends.py:31: FutureWarning: The input object of type 'LineString' is an array-like implementing one of the corresponding protocols (`__array__`, `__array_interface__` or `__array_struct__`); but not a sequence (or 0-D). In the future, this object will be coerced as if it was first converted using `np.array(obj)`. To retain the old behaviour, you have to either modify the type 'LineString', or assign to an empty array created with `np.empty(correct_shape, dtype=object)`.\n",
      "  a = np.array(\n"
     ]
    },
    {
     "name": "stdout",
     "output_type": "stream",
     "text": [
      "Chunk 3 processed sucessfully in 17.526738166809082 seconds.\n"
     ]
    },
    {
     "name": "stderr",
     "output_type": "stream",
     "text": [
      "/opt/conda/lib/python3.8/site-packages/dask_geopandas/backends.py:31: FutureWarning: The input object of type 'LineString' is an array-like implementing one of the corresponding protocols (`__array__`, `__array_interface__` or `__array_struct__`); but not a sequence (or 0-D). In the future, this object will be coerced as if it was first converted using `np.array(obj)`. To retain the old behaviour, you have to either modify the type 'LineString', or assign to an empty array created with `np.empty(correct_shape, dtype=object)`.\n",
      "  a = np.array(\n"
     ]
    },
    {
     "name": "stdout",
     "output_type": "stream",
     "text": [
      "Chunk 4 processed sucessfully in 106.89093780517578 seconds.\n"
     ]
    },
    {
     "name": "stderr",
     "output_type": "stream",
     "text": [
      "/opt/conda/lib/python3.8/site-packages/dask_geopandas/backends.py:31: FutureWarning: The input object of type 'LineString' is an array-like implementing one of the corresponding protocols (`__array__`, `__array_interface__` or `__array_struct__`); but not a sequence (or 0-D). In the future, this object will be coerced as if it was first converted using `np.array(obj)`. To retain the old behaviour, you have to either modify the type 'LineString', or assign to an empty array created with `np.empty(correct_shape, dtype=object)`.\n",
      "  a = np.array(\n"
     ]
    },
    {
     "name": "stdout",
     "output_type": "stream",
     "text": [
      "Chunk 5 processed sucessfully in 317.46085810661316 seconds.\n"
     ]
    },
    {
     "name": "stderr",
     "output_type": "stream",
     "text": [
      "/opt/conda/lib/python3.8/site-packages/dask_geopandas/backends.py:31: FutureWarning: The input object of type 'LineString' is an array-like implementing one of the corresponding protocols (`__array__`, `__array_interface__` or `__array_struct__`); but not a sequence (or 0-D). In the future, this object will be coerced as if it was first converted using `np.array(obj)`. To retain the old behaviour, you have to either modify the type 'LineString', or assign to an empty array created with `np.empty(correct_shape, dtype=object)`.\n",
      "  a = np.array(\n"
     ]
    },
    {
     "name": "stdout",
     "output_type": "stream",
     "text": [
      "Chunk 6 processed sucessfully in 287.55741930007935 seconds.\n"
     ]
    },
    {
     "name": "stderr",
     "output_type": "stream",
     "text": [
      "/opt/conda/lib/python3.8/site-packages/dask_geopandas/backends.py:31: FutureWarning: The input object of type 'LineString' is an array-like implementing one of the corresponding protocols (`__array__`, `__array_interface__` or `__array_struct__`); but not a sequence (or 0-D). In the future, this object will be coerced as if it was first converted using `np.array(obj)`. To retain the old behaviour, you have to either modify the type 'LineString', or assign to an empty array created with `np.empty(correct_shape, dtype=object)`.\n",
      "  a = np.array(\n"
     ]
    },
    {
     "name": "stdout",
     "output_type": "stream",
     "text": [
      "Chunk 7 processed sucessfully in 52.53155994415283 seconds.\n"
     ]
    },
    {
     "name": "stderr",
     "output_type": "stream",
     "text": [
      "/opt/conda/lib/python3.8/site-packages/dask_geopandas/backends.py:31: FutureWarning: The input object of type 'LineString' is an array-like implementing one of the corresponding protocols (`__array__`, `__array_interface__` or `__array_struct__`); but not a sequence (or 0-D). In the future, this object will be coerced as if it was first converted using `np.array(obj)`. To retain the old behaviour, you have to either modify the type 'LineString', or assign to an empty array created with `np.empty(correct_shape, dtype=object)`.\n",
      "  a = np.array(\n"
     ]
    },
    {
     "name": "stdout",
     "output_type": "stream",
     "text": [
      "Chunk 8 processed sucessfully in 49.779944896698 seconds.\n"
     ]
    },
    {
     "name": "stderr",
     "output_type": "stream",
     "text": [
      "/opt/conda/lib/python3.8/site-packages/dask_geopandas/backends.py:31: FutureWarning: The input object of type 'LineString' is an array-like implementing one of the corresponding protocols (`__array__`, `__array_interface__` or `__array_struct__`); but not a sequence (or 0-D). In the future, this object will be coerced as if it was first converted using `np.array(obj)`. To retain the old behaviour, you have to either modify the type 'LineString', or assign to an empty array created with `np.empty(correct_shape, dtype=object)`.\n",
      "  a = np.array(\n"
     ]
    },
    {
     "name": "stdout",
     "output_type": "stream",
     "text": [
      "Chunk 9 processed sucessfully in 34.78387999534607 seconds.\n"
     ]
    },
    {
     "name": "stderr",
     "output_type": "stream",
     "text": [
      "/opt/conda/lib/python3.8/site-packages/dask_geopandas/backends.py:31: FutureWarning: The input object of type 'LineString' is an array-like implementing one of the corresponding protocols (`__array__`, `__array_interface__` or `__array_struct__`); but not a sequence (or 0-D). In the future, this object will be coerced as if it was first converted using `np.array(obj)`. To retain the old behaviour, you have to either modify the type 'LineString', or assign to an empty array created with `np.empty(correct_shape, dtype=object)`.\n",
      "  a = np.array(\n"
     ]
    },
    {
     "name": "stdout",
     "output_type": "stream",
     "text": [
      "Chunk 10 processed sucessfully in 72.16384053230286 seconds.\n"
     ]
    },
    {
     "name": "stderr",
     "output_type": "stream",
     "text": [
      "/opt/conda/lib/python3.8/site-packages/dask_geopandas/backends.py:31: FutureWarning: The input object of type 'LineString' is an array-like implementing one of the corresponding protocols (`__array__`, `__array_interface__` or `__array_struct__`); but not a sequence (or 0-D). In the future, this object will be coerced as if it was first converted using `np.array(obj)`. To retain the old behaviour, you have to either modify the type 'LineString', or assign to an empty array created with `np.empty(correct_shape, dtype=object)`.\n",
      "  a = np.array(\n"
     ]
    },
    {
     "name": "stdout",
     "output_type": "stream",
     "text": [
      "Chunk 11 processed sucessfully in 52.640920877456665 seconds.\n"
     ]
    },
    {
     "name": "stderr",
     "output_type": "stream",
     "text": [
      "/opt/conda/lib/python3.8/site-packages/dask_geopandas/backends.py:31: FutureWarning: The input object of type 'LineString' is an array-like implementing one of the corresponding protocols (`__array__`, `__array_interface__` or `__array_struct__`); but not a sequence (or 0-D). In the future, this object will be coerced as if it was first converted using `np.array(obj)`. To retain the old behaviour, you have to either modify the type 'LineString', or assign to an empty array created with `np.empty(correct_shape, dtype=object)`.\n",
      "  a = np.array(\n"
     ]
    },
    {
     "name": "stdout",
     "output_type": "stream",
     "text": [
      "Chunk 12 processed sucessfully in 65.59830093383789 seconds.\n"
     ]
    },
    {
     "name": "stderr",
     "output_type": "stream",
     "text": [
      "/opt/conda/lib/python3.8/site-packages/dask_geopandas/backends.py:31: FutureWarning: The input object of type 'LineString' is an array-like implementing one of the corresponding protocols (`__array__`, `__array_interface__` or `__array_struct__`); but not a sequence (or 0-D). In the future, this object will be coerced as if it was first converted using `np.array(obj)`. To retain the old behaviour, you have to either modify the type 'LineString', or assign to an empty array created with `np.empty(correct_shape, dtype=object)`.\n",
      "  a = np.array(\n"
     ]
    },
    {
     "name": "stdout",
     "output_type": "stream",
     "text": [
      "Chunk 13 processed sucessfully in 60.7873010635376 seconds.\n"
     ]
    },
    {
     "name": "stderr",
     "output_type": "stream",
     "text": [
      "/opt/conda/lib/python3.8/site-packages/dask_geopandas/backends.py:31: FutureWarning: The input object of type 'LineString' is an array-like implementing one of the corresponding protocols (`__array__`, `__array_interface__` or `__array_struct__`); but not a sequence (or 0-D). In the future, this object will be coerced as if it was first converted using `np.array(obj)`. To retain the old behaviour, you have to either modify the type 'LineString', or assign to an empty array created with `np.empty(correct_shape, dtype=object)`.\n",
      "  a = np.array(\n"
     ]
    },
    {
     "name": "stdout",
     "output_type": "stream",
     "text": [
      "Chunk 14 processed sucessfully in 76.49349236488342 seconds.\n"
     ]
    },
    {
     "name": "stderr",
     "output_type": "stream",
     "text": [
      "/opt/conda/lib/python3.8/site-packages/dask_geopandas/backends.py:31: FutureWarning: The input object of type 'LineString' is an array-like implementing one of the corresponding protocols (`__array__`, `__array_interface__` or `__array_struct__`); but not a sequence (or 0-D). In the future, this object will be coerced as if it was first converted using `np.array(obj)`. To retain the old behaviour, you have to either modify the type 'LineString', or assign to an empty array created with `np.empty(correct_shape, dtype=object)`.\n",
      "  a = np.array(\n"
     ]
    },
    {
     "name": "stdout",
     "output_type": "stream",
     "text": [
      "Chunk 15 processed sucessfully in 16.41744041442871 seconds.\n"
     ]
    },
    {
     "name": "stderr",
     "output_type": "stream",
     "text": [
      "/opt/conda/lib/python3.8/site-packages/dask_geopandas/backends.py:31: FutureWarning: The input object of type 'LineString' is an array-like implementing one of the corresponding protocols (`__array__`, `__array_interface__` or `__array_struct__`); but not a sequence (or 0-D). In the future, this object will be coerced as if it was first converted using `np.array(obj)`. To retain the old behaviour, you have to either modify the type 'LineString', or assign to an empty array created with `np.empty(correct_shape, dtype=object)`.\n",
      "  a = np.array(\n"
     ]
    },
    {
     "name": "stdout",
     "output_type": "stream",
     "text": [
      "Chunk 16 processed sucessfully in 19.981613636016846 seconds.\n"
     ]
    },
    {
     "name": "stderr",
     "output_type": "stream",
     "text": [
      "/opt/conda/lib/python3.8/site-packages/dask_geopandas/backends.py:31: FutureWarning: The input object of type 'LineString' is an array-like implementing one of the corresponding protocols (`__array__`, `__array_interface__` or `__array_struct__`); but not a sequence (or 0-D). In the future, this object will be coerced as if it was first converted using `np.array(obj)`. To retain the old behaviour, you have to either modify the type 'LineString', or assign to an empty array created with `np.empty(correct_shape, dtype=object)`.\n",
      "  a = np.array(\n"
     ]
    },
    {
     "name": "stdout",
     "output_type": "stream",
     "text": [
      "Chunk 17 processed sucessfully in 14.932554244995117 seconds.\n"
     ]
    },
    {
     "name": "stderr",
     "output_type": "stream",
     "text": [
      "/opt/conda/lib/python3.8/site-packages/dask_geopandas/backends.py:31: FutureWarning: The input object of type 'LineString' is an array-like implementing one of the corresponding protocols (`__array__`, `__array_interface__` or `__array_struct__`); but not a sequence (or 0-D). In the future, this object will be coerced as if it was first converted using `np.array(obj)`. To retain the old behaviour, you have to either modify the type 'LineString', or assign to an empty array created with `np.empty(correct_shape, dtype=object)`.\n",
      "  a = np.array(\n"
     ]
    },
    {
     "name": "stdout",
     "output_type": "stream",
     "text": [
      "Chunk 18 processed sucessfully in 15.702290296554565 seconds.\n"
     ]
    },
    {
     "name": "stderr",
     "output_type": "stream",
     "text": [
      "/opt/conda/lib/python3.8/site-packages/dask_geopandas/backends.py:31: FutureWarning: The input object of type 'LineString' is an array-like implementing one of the corresponding protocols (`__array__`, `__array_interface__` or `__array_struct__`); but not a sequence (or 0-D). In the future, this object will be coerced as if it was first converted using `np.array(obj)`. To retain the old behaviour, you have to either modify the type 'LineString', or assign to an empty array created with `np.empty(correct_shape, dtype=object)`.\n",
      "  a = np.array(\n"
     ]
    },
    {
     "name": "stdout",
     "output_type": "stream",
     "text": [
      "Chunk 19 processed sucessfully in 34.342867374420166 seconds.\n"
     ]
    },
    {
     "name": "stderr",
     "output_type": "stream",
     "text": [
      "/opt/conda/lib/python3.8/site-packages/dask_geopandas/backends.py:31: FutureWarning: The input object of type 'LineString' is an array-like implementing one of the corresponding protocols (`__array__`, `__array_interface__` or `__array_struct__`); but not a sequence (or 0-D). In the future, this object will be coerced as if it was first converted using `np.array(obj)`. To retain the old behaviour, you have to either modify the type 'LineString', or assign to an empty array created with `np.empty(correct_shape, dtype=object)`.\n",
      "  a = np.array(\n"
     ]
    },
    {
     "name": "stdout",
     "output_type": "stream",
     "text": [
      "Chunk 20 processed sucessfully in 39.59873700141907 seconds.\n"
     ]
    },
    {
     "name": "stderr",
     "output_type": "stream",
     "text": [
      "/opt/conda/lib/python3.8/site-packages/dask_geopandas/backends.py:31: FutureWarning: The input object of type 'LineString' is an array-like implementing one of the corresponding protocols (`__array__`, `__array_interface__` or `__array_struct__`); but not a sequence (or 0-D). In the future, this object will be coerced as if it was first converted using `np.array(obj)`. To retain the old behaviour, you have to either modify the type 'LineString', or assign to an empty array created with `np.empty(correct_shape, dtype=object)`.\n",
      "  a = np.array(\n"
     ]
    },
    {
     "name": "stdout",
     "output_type": "stream",
     "text": [
      "Chunk 21 processed sucessfully in 51.94429302215576 seconds.\n"
     ]
    },
    {
     "name": "stderr",
     "output_type": "stream",
     "text": [
      "/opt/conda/lib/python3.8/site-packages/dask_geopandas/backends.py:31: FutureWarning: The input object of type 'LineString' is an array-like implementing one of the corresponding protocols (`__array__`, `__array_interface__` or `__array_struct__`); but not a sequence (or 0-D). In the future, this object will be coerced as if it was first converted using `np.array(obj)`. To retain the old behaviour, you have to either modify the type 'LineString', or assign to an empty array created with `np.empty(correct_shape, dtype=object)`.\n",
      "  a = np.array(\n"
     ]
    },
    {
     "name": "stdout",
     "output_type": "stream",
     "text": [
      "Chunk 22 processed sucessfully in 56.69731068611145 seconds.\n"
     ]
    },
    {
     "name": "stderr",
     "output_type": "stream",
     "text": [
      "/opt/conda/lib/python3.8/site-packages/dask_geopandas/backends.py:31: FutureWarning: The input object of type 'LineString' is an array-like implementing one of the corresponding protocols (`__array__`, `__array_interface__` or `__array_struct__`); but not a sequence (or 0-D). In the future, this object will be coerced as if it was first converted using `np.array(obj)`. To retain the old behaviour, you have to either modify the type 'LineString', or assign to an empty array created with `np.empty(correct_shape, dtype=object)`.\n",
      "  a = np.array(\n"
     ]
    },
    {
     "name": "stdout",
     "output_type": "stream",
     "text": [
      "Chunk 23 processed sucessfully in 82.09859800338745 seconds.\n"
     ]
    },
    {
     "name": "stderr",
     "output_type": "stream",
     "text": [
      "/opt/conda/lib/python3.8/site-packages/dask_geopandas/backends.py:31: FutureWarning: The input object of type 'LineString' is an array-like implementing one of the corresponding protocols (`__array__`, `__array_interface__` or `__array_struct__`); but not a sequence (or 0-D). In the future, this object will be coerced as if it was first converted using `np.array(obj)`. To retain the old behaviour, you have to either modify the type 'LineString', or assign to an empty array created with `np.empty(correct_shape, dtype=object)`.\n",
      "  a = np.array(\n"
     ]
    },
    {
     "name": "stdout",
     "output_type": "stream",
     "text": [
      "Chunk 24 processed sucessfully in 28.112233877182007 seconds.\n"
     ]
    },
    {
     "name": "stderr",
     "output_type": "stream",
     "text": [
      "/opt/conda/lib/python3.8/site-packages/dask_geopandas/backends.py:31: FutureWarning: The input object of type 'LineString' is an array-like implementing one of the corresponding protocols (`__array__`, `__array_interface__` or `__array_struct__`); but not a sequence (or 0-D). In the future, this object will be coerced as if it was first converted using `np.array(obj)`. To retain the old behaviour, you have to either modify the type 'LineString', or assign to an empty array created with `np.empty(correct_shape, dtype=object)`.\n",
      "  a = np.array(\n"
     ]
    },
    {
     "name": "stdout",
     "output_type": "stream",
     "text": [
      "Chunk 25 processed sucessfully in 27.96365523338318 seconds.\n"
     ]
    },
    {
     "name": "stderr",
     "output_type": "stream",
     "text": [
      "/opt/conda/lib/python3.8/site-packages/dask_geopandas/backends.py:31: FutureWarning: The input object of type 'LineString' is an array-like implementing one of the corresponding protocols (`__array__`, `__array_interface__` or `__array_struct__`); but not a sequence (or 0-D). In the future, this object will be coerced as if it was first converted using `np.array(obj)`. To retain the old behaviour, you have to either modify the type 'LineString', or assign to an empty array created with `np.empty(correct_shape, dtype=object)`.\n",
      "  a = np.array(\n"
     ]
    },
    {
     "name": "stdout",
     "output_type": "stream",
     "text": [
      "Chunk 26 processed sucessfully in 21.680318593978882 seconds.\n"
     ]
    },
    {
     "name": "stderr",
     "output_type": "stream",
     "text": [
      "/opt/conda/lib/python3.8/site-packages/dask_geopandas/backends.py:31: FutureWarning: The input object of type 'LineString' is an array-like implementing one of the corresponding protocols (`__array__`, `__array_interface__` or `__array_struct__`); but not a sequence (or 0-D). In the future, this object will be coerced as if it was first converted using `np.array(obj)`. To retain the old behaviour, you have to either modify the type 'LineString', or assign to an empty array created with `np.empty(correct_shape, dtype=object)`.\n",
      "  a = np.array(\n"
     ]
    },
    {
     "name": "stdout",
     "output_type": "stream",
     "text": [
      "Chunk 27 processed sucessfully in 44.50490593910217 seconds.\n"
     ]
    },
    {
     "name": "stderr",
     "output_type": "stream",
     "text": [
      "/opt/conda/lib/python3.8/site-packages/dask_geopandas/backends.py:31: FutureWarning: The input object of type 'LineString' is an array-like implementing one of the corresponding protocols (`__array__`, `__array_interface__` or `__array_struct__`); but not a sequence (or 0-D). In the future, this object will be coerced as if it was first converted using `np.array(obj)`. To retain the old behaviour, you have to either modify the type 'LineString', or assign to an empty array created with `np.empty(correct_shape, dtype=object)`.\n",
      "  a = np.array(\n"
     ]
    },
    {
     "name": "stdout",
     "output_type": "stream",
     "text": [
      "Chunk 28 processed sucessfully in 15.241016864776611 seconds.\n"
     ]
    },
    {
     "name": "stderr",
     "output_type": "stream",
     "text": [
      "/opt/conda/lib/python3.8/site-packages/dask_geopandas/backends.py:31: FutureWarning: The input object of type 'LineString' is an array-like implementing one of the corresponding protocols (`__array__`, `__array_interface__` or `__array_struct__`); but not a sequence (or 0-D). In the future, this object will be coerced as if it was first converted using `np.array(obj)`. To retain the old behaviour, you have to either modify the type 'LineString', or assign to an empty array created with `np.empty(correct_shape, dtype=object)`.\n",
      "  a = np.array(\n"
     ]
    },
    {
     "name": "stdout",
     "output_type": "stream",
     "text": [
      "Chunk 29 processed sucessfully in 19.445778846740723 seconds.\n"
     ]
    },
    {
     "name": "stderr",
     "output_type": "stream",
     "text": [
      "/opt/conda/lib/python3.8/site-packages/dask_geopandas/backends.py:31: FutureWarning: The input object of type 'LineString' is an array-like implementing one of the corresponding protocols (`__array__`, `__array_interface__` or `__array_struct__`); but not a sequence (or 0-D). In the future, this object will be coerced as if it was first converted using `np.array(obj)`. To retain the old behaviour, you have to either modify the type 'LineString', or assign to an empty array created with `np.empty(correct_shape, dtype=object)`.\n",
      "  a = np.array(\n"
     ]
    },
    {
     "name": "stdout",
     "output_type": "stream",
     "text": [
      "Chunk 30 processed sucessfully in 75.84844732284546 seconds.\n"
     ]
    },
    {
     "name": "stderr",
     "output_type": "stream",
     "text": [
      "/opt/conda/lib/python3.8/site-packages/dask_geopandas/backends.py:31: FutureWarning: The input object of type 'LineString' is an array-like implementing one of the corresponding protocols (`__array__`, `__array_interface__` or `__array_struct__`); but not a sequence (or 0-D). In the future, this object will be coerced as if it was first converted using `np.array(obj)`. To retain the old behaviour, you have to either modify the type 'LineString', or assign to an empty array created with `np.empty(correct_shape, dtype=object)`.\n",
      "  a = np.array(\n"
     ]
    },
    {
     "name": "stdout",
     "output_type": "stream",
     "text": [
      "Chunk 31 processed sucessfully in 27.67076849937439 seconds.\n"
     ]
    },
    {
     "name": "stderr",
     "output_type": "stream",
     "text": [
      "/opt/conda/lib/python3.8/site-packages/dask_geopandas/backends.py:31: FutureWarning: The input object of type 'LineString' is an array-like implementing one of the corresponding protocols (`__array__`, `__array_interface__` or `__array_struct__`); but not a sequence (or 0-D). In the future, this object will be coerced as if it was first converted using `np.array(obj)`. To retain the old behaviour, you have to either modify the type 'LineString', or assign to an empty array created with `np.empty(correct_shape, dtype=object)`.\n",
      "  a = np.array(\n"
     ]
    },
    {
     "name": "stdout",
     "output_type": "stream",
     "text": [
      "Chunk 32 processed sucessfully in 130.36047387123108 seconds.\n"
     ]
    },
    {
     "name": "stderr",
     "output_type": "stream",
     "text": [
      "/opt/conda/lib/python3.8/site-packages/dask_geopandas/backends.py:31: FutureWarning: The input object of type 'LineString' is an array-like implementing one of the corresponding protocols (`__array__`, `__array_interface__` or `__array_struct__`); but not a sequence (or 0-D). In the future, this object will be coerced as if it was first converted using `np.array(obj)`. To retain the old behaviour, you have to either modify the type 'LineString', or assign to an empty array created with `np.empty(correct_shape, dtype=object)`.\n",
      "  a = np.array(\n"
     ]
    },
    {
     "name": "stdout",
     "output_type": "stream",
     "text": [
      "Chunk 33 processed sucessfully in 60.720449686050415 seconds.\n"
     ]
    },
    {
     "name": "stderr",
     "output_type": "stream",
     "text": [
      "/opt/conda/lib/python3.8/site-packages/dask_geopandas/backends.py:31: FutureWarning: The input object of type 'LineString' is an array-like implementing one of the corresponding protocols (`__array__`, `__array_interface__` or `__array_struct__`); but not a sequence (or 0-D). In the future, this object will be coerced as if it was first converted using `np.array(obj)`. To retain the old behaviour, you have to either modify the type 'LineString', or assign to an empty array created with `np.empty(correct_shape, dtype=object)`.\n",
      "  a = np.array(\n"
     ]
    },
    {
     "name": "stdout",
     "output_type": "stream",
     "text": [
      "Chunk 34 processed sucessfully in 46.61375951766968 seconds.\n"
     ]
    },
    {
     "name": "stderr",
     "output_type": "stream",
     "text": [
      "/opt/conda/lib/python3.8/site-packages/dask_geopandas/backends.py:31: FutureWarning: The input object of type 'LineString' is an array-like implementing one of the corresponding protocols (`__array__`, `__array_interface__` or `__array_struct__`); but not a sequence (or 0-D). In the future, this object will be coerced as if it was first converted using `np.array(obj)`. To retain the old behaviour, you have to either modify the type 'LineString', or assign to an empty array created with `np.empty(correct_shape, dtype=object)`.\n",
      "  a = np.array(\n"
     ]
    },
    {
     "name": "stdout",
     "output_type": "stream",
     "text": [
      "Chunk 35 processed sucessfully in 27.770570516586304 seconds.\n"
     ]
    },
    {
     "name": "stderr",
     "output_type": "stream",
     "text": [
      "/opt/conda/lib/python3.8/site-packages/dask_geopandas/backends.py:31: FutureWarning: The input object of type 'LineString' is an array-like implementing one of the corresponding protocols (`__array__`, `__array_interface__` or `__array_struct__`); but not a sequence (or 0-D). In the future, this object will be coerced as if it was first converted using `np.array(obj)`. To retain the old behaviour, you have to either modify the type 'LineString', or assign to an empty array created with `np.empty(correct_shape, dtype=object)`.\n",
      "  a = np.array(\n"
     ]
    },
    {
     "name": "stdout",
     "output_type": "stream",
     "text": [
      "Chunk 36 processed sucessfully in 17.652199506759644 seconds.\n"
     ]
    },
    {
     "name": "stderr",
     "output_type": "stream",
     "text": [
      "/opt/conda/lib/python3.8/site-packages/dask_geopandas/backends.py:31: FutureWarning: The input object of type 'LineString' is an array-like implementing one of the corresponding protocols (`__array__`, `__array_interface__` or `__array_struct__`); but not a sequence (or 0-D). In the future, this object will be coerced as if it was first converted using `np.array(obj)`. To retain the old behaviour, you have to either modify the type 'LineString', or assign to an empty array created with `np.empty(correct_shape, dtype=object)`.\n",
      "  a = np.array(\n"
     ]
    },
    {
     "name": "stdout",
     "output_type": "stream",
     "text": [
      "Chunk 37 processed sucessfully in 27.977357387542725 seconds.\n"
     ]
    },
    {
     "name": "stderr",
     "output_type": "stream",
     "text": [
      "/opt/conda/lib/python3.8/site-packages/dask_geopandas/backends.py:31: FutureWarning: The input object of type 'LineString' is an array-like implementing one of the corresponding protocols (`__array__`, `__array_interface__` or `__array_struct__`); but not a sequence (or 0-D). In the future, this object will be coerced as if it was first converted using `np.array(obj)`. To retain the old behaviour, you have to either modify the type 'LineString', or assign to an empty array created with `np.empty(correct_shape, dtype=object)`.\n",
      "  a = np.array(\n"
     ]
    },
    {
     "name": "stdout",
     "output_type": "stream",
     "text": [
      "Chunk 38 processed sucessfully in 224.82706594467163 seconds.\n"
     ]
    },
    {
     "name": "stderr",
     "output_type": "stream",
     "text": [
      "/opt/conda/lib/python3.8/site-packages/dask_geopandas/backends.py:31: FutureWarning: The input object of type 'LineString' is an array-like implementing one of the corresponding protocols (`__array__`, `__array_interface__` or `__array_struct__`); but not a sequence (or 0-D). In the future, this object will be coerced as if it was first converted using `np.array(obj)`. To retain the old behaviour, you have to either modify the type 'LineString', or assign to an empty array created with `np.empty(correct_shape, dtype=object)`.\n",
      "  a = np.array(\n"
     ]
    },
    {
     "name": "stdout",
     "output_type": "stream",
     "text": [
      "Chunk 39 processed sucessfully in 68.05412983894348 seconds.\n"
     ]
    },
    {
     "name": "stderr",
     "output_type": "stream",
     "text": [
      "/opt/conda/lib/python3.8/site-packages/dask_geopandas/backends.py:31: FutureWarning: The input object of type 'LineString' is an array-like implementing one of the corresponding protocols (`__array__`, `__array_interface__` or `__array_struct__`); but not a sequence (or 0-D). In the future, this object will be coerced as if it was first converted using `np.array(obj)`. To retain the old behaviour, you have to either modify the type 'LineString', or assign to an empty array created with `np.empty(correct_shape, dtype=object)`.\n",
      "  a = np.array(\n"
     ]
    },
    {
     "name": "stdout",
     "output_type": "stream",
     "text": [
      "Chunk 40 processed sucessfully in 65.66244673728943 seconds.\n"
     ]
    },
    {
     "name": "stderr",
     "output_type": "stream",
     "text": [
      "/opt/conda/lib/python3.8/site-packages/dask_geopandas/backends.py:31: FutureWarning: The input object of type 'LineString' is an array-like implementing one of the corresponding protocols (`__array__`, `__array_interface__` or `__array_struct__`); but not a sequence (or 0-D). In the future, this object will be coerced as if it was first converted using `np.array(obj)`. To retain the old behaviour, you have to either modify the type 'LineString', or assign to an empty array created with `np.empty(correct_shape, dtype=object)`.\n",
      "  a = np.array(\n"
     ]
    },
    {
     "name": "stdout",
     "output_type": "stream",
     "text": [
      "Chunk 41 processed sucessfully in 22.07956552505493 seconds.\n"
     ]
    },
    {
     "name": "stderr",
     "output_type": "stream",
     "text": [
      "/opt/conda/lib/python3.8/site-packages/dask_geopandas/backends.py:31: FutureWarning: The input object of type 'LineString' is an array-like implementing one of the corresponding protocols (`__array__`, `__array_interface__` or `__array_struct__`); but not a sequence (or 0-D). In the future, this object will be coerced as if it was first converted using `np.array(obj)`. To retain the old behaviour, you have to either modify the type 'LineString', or assign to an empty array created with `np.empty(correct_shape, dtype=object)`.\n",
      "  a = np.array(\n"
     ]
    },
    {
     "name": "stdout",
     "output_type": "stream",
     "text": [
      "Chunk 42 processed sucessfully in 90.9007716178894 seconds.\n"
     ]
    },
    {
     "name": "stderr",
     "output_type": "stream",
     "text": [
      "/opt/conda/lib/python3.8/site-packages/dask_geopandas/backends.py:31: FutureWarning: The input object of type 'LineString' is an array-like implementing one of the corresponding protocols (`__array__`, `__array_interface__` or `__array_struct__`); but not a sequence (or 0-D). In the future, this object will be coerced as if it was first converted using `np.array(obj)`. To retain the old behaviour, you have to either modify the type 'LineString', or assign to an empty array created with `np.empty(correct_shape, dtype=object)`.\n",
      "  a = np.array(\n"
     ]
    },
    {
     "name": "stdout",
     "output_type": "stream",
     "text": [
      "Chunk 43 processed sucessfully in 15.793612957000732 seconds.\n"
     ]
    },
    {
     "name": "stderr",
     "output_type": "stream",
     "text": [
      "/opt/conda/lib/python3.8/site-packages/dask_geopandas/backends.py:31: FutureWarning: The input object of type 'LineString' is an array-like implementing one of the corresponding protocols (`__array__`, `__array_interface__` or `__array_struct__`); but not a sequence (or 0-D). In the future, this object will be coerced as if it was first converted using `np.array(obj)`. To retain the old behaviour, you have to either modify the type 'LineString', or assign to an empty array created with `np.empty(correct_shape, dtype=object)`.\n",
      "  a = np.array(\n"
     ]
    },
    {
     "name": "stdout",
     "output_type": "stream",
     "text": [
      "Chunk 44 processed sucessfully in 13.336268901824951 seconds.\n"
     ]
    },
    {
     "name": "stderr",
     "output_type": "stream",
     "text": [
      "/opt/conda/lib/python3.8/site-packages/dask_geopandas/backends.py:31: FutureWarning: The input object of type 'LineString' is an array-like implementing one of the corresponding protocols (`__array__`, `__array_interface__` or `__array_struct__`); but not a sequence (or 0-D). In the future, this object will be coerced as if it was first converted using `np.array(obj)`. To retain the old behaviour, you have to either modify the type 'LineString', or assign to an empty array created with `np.empty(correct_shape, dtype=object)`.\n",
      "  a = np.array(\n"
     ]
    },
    {
     "name": "stdout",
     "output_type": "stream",
     "text": [
      "Chunk 45 processed sucessfully in 23.21897268295288 seconds.\n"
     ]
    },
    {
     "name": "stderr",
     "output_type": "stream",
     "text": [
      "/opt/conda/lib/python3.8/site-packages/dask_geopandas/backends.py:31: FutureWarning: The input object of type 'LineString' is an array-like implementing one of the corresponding protocols (`__array__`, `__array_interface__` or `__array_struct__`); but not a sequence (or 0-D). In the future, this object will be coerced as if it was first converted using `np.array(obj)`. To retain the old behaviour, you have to either modify the type 'LineString', or assign to an empty array created with `np.empty(correct_shape, dtype=object)`.\n",
      "  a = np.array(\n"
     ]
    },
    {
     "name": "stdout",
     "output_type": "stream",
     "text": [
      "Chunk 46 processed sucessfully in 55.5158896446228 seconds.\n"
     ]
    },
    {
     "name": "stderr",
     "output_type": "stream",
     "text": [
      "/opt/conda/lib/python3.8/site-packages/dask_geopandas/backends.py:31: FutureWarning: The input object of type 'LineString' is an array-like implementing one of the corresponding protocols (`__array__`, `__array_interface__` or `__array_struct__`); but not a sequence (or 0-D). In the future, this object will be coerced as if it was first converted using `np.array(obj)`. To retain the old behaviour, you have to either modify the type 'LineString', or assign to an empty array created with `np.empty(correct_shape, dtype=object)`.\n",
      "  a = np.array(\n"
     ]
    },
    {
     "name": "stdout",
     "output_type": "stream",
     "text": [
      "Chunk 47 processed sucessfully in 37.40347766876221 seconds.\n"
     ]
    },
    {
     "name": "stderr",
     "output_type": "stream",
     "text": [
      "/opt/conda/lib/python3.8/site-packages/dask_geopandas/backends.py:31: FutureWarning: The input object of type 'LineString' is an array-like implementing one of the corresponding protocols (`__array__`, `__array_interface__` or `__array_struct__`); but not a sequence (or 0-D). In the future, this object will be coerced as if it was first converted using `np.array(obj)`. To retain the old behaviour, you have to either modify the type 'LineString', or assign to an empty array created with `np.empty(correct_shape, dtype=object)`.\n",
      "  a = np.array(\n"
     ]
    },
    {
     "name": "stdout",
     "output_type": "stream",
     "text": [
      "Chunk 48 processed sucessfully in 126.36294674873352 seconds.\n"
     ]
    },
    {
     "name": "stderr",
     "output_type": "stream",
     "text": [
      "/opt/conda/lib/python3.8/site-packages/dask_geopandas/backends.py:31: FutureWarning: The input object of type 'LineString' is an array-like implementing one of the corresponding protocols (`__array__`, `__array_interface__` or `__array_struct__`); but not a sequence (or 0-D). In the future, this object will be coerced as if it was first converted using `np.array(obj)`. To retain the old behaviour, you have to either modify the type 'LineString', or assign to an empty array created with `np.empty(correct_shape, dtype=object)`.\n",
      "  a = np.array(\n"
     ]
    },
    {
     "name": "stdout",
     "output_type": "stream",
     "text": [
      "Chunk 49 processed sucessfully in 30.093411445617676 seconds.\n"
     ]
    },
    {
     "name": "stderr",
     "output_type": "stream",
     "text": [
      "/opt/conda/lib/python3.8/site-packages/dask_geopandas/backends.py:31: FutureWarning: The input object of type 'LineString' is an array-like implementing one of the corresponding protocols (`__array__`, `__array_interface__` or `__array_struct__`); but not a sequence (or 0-D). In the future, this object will be coerced as if it was first converted using `np.array(obj)`. To retain the old behaviour, you have to either modify the type 'LineString', or assign to an empty array created with `np.empty(correct_shape, dtype=object)`.\n",
      "  a = np.array(\n"
     ]
    },
    {
     "name": "stdout",
     "output_type": "stream",
     "text": [
      "Chunk 50 processed sucessfully in 33.95536017417908 seconds.\n"
     ]
    },
    {
     "name": "stderr",
     "output_type": "stream",
     "text": [
      "/opt/conda/lib/python3.8/site-packages/dask_geopandas/backends.py:31: FutureWarning: The input object of type 'LineString' is an array-like implementing one of the corresponding protocols (`__array__`, `__array_interface__` or `__array_struct__`); but not a sequence (or 0-D). In the future, this object will be coerced as if it was first converted using `np.array(obj)`. To retain the old behaviour, you have to either modify the type 'LineString', or assign to an empty array created with `np.empty(correct_shape, dtype=object)`.\n",
      "  a = np.array(\n"
     ]
    },
    {
     "name": "stdout",
     "output_type": "stream",
     "text": [
      "Chunk 51 processed sucessfully in 10.096921443939209 seconds.\n"
     ]
    },
    {
     "name": "stderr",
     "output_type": "stream",
     "text": [
      "/opt/conda/lib/python3.8/site-packages/dask_geopandas/backends.py:31: FutureWarning: The input object of type 'LineString' is an array-like implementing one of the corresponding protocols (`__array__`, `__array_interface__` or `__array_struct__`); but not a sequence (or 0-D). In the future, this object will be coerced as if it was first converted using `np.array(obj)`. To retain the old behaviour, you have to either modify the type 'LineString', or assign to an empty array created with `np.empty(correct_shape, dtype=object)`.\n",
      "  a = np.array(\n"
     ]
    },
    {
     "name": "stdout",
     "output_type": "stream",
     "text": [
      "Chunk 52 processed sucessfully in 24.450292825698853 seconds.\n"
     ]
    },
    {
     "name": "stderr",
     "output_type": "stream",
     "text": [
      "/opt/conda/lib/python3.8/site-packages/dask_geopandas/backends.py:31: FutureWarning: The input object of type 'LineString' is an array-like implementing one of the corresponding protocols (`__array__`, `__array_interface__` or `__array_struct__`); but not a sequence (or 0-D). In the future, this object will be coerced as if it was first converted using `np.array(obj)`. To retain the old behaviour, you have to either modify the type 'LineString', or assign to an empty array created with `np.empty(correct_shape, dtype=object)`.\n",
      "  a = np.array(\n"
     ]
    },
    {
     "name": "stdout",
     "output_type": "stream",
     "text": [
      "Chunk 53 processed sucessfully in 78.68081092834473 seconds.\n"
     ]
    },
    {
     "name": "stderr",
     "output_type": "stream",
     "text": [
      "/opt/conda/lib/python3.8/site-packages/dask_geopandas/backends.py:31: FutureWarning: The input object of type 'LineString' is an array-like implementing one of the corresponding protocols (`__array__`, `__array_interface__` or `__array_struct__`); but not a sequence (or 0-D). In the future, this object will be coerced as if it was first converted using `np.array(obj)`. To retain the old behaviour, you have to either modify the type 'LineString', or assign to an empty array created with `np.empty(correct_shape, dtype=object)`.\n",
      "  a = np.array(\n"
     ]
    },
    {
     "name": "stdout",
     "output_type": "stream",
     "text": [
      "Chunk 54 processed sucessfully in 59.39924621582031 seconds.\n"
     ]
    },
    {
     "name": "stderr",
     "output_type": "stream",
     "text": [
      "/opt/conda/lib/python3.8/site-packages/dask_geopandas/backends.py:31: FutureWarning: The input object of type 'LineString' is an array-like implementing one of the corresponding protocols (`__array__`, `__array_interface__` or `__array_struct__`); but not a sequence (or 0-D). In the future, this object will be coerced as if it was first converted using `np.array(obj)`. To retain the old behaviour, you have to either modify the type 'LineString', or assign to an empty array created with `np.empty(correct_shape, dtype=object)`.\n",
      "  a = np.array(\n"
     ]
    },
    {
     "name": "stdout",
     "output_type": "stream",
     "text": [
      "Chunk 55 processed sucessfully in 32.3205623626709 seconds.\n"
     ]
    },
    {
     "name": "stderr",
     "output_type": "stream",
     "text": [
      "/opt/conda/lib/python3.8/site-packages/dask_geopandas/backends.py:31: FutureWarning: The input object of type 'LineString' is an array-like implementing one of the corresponding protocols (`__array__`, `__array_interface__` or `__array_struct__`); but not a sequence (or 0-D). In the future, this object will be coerced as if it was first converted using `np.array(obj)`. To retain the old behaviour, you have to either modify the type 'LineString', or assign to an empty array created with `np.empty(correct_shape, dtype=object)`.\n",
      "  a = np.array(\n"
     ]
    },
    {
     "name": "stdout",
     "output_type": "stream",
     "text": [
      "Chunk 56 processed sucessfully in 22.943347215652466 seconds.\n"
     ]
    },
    {
     "name": "stderr",
     "output_type": "stream",
     "text": [
      "/opt/conda/lib/python3.8/site-packages/dask_geopandas/backends.py:31: FutureWarning: The input object of type 'LineString' is an array-like implementing one of the corresponding protocols (`__array__`, `__array_interface__` or `__array_struct__`); but not a sequence (or 0-D). In the future, this object will be coerced as if it was first converted using `np.array(obj)`. To retain the old behaviour, you have to either modify the type 'LineString', or assign to an empty array created with `np.empty(correct_shape, dtype=object)`.\n",
      "  a = np.array(\n"
     ]
    },
    {
     "name": "stdout",
     "output_type": "stream",
     "text": [
      "Chunk 57 processed sucessfully in 17.458800792694092 seconds.\n"
     ]
    },
    {
     "name": "stderr",
     "output_type": "stream",
     "text": [
      "/opt/conda/lib/python3.8/site-packages/dask_geopandas/backends.py:31: FutureWarning: The input object of type 'LineString' is an array-like implementing one of the corresponding protocols (`__array__`, `__array_interface__` or `__array_struct__`); but not a sequence (or 0-D). In the future, this object will be coerced as if it was first converted using `np.array(obj)`. To retain the old behaviour, you have to either modify the type 'LineString', or assign to an empty array created with `np.empty(correct_shape, dtype=object)`.\n",
      "  a = np.array(\n"
     ]
    },
    {
     "name": "stdout",
     "output_type": "stream",
     "text": [
      "Chunk 58 processed sucessfully in 42.03199028968811 seconds.\n"
     ]
    },
    {
     "name": "stderr",
     "output_type": "stream",
     "text": [
      "/opt/conda/lib/python3.8/site-packages/dask_geopandas/backends.py:31: FutureWarning: The input object of type 'LineString' is an array-like implementing one of the corresponding protocols (`__array__`, `__array_interface__` or `__array_struct__`); but not a sequence (or 0-D). In the future, this object will be coerced as if it was first converted using `np.array(obj)`. To retain the old behaviour, you have to either modify the type 'LineString', or assign to an empty array created with `np.empty(correct_shape, dtype=object)`.\n",
      "  a = np.array(\n"
     ]
    },
    {
     "name": "stdout",
     "output_type": "stream",
     "text": [
      "Chunk 59 processed sucessfully in 42.75125980377197 seconds.\n"
     ]
    },
    {
     "name": "stderr",
     "output_type": "stream",
     "text": [
      "/opt/conda/lib/python3.8/site-packages/dask_geopandas/backends.py:31: FutureWarning: The input object of type 'LineString' is an array-like implementing one of the corresponding protocols (`__array__`, `__array_interface__` or `__array_struct__`); but not a sequence (or 0-D). In the future, this object will be coerced as if it was first converted using `np.array(obj)`. To retain the old behaviour, you have to either modify the type 'LineString', or assign to an empty array created with `np.empty(correct_shape, dtype=object)`.\n",
      "  a = np.array(\n"
     ]
    },
    {
     "name": "stdout",
     "output_type": "stream",
     "text": [
      "Chunk 60 processed sucessfully in 37.35565733909607 seconds.\n"
     ]
    },
    {
     "name": "stderr",
     "output_type": "stream",
     "text": [
      "/opt/conda/lib/python3.8/site-packages/dask_geopandas/backends.py:31: FutureWarning: The input object of type 'LineString' is an array-like implementing one of the corresponding protocols (`__array__`, `__array_interface__` or `__array_struct__`); but not a sequence (or 0-D). In the future, this object will be coerced as if it was first converted using `np.array(obj)`. To retain the old behaviour, you have to either modify the type 'LineString', or assign to an empty array created with `np.empty(correct_shape, dtype=object)`.\n",
      "  a = np.array(\n"
     ]
    },
    {
     "name": "stdout",
     "output_type": "stream",
     "text": [
      "Chunk 61 processed sucessfully in 129.34060668945312 seconds.\n"
     ]
    },
    {
     "name": "stderr",
     "output_type": "stream",
     "text": [
      "/opt/conda/lib/python3.8/site-packages/dask_geopandas/backends.py:31: FutureWarning: The input object of type 'LineString' is an array-like implementing one of the corresponding protocols (`__array__`, `__array_interface__` or `__array_struct__`); but not a sequence (or 0-D). In the future, this object will be coerced as if it was first converted using `np.array(obj)`. To retain the old behaviour, you have to either modify the type 'LineString', or assign to an empty array created with `np.empty(correct_shape, dtype=object)`.\n",
      "  a = np.array(\n"
     ]
    },
    {
     "name": "stdout",
     "output_type": "stream",
     "text": [
      "Chunk 62 processed sucessfully in 28.503572940826416 seconds.\n"
     ]
    },
    {
     "name": "stderr",
     "output_type": "stream",
     "text": [
      "/opt/conda/lib/python3.8/site-packages/dask_geopandas/backends.py:31: FutureWarning: The input object of type 'LineString' is an array-like implementing one of the corresponding protocols (`__array__`, `__array_interface__` or `__array_struct__`); but not a sequence (or 0-D). In the future, this object will be coerced as if it was first converted using `np.array(obj)`. To retain the old behaviour, you have to either modify the type 'LineString', or assign to an empty array created with `np.empty(correct_shape, dtype=object)`.\n",
      "  a = np.array(\n"
     ]
    },
    {
     "name": "stdout",
     "output_type": "stream",
     "text": [
      "Chunk 63 processed sucessfully in 15.832542896270752 seconds.\n"
     ]
    },
    {
     "name": "stderr",
     "output_type": "stream",
     "text": [
      "/opt/conda/lib/python3.8/site-packages/dask_geopandas/backends.py:31: FutureWarning: The input object of type 'LineString' is an array-like implementing one of the corresponding protocols (`__array__`, `__array_interface__` or `__array_struct__`); but not a sequence (or 0-D). In the future, this object will be coerced as if it was first converted using `np.array(obj)`. To retain the old behaviour, you have to either modify the type 'LineString', or assign to an empty array created with `np.empty(correct_shape, dtype=object)`.\n",
      "  a = np.array(\n"
     ]
    },
    {
     "name": "stdout",
     "output_type": "stream",
     "text": [
      "Chunk 64 processed sucessfully in 90.61631035804749 seconds.\n"
     ]
    },
    {
     "name": "stderr",
     "output_type": "stream",
     "text": [
      "/opt/conda/lib/python3.8/site-packages/dask_geopandas/backends.py:31: FutureWarning: The input object of type 'LineString' is an array-like implementing one of the corresponding protocols (`__array__`, `__array_interface__` or `__array_struct__`); but not a sequence (or 0-D). In the future, this object will be coerced as if it was first converted using `np.array(obj)`. To retain the old behaviour, you have to either modify the type 'LineString', or assign to an empty array created with `np.empty(correct_shape, dtype=object)`.\n",
      "  a = np.array(\n"
     ]
    },
    {
     "name": "stdout",
     "output_type": "stream",
     "text": [
      "Chunk 65 processed sucessfully in 45.89105296134949 seconds.\n"
     ]
    },
    {
     "name": "stderr",
     "output_type": "stream",
     "text": [
      "/opt/conda/lib/python3.8/site-packages/dask_geopandas/backends.py:31: FutureWarning: The input object of type 'LineString' is an array-like implementing one of the corresponding protocols (`__array__`, `__array_interface__` or `__array_struct__`); but not a sequence (or 0-D). In the future, this object will be coerced as if it was first converted using `np.array(obj)`. To retain the old behaviour, you have to either modify the type 'LineString', or assign to an empty array created with `np.empty(correct_shape, dtype=object)`.\n",
      "  a = np.array(\n"
     ]
    },
    {
     "name": "stdout",
     "output_type": "stream",
     "text": [
      "Chunk 66 processed sucessfully in 127.9205219745636 seconds.\n"
     ]
    },
    {
     "name": "stderr",
     "output_type": "stream",
     "text": [
      "/opt/conda/lib/python3.8/site-packages/dask_geopandas/backends.py:31: FutureWarning: The input object of type 'LineString' is an array-like implementing one of the corresponding protocols (`__array__`, `__array_interface__` or `__array_struct__`); but not a sequence (or 0-D). In the future, this object will be coerced as if it was first converted using `np.array(obj)`. To retain the old behaviour, you have to either modify the type 'LineString', or assign to an empty array created with `np.empty(correct_shape, dtype=object)`.\n",
      "  a = np.array(\n"
     ]
    },
    {
     "name": "stdout",
     "output_type": "stream",
     "text": [
      "Chunk 67 processed sucessfully in 120.23514771461487 seconds.\n"
     ]
    },
    {
     "name": "stderr",
     "output_type": "stream",
     "text": [
      "/opt/conda/lib/python3.8/site-packages/dask_geopandas/backends.py:31: FutureWarning: The input object of type 'LineString' is an array-like implementing one of the corresponding protocols (`__array__`, `__array_interface__` or `__array_struct__`); but not a sequence (or 0-D). In the future, this object will be coerced as if it was first converted using `np.array(obj)`. To retain the old behaviour, you have to either modify the type 'LineString', or assign to an empty array created with `np.empty(correct_shape, dtype=object)`.\n",
      "  a = np.array(\n"
     ]
    },
    {
     "name": "stdout",
     "output_type": "stream",
     "text": [
      "Chunk 68 processed sucessfully in 37.70616149902344 seconds.\n"
     ]
    },
    {
     "name": "stderr",
     "output_type": "stream",
     "text": [
      "/opt/conda/lib/python3.8/site-packages/dask_geopandas/backends.py:31: FutureWarning: The input object of type 'LineString' is an array-like implementing one of the corresponding protocols (`__array__`, `__array_interface__` or `__array_struct__`); but not a sequence (or 0-D). In the future, this object will be coerced as if it was first converted using `np.array(obj)`. To retain the old behaviour, you have to either modify the type 'LineString', or assign to an empty array created with `np.empty(correct_shape, dtype=object)`.\n",
      "  a = np.array(\n"
     ]
    },
    {
     "name": "stdout",
     "output_type": "stream",
     "text": [
      "Chunk 69 processed sucessfully in 72.71402263641357 seconds.\n"
     ]
    },
    {
     "name": "stderr",
     "output_type": "stream",
     "text": [
      "/opt/conda/lib/python3.8/site-packages/dask_geopandas/backends.py:31: FutureWarning: The input object of type 'LineString' is an array-like implementing one of the corresponding protocols (`__array__`, `__array_interface__` or `__array_struct__`); but not a sequence (or 0-D). In the future, this object will be coerced as if it was first converted using `np.array(obj)`. To retain the old behaviour, you have to either modify the type 'LineString', or assign to an empty array created with `np.empty(correct_shape, dtype=object)`.\n",
      "  a = np.array(\n"
     ]
    },
    {
     "name": "stdout",
     "output_type": "stream",
     "text": [
      "Chunk 70 processed sucessfully in 18.224586248397827 seconds.\n"
     ]
    },
    {
     "name": "stderr",
     "output_type": "stream",
     "text": [
      "/opt/conda/lib/python3.8/site-packages/dask_geopandas/backends.py:31: FutureWarning: The input object of type 'LineString' is an array-like implementing one of the corresponding protocols (`__array__`, `__array_interface__` or `__array_struct__`); but not a sequence (or 0-D). In the future, this object will be coerced as if it was first converted using `np.array(obj)`. To retain the old behaviour, you have to either modify the type 'LineString', or assign to an empty array created with `np.empty(correct_shape, dtype=object)`.\n",
      "  a = np.array(\n"
     ]
    },
    {
     "name": "stdout",
     "output_type": "stream",
     "text": [
      "Chunk 71 processed sucessfully in 189.8400275707245 seconds.\n"
     ]
    },
    {
     "name": "stderr",
     "output_type": "stream",
     "text": [
      "/opt/conda/lib/python3.8/site-packages/dask_geopandas/backends.py:31: FutureWarning: The input object of type 'LineString' is an array-like implementing one of the corresponding protocols (`__array__`, `__array_interface__` or `__array_struct__`); but not a sequence (or 0-D). In the future, this object will be coerced as if it was first converted using `np.array(obj)`. To retain the old behaviour, you have to either modify the type 'LineString', or assign to an empty array created with `np.empty(correct_shape, dtype=object)`.\n",
      "  a = np.array(\n"
     ]
    },
    {
     "name": "stdout",
     "output_type": "stream",
     "text": [
      "Chunk 72 processed sucessfully in 35.05113673210144 seconds.\n"
     ]
    },
    {
     "name": "stderr",
     "output_type": "stream",
     "text": [
      "/opt/conda/lib/python3.8/site-packages/dask_geopandas/backends.py:31: FutureWarning: The input object of type 'LineString' is an array-like implementing one of the corresponding protocols (`__array__`, `__array_interface__` or `__array_struct__`); but not a sequence (or 0-D). In the future, this object will be coerced as if it was first converted using `np.array(obj)`. To retain the old behaviour, you have to either modify the type 'LineString', or assign to an empty array created with `np.empty(correct_shape, dtype=object)`.\n",
      "  a = np.array(\n"
     ]
    },
    {
     "name": "stdout",
     "output_type": "stream",
     "text": [
      "Chunk 73 processed sucessfully in 139.2181613445282 seconds.\n"
     ]
    },
    {
     "name": "stderr",
     "output_type": "stream",
     "text": [
      "/opt/conda/lib/python3.8/site-packages/dask_geopandas/backends.py:31: FutureWarning: The input object of type 'LineString' is an array-like implementing one of the corresponding protocols (`__array__`, `__array_interface__` or `__array_struct__`); but not a sequence (or 0-D). In the future, this object will be coerced as if it was first converted using `np.array(obj)`. To retain the old behaviour, you have to either modify the type 'LineString', or assign to an empty array created with `np.empty(correct_shape, dtype=object)`.\n",
      "  a = np.array(\n"
     ]
    },
    {
     "name": "stdout",
     "output_type": "stream",
     "text": [
      "Chunk 74 processed sucessfully in 50.77099657058716 seconds.\n"
     ]
    },
    {
     "name": "stderr",
     "output_type": "stream",
     "text": [
      "/opt/conda/lib/python3.8/site-packages/dask_geopandas/backends.py:31: FutureWarning: The input object of type 'LineString' is an array-like implementing one of the corresponding protocols (`__array__`, `__array_interface__` or `__array_struct__`); but not a sequence (or 0-D). In the future, this object will be coerced as if it was first converted using `np.array(obj)`. To retain the old behaviour, you have to either modify the type 'LineString', or assign to an empty array created with `np.empty(correct_shape, dtype=object)`.\n",
      "  a = np.array(\n"
     ]
    },
    {
     "name": "stdout",
     "output_type": "stream",
     "text": [
      "Chunk 75 processed sucessfully in 65.76493215560913 seconds.\n"
     ]
    },
    {
     "name": "stderr",
     "output_type": "stream",
     "text": [
      "/opt/conda/lib/python3.8/site-packages/dask_geopandas/backends.py:31: FutureWarning: The input object of type 'LineString' is an array-like implementing one of the corresponding protocols (`__array__`, `__array_interface__` or `__array_struct__`); but not a sequence (or 0-D). In the future, this object will be coerced as if it was first converted using `np.array(obj)`. To retain the old behaviour, you have to either modify the type 'LineString', or assign to an empty array created with `np.empty(correct_shape, dtype=object)`.\n",
      "  a = np.array(\n"
     ]
    },
    {
     "name": "stdout",
     "output_type": "stream",
     "text": [
      "Chunk 76 processed sucessfully in 51.584426164627075 seconds.\n"
     ]
    },
    {
     "name": "stderr",
     "output_type": "stream",
     "text": [
      "/opt/conda/lib/python3.8/site-packages/dask_geopandas/backends.py:31: FutureWarning: The input object of type 'LineString' is an array-like implementing one of the corresponding protocols (`__array__`, `__array_interface__` or `__array_struct__`); but not a sequence (or 0-D). In the future, this object will be coerced as if it was first converted using `np.array(obj)`. To retain the old behaviour, you have to either modify the type 'LineString', or assign to an empty array created with `np.empty(correct_shape, dtype=object)`.\n",
      "  a = np.array(\n"
     ]
    },
    {
     "name": "stdout",
     "output_type": "stream",
     "text": [
      "Chunk 77 processed sucessfully in 53.522892236709595 seconds.\n"
     ]
    },
    {
     "name": "stderr",
     "output_type": "stream",
     "text": [
      "/opt/conda/lib/python3.8/site-packages/dask_geopandas/backends.py:31: FutureWarning: The input object of type 'LineString' is an array-like implementing one of the corresponding protocols (`__array__`, `__array_interface__` or `__array_struct__`); but not a sequence (or 0-D). In the future, this object will be coerced as if it was first converted using `np.array(obj)`. To retain the old behaviour, you have to either modify the type 'LineString', or assign to an empty array created with `np.empty(correct_shape, dtype=object)`.\n",
      "  a = np.array(\n"
     ]
    },
    {
     "name": "stdout",
     "output_type": "stream",
     "text": [
      "Chunk 78 processed sucessfully in 47.52160692214966 seconds.\n"
     ]
    },
    {
     "name": "stderr",
     "output_type": "stream",
     "text": [
      "/opt/conda/lib/python3.8/site-packages/dask_geopandas/backends.py:31: FutureWarning: The input object of type 'LineString' is an array-like implementing one of the corresponding protocols (`__array__`, `__array_interface__` or `__array_struct__`); but not a sequence (or 0-D). In the future, this object will be coerced as if it was first converted using `np.array(obj)`. To retain the old behaviour, you have to either modify the type 'LineString', or assign to an empty array created with `np.empty(correct_shape, dtype=object)`.\n",
      "  a = np.array(\n"
     ]
    },
    {
     "name": "stdout",
     "output_type": "stream",
     "text": [
      "Chunk 79 processed sucessfully in 19.825929164886475 seconds.\n"
     ]
    },
    {
     "name": "stderr",
     "output_type": "stream",
     "text": [
      "/opt/conda/lib/python3.8/site-packages/dask_geopandas/backends.py:31: FutureWarning: The input object of type 'LineString' is an array-like implementing one of the corresponding protocols (`__array__`, `__array_interface__` or `__array_struct__`); but not a sequence (or 0-D). In the future, this object will be coerced as if it was first converted using `np.array(obj)`. To retain the old behaviour, you have to either modify the type 'LineString', or assign to an empty array created with `np.empty(correct_shape, dtype=object)`.\n",
      "  a = np.array(\n"
     ]
    },
    {
     "name": "stdout",
     "output_type": "stream",
     "text": [
      "Chunk 80 processed sucessfully in 30.792400598526 seconds.\n"
     ]
    },
    {
     "name": "stderr",
     "output_type": "stream",
     "text": [
      "/opt/conda/lib/python3.8/site-packages/dask_geopandas/backends.py:31: FutureWarning: The input object of type 'LineString' is an array-like implementing one of the corresponding protocols (`__array__`, `__array_interface__` or `__array_struct__`); but not a sequence (or 0-D). In the future, this object will be coerced as if it was first converted using `np.array(obj)`. To retain the old behaviour, you have to either modify the type 'LineString', or assign to an empty array created with `np.empty(correct_shape, dtype=object)`.\n",
      "  a = np.array(\n"
     ]
    },
    {
     "name": "stdout",
     "output_type": "stream",
     "text": [
      "Chunk 81 processed sucessfully in 19.92421293258667 seconds.\n"
     ]
    },
    {
     "name": "stderr",
     "output_type": "stream",
     "text": [
      "/opt/conda/lib/python3.8/site-packages/dask_geopandas/backends.py:31: FutureWarning: The input object of type 'LineString' is an array-like implementing one of the corresponding protocols (`__array__`, `__array_interface__` or `__array_struct__`); but not a sequence (or 0-D). In the future, this object will be coerced as if it was first converted using `np.array(obj)`. To retain the old behaviour, you have to either modify the type 'LineString', or assign to an empty array created with `np.empty(correct_shape, dtype=object)`.\n",
      "  a = np.array(\n"
     ]
    },
    {
     "name": "stdout",
     "output_type": "stream",
     "text": [
      "Chunk 82 processed sucessfully in 36.21914768218994 seconds.\n"
     ]
    },
    {
     "name": "stderr",
     "output_type": "stream",
     "text": [
      "/opt/conda/lib/python3.8/site-packages/dask_geopandas/backends.py:31: FutureWarning: The input object of type 'LineString' is an array-like implementing one of the corresponding protocols (`__array__`, `__array_interface__` or `__array_struct__`); but not a sequence (or 0-D). In the future, this object will be coerced as if it was first converted using `np.array(obj)`. To retain the old behaviour, you have to either modify the type 'LineString', or assign to an empty array created with `np.empty(correct_shape, dtype=object)`.\n",
      "  a = np.array(\n"
     ]
    },
    {
     "name": "stdout",
     "output_type": "stream",
     "text": [
      "Chunk 83 processed sucessfully in 175.30663919448853 seconds.\n"
     ]
    },
    {
     "name": "stderr",
     "output_type": "stream",
     "text": [
      "/opt/conda/lib/python3.8/site-packages/dask_geopandas/backends.py:31: FutureWarning: The input object of type 'LineString' is an array-like implementing one of the corresponding protocols (`__array__`, `__array_interface__` or `__array_struct__`); but not a sequence (or 0-D). In the future, this object will be coerced as if it was first converted using `np.array(obj)`. To retain the old behaviour, you have to either modify the type 'LineString', or assign to an empty array created with `np.empty(correct_shape, dtype=object)`.\n",
      "  a = np.array(\n"
     ]
    },
    {
     "name": "stdout",
     "output_type": "stream",
     "text": [
      "Chunk 84 processed sucessfully in 64.89760637283325 seconds.\n"
     ]
    },
    {
     "name": "stderr",
     "output_type": "stream",
     "text": [
      "/opt/conda/lib/python3.8/site-packages/dask_geopandas/backends.py:31: FutureWarning: The input object of type 'LineString' is an array-like implementing one of the corresponding protocols (`__array__`, `__array_interface__` or `__array_struct__`); but not a sequence (or 0-D). In the future, this object will be coerced as if it was first converted using `np.array(obj)`. To retain the old behaviour, you have to either modify the type 'LineString', or assign to an empty array created with `np.empty(correct_shape, dtype=object)`.\n",
      "  a = np.array(\n"
     ]
    },
    {
     "name": "stdout",
     "output_type": "stream",
     "text": [
      "Chunk 85 processed sucessfully in 80.92152333259583 seconds.\n"
     ]
    },
    {
     "name": "stderr",
     "output_type": "stream",
     "text": [
      "/opt/conda/lib/python3.8/site-packages/dask_geopandas/backends.py:31: FutureWarning: The input object of type 'LineString' is an array-like implementing one of the corresponding protocols (`__array__`, `__array_interface__` or `__array_struct__`); but not a sequence (or 0-D). In the future, this object will be coerced as if it was first converted using `np.array(obj)`. To retain the old behaviour, you have to either modify the type 'LineString', or assign to an empty array created with `np.empty(correct_shape, dtype=object)`.\n",
      "  a = np.array(\n"
     ]
    },
    {
     "name": "stdout",
     "output_type": "stream",
     "text": [
      "Chunk 86 processed sucessfully in 30.077708959579468 seconds.\n"
     ]
    },
    {
     "name": "stderr",
     "output_type": "stream",
     "text": [
      "/opt/conda/lib/python3.8/site-packages/dask_geopandas/backends.py:31: FutureWarning: The input object of type 'LineString' is an array-like implementing one of the corresponding protocols (`__array__`, `__array_interface__` or `__array_struct__`); but not a sequence (or 0-D). In the future, this object will be coerced as if it was first converted using `np.array(obj)`. To retain the old behaviour, you have to either modify the type 'LineString', or assign to an empty array created with `np.empty(correct_shape, dtype=object)`.\n",
      "  a = np.array(\n"
     ]
    },
    {
     "name": "stdout",
     "output_type": "stream",
     "text": [
      "Chunk 87 processed sucessfully in 267.03305554389954 seconds.\n"
     ]
    },
    {
     "name": "stderr",
     "output_type": "stream",
     "text": [
      "/opt/conda/lib/python3.8/site-packages/dask_geopandas/backends.py:31: FutureWarning: The input object of type 'LineString' is an array-like implementing one of the corresponding protocols (`__array__`, `__array_interface__` or `__array_struct__`); but not a sequence (or 0-D). In the future, this object will be coerced as if it was first converted using `np.array(obj)`. To retain the old behaviour, you have to either modify the type 'LineString', or assign to an empty array created with `np.empty(correct_shape, dtype=object)`.\n",
      "  a = np.array(\n"
     ]
    },
    {
     "name": "stdout",
     "output_type": "stream",
     "text": [
      "Chunk 88 processed sucessfully in 42.7241907119751 seconds.\n"
     ]
    },
    {
     "name": "stderr",
     "output_type": "stream",
     "text": [
      "/opt/conda/lib/python3.8/site-packages/dask_geopandas/backends.py:31: FutureWarning: The input object of type 'LineString' is an array-like implementing one of the corresponding protocols (`__array__`, `__array_interface__` or `__array_struct__`); but not a sequence (or 0-D). In the future, this object will be coerced as if it was first converted using `np.array(obj)`. To retain the old behaviour, you have to either modify the type 'LineString', or assign to an empty array created with `np.empty(correct_shape, dtype=object)`.\n",
      "  a = np.array(\n"
     ]
    },
    {
     "name": "stdout",
     "output_type": "stream",
     "text": [
      "Chunk 89 processed sucessfully in 84.39536690711975 seconds.\n"
     ]
    },
    {
     "name": "stderr",
     "output_type": "stream",
     "text": [
      "/opt/conda/lib/python3.8/site-packages/dask_geopandas/backends.py:31: FutureWarning: The input object of type 'LineString' is an array-like implementing one of the corresponding protocols (`__array__`, `__array_interface__` or `__array_struct__`); but not a sequence (or 0-D). In the future, this object will be coerced as if it was first converted using `np.array(obj)`. To retain the old behaviour, you have to either modify the type 'LineString', or assign to an empty array created with `np.empty(correct_shape, dtype=object)`.\n",
      "  a = np.array(\n"
     ]
    },
    {
     "name": "stdout",
     "output_type": "stream",
     "text": [
      "Chunk 90 processed sucessfully in 31.87593388557434 seconds.\n"
     ]
    },
    {
     "name": "stderr",
     "output_type": "stream",
     "text": [
      "/opt/conda/lib/python3.8/site-packages/dask_geopandas/backends.py:31: FutureWarning: The input object of type 'LineString' is an array-like implementing one of the corresponding protocols (`__array__`, `__array_interface__` or `__array_struct__`); but not a sequence (or 0-D). In the future, this object will be coerced as if it was first converted using `np.array(obj)`. To retain the old behaviour, you have to either modify the type 'LineString', or assign to an empty array created with `np.empty(correct_shape, dtype=object)`.\n",
      "  a = np.array(\n"
     ]
    },
    {
     "name": "stdout",
     "output_type": "stream",
     "text": [
      "Chunk 91 processed sucessfully in 93.81584119796753 seconds.\n"
     ]
    },
    {
     "name": "stderr",
     "output_type": "stream",
     "text": [
      "/opt/conda/lib/python3.8/site-packages/dask_geopandas/backends.py:31: FutureWarning: The input object of type 'LineString' is an array-like implementing one of the corresponding protocols (`__array__`, `__array_interface__` or `__array_struct__`); but not a sequence (or 0-D). In the future, this object will be coerced as if it was first converted using `np.array(obj)`. To retain the old behaviour, you have to either modify the type 'LineString', or assign to an empty array created with `np.empty(correct_shape, dtype=object)`.\n",
      "  a = np.array(\n"
     ]
    },
    {
     "name": "stdout",
     "output_type": "stream",
     "text": [
      "Chunk 92 processed sucessfully in 60.27356839179993 seconds.\n"
     ]
    },
    {
     "name": "stderr",
     "output_type": "stream",
     "text": [
      "/opt/conda/lib/python3.8/site-packages/dask_geopandas/backends.py:31: FutureWarning: The input object of type 'LineString' is an array-like implementing one of the corresponding protocols (`__array__`, `__array_interface__` or `__array_struct__`); but not a sequence (or 0-D). In the future, this object will be coerced as if it was first converted using `np.array(obj)`. To retain the old behaviour, you have to either modify the type 'LineString', or assign to an empty array created with `np.empty(correct_shape, dtype=object)`.\n",
      "  a = np.array(\n"
     ]
    },
    {
     "name": "stdout",
     "output_type": "stream",
     "text": [
      "Chunk 93 processed sucessfully in 34.05999040603638 seconds.\n"
     ]
    },
    {
     "name": "stderr",
     "output_type": "stream",
     "text": [
      "/opt/conda/lib/python3.8/site-packages/dask_geopandas/backends.py:31: FutureWarning: The input object of type 'LineString' is an array-like implementing one of the corresponding protocols (`__array__`, `__array_interface__` or `__array_struct__`); but not a sequence (or 0-D). In the future, this object will be coerced as if it was first converted using `np.array(obj)`. To retain the old behaviour, you have to either modify the type 'LineString', or assign to an empty array created with `np.empty(correct_shape, dtype=object)`.\n",
      "  a = np.array(\n"
     ]
    },
    {
     "name": "stdout",
     "output_type": "stream",
     "text": [
      "Chunk 94 processed sucessfully in 57.33334016799927 seconds.\n"
     ]
    },
    {
     "name": "stderr",
     "output_type": "stream",
     "text": [
      "/opt/conda/lib/python3.8/site-packages/dask_geopandas/backends.py:31: FutureWarning: The input object of type 'LineString' is an array-like implementing one of the corresponding protocols (`__array__`, `__array_interface__` or `__array_struct__`); but not a sequence (or 0-D). In the future, this object will be coerced as if it was first converted using `np.array(obj)`. To retain the old behaviour, you have to either modify the type 'LineString', or assign to an empty array created with `np.empty(correct_shape, dtype=object)`.\n",
      "  a = np.array(\n"
     ]
    },
    {
     "name": "stdout",
     "output_type": "stream",
     "text": [
      "Chunk 95 processed sucessfully in 75.45840859413147 seconds.\n"
     ]
    },
    {
     "name": "stderr",
     "output_type": "stream",
     "text": [
      "/opt/conda/lib/python3.8/site-packages/dask_geopandas/backends.py:31: FutureWarning: The input object of type 'LineString' is an array-like implementing one of the corresponding protocols (`__array__`, `__array_interface__` or `__array_struct__`); but not a sequence (or 0-D). In the future, this object will be coerced as if it was first converted using `np.array(obj)`. To retain the old behaviour, you have to either modify the type 'LineString', or assign to an empty array created with `np.empty(correct_shape, dtype=object)`.\n",
      "  a = np.array(\n"
     ]
    },
    {
     "name": "stdout",
     "output_type": "stream",
     "text": [
      "Chunk 96 processed sucessfully in 25.714704513549805 seconds.\n"
     ]
    },
    {
     "name": "stderr",
     "output_type": "stream",
     "text": [
      "/opt/conda/lib/python3.8/site-packages/dask_geopandas/backends.py:31: FutureWarning: The input object of type 'LineString' is an array-like implementing one of the corresponding protocols (`__array__`, `__array_interface__` or `__array_struct__`); but not a sequence (or 0-D). In the future, this object will be coerced as if it was first converted using `np.array(obj)`. To retain the old behaviour, you have to either modify the type 'LineString', or assign to an empty array created with `np.empty(correct_shape, dtype=object)`.\n",
      "  a = np.array(\n"
     ]
    },
    {
     "name": "stdout",
     "output_type": "stream",
     "text": [
      "Chunk 97 processed sucessfully in 150.45864415168762 seconds.\n"
     ]
    },
    {
     "name": "stderr",
     "output_type": "stream",
     "text": [
      "/opt/conda/lib/python3.8/site-packages/dask_geopandas/backends.py:31: FutureWarning: The input object of type 'LineString' is an array-like implementing one of the corresponding protocols (`__array__`, `__array_interface__` or `__array_struct__`); but not a sequence (or 0-D). In the future, this object will be coerced as if it was first converted using `np.array(obj)`. To retain the old behaviour, you have to either modify the type 'LineString', or assign to an empty array created with `np.empty(correct_shape, dtype=object)`.\n",
      "  a = np.array(\n"
     ]
    },
    {
     "name": "stdout",
     "output_type": "stream",
     "text": [
      "Chunk 98 processed sucessfully in 53.51958727836609 seconds.\n"
     ]
    },
    {
     "name": "stderr",
     "output_type": "stream",
     "text": [
      "/opt/conda/lib/python3.8/site-packages/dask_geopandas/backends.py:31: FutureWarning: The input object of type 'LineString' is an array-like implementing one of the corresponding protocols (`__array__`, `__array_interface__` or `__array_struct__`); but not a sequence (or 0-D). In the future, this object will be coerced as if it was first converted using `np.array(obj)`. To retain the old behaviour, you have to either modify the type 'LineString', or assign to an empty array created with `np.empty(correct_shape, dtype=object)`.\n",
      "  a = np.array(\n"
     ]
    },
    {
     "name": "stdout",
     "output_type": "stream",
     "text": [
      "Chunk 99 processed sucessfully in 44.32690238952637 seconds.\n"
     ]
    },
    {
     "name": "stderr",
     "output_type": "stream",
     "text": [
      "/opt/conda/lib/python3.8/site-packages/dask_geopandas/backends.py:31: FutureWarning: The input object of type 'LineString' is an array-like implementing one of the corresponding protocols (`__array__`, `__array_interface__` or `__array_struct__`); but not a sequence (or 0-D). In the future, this object will be coerced as if it was first converted using `np.array(obj)`. To retain the old behaviour, you have to either modify the type 'LineString', or assign to an empty array created with `np.empty(correct_shape, dtype=object)`.\n",
      "  a = np.array(\n"
     ]
    },
    {
     "name": "stdout",
     "output_type": "stream",
     "text": [
      "Chunk 100 processed sucessfully in 117.08002710342407 seconds.\n"
     ]
    },
    {
     "name": "stderr",
     "output_type": "stream",
     "text": [
      "/opt/conda/lib/python3.8/site-packages/dask_geopandas/backends.py:31: FutureWarning: The input object of type 'LineString' is an array-like implementing one of the corresponding protocols (`__array__`, `__array_interface__` or `__array_struct__`); but not a sequence (or 0-D). In the future, this object will be coerced as if it was first converted using `np.array(obj)`. To retain the old behaviour, you have to either modify the type 'LineString', or assign to an empty array created with `np.empty(correct_shape, dtype=object)`.\n",
      "  a = np.array(\n"
     ]
    },
    {
     "name": "stdout",
     "output_type": "stream",
     "text": [
      "Chunk 101 processed sucessfully in 47.73750948905945 seconds.\n"
     ]
    },
    {
     "name": "stderr",
     "output_type": "stream",
     "text": [
      "/opt/conda/lib/python3.8/site-packages/dask_geopandas/backends.py:31: FutureWarning: The input object of type 'LineString' is an array-like implementing one of the corresponding protocols (`__array__`, `__array_interface__` or `__array_struct__`); but not a sequence (or 0-D). In the future, this object will be coerced as if it was first converted using `np.array(obj)`. To retain the old behaviour, you have to either modify the type 'LineString', or assign to an empty array created with `np.empty(correct_shape, dtype=object)`.\n",
      "  a = np.array(\n"
     ]
    },
    {
     "name": "stdout",
     "output_type": "stream",
     "text": [
      "Chunk 102 processed sucessfully in 58.08854627609253 seconds.\n"
     ]
    }
   ],
   "source": [
    "for chunk_id in range(103):\n",
    "    s = time()\n",
    "    chunk = gpd.read_parquet(f\"../../urbangrammar_samba/spatial_signatures/tessellation/tess_{chunk_id}.pq\", columns=[\"hindex\", \"tessellation\"])\n",
    "    xmin, ymin, xmax, ymax = chunk.total_bounds\n",
    "    ests = _dask_area_interpolate(corine.cx[xmin:xmax, ymin:ymax], chunk, categorical_variables=[\"Code_18\"])\n",
    "    ests['hindex'] = chunk.hindex.values\n",
    "    ests.to_parquet(f\"../../urbangrammar_samba/spatial_signatures/functional/corine/corine_{chunk_id}.pq\")\n",
    "    print(f\"Chunk {chunk_id} processed sucessfully in {time() - s} seconds.\")"
   ]
  },
  {
   "cell_type": "markdown",
   "id": "balanced-cooler",
   "metadata": {},
   "source": [
    "## Retail centres"
   ]
  },
  {
   "cell_type": "code",
   "execution_count": 3,
   "id": "potential-foundation",
   "metadata": {},
   "outputs": [
    {
     "name": "stderr",
     "output_type": "stream",
     "text": [
      "/opt/conda/lib/python3.8/site-packages/geopandas/geodataframe.py:577: RuntimeWarning: Sequential read of iterator was interrupted. Resetting iterator. This can negatively impact the performance.\n",
      "  for feature in features_lst:\n"
     ]
    }
   ],
   "source": [
    "retail = gpd.read_file(\"../../urbangrammar_samba/functional_data/retail_centres/Pre Release.zip!Retail_Centres_UK.gpkg\")"
   ]
  },
  {
   "cell_type": "code",
   "execution_count": 4,
   "id": "extended-stick",
   "metadata": {},
   "outputs": [
    {
     "data": {
      "text/html": [
       "<table style=\"border: 2px solid white;\">\n",
       "<tr>\n",
       "<td style=\"vertical-align: top; border: 0px solid white\">\n",
       "<h3 style=\"text-align: left;\">Client</h3>\n",
       "<ul style=\"text-align: left; list-style: none; margin: 0; padding: 0;\">\n",
       "  <li><b>Scheduler: </b>tcp://127.0.0.1:43993</li>\n",
       "  <li><b>Dashboard: </b><a href='http://127.0.0.1:8787/status' target='_blank'>http://127.0.0.1:8787/status</a></li>\n",
       "</ul>\n",
       "</td>\n",
       "<td style=\"vertical-align: top; border: 0px solid white\">\n",
       "<h3 style=\"text-align: left;\">Cluster</h3>\n",
       "<ul style=\"text-align: left; list-style:none; margin: 0; padding: 0;\">\n",
       "  <li><b>Workers: </b>16</li>\n",
       "  <li><b>Cores: </b>16</li>\n",
       "  <li><b>Memory: </b>134.91 GB</li>\n",
       "</ul>\n",
       "</td>\n",
       "</tr>\n",
       "</table>"
      ],
      "text/plain": [
       "<Client: 'tcp://127.0.0.1:43993' processes=16 threads=16, memory=134.91 GB>"
      ]
     },
     "execution_count": 4,
     "metadata": {},
     "output_type": "execute_result"
    }
   ],
   "source": [
    "workers = 16\n",
    "client = Client(LocalCluster(n_workers=workers, threads_per_worker=1))\n",
    "client"
   ]
  },
  {
   "cell_type": "code",
   "execution_count": 5,
   "id": "accepted-bridal",
   "metadata": {},
   "outputs": [],
   "source": [
    "def measure_nearest(chunk):\n",
    "    s = time()\n",
    "    gdf = gpd.read_parquet(f'../../urbangrammar_samba/spatial_signatures/tessellation/tess_{chunk}.pq')\n",
    "    b = gdf.total_bounds\n",
    "    \n",
    "    initial_buffer = 500\n",
    "    buffered = gdf.tessellation.buffer(initial_buffer)\n",
    "    distance = []\n",
    "    for orig, geom in zip(gdf.tessellation, buffered.geometry):\n",
    "        query = retail.sindex.query(geom, predicate='intersects')\n",
    "        b = initial_buffer\n",
    "        while query.size == 0:\n",
    "            query = retail.sindex.query(geom.buffer(b), predicate='intersects')\n",
    "            b += initial_buffer\n",
    "\n",
    "        distance.append(retail.iloc[query].distance(orig).min())\n",
    "    gdf['nearest_retail_centre'] = distance\n",
    "    gdf[['hindex', 'nearest_retail_centre']].to_parquet(f'../../urbangrammar_samba/spatial_signatures/functional/retail_centre/retail_{chunk}.pq')\n",
    "    \n",
    "    return f\"Chunk {chunk} processed sucessfully in {time() - s} seconds.\""
   ]
  },
  {
   "cell_type": "code",
   "execution_count": 6,
   "id": "periodic-organ",
   "metadata": {},
   "outputs": [
    {
     "name": "stdout",
     "output_type": "stream",
     "text": [
      "Chunk 3 processed sucessfully in 229.41065430641174 seconds.\n",
      "Chunk 15 processed sucessfully in 223.6650960445404 seconds.\n",
      "Chunk 0 processed sucessfully in 244.80605340003967 seconds.\n",
      "Chunk 2 processed sucessfully in 262.985951423645 seconds.\n",
      "Chunk 11 processed sucessfully in 267.57428884506226 seconds.\n",
      "Chunk 1 processed sucessfully in 295.50642371177673 seconds.\n",
      "Chunk 9 processed sucessfully in 307.793461561203 seconds.\n",
      "Chunk 10 processed sucessfully in 320.450528383255 seconds.\n",
      "Chunk 7 processed sucessfully in 332.8020794391632 seconds.\n",
      "Chunk 8 processed sucessfully in 341.40525555610657 seconds.\n",
      "Chunk 13 processed sucessfully in 357.23317408561707 seconds.\n",
      "Chunk 18 processed sucessfully in 197.36008834838867 seconds.\n",
      "Chunk 16 processed sucessfully in 216.73886609077454 seconds.\n",
      "Chunk 17 processed sucessfully in 217.3698329925537 seconds.\n",
      "Chunk 14 processed sucessfully in 452.75913739204407 seconds.\n",
      "Chunk 4 processed sucessfully in 480.302627325058 seconds.\n",
      "Chunk 12 processed sucessfully in 471.55948305130005 seconds.\n",
      "Chunk 20 processed sucessfully in 275.74783205986023 seconds.\n",
      "Chunk 25 processed sucessfully in 205.81609511375427 seconds.\n",
      "Chunk 19 processed sucessfully in 315.88619017601013 seconds.\n",
      "Chunk 22 processed sucessfully in 296.9352958202362 seconds.\n",
      "Chunk 23 processed sucessfully in 291.6380388736725 seconds.\n",
      "Chunk 21 processed sucessfully in 347.3317663669586 seconds.\n",
      "Chunk 24 processed sucessfully in 307.0247497558594 seconds.\n",
      "Chunk 28 processed sucessfully in 218.92937803268433 seconds.\n",
      "Chunk 26 processed sucessfully in 301.6752872467041 seconds.\n",
      "Chunk 29 processed sucessfully in 248.87159490585327 seconds.\n",
      "Chunk 31 processed sucessfully in 350.1357088088989 seconds.\n",
      "Chunk 34 processed sucessfully in 275.669291973114 seconds.\n",
      "Chunk 30 processed sucessfully in 371.2933940887451 seconds.\n",
      "Chunk 27 processed sucessfully in 399.54145312309265 seconds.\n",
      "Chunk 35 processed sucessfully in 264.3463280200958 seconds.\n",
      "Chunk 36 processed sucessfully in 253.28276586532593 seconds.\n",
      "Chunk 33 processed sucessfully in 317.8169991970062 seconds.\n",
      "Chunk 6 processed sucessfully in 903.3587539196014 seconds.\n",
      "Chunk 41 processed sucessfully in 247.21626138687134 seconds.\n",
      "Chunk 37 processed sucessfully in 321.1305663585663 seconds.\n",
      "Chunk 39 processed sucessfully in 332.087518453598 seconds.\n",
      "Chunk 32 processed sucessfully in 572.0379726886749 seconds.\n",
      "Chunk 44 processed sucessfully in 236.5347239971161 seconds.\n",
      "Chunk 43 processed sucessfully in 242.6256082057953 seconds.\n",
      "Chunk 5 processed sucessfully in 1089.7548084259033 seconds.\n",
      "Chunk 45 processed sucessfully in 248.7026686668396 seconds.\n",
      "Chunk 51 processed sucessfully in 232.10119724273682 seconds.\n",
      "Chunk 46 processed sucessfully in 318.11290311813354 seconds.\n",
      "Chunk 52 processed sucessfully in 232.10552144050598 seconds.\n",
      "Chunk 40 processed sucessfully in 510.62988567352295 seconds.\n",
      "Chunk 49 processed sucessfully in 305.51303577423096 seconds.\n",
      "Chunk 47 processed sucessfully in 339.8048632144928 seconds.\n",
      "Chunk 50 processed sucessfully in 307.6450071334839 seconds.\n",
      "Chunk 42 processed sucessfully in 539.0357091426849 seconds.\n",
      "Chunk 55 processed sucessfully in 218.10769367218018 seconds.\n",
      "Chunk 48 processed sucessfully in 440.29719066619873 seconds.\n",
      "Chunk 56 processed sucessfully in 237.55282187461853 seconds.\n",
      "Chunk 38 processed sucessfully in 686.0278518199921 seconds.\n",
      "Chunk 53 processed sucessfully in 348.22418904304504 seconds.\n",
      "Chunk 57 processed sucessfully in 257.0237774848938 seconds.\n",
      "Chunk 58 processed sucessfully in 334.4561765193939 seconds.\n",
      "Chunk 63 processed sucessfully in 248.49455523490906 seconds.\n",
      "Chunk 54 processed sucessfully in 389.3916347026825 seconds.\n",
      "Chunk 60 processed sucessfully in 286.8058297634125 seconds.\n",
      "Chunk 62 processed sucessfully in 309.3699097633362 seconds.\n",
      "Chunk 59 processed sucessfully in 347.8663284778595 seconds.\n",
      "Chunk 65 processed sucessfully in 369.8567621707916 seconds.\n",
      "Chunk 70 processed sucessfully in 262.00583481788635 seconds.\n",
      "Chunk 72 processed sucessfully in 290.1499674320221 seconds.\n",
      "Chunk 68 processed sucessfully in 369.4697890281677 seconds.\n",
      "Chunk 69 processed sucessfully in 363.84302401542664 seconds.\n",
      "Chunk 74 processed sucessfully in 277.82506132125854 seconds.\n",
      "Chunk 66 processed sucessfully in 483.35972332954407 seconds.\n",
      "Chunk 79 processed sucessfully in 204.1803150177002 seconds.\n",
      "Chunk 64 processed sucessfully in 604.9508926868439 seconds.\n",
      "Chunk 76 processed sucessfully in 347.3878936767578 seconds.\n",
      "Chunk 75 processed sucessfully in 383.04845547676086 seconds.\n",
      "Chunk 78 processed sucessfully in 365.3083326816559 seconds.\n",
      "Chunk 81 processed sucessfully in 233.1090157032013 seconds.\n",
      "Chunk 67 processed sucessfully in 590.5635316371918 seconds.\n",
      "Chunk 80 processed sucessfully in 298.7273712158203 seconds.\n",
      "Chunk 71 processed sucessfully in 568.4501793384552 seconds.\n",
      "Chunk 61 processed sucessfully in 734.6568140983582 seconds.\n",
      "Chunk 77 processed sucessfully in 426.8115291595459 seconds.\n",
      "Chunk 82 processed sucessfully in 260.38281416893005 seconds.\n",
      "Chunk 73 processed sucessfully in 521.3478484153748 seconds.\n",
      "Chunk 84 processed sucessfully in 336.4568943977356 seconds.\n",
      "Chunk 86 processed sucessfully in 317.38557291030884 seconds.\n",
      "Chunk 90 processed sucessfully in 253.7183711528778 seconds.\n",
      "Chunk 96 processed sucessfully in 217.65001463890076 seconds.\n",
      "Chunk 94 processed sucessfully in 261.67647528648376 seconds.\n",
      "Chunk 88 processed sucessfully in 380.05103516578674 seconds.\n",
      "Chunk 93 processed sucessfully in 291.5382390022278 seconds.\n",
      "Chunk 91 processed sucessfully in 324.7585823535919 seconds.\n",
      "Chunk 85 processed sucessfully in 511.55556321144104 seconds.\n",
      "Chunk 95 processed sucessfully in 333.492094039917 seconds.\n",
      "Chunk 92 processed sucessfully in 398.7446265220642 seconds.\n",
      "Chunk 98 processed sucessfully in 344.81411385536194 seconds.\n",
      "Chunk 102 processed sucessfully in 211.1076967716217 seconds.\n",
      "Chunk 97 processed sucessfully in 431.70567202568054 seconds.\n",
      "Chunk 99 processed sucessfully in 336.0125641822815 seconds.\n",
      "Chunk 100 processed sucessfully in 303.5264847278595 seconds.\n",
      "Chunk 89 processed sucessfully in 585.6074168682098 seconds.\n",
      "Chunk 83 processed sucessfully in 766.684189081192 seconds.\n",
      "Chunk 101 processed sucessfully in 354.22615480422974 seconds.\n",
      "Chunk 87 processed sucessfully in 784.9089789390564 seconds.\n"
     ]
    }
   ],
   "source": [
    "inputs = iter(range(103))\n",
    "futures = [client.submit(measure_nearest, next(inputs)) for i in range(workers)]\n",
    "ac = as_completed(futures)\n",
    "for finished_future in ac:\n",
    "    # submit new future \n",
    "    try:\n",
    "        new_future = client.submit(measure_nearest, next(inputs))\n",
    "        ac.add(new_future)\n",
    "    except StopIteration:\n",
    "        pass\n",
    "    print(finished_future.result())"
   ]
  },
  {
   "cell_type": "markdown",
   "id": "hungarian-holocaust",
   "metadata": {},
   "source": [
    "## Water"
   ]
  },
  {
   "cell_type": "code",
   "execution_count": null,
   "id": "humanitarian-london",
   "metadata": {},
   "outputs": [],
   "source": [
    "from sqlalchemy import create_engine\n",
    "from shapely.geometry import box\n",
    "from shapely.ops import polygonize\n",
    "\n",
    "user = os.environ.get('DB_USER')\n",
    "pwd = os.environ.get('DB_PWD')\n",
    "host = os.environ.get('DB_HOST')\n",
    "port = os.environ.get('DB_PORT')\n",
    "\n",
    "db_connection_url = f\"postgres+psycopg2://{user}:{pwd}@{host}:{port}/built_env\""
   ]
  },
  {
   "cell_type": "code",
   "execution_count": null,
   "id": "accessible-circulation",
   "metadata": {},
   "outputs": [],
   "source": [
    "def measure_nearest(chunk):\n",
    "    s = time()\n",
    "    gdf = gpd.read_parquet(f'../../urbangrammar_samba/spatial_signatures/tessellation/tess_{chunk}.pq')\n",
    "    b = gdf.total_bounds\n",
    "    engine = create_engine(db_connection_url)\n",
    "    sql = f'SELECT * FROM gb_coastline_2016 WHERE ST_Intersects(geometry, ST_MakeEnvelope({b[0]}, {b[1]}, {b[2]}, {b[3]}, 27700))'\n",
    "    coastline = gpd.read_postgis(sql, engine, geom_col='geometry')\n",
    "    sql = f'SELECT * FROM openmap_surfacewater_area_200824 WHERE ST_Intersects(geometry, ST_MakeEnvelope({b[0]}, {b[1]}, {b[2]}, {b[3]}, 27700))'\n",
    "    water = gpd.read_postgis(sql, engine, geom_col='geometry')\n",
    "    \n",
    "    sql = f'SELECT * FROM gb_coastline_2016'\n",
    "    coastline = gpd.read_postgis(sql, engine, geom_col='geometry')\n",
    "\n",
    "    polys = polygonize(coastline.geometry)\n",
    "    land = gpd.GeoSeries(polys, crs=27700)\n",
    "    sea = box(*land.total_bounds).difference(land.geometry.unary_union)\n",
    "    \n",
    "    target = water.geometry\n",
    "    target.loc[len(water)] = sea\n",
    "    target = gpd.clip(target, box(*b))\n",
    "    \n",
    "    initial_buffer = 500\n",
    "    buffered = gdf.tessellation.buffer(initial_buffer)\n",
    "    distance = []\n",
    "    for orig, geom in zip(gdf.tessellation, buffered.geometry):\n",
    "        query = target.sindex.query(geom, predicate='intersects')\n",
    "        b = initial_buffer\n",
    "        while query.size == 0:\n",
    "            query = target.sindex.query(geom.buffer(b), predicate='intersects')\n",
    "            b += initial_buffer\n",
    "\n",
    "        distance.append(target.iloc[query].distance(orig).min())\n",
    "    gdf['nearest_water'] = distance\n",
    "    gdf[['hindex', 'nearest_water']].to_parquet(f'../../urbangrammar_samba/spatial_signatures/functional/water/water_{chunk}.pq')\n",
    "    \n",
    "    return f\"Chunk {chunk} processed sucessfully in {time() - s} seconds.\""
   ]
  }
 ],
 "metadata": {
  "kernelspec": {
   "display_name": "Python 3",
   "language": "python",
   "name": "python3"
  },
  "language_info": {
   "codemirror_mode": {
    "name": "ipython",
    "version": 3
   },
   "file_extension": ".py",
   "mimetype": "text/x-python",
   "name": "python",
   "nbconvert_exporter": "python",
   "pygments_lexer": "ipython3",
   "version": "3.8.8"
  }
 },
 "nbformat": 4,
 "nbformat_minor": 5
}
