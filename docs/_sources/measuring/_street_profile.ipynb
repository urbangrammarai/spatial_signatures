{
 "cells": [
  {
   "cell_type": "code",
   "execution_count": 1,
   "metadata": {},
   "outputs": [
    {
     "name": "stderr",
     "output_type": "stream",
     "text": [
      "/opt/conda/lib/python3.7/site-packages/pyarrow/compat.py:25: FutureWarning: pyarrow.compat has been deprecated and will be removed in a future release\n",
      "  \"future release\", FutureWarning)\n"
     ]
    }
   ],
   "source": [
    "from dask.distributed import Client, LocalCluster\n",
    "import dask_geopandas as dask_geopandas\n",
    "import geopandas\n",
    "import pygeos\n",
    "import numpy as np\n",
    "import pandas as pd\n",
    "import momepy"
   ]
  },
  {
   "cell_type": "code",
   "execution_count": 2,
   "metadata": {},
   "outputs": [],
   "source": [
    "buildings = geopandas.read_parquet(\"../../urbangrammar_samba/spatial_signatures/buildings/blg_0.pq\")\n",
    "chunks = geopandas.read_parquet('../../urbangrammar_samba/spatial_signatures/local_auth_chunks.pq')"
   ]
  },
  {
   "cell_type": "code",
   "execution_count": 4,
   "metadata": {},
   "outputs": [],
   "source": [
    "import os\n",
    "\n",
    "from sqlalchemy import create_engine\n",
    "\n",
    "user = os.environ.get('DB_USER')\n",
    "pwd = os.environ.get('DB_PWD')\n",
    "host = os.environ.get('DB_HOST')\n",
    "port = os.environ.get('DB_PORT')\n",
    "\n",
    "db_connection_url = f\"postgres+psycopg2://{user}:{pwd}@{host}:{port}/built_env\"\n",
    "engine = create_engine(db_connection_url)\n",
    "\n",
    "chunk0 = chunks.geometry.iloc[0]\n",
    "\n",
    "sql = f\"SELECT * FROM openroads_200803_topological WHERE ST_Intersects(geometry, ST_GeomFromText('{chunk0.wkt}',27700))\"\n",
    "\n",
    "streets = geopandas.read_postgis(sql, engine, geom_col='geometry')"
   ]
  },
  {
   "cell_type": "code",
   "execution_count": 5,
   "metadata": {},
   "outputs": [],
   "source": [
    "import math\n",
    "# http://wikicode.wikidot.com/get-angle-of-line-between-two-points\n",
    "# https://glenbambrick.com/tag/perpendicular/\n",
    "# angle between two points\n",
    "def _getAngle(pt1, pt2):\n",
    "    \"\"\"\n",
    "    pt1, pt2 : tuple\n",
    "    \"\"\"\n",
    "    x_diff = pt2[0] - pt1[0]\n",
    "    y_diff = pt2[1] - pt1[1]\n",
    "    return math.degrees(math.atan2(y_diff, x_diff))\n",
    "\n",
    "# start and end points of chainage tick\n",
    "# get the first end point of a tick\n",
    "def _getPoint1(pt, bearing, dist):\n",
    "    \"\"\"\n",
    "    pt : tuple\n",
    "    \"\"\"\n",
    "    angle = bearing + 90\n",
    "    bearing = math.radians(angle)\n",
    "    x = pt[0] + dist * math.cos(bearing)\n",
    "    y = pt[1] + dist * math.sin(bearing)\n",
    "    return (x, y)\n",
    "\n",
    "# get the second end point of a tick\n",
    "def _getPoint2(pt, bearing, dist):\n",
    "    \"\"\"\n",
    "    pt : tuple\n",
    "    \"\"\"\n",
    "    bearing = math.radians(bearing)\n",
    "    x = pt[0] + dist * math.cos(bearing)\n",
    "    y = pt[1] + dist * math.sin(bearing)\n",
    "    return (x, y)"
   ]
  },
  {
   "cell_type": "code",
   "execution_count": 6,
   "metadata": {},
   "outputs": [],
   "source": [
    "def street_profile(streets, buildings, distance=3, tick_length=50):\n",
    "\n",
    "    pygeos_lines = streets.geometry.values.data\n",
    "\n",
    "    list_points = np.empty((0, 2))\n",
    "    ids = []\n",
    "\n",
    "    lengths = pygeos.length(pygeos_lines)\n",
    "    for ix, (line, length) in enumerate(zip(pygeos_lines, lengths)):\n",
    "\n",
    "        pts = pygeos.line_interpolate_point(\n",
    "            line, np.linspace(0, length, num=int((length) // distance))\n",
    "        )  # .1 offset to keep a gap between two segments\n",
    "        list_points = np.append(list_points, pygeos.get_coordinates(pts), axis=0)\n",
    "        ids += [ix] * len(pts) * 2\n",
    "\n",
    "\n",
    "    ticks = []\n",
    "    for num, pt in enumerate(list_points, 1):\n",
    "        # start chainage 0\n",
    "        if num == 1:\n",
    "            angle = _getAngle(pt, list_points[num])\n",
    "            line_end_1 = _getPoint1(pt, angle, tick_length / 2)\n",
    "            angle = _getAngle(line_end_1, pt)\n",
    "            line_end_2 = _getPoint2(line_end_1, angle, tick_length)\n",
    "            ticks.append([line_end_1, pt])\n",
    "            ticks.append([line_end_2, pt])\n",
    "\n",
    "        # everything in between\n",
    "        if num < len(list_points) - 1:\n",
    "            angle = _getAngle(pt, list_points[num])\n",
    "            line_end_1 = _getPoint1(\n",
    "                list_points[num], angle, tick_length / 2\n",
    "            )\n",
    "            angle = _getAngle(line_end_1, list_points[num])\n",
    "            line_end_2 = _getPoint2(line_end_1, angle, tick_length)\n",
    "            ticks.append([line_end_1, list_points[num]])\n",
    "            ticks.append([line_end_2, list_points[num]])\n",
    "\n",
    "        # end chainage\n",
    "        if num == len(list_points):\n",
    "            angle = _getAngle(list_points[num - 2], pt)\n",
    "            line_end_1 = _getPoint1(pt, angle, tick_length / 2)\n",
    "            angle = _getAngle(line_end_1, pt)\n",
    "            line_end_2 = _getPoint2(line_end_1, angle, tick_length)\n",
    "            ticks.append([line_end_1, pt])\n",
    "            ticks.append([line_end_2, pt])\n",
    "\n",
    "    ticks = pygeos.linestrings(ticks)\n",
    "    inp, res = pygeos.STRtree(ticks).query_bulk(buildings.geometry.values.data, predicate='intersects')\n",
    "    intersections = pygeos.intersection(ticks[res], buildings.geometry.values.data[inp])\n",
    "    distances = pygeos.distance(intersections, pygeos.points(list_points[res // 2]))\n",
    "\n",
    "    dists = np.zeros((len(ticks),))\n",
    "    dists[:] = np.nan\n",
    "    dists[res] = distances\n",
    "\n",
    "    ids = np.array(ids)\n",
    "    widths = []\n",
    "    openness = []\n",
    "    deviations = []\n",
    "    for i in range(len(streets)):\n",
    "        f = ids == i\n",
    "        s = dists[f]\n",
    "        lefts = s[::2]\n",
    "        rights = s[1::2]\n",
    "        left_mean = np.nanmean(lefts) if ~np.isnan(lefts).all() else tick_length / 2\n",
    "        right_mean = np.nanmean(rights) if ~np.isnan(rights).all() else tick_length / 2\n",
    "        widths.append(np.mean([left_mean, right_mean]) * 2)\n",
    "        openness.append(np.isnan(s).sum() / (f).sum())\n",
    "        deviations.append(np.nanstd(s))\n",
    "    \n",
    "    return (widths, deviations, openness)"
   ]
  },
  {
   "cell_type": "code",
   "execution_count": 7,
   "metadata": {},
   "outputs": [
    {
     "name": "stderr",
     "output_type": "stream",
     "text": [
      "/opt/conda/lib/python3.7/site-packages/numpy/lib/nanfunctions.py:1665: RuntimeWarning: Degrees of freedom <= 0 for slice.\n",
      "  keepdims=keepdims)\n",
      "/opt/conda/lib/python3.7/site-packages/ipykernel_launcher.py:70: RuntimeWarning: invalid value encountered in long_scalars\n"
     ]
    },
    {
     "name": "stdout",
     "output_type": "stream",
     "text": [
      "CPU times: user 3min 11s, sys: 17.2 s, total: 3min 28s\n",
      "Wall time: 3min 28s\n"
     ]
    }
   ],
   "source": [
    "%time sp = street_profile(streets, buildings)"
   ]
  },
  {
   "cell_type": "code",
   "execution_count": null,
   "metadata": {},
   "outputs": [],
   "source": []
  }
 ],
 "metadata": {
  "kernelspec": {
   "display_name": "Python 3",
   "language": "python",
   "name": "python3"
  },
  "language_info": {
   "codemirror_mode": {
    "name": "ipython",
    "version": 3
   },
   "file_extension": ".py",
   "mimetype": "text/x-python",
   "name": "python",
   "nbconvert_exporter": "python",
   "pygments_lexer": "ipython3",
   "version": "3.7.8"
  }
 },
 "nbformat": 4,
 "nbformat_minor": 4
}
