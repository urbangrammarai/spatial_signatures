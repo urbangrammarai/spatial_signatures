{
 "cells": [
  {
   "cell_type": "markdown",
   "metadata": {},
   "source": [
    "# Cross-chunk indices\n",
    "\n",
    "Our data are divided into 103 chunks. However, there is a group of morphometric characters which require immediate context. Which means that we need to access features from different chunks if we want to avoid edge effect cause by edges of our chunks.\n",
    "\n",
    "This notebook ensures that each enclosed tessellation cell has its own unique identifier and for each chunk, extract indices of those, which needs to be accessed from other chunks.\n",
    "\n",
    "Since the maximum topological distance on tessellation we use for measuring are 3 steps, we include all cells within 7 steps from the boundary. That should ensure that results are in no way skewed by our chunking."
   ]
  },
  {
   "cell_type": "code",
   "execution_count": 1,
   "metadata": {},
   "outputs": [],
   "source": [
    "import geopandas as gpd\n",
    "import numpy as np\n",
    "import pandas as pd\n",
    "from tqdm.notebook import tqdm"
   ]
  },
  {
   "cell_type": "markdown",
   "metadata": {},
   "source": [
    "## Fill missing unique ids in enclosed tessellation\n",
    "\n",
    "Cells with no building have no ID at the moment. Filling unique identifiers instead of NaNs."
   ]
  },
  {
   "cell_type": "code",
   "execution_count": 90,
   "metadata": {},
   "outputs": [
    {
     "name": "stderr",
     "output_type": "stream",
     "text": [
      "/opt/conda/lib/python3.7/site-packages/ipykernel_launcher.py:6: UserWarning: this is an initial implementation of Parquet/Feather file support and associated metadata.  This is tracking version 0.1.0 of the metadata specification at https://github.com/geopandas/geo-arrow-spec\n",
      "\n",
      "This metadata specification does not yet make stability promises.  We do not yet recommend using this in a production setting unless you are able to rewrite your Parquet/Feather files.\n",
      "\n",
      "To further ignore this warning, you can do: \n",
      "import warnings; warnings.filterwarnings('ignore', message='.*initial implementation of Parquet.*')\n",
      "  \n"
     ]
    },
    {
     "name": "stdout",
     "output_type": "stream",
     "text": [
      "CPU times: user 4min 23s, sys: 59.9 s, total: 5min 23s\n",
      "Wall time: 7min 34s\n"
     ]
    }
   ],
   "source": [
    "%%time\n",
    "for ch in range(103):\n",
    "    tess = gpd.read_parquet(f'../../urbangrammar_samba/spatial_signatures/tessellation/tess_{int(ch)}.pq')\n",
    "    tess = tess.reset_index(drop=True)\n",
    "    filler = pd.Series(range(len(tess[tess.uID.isna()])), index=tess[tess.uID.isna()].index) + ch * 100_000_000\n",
    "    tess['uID'] = tess.uID.fillna(filler)\n",
    "    tess.to_parquet(f'../../urbangrammar_samba/spatial_signatures/tessellation/tess_{int(ch)}.pq')"
   ]
  },
  {
   "cell_type": "markdown",
   "metadata": {},
   "source": [
    "## Store unique ids of close neighbors from other chunks\n",
    "\n",
    "We first use `fuzzy_contiguity` to get all neighbouring chunks within 10km."
   ]
  },
  {
   "cell_type": "code",
   "execution_count": 2,
   "metadata": {},
   "outputs": [],
   "source": [
    "chunks = gpd.read_parquet('../../urbangrammar_samba/spatial_signatures/local_auth_chunks.pq')"
   ]
  },
  {
   "cell_type": "code",
   "execution_count": 3,
   "metadata": {},
   "outputs": [],
   "source": [
    "from libpysal.weights import fuzzy_contiguity\n",
    "\n",
    "w = fuzzy_contiguity(chunks, buffering=True, buffer=5_000)"
   ]
  },
  {
   "cell_type": "code",
   "execution_count": 152,
   "metadata": {},
   "outputs": [
    {
     "data": {
      "text/plain": [
       "<AxesSubplot:>"
      ]
     },
     "execution_count": 152,
     "metadata": {},
     "output_type": "execute_result"
    },
    {
     "data": {
      "image/png": "[encoded data removed]",
      "text/plain": [
       "<Figure size 432x288 with 1 Axes>"
      ]
     },
     "metadata": {
      "needs_background": "light"
     },
     "output_type": "display_data"
    }
   ],
   "source": [
    "ax = chunks.loc[w.neighbors[2]].plot()\n",
    "chunks.loc[[2]].plot(ax=ax, color='r')"
   ]
  },
  {
   "cell_type": "markdown",
   "metadata": {},
   "source": [
    "Now we loop through all the chunks and their neighbors and extract indices of nearby tessellation cells within 7 topological steps."
   ]
  },
  {
   "cell_type": "code",
   "execution_count": 126,
   "metadata": {},
   "outputs": [
    {
     "data": {
      "application/vnd.jupyter.widget-view+json": {
       "model_id": "316e0f9fb3694c1db3546233c47644d8",
       "version_major": 2,
       "version_minor": 0
      },
      "text/plain": [
       "HBox(children=(FloatProgress(value=0.0, max=103.0), HTML(value='')))"
      ]
     },
     "metadata": {},
     "output_type": "display_data"
    },
    {
     "name": "stdout",
     "output_type": "stream",
     "text": [
      "\n",
      "CPU times: user 30min 34s, sys: 4min 31s, total: 35min 6s\n",
      "Wall time: 45min 58s\n"
     ]
    }
   ],
   "source": [
    "%%time\n",
    "\n",
    "include = pd.Series(index=pd.MultiIndex.from_tuples([], names=['chunk', 'neighbors']), dtype=object)\n",
    "\n",
    "for ch in tqdm(range(103), total=103):\n",
    "    target = chunks.loc[ch, 'geometry']\n",
    "\n",
    "    for n in w.neighbors[ch]:\n",
    "        tess = gpd.read_parquet(f'../../urbangrammar_samba/spatial_signatures/morphometrics/cells/cells_{int(n)}.pq')\n",
    "\n",
    "        ind = tess.sindex.query(target, predicate='intersects')\n",
    "\n",
    "        if ind.size > 0:\n",
    "            incl = ind.tolist()\n",
    "            for _ in range(6):\n",
    "                inp, res = tess.sindex.query_bulk(tess.geometry.iloc[incl], predicate='intersects')\n",
    "                incl += np.unique(res).tolist()\n",
    "        else:\n",
    "            incl = []\n",
    "        include.loc[ch, int(n)] = np.unique(incl)"
   ]
  },
  {
   "cell_type": "code",
   "execution_count": 127,
   "metadata": {},
   "outputs": [
    {
     "data": {
      "text/plain": [
       "chunk  neighbors\n",
       "0      44                                                          []\n",
       "       63                                                          []\n",
       "       18                                                          []\n",
       "       20           [20262, 20263, 20265, 20266, 20268, 20269, 202...\n",
       "       84                                                          []\n",
       "                                          ...                        \n",
       "102    17           [2, 6, 7, 8, 9, 10, 11, 12, 13, 14, 15, 16, 17...\n",
       "       101          [7164, 7165, 7166, 7181, 7182, 7183, 7184, 718...\n",
       "       18                                                          []\n",
       "       24                                                          []\n",
       "       40                                                          []\n",
       "Length: 874, dtype: object"
      ]
     },
     "execution_count": 127,
     "metadata": {},
     "output_type": "execute_result"
    }
   ],
   "source": [
    "include"
   ]
  },
  {
   "cell_type": "markdown",
   "metadata": {},
   "source": [
    "And finally remove those which are empty (since we used buffered distance not Queen contiguity, there are some)."
   ]
  },
  {
   "cell_type": "code",
   "execution_count": 128,
   "metadata": {},
   "outputs": [],
   "source": [
    "include = include[include.apply(lambda x: len(x) > 0)]"
   ]
  },
  {
   "cell_type": "code",
   "execution_count": 129,
   "metadata": {},
   "outputs": [
    {
     "data": {
      "text/plain": [
       "chunk  neighbors\n",
       "0      20           [20262, 20263, 20265, 20266, 20268, 20269, 202...\n",
       "1      7            [81225, 81250, 81255, 81256, 81258, 82455, 824...\n",
       "       82           [130223, 130579, 130601, 130604, 130607, 13060...\n",
       "       94           [80660, 81838, 81902, 81904, 81908, 81916, 819...\n",
       "       21           [41989, 41991, 41992, 41996, 42904, 42907, 429...\n",
       "                                          ...                        \n",
       "102    74           [8403, 8404, 8405, 8406, 8407, 8415, 8417, 843...\n",
       "       75           [37503, 37504, 37505, 37506, 37507, 37508, 375...\n",
       "       70           [35, 38, 266, 267, 268, 269, 638, 639, 640, 64...\n",
       "       17           [2, 6, 7, 8, 9, 10, 11, 12, 13, 14, 15, 16, 17...\n",
       "       101          [7164, 7165, 7166, 7181, 7182, 7183, 7184, 718...\n",
       "Length: 504, dtype: object"
      ]
     },
     "execution_count": 129,
     "metadata": {},
     "output_type": "execute_result"
    }
   ],
   "source": [
    "include"
   ]
  },
  {
   "cell_type": "code",
   "execution_count": 151,
   "metadata": {},
   "outputs": [],
   "source": [
    "pd.DataFrame(include, columns=['indices']).to_parquet('../../urbangrammar_samba/spatial_signatures/cross-chunk_indices.pq')"
   ]
  },
  {
   "cell_type": "markdown",
   "metadata": {},
   "source": [
    "### Larger extent to cover 10 topological steps\n",
    "\n",
    "Later we will also need to go furhter across chunks, so we get indices for 12 steps."
   ]
  },
  {
   "cell_type": "code",
   "execution_count": 5,
   "metadata": {},
   "outputs": [
    {
     "data": {
      "application/vnd.jupyter.widget-view+json": {
       "model_id": "a83468a861194d23bff5fc0707d456b4",
       "version_major": 2,
       "version_minor": 0
      },
      "text/plain": [
       "  0%|          | 0/103 [00:00<?, ?it/s]"
      ]
     },
     "metadata": {},
     "output_type": "display_data"
    },
    {
     "name": "stdout",
     "output_type": "stream",
     "text": [
      "CPU times: user 45min 53s, sys: 2min 30s, total: 48min 23s\n",
      "Wall time: 1h 2min 50s\n"
     ]
    }
   ],
   "source": [
    "%%time\n",
    "\n",
    "include = pd.Series(index=pd.MultiIndex.from_tuples([], names=['chunk', 'neighbors']), dtype=object)\n",
    "\n",
    "for ch in tqdm(range(103), total=103):\n",
    "    target = chunks.loc[ch, 'geometry']\n",
    "\n",
    "    for n in w.neighbors[ch]:\n",
    "        tess = gpd.read_parquet(f'../../urbangrammar_samba/spatial_signatures/morphometrics/cells/cells_{int(n)}.pq', columns=[\"tessellation\"])\n",
    "\n",
    "        ind = tess.sindex.query(target, predicate='intersects')\n",
    "\n",
    "        if ind.size > 0:\n",
    "            incl = ind.tolist()\n",
    "            for _ in range(12):\n",
    "                inp, res = tess.sindex.query_bulk(tess.geometry.iloc[incl], predicate='intersects')\n",
    "                incl += np.unique(res).tolist()\n",
    "        else:\n",
    "            incl = []\n",
    "        include.loc[ch, int(n)] = np.unique(incl)\n",
    "        \n",
    "include = include[include.apply(lambda x: len(x) > 0)]\n",
    "pd.DataFrame(include, columns=['indices']).to_parquet('../../urbangrammar_samba/spatial_signatures/cross-chunk_indices_10.pq')"
   ]
  },
  {
   "cell_type": "code",
   "execution_count": null,
   "metadata": {},
   "outputs": [],
   "source": []
  }
 ],
 "metadata": {
  "kernelspec": {
   "display_name": "Python 3",
   "language": "python",
   "name": "python3"
  },
  "language_info": {
   "codemirror_mode": {
    "name": "ipython",
    "version": 3
   },
   "file_extension": ".py",
   "mimetype": "text/x-python",
   "name": "python",
   "nbconvert_exporter": "python",
   "pygments_lexer": "ipython3",
   "version": "3.8.8"
  }
 },
 "nbformat": 4,
 "nbformat_minor": 4
}
