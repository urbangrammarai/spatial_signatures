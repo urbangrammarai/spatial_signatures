{
 "cells": [
  {
   "cell_type": "markdown",
   "id": "6e3c6a16",
   "metadata": {},
   "source": [
    "# Generate vector tiles\n",
    "\n",
    "This notebook takes the spatial signature geometries we have saved as a Parquet file and convert them to the vector tiles that can be used in a webmap.\n",
    "\n",
    "## Clip by coastline\n",
    "\n",
    "We first clip the signatures by the coastline of GB using the coastline layer we initially used to delimit enclosures."
   ]
  },
  {
   "cell_type": "code",
   "execution_count": 2,
   "id": "58b0b7f4",
   "metadata": {},
   "outputs": [],
   "source": [
    "import os\n",
    "import geopandas as gpd\n",
    "from sqlalchemy import create_engine"
   ]
  },
  {
   "cell_type": "code",
   "execution_count": 3,
   "id": "ce50a1f2",
   "metadata": {},
   "outputs": [],
   "source": [
    "user = os.environ.get('DB_USER')\n",
    "pwd = os.environ.get('DB_PWD')\n",
    "host = os.environ.get('DB_HOST')\n",
    "port = os.environ.get('DB_PORT')\n",
    "\n",
    "db_connection_url = f\"postgres+psycopg2://{user}:{pwd}@{host}:{port}/built_env\"\n",
    "engine = create_engine(db_connection_url)"
   ]
  },
  {
   "cell_type": "code",
   "execution_count": 6,
   "id": "06e1f261",
   "metadata": {},
   "outputs": [],
   "source": [
    "sql = f'SELECT * FROM gb_coastline_2016'\n",
    "coastline = gpd.read_postgis(sql, engine, geom_col='geometry')"
   ]
  },
  {
   "cell_type": "code",
   "execution_count": 7,
   "id": "3fcbc921",
   "metadata": {},
   "outputs": [],
   "source": [
    "from shapely.ops import polygonize\n",
    "\n",
    "polygons = polygonize(coastline.geometry)"
   ]
  },
  {
   "cell_type": "code",
   "execution_count": 11,
   "id": "5e9bdc19",
   "metadata": {},
   "outputs": [
    {
     "data": {
      "text/plain": [
       "0       POLYGON ((85970.000 14510.000, 85940.000 14530...\n",
       "1       POLYGON ((86170.000 14440.000, 86200.000 14430...\n",
       "2       POLYGON ((86330.000 13970.000, 86350.000 13980...\n",
       "3       POLYGON ((85950.000 13950.000, 85950.000 13940...\n",
       "4       POLYGON ((86080.000 15470.000, 86080.000 15450...\n",
       "                              ...                        \n",
       "2394    POLYGON ((166426.000 225405.000, 166426.000 22...\n",
       "2395    POLYGON ((167080.000 225526.000, 167064.000 22...\n",
       "2396    POLYGON ((171825.000 226293.000, 171839.000 22...\n",
       "2397    POLYGON ((517572.000 424703.000, 517594.000 42...\n",
       "2398    POLYGON ((327888.000 562274.000, 327971.000 56...\n",
       "Length: 2399, dtype: geometry"
      ]
     },
     "execution_count": 11,
     "metadata": {},
     "output_type": "execute_result"
    }
   ],
   "source": [
    "polygons = gpd.GeoSeries([poly for poly in polygons], crs=coastline.crs)\n",
    "polygons"
   ]
  },
  {
   "cell_type": "code",
   "execution_count": 13,
   "id": "9b3c78d6",
   "metadata": {},
   "outputs": [],
   "source": [
    "df = gpd.read_parquet(\"../../urbangrammar_samba/spatial_signatures/signatures/signatures_combined_levels_orig.pq\")"
   ]
  },
  {
   "cell_type": "code",
   "execution_count": 14,
   "id": "918aa179",
   "metadata": {},
   "outputs": [
    {
     "name": "stdout",
     "output_type": "stream",
     "text": [
      "CPU times: user 26min 54s, sys: 465 ms, total: 26min 55s\n",
      "Wall time: 26min 55s\n"
     ]
    }
   ],
   "source": [
    "%%time\n",
    "clipped = gpd.clip(df, polygons)"
   ]
  },
  {
   "cell_type": "code",
   "execution_count": 26,
   "id": "fb3b28cd",
   "metadata": {},
   "outputs": [],
   "source": [
    "# clipped = clipped.explode()\n",
    "clipped = clipped.reset_index(drop=True)\n",
    "clipped_polys = clipped[clipped.geom_type==\"Polygon\"]"
   ]
  },
  {
   "cell_type": "code",
   "execution_count": 28,
   "id": "28d6db8b",
   "metadata": {},
   "outputs": [
    {
     "data": {
      "text/plain": [
       "Polygon    96936\n",
       "dtype: int64"
      ]
     },
     "execution_count": 28,
     "metadata": {},
     "output_type": "execute_result"
    }
   ],
   "source": [
    "clipped_polys.geom_type.value_counts()"
   ]
  },
  {
   "cell_type": "markdown",
   "id": "53b3e496",
   "metadata": {},
   "source": [
    "## Save to GeoJSON\n",
    "Clipped and cleaned signature geometry is now ready to be convereted to vector tiles. We use `tippecanoe` to do that. `tippecanoe` is a command-line toolkit that requires GeoJSON in lat/lon as an input."
   ]
  },
  {
   "cell_type": "code",
   "execution_count": 29,
   "id": "93831c6c",
   "metadata": {},
   "outputs": [],
   "source": [
    "clipped_polys.reset_index(drop=True)[[\"signature_type\", \"geometry\"]].to_crs(4326).to_file(\"../../urbangrammar_samba/spatial_signatures/signatures/signatures_combined_levels_clipped_4326.geojson\", driver=\"GeoJSON\")"
   ]
  },
  {
   "cell_type": "markdown",
   "id": "3c6250a7",
   "metadata": {},
   "source": [
    "## Generate tiles\n",
    "Finally, we run `tippecanoe` and create tiles."
   ]
  },
  {
   "cell_type": "code",
   "execution_count": 30,
   "id": "cd28869e",
   "metadata": {},
   "outputs": [
    {
     "name": "stdout",
     "output_type": "stream",
     "text": [
      "For layer 0, using name \"signatures_combined_levels_clipped_4326\"\n",
      "96936 features, 168540234 bytes of geometry, 13651 bytes of separate metadata, 116 bytes of string pool\n",
      "tile 5/15/10 size is 765139 with detail 12, >500000    \n",
      "Going to try keeping the sparsest 58.81% of the features to make it fit\n",
      "tile 5/15/10 size is 731072 with detail 12, >500000    \n",
      "Going to try keeping the sparsest 36.20% of the features to make it fit\n",
      "tile 5/15/10 size is 646126 with detail 12, >500000    \n",
      "Going to try keeping the sparsest 25.21% of the features to make it fit\n",
      "tile 5/15/10 size is 563230 with detail 12, >500000    \n",
      "Going to try keeping the sparsest 20.14% of the features to make it fit\n",
      "tile 6/31/20 size is 812368 with detail 12, >500000    \n",
      "Going to try keeping the sparsest 55.39% of the features to make it fit\n",
      "tile 6/31/21 size is 695267 with detail 12, >500000    \n",
      "Going to try keeping the sparsest 64.72% of the features to make it fit\n",
      "tile 6/31/20 size is 735976 with detail 12, >500000    \n",
      "Going to try keeping the sparsest 33.87% of the features to make it fit\n",
      "tile 6/31/21 size is 669677 with detail 12, >500000    \n",
      "Going to try keeping the sparsest 43.49% of the features to make it fit\n",
      "tile 6/31/20 size is 605705 with detail 12, >500000    \n",
      "Going to try keeping the sparsest 25.16% of the features to make it fit\n",
      "tile 6/31/21 size is 559870 with detail 12, >500000    \n",
      "Going to try keeping the sparsest 34.96% of the features to make it fit\n",
      "tile 6/31/20 size is 518924 with detail 12, >500000    \n",
      "Going to try keeping the sparsest 21.82% of the features to make it fit\n",
      "tile 6/31/21 size is 508719 with detail 12, >500000    \n",
      "Going to try keeping the sparsest 30.92% of the features to make it fit\n",
      "tile 7/63/41 size is 930588 with detail 12, >500000    \n",
      "Going to try keeping the sparsest 48.36% of the features to make it fit\n",
      "tile 7/63/42 size is 888442 with detail 12, >500000    \n",
      "Going to try keeping the sparsest 50.65% of the features to make it fit\n",
      "tile 7/63/41 size is 776312 with detail 12, >500000    \n",
      "Going to try keeping the sparsest 28.03% of the features to make it fit\n",
      "tile 7/63/42 size is 699392 with detail 12, >500000    \n",
      "Going to try keeping the sparsest 32.59% of the features to make it fit\n",
      "tile 7/63/41 size is 542427 with detail 12, >500000    \n",
      "Going to try keeping the sparsest 23.25% of the features to make it fit\n",
      "tile 7/63/42 size is 555598 with detail 12, >500000    \n",
      "Going to try keeping the sparsest 26.40% of the features to make it fit\n",
      "tile 8/127/85 size is 611913 with detail 12, >500000    \n",
      "Going to try keeping the sparsest 73.54% of the features to make it fit\n",
      "tile 8/126/82 size is 659545 with detail 12, >500000    \n",
      "Going to try keeping the sparsest 68.23% of the features to make it fit\n",
      "tile 8/127/85 size is 581803 with detail 12, >500000    \n",
      "Going to try keeping the sparsest 56.88% of the features to make it fit\n",
      "tile 8/126/82 size is 561495 with detail 12, >500000    \n",
      "Going to try keeping the sparsest 54.68% of the features to make it fit\n",
      "tile 8/126/82 size is 509050 with detail 12, >500000    \n",
      "Going to try keeping the sparsest 48.34% of the features to make it fit\n",
      "tile 8/127/85 size is 542002 with detail 12, >500000    \n",
      "Going to try keeping the sparsest 47.22% of the features to make it fit\n",
      "  99.9%  15/16275/10435  \n"
     ]
    }
   ],
   "source": [
    "! tippecanoe -z15 \\\n",
    "             --no-tile-compression \\\n",
    "             --output-to-directory=../../great-britain/tiles/ \\\n",
    "             --drop-densest-as-needed \\\n",
    "             --coalesce-smallest-as-needed --extend-zooms-if-still-dropping --detect-shared-borders --coalesce --reorder --hilbert \\\n",
    "             --force \\\n",
    "             ../../urbangrammar_samba/spatial_signatures/signatures/signatures_combined_levels_clipped_4326.geojson"
   ]
  }
 ],
 "metadata": {
  "kernelspec": {
   "display_name": "Python 3 (ipykernel)",
   "language": "python",
   "name": "python3"
  },
  "language_info": {
   "codemirror_mode": {
    "name": "ipython",
    "version": 3
   },
   "file_extension": ".py",
   "mimetype": "text/x-python",
   "name": "python",
   "nbconvert_exporter": "python",
   "pygments_lexer": "ipython3",
   "version": "3.11.6"
  }
 },
 "nbformat": 4,
 "nbformat_minor": 5
}
