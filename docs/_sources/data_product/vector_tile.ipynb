{
 "cells": [
  {
   "cell_type": "markdown",
   "source": [
    "# Generate vector tiles"
   ],
   "metadata": {}
  },
  {
   "cell_type": "code",
   "execution_count": 2,
   "source": [
    "import os\n",
    "import geopandas as gpd\n",
    "from sqlalchemy import create_engine"
   ],
   "outputs": [],
   "metadata": {}
  },
  {
   "cell_type": "code",
   "execution_count": 3,
   "source": [
    "# user = os.environ.get('DB_USER')\n",
    "# pwd = os.environ.get('DB_PWD')\n",
    "# host = os.environ.get('DB_HOST')\n",
    "# port = os.environ.get('DB_PORT')\n",
    "\n",
    "user = \"martin\"\n",
    "pwd = \"gdsl2020\"\n",
    "host = \"138.253.73.214\"\n",
    "port = 22\n",
    "\n",
    "db_connection_url = f\"postgres+psycopg2://{user}:{pwd}@{host}:{port}/built_env\"\n",
    "engine = create_engine(db_connection_url)"
   ],
   "outputs": [],
   "metadata": {}
  },
  {
   "cell_type": "code",
   "execution_count": 6,
   "source": [
    "sql = f'SELECT * FROM gb_coastline_2016'\n",
    "coastline = gpd.read_postgis(sql, engine, geom_col='geometry')"
   ],
   "outputs": [],
   "metadata": {}
  },
  {
   "cell_type": "code",
   "execution_count": 6,
   "source": [
    "coastline"
   ],
   "outputs": [
    {
     "output_type": "execute_result",
     "data": {
      "text/html": [
       "<div>\n",
       "<style scoped>\n",
       "    .dataframe tbody tr th:only-of-type {\n",
       "        vertical-align: middle;\n",
       "    }\n",
       "\n",
       "    .dataframe tbody tr th {\n",
       "        vertical-align: top;\n",
       "    }\n",
       "\n",
       "    .dataframe thead th {\n",
       "        text-align: right;\n",
       "    }\n",
       "</style>\n",
       "<table border=\"1\" class=\"dataframe\">\n",
       "  <thead>\n",
       "    <tr style=\"text-align: right;\">\n",
       "      <th></th>\n",
       "      <th>CODE</th>\n",
       "      <th>LEGEND</th>\n",
       "      <th>AMENDED</th>\n",
       "      <th>geometry</th>\n",
       "    </tr>\n",
       "  </thead>\n",
       "  <tbody>\n",
       "    <tr>\n",
       "      <th>0</th>\n",
       "      <td>5110</td>\n",
       "      <td>Coastline (Natural)</td>\n",
       "      <td>1993-01-01</td>\n",
       "      <td>LINESTRING (85970.000 14510.000, 85940.000 145...</td>\n",
       "    </tr>\n",
       "    <tr>\n",
       "      <th>1</th>\n",
       "      <td>5110</td>\n",
       "      <td>Coastline (Natural)</td>\n",
       "      <td>1993-01-01</td>\n",
       "      <td>LINESTRING (86170.000 14440.000, 86200.000 144...</td>\n",
       "    </tr>\n",
       "    <tr>\n",
       "      <th>2</th>\n",
       "      <td>5110</td>\n",
       "      <td>Coastline (Natural)</td>\n",
       "      <td>1993-01-01</td>\n",
       "      <td>LINESTRING (86330.000 13970.000, 86350.000 139...</td>\n",
       "    </tr>\n",
       "    <tr>\n",
       "      <th>3</th>\n",
       "      <td>5110</td>\n",
       "      <td>Coastline (Natural)</td>\n",
       "      <td>1993-01-01</td>\n",
       "      <td>LINESTRING (85950.000 13950.000, 85950.000 139...</td>\n",
       "    </tr>\n",
       "    <tr>\n",
       "      <th>4</th>\n",
       "      <td>5110</td>\n",
       "      <td>Coastline (Natural)</td>\n",
       "      <td>1993-01-01</td>\n",
       "      <td>LINESTRING (86080.000 15470.000, 86080.000 154...</td>\n",
       "    </tr>\n",
       "    <tr>\n",
       "      <th>...</th>\n",
       "      <td>...</td>\n",
       "      <td>...</td>\n",
       "      <td>...</td>\n",
       "      <td>...</td>\n",
       "    </tr>\n",
       "    <tr>\n",
       "      <th>2403</th>\n",
       "      <td>5110</td>\n",
       "      <td>Coastline (Natural)</td>\n",
       "      <td>2014-08-05</td>\n",
       "      <td>LINESTRING (166426.000 225405.000, 166426.000 ...</td>\n",
       "    </tr>\n",
       "    <tr>\n",
       "      <th>2404</th>\n",
       "      <td>5110</td>\n",
       "      <td>Coastline (Natural)</td>\n",
       "      <td>2014-08-05</td>\n",
       "      <td>LINESTRING (167080.000 225526.000, 167064.000 ...</td>\n",
       "    </tr>\n",
       "    <tr>\n",
       "      <th>2405</th>\n",
       "      <td>5110</td>\n",
       "      <td>Coastline (Natural)</td>\n",
       "      <td>2014-08-06</td>\n",
       "      <td>LINESTRING (171825.000 226293.000, 171839.000 ...</td>\n",
       "    </tr>\n",
       "    <tr>\n",
       "      <th>2406</th>\n",
       "      <td>5110</td>\n",
       "      <td>Coastline (Natural)</td>\n",
       "      <td>2014-09-03</td>\n",
       "      <td>LINESTRING (517572.000 424703.000, 517594.000 ...</td>\n",
       "    </tr>\n",
       "    <tr>\n",
       "      <th>2407</th>\n",
       "      <td>5110</td>\n",
       "      <td>Coastline (Natural)</td>\n",
       "      <td>2014-09-22</td>\n",
       "      <td>LINESTRING (327888.000 562274.000, 327971.000 ...</td>\n",
       "    </tr>\n",
       "  </tbody>\n",
       "</table>\n",
       "<p>2408 rows × 4 columns</p>\n",
       "</div>"
      ],
      "text/plain": [
       "      CODE               LEGEND     AMENDED  \\\n",
       "0     5110  Coastline (Natural)  1993-01-01   \n",
       "1     5110  Coastline (Natural)  1993-01-01   \n",
       "2     5110  Coastline (Natural)  1993-01-01   \n",
       "3     5110  Coastline (Natural)  1993-01-01   \n",
       "4     5110  Coastline (Natural)  1993-01-01   \n",
       "...    ...                  ...         ...   \n",
       "2403  5110  Coastline (Natural)  2014-08-05   \n",
       "2404  5110  Coastline (Natural)  2014-08-05   \n",
       "2405  5110  Coastline (Natural)  2014-08-06   \n",
       "2406  5110  Coastline (Natural)  2014-09-03   \n",
       "2407  5110  Coastline (Natural)  2014-09-22   \n",
       "\n",
       "                                               geometry  \n",
       "0     LINESTRING (85970.000 14510.000, 85940.000 145...  \n",
       "1     LINESTRING (86170.000 14440.000, 86200.000 144...  \n",
       "2     LINESTRING (86330.000 13970.000, 86350.000 139...  \n",
       "3     LINESTRING (85950.000 13950.000, 85950.000 139...  \n",
       "4     LINESTRING (86080.000 15470.000, 86080.000 154...  \n",
       "...                                                 ...  \n",
       "2403  LINESTRING (166426.000 225405.000, 166426.000 ...  \n",
       "2404  LINESTRING (167080.000 225526.000, 167064.000 ...  \n",
       "2405  LINESTRING (171825.000 226293.000, 171839.000 ...  \n",
       "2406  LINESTRING (517572.000 424703.000, 517594.000 ...  \n",
       "2407  LINESTRING (327888.000 562274.000, 327971.000 ...  \n",
       "\n",
       "[2408 rows x 4 columns]"
      ]
     },
     "metadata": {},
     "execution_count": 6
    }
   ],
   "metadata": {
    "tags": []
   }
  },
  {
   "cell_type": "code",
   "execution_count": 7,
   "source": [
    "from shapely.ops import polygonize\n",
    "\n",
    "polygons = polygonize(coastline.geometry)"
   ],
   "outputs": [],
   "metadata": {}
  },
  {
   "cell_type": "code",
   "execution_count": 11,
   "source": [
    "polygons = gpd.GeoSeries([poly for poly in polygons], crs=coastline.crs)\n",
    "polygons"
   ],
   "outputs": [
    {
     "output_type": "execute_result",
     "data": {
      "text/plain": [
       "0       POLYGON ((85970.000 14510.000, 85940.000 14530...\n",
       "1       POLYGON ((86170.000 14440.000, 86200.000 14430...\n",
       "2       POLYGON ((86330.000 13970.000, 86350.000 13980...\n",
       "3       POLYGON ((85950.000 13950.000, 85950.000 13940...\n",
       "4       POLYGON ((86080.000 15470.000, 86080.000 15450...\n",
       "                              ...                        \n",
       "2394    POLYGON ((166426.000 225405.000, 166426.000 22...\n",
       "2395    POLYGON ((167080.000 225526.000, 167064.000 22...\n",
       "2396    POLYGON ((171825.000 226293.000, 171839.000 22...\n",
       "2397    POLYGON ((517572.000 424703.000, 517594.000 42...\n",
       "2398    POLYGON ((327888.000 562274.000, 327971.000 56...\n",
       "Length: 2399, dtype: geometry"
      ]
     },
     "metadata": {},
     "execution_count": 11
    }
   ],
   "metadata": {}
  },
  {
   "cell_type": "code",
   "execution_count": 13,
   "source": [
    "df = gpd.read_parquet(\"../../urbangrammar_samba/spatial_signatures/signatures/signatures_combined_levels_orig.pq\")"
   ],
   "outputs": [],
   "metadata": {}
  },
  {
   "cell_type": "code",
   "execution_count": 14,
   "source": [
    "%%time\n",
    "clipped = gpd.clip(df, polygons)"
   ],
   "outputs": [
    {
     "output_type": "stream",
     "name": "stdout",
     "text": [
      "CPU times: user 26min 54s, sys: 465 ms, total: 26min 55s\n",
      "Wall time: 26min 55s\n"
     ]
    }
   ],
   "metadata": {}
  },
  {
   "cell_type": "code",
   "execution_count": 26,
   "source": [
    "# clipped = clipped.explode()\n",
    "clipped = clipped.reset_index(drop=True)\n",
    "clipped_polys = clipped[clipped.geom_type==\"Polygon\"]"
   ],
   "outputs": [],
   "metadata": {}
  },
  {
   "cell_type": "code",
   "execution_count": 28,
   "source": [
    "clipped_polys.geom_type.value_counts()"
   ],
   "outputs": [
    {
     "output_type": "execute_result",
     "data": {
      "text/plain": [
       "Polygon    96936\n",
       "dtype: int64"
      ]
     },
     "metadata": {},
     "execution_count": 28
    }
   ],
   "metadata": {}
  },
  {
   "cell_type": "code",
   "execution_count": 29,
   "source": [
    "clipped_polys.reset_index(drop=True)[[\"signature_type\", \"geometry\"]].to_crs(4326).to_file(\"../../urbangrammar_samba/spatial_signatures/signatures/signatures_combined_levels_clipped_4326.geojson\", driver=\"GeoJSON\")"
   ],
   "outputs": [],
   "metadata": {}
  },
  {
   "cell_type": "code",
   "execution_count": 30,
   "source": [
    "! tippecanoe -z15 \\\n",
    "             --no-tile-compression \\\n",
    "             --output-to-directory=../../great-britain/tiles/ \\\n",
    "             --drop-densest-as-needed \\\n",
    "             --coalesce-smallest-as-needed --extend-zooms-if-still-dropping --detect-shared-borders --coalesce --reorder --hilbert \\\n",
    "             --force \\\n",
    "             ../../urbangrammar_samba/spatial_signatures/signatures/signatures_combined_levels_clipped_4326.geojson"
   ],
   "outputs": [
    {
     "output_type": "stream",
     "name": "stdout",
     "text": [
      "For layer 0, using name \"signatures_combined_levels_clipped_4326\"\n",
      "96936 features, 168540234 bytes of geometry, 13651 bytes of separate metadata, 116 bytes of string pool\n",
      "tile 5/15/10 size is 765139 with detail 12, >500000    \n",
      "Going to try keeping the sparsest 58.81% of the features to make it fit\n",
      "tile 5/15/10 size is 731072 with detail 12, >500000    \n",
      "Going to try keeping the sparsest 36.20% of the features to make it fit\n",
      "tile 5/15/10 size is 646126 with detail 12, >500000    \n",
      "Going to try keeping the sparsest 25.21% of the features to make it fit\n",
      "tile 5/15/10 size is 563230 with detail 12, >500000    \n",
      "Going to try keeping the sparsest 20.14% of the features to make it fit\n",
      "tile 6/31/20 size is 812368 with detail 12, >500000    \n",
      "Going to try keeping the sparsest 55.39% of the features to make it fit\n",
      "tile 6/31/21 size is 695267 with detail 12, >500000    \n",
      "Going to try keeping the sparsest 64.72% of the features to make it fit\n",
      "tile 6/31/20 size is 735976 with detail 12, >500000    \n",
      "Going to try keeping the sparsest 33.87% of the features to make it fit\n",
      "tile 6/31/21 size is 669677 with detail 12, >500000    \n",
      "Going to try keeping the sparsest 43.49% of the features to make it fit\n",
      "tile 6/31/20 size is 605705 with detail 12, >500000    \n",
      "Going to try keeping the sparsest 25.16% of the features to make it fit\n",
      "tile 6/31/21 size is 559870 with detail 12, >500000    \n",
      "Going to try keeping the sparsest 34.96% of the features to make it fit\n",
      "tile 6/31/20 size is 518924 with detail 12, >500000    \n",
      "Going to try keeping the sparsest 21.82% of the features to make it fit\n",
      "tile 6/31/21 size is 508719 with detail 12, >500000    \n",
      "Going to try keeping the sparsest 30.92% of the features to make it fit\n",
      "tile 7/63/41 size is 930588 with detail 12, >500000    \n",
      "Going to try keeping the sparsest 48.36% of the features to make it fit\n",
      "tile 7/63/42 size is 888442 with detail 12, >500000    \n",
      "Going to try keeping the sparsest 50.65% of the features to make it fit\n",
      "tile 7/63/41 size is 776312 with detail 12, >500000    \n",
      "Going to try keeping the sparsest 28.03% of the features to make it fit\n",
      "tile 7/63/42 size is 699392 with detail 12, >500000    \n",
      "Going to try keeping the sparsest 32.59% of the features to make it fit\n",
      "tile 7/63/41 size is 542427 with detail 12, >500000    \n",
      "Going to try keeping the sparsest 23.25% of the features to make it fit\n",
      "tile 7/63/42 size is 555598 with detail 12, >500000    \n",
      "Going to try keeping the sparsest 26.40% of the features to make it fit\n",
      "tile 8/127/85 size is 611913 with detail 12, >500000    \n",
      "Going to try keeping the sparsest 73.54% of the features to make it fit\n",
      "tile 8/126/82 size is 659545 with detail 12, >500000    \n",
      "Going to try keeping the sparsest 68.23% of the features to make it fit\n",
      "tile 8/127/85 size is 581803 with detail 12, >500000    \n",
      "Going to try keeping the sparsest 56.88% of the features to make it fit\n",
      "tile 8/126/82 size is 561495 with detail 12, >500000    \n",
      "Going to try keeping the sparsest 54.68% of the features to make it fit\n",
      "tile 8/126/82 size is 509050 with detail 12, >500000    \n",
      "Going to try keeping the sparsest 48.34% of the features to make it fit\n",
      "tile 8/127/85 size is 542002 with detail 12, >500000    \n",
      "Going to try keeping the sparsest 47.22% of the features to make it fit\n",
      "  99.9%  15/16275/10435  \n"
     ]
    }
   ],
   "metadata": {}
  },
  {
   "cell_type": "code",
   "execution_count": null,
   "source": [],
   "outputs": [],
   "metadata": {}
  }
 ],
 "metadata": {
  "kernelspec": {
   "display_name": "Python 3",
   "language": "python",
   "name": "python3"
  },
  "language_info": {
   "codemirror_mode": {
    "name": "ipython",
    "version": 3
   },
   "file_extension": ".py",
   "mimetype": "text/x-python",
   "name": "python",
   "nbconvert_exporter": "python",
   "pygments_lexer": "ipython3",
   "version": "3.8.8"
  }
 },
 "nbformat": 4,
 "nbformat_minor": 5
}