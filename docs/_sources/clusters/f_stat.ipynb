{
 "cells": [
  {
   "cell_type": "code",
   "execution_count": 18,
   "id": "5a391686-4c42-446a-9895-25d27117ffc7",
   "metadata": {},
   "outputs": [],
   "source": [
    "import dask.dataframe\n",
    "import pandas as pd\n",
    "import numpy as np\n",
    "import tqdm.notebook as tqdm"
   ]
  },
  {
   "cell_type": "code",
   "execution_count": 2,
   "id": "e108ebcf-1cbd-42b5-ac84-a12ebb2fd2b6",
   "metadata": {},
   "outputs": [
    {
     "name": "stdout",
     "output_type": "stream",
     "text": [
      "CPU times: user 47.8 s, sys: 39.7 s, total: 1min 27s\n",
      "Wall time: 1min 56s\n",
      "CPU times: user 53.3 ms, sys: 3.23 ms, total: 56.6 ms\n",
      "Wall time: 113 ms\n",
      "CPU times: user 99 ms, sys: 0 ns, total: 99 ms\n",
      "Wall time: 98.5 ms\n",
      "CPU times: user 22.5 ms, sys: 0 ns, total: 22.5 ms\n",
      "Wall time: 22.3 ms\n",
      "CPU times: user 2min 34s, sys: 1min 40s, total: 4min 14s\n",
      "Wall time: 2min 43s\n"
     ]
    }
   ],
   "source": [
    "%time standardized_form = dask.dataframe.read_parquet(\"../../urbangrammar_samba/spatial_signatures/clustering_data/form/standardized/\").set_index('hindex')\n",
    "%time stand_fn = dask.dataframe.read_parquet(\"../../urbangrammar_samba/spatial_signatures/clustering_data/function/standardized/\")\n",
    "%time data = dask.dataframe.multi.concat([standardized_form, stand_fn], axis=1).replace([np.inf, -np.inf], np.nan).fillna(0)\n",
    "%time data = data.drop(columns=[\"keep_q1\", \"keep_q2\", \"keep_q3\"])\n",
    "%time data = data.compute()"
   ]
  },
  {
   "cell_type": "code",
   "execution_count": 3,
   "id": "f1202f0a-2bbe-4575-bd36-4d865e48e142",
   "metadata": {},
   "outputs": [],
   "source": [
    "labels_l1 = pd.read_parquet(\"../../urbangrammar_samba/spatial_signatures/clustering_data/KMeans10GB.pq\")\n",
    "labels_l2_9 = pd.read_parquet(\"../../urbangrammar_samba/spatial_signatures/clustering_data/clustergram_cl9_labels.pq\")\n",
    "labels_l2_2 = pd.read_parquet(\"../../urbangrammar_samba/spatial_signatures/clustering_data/subclustering_cluster2_k3.pq\")\n",
    "labels = labels_l1.copy()\n",
    "labels.loc[labels.kmeans10gb == 9, 'kmeans10gb'] = labels_l2_9['9'].values + 90\n",
    "labels.loc[labels.kmeans10gb == 2, 'kmeans10gb'] = labels_l2_2['subclustering_cluster2_k3'].values + 20"
   ]
  },
  {
   "cell_type": "code",
   "execution_count": 4,
   "id": "449bb1a6-3de1-4030-97a0-c0765a3cf483",
   "metadata": {},
   "outputs": [],
   "source": [
    "outliers = [98, 93, 96, 97]\n",
    "mask = ~labels.kmeans10gb.isin(outliers)"
   ]
  },
  {
   "cell_type": "code",
   "execution_count": 5,
   "id": "9a20d8ed-7510-4ad6-a98c-e336daa08fcc",
   "metadata": {},
   "outputs": [],
   "source": [
    "import statsmodels.api as sm\n",
    "from statsmodels.formula.api import ols"
   ]
  },
  {
   "cell_type": "code",
   "execution_count": 9,
   "id": "380a89be-ec0d-4f76-945f-f33442d3db42",
   "metadata": {},
   "outputs": [
    {
     "data": {
      "text/plain": [
       "Index(['sdbAre_q1', 'sdbAre_q2', 'sdbAre_q3', 'sdbPer_q1', 'sdbPer_q2',\n",
       "       'sdbPer_q3', 'sdbCoA_q1', 'sdbCoA_q2', 'sdbCoA_q3', 'ssbCCo_q1'],\n",
       "      dtype='object')"
      ]
     },
     "execution_count": 9,
     "metadata": {},
     "output_type": "execute_result"
    }
   ],
   "source": [
    "data.columns[:10]"
   ]
  },
  {
   "cell_type": "code",
   "execution_count": 38,
   "id": "b2938187-50ad-476f-904c-f21f0dc78e34",
   "metadata": {},
   "outputs": [],
   "source": [
    "dummies = pd.get_dummies(labels.astype('str'))"
   ]
  },
  {
   "cell_type": "code",
   "execution_count": 12,
   "id": "93ba57bc-9c62-4662-b70c-122edde16646",
   "metadata": {
    "collapsed": true,
    "jupyter": {
     "outputs_hidden": true
    },
    "tags": []
   },
   "outputs": [
    {
     "ename": "ValueError",
     "evalue": "Length of values (1) does not match length of index (14539578)",
     "output_type": "error",
     "traceback": [
      "\u001b[0;31m---------------------------------------------------------------------------\u001b[0m",
      "\u001b[0;31mValueError\u001b[0m                                Traceback (most recent call last)",
      "\u001b[0;32m<timed exec>\u001b[0m in \u001b[0;36m<module>\u001b[0;34m\u001b[0m\n",
      "\u001b[0;32m/opt/conda/lib/python3.9/site-packages/pandas/core/frame.py\u001b[0m in \u001b[0;36massign\u001b[0;34m(self, **kwargs)\u001b[0m\n\u001b[1;32m   4484\u001b[0m \u001b[0;34m\u001b[0m\u001b[0m\n\u001b[1;32m   4485\u001b[0m         \u001b[0;32mfor\u001b[0m \u001b[0mk\u001b[0m\u001b[0;34m,\u001b[0m \u001b[0mv\u001b[0m \u001b[0;32min\u001b[0m \u001b[0mkwargs\u001b[0m\u001b[0;34m.\u001b[0m\u001b[0mitems\u001b[0m\u001b[0;34m(\u001b[0m\u001b[0;34m)\u001b[0m\u001b[0;34m:\u001b[0m\u001b[0;34m\u001b[0m\u001b[0;34m\u001b[0m\u001b[0m\n\u001b[0;32m-> 4486\u001b[0;31m             \u001b[0mdata\u001b[0m\u001b[0;34m[\u001b[0m\u001b[0mk\u001b[0m\u001b[0;34m]\u001b[0m \u001b[0;34m=\u001b[0m \u001b[0mcom\u001b[0m\u001b[0;34m.\u001b[0m\u001b[0mapply_if_callable\u001b[0m\u001b[0;34m(\u001b[0m\u001b[0mv\u001b[0m\u001b[0;34m,\u001b[0m \u001b[0mdata\u001b[0m\u001b[0;34m)\u001b[0m\u001b[0;34m\u001b[0m\u001b[0;34m\u001b[0m\u001b[0m\n\u001b[0m\u001b[1;32m   4487\u001b[0m         \u001b[0;32mreturn\u001b[0m \u001b[0mdata\u001b[0m\u001b[0;34m\u001b[0m\u001b[0;34m\u001b[0m\u001b[0m\n\u001b[1;32m   4488\u001b[0m \u001b[0;34m\u001b[0m\u001b[0m\n",
      "\u001b[0;32m/opt/conda/lib/python3.9/site-packages/pandas/core/frame.py\u001b[0m in \u001b[0;36m__setitem__\u001b[0;34m(self, key, value)\u001b[0m\n\u001b[1;32m   3610\u001b[0m         \u001b[0;32melse\u001b[0m\u001b[0;34m:\u001b[0m\u001b[0;34m\u001b[0m\u001b[0;34m\u001b[0m\u001b[0m\n\u001b[1;32m   3611\u001b[0m             \u001b[0;31m# set column\u001b[0m\u001b[0;34m\u001b[0m\u001b[0;34m\u001b[0m\u001b[0m\n\u001b[0;32m-> 3612\u001b[0;31m             \u001b[0mself\u001b[0m\u001b[0;34m.\u001b[0m\u001b[0m_set_item\u001b[0m\u001b[0;34m(\u001b[0m\u001b[0mkey\u001b[0m\u001b[0;34m,\u001b[0m \u001b[0mvalue\u001b[0m\u001b[0;34m)\u001b[0m\u001b[0;34m\u001b[0m\u001b[0;34m\u001b[0m\u001b[0m\n\u001b[0m\u001b[1;32m   3613\u001b[0m \u001b[0;34m\u001b[0m\u001b[0m\n\u001b[1;32m   3614\u001b[0m     \u001b[0;32mdef\u001b[0m \u001b[0m_setitem_slice\u001b[0m\u001b[0;34m(\u001b[0m\u001b[0mself\u001b[0m\u001b[0;34m,\u001b[0m \u001b[0mkey\u001b[0m\u001b[0;34m:\u001b[0m \u001b[0mslice\u001b[0m\u001b[0;34m,\u001b[0m \u001b[0mvalue\u001b[0m\u001b[0;34m)\u001b[0m\u001b[0;34m:\u001b[0m\u001b[0;34m\u001b[0m\u001b[0;34m\u001b[0m\u001b[0m\n",
      "\u001b[0;32m/opt/conda/lib/python3.9/site-packages/pandas/core/frame.py\u001b[0m in \u001b[0;36m_set_item\u001b[0;34m(self, key, value)\u001b[0m\n\u001b[1;32m   3782\u001b[0m         \u001b[0mensure\u001b[0m \u001b[0mhomogeneity\u001b[0m\u001b[0;34m.\u001b[0m\u001b[0;34m\u001b[0m\u001b[0;34m\u001b[0m\u001b[0m\n\u001b[1;32m   3783\u001b[0m         \"\"\"\n\u001b[0;32m-> 3784\u001b[0;31m         \u001b[0mvalue\u001b[0m \u001b[0;34m=\u001b[0m \u001b[0mself\u001b[0m\u001b[0;34m.\u001b[0m\u001b[0m_sanitize_column\u001b[0m\u001b[0;34m(\u001b[0m\u001b[0mvalue\u001b[0m\u001b[0;34m)\u001b[0m\u001b[0;34m\u001b[0m\u001b[0;34m\u001b[0m\u001b[0m\n\u001b[0m\u001b[1;32m   3785\u001b[0m \u001b[0;34m\u001b[0m\u001b[0m\n\u001b[1;32m   3786\u001b[0m         if (\n",
      "\u001b[0;32m/opt/conda/lib/python3.9/site-packages/pandas/core/frame.py\u001b[0m in \u001b[0;36m_sanitize_column\u001b[0;34m(self, value)\u001b[0m\n\u001b[1;32m   4507\u001b[0m \u001b[0;34m\u001b[0m\u001b[0m\n\u001b[1;32m   4508\u001b[0m         \u001b[0;32mif\u001b[0m \u001b[0mis_list_like\u001b[0m\u001b[0;34m(\u001b[0m\u001b[0mvalue\u001b[0m\u001b[0;34m)\u001b[0m\u001b[0;34m:\u001b[0m\u001b[0;34m\u001b[0m\u001b[0;34m\u001b[0m\u001b[0m\n\u001b[0;32m-> 4509\u001b[0;31m             \u001b[0mcom\u001b[0m\u001b[0;34m.\u001b[0m\u001b[0mrequire_length_match\u001b[0m\u001b[0;34m(\u001b[0m\u001b[0mvalue\u001b[0m\u001b[0;34m,\u001b[0m \u001b[0mself\u001b[0m\u001b[0;34m.\u001b[0m\u001b[0mindex\u001b[0m\u001b[0;34m)\u001b[0m\u001b[0;34m\u001b[0m\u001b[0;34m\u001b[0m\u001b[0m\n\u001b[0m\u001b[1;32m   4510\u001b[0m         \u001b[0;32mreturn\u001b[0m \u001b[0msanitize_array\u001b[0m\u001b[0;34m(\u001b[0m\u001b[0mvalue\u001b[0m\u001b[0;34m,\u001b[0m \u001b[0mself\u001b[0m\u001b[0;34m.\u001b[0m\u001b[0mindex\u001b[0m\u001b[0;34m,\u001b[0m \u001b[0mcopy\u001b[0m\u001b[0;34m=\u001b[0m\u001b[0;32mTrue\u001b[0m\u001b[0;34m,\u001b[0m \u001b[0mallow_2d\u001b[0m\u001b[0;34m=\u001b[0m\u001b[0;32mTrue\u001b[0m\u001b[0;34m)\u001b[0m\u001b[0;34m\u001b[0m\u001b[0;34m\u001b[0m\u001b[0m\n\u001b[1;32m   4511\u001b[0m \u001b[0;34m\u001b[0m\u001b[0m\n",
      "\u001b[0;32m/opt/conda/lib/python3.9/site-packages/pandas/core/common.py\u001b[0m in \u001b[0;36mrequire_length_match\u001b[0;34m(data, index)\u001b[0m\n\u001b[1;32m    529\u001b[0m     \"\"\"\n\u001b[1;32m    530\u001b[0m     \u001b[0;32mif\u001b[0m \u001b[0mlen\u001b[0m\u001b[0;34m(\u001b[0m\u001b[0mdata\u001b[0m\u001b[0;34m)\u001b[0m \u001b[0;34m!=\u001b[0m \u001b[0mlen\u001b[0m\u001b[0;34m(\u001b[0m\u001b[0mindex\u001b[0m\u001b[0;34m)\u001b[0m\u001b[0;34m:\u001b[0m\u001b[0;34m\u001b[0m\u001b[0;34m\u001b[0m\u001b[0m\n\u001b[0;32m--> 531\u001b[0;31m         raise ValueError(\n\u001b[0m\u001b[1;32m    532\u001b[0m             \u001b[0;34m\"Length of values \"\u001b[0m\u001b[0;34m\u001b[0m\u001b[0;34m\u001b[0m\u001b[0m\n\u001b[1;32m    533\u001b[0m             \u001b[0;34mf\"({len(data)}) \"\u001b[0m\u001b[0;34m\u001b[0m\u001b[0;34m\u001b[0m\u001b[0m\n",
      "\u001b[0;31mValueError\u001b[0m: Length of values (1) does not match length of index (14539578)"
     ]
    }
   ],
   "source": [
    "%%time\n",
    "model = ols(\"sdbAre_q1 ~ labels\", data=data.assign(labels=pd.Categorical(labels)))"
   ]
  },
  {
   "cell_type": "code",
   "execution_count": 40,
   "id": "35da590c-7bd2-4b5f-899b-d549e73ce018",
   "metadata": {},
   "outputs": [
    {
     "name": "stdout",
     "output_type": "stream",
     "text": [
      "CPU times: user 1min 2s, sys: 1min 2s, total: 2min 5s\n",
      "Wall time: 23.7 s\n"
     ]
    }
   ],
   "source": [
    "%%time\n",
    "model = sm.OLS(data[\"sdbAre_q1\"], dummies).fit()"
   ]
  },
  {
   "cell_type": "code",
   "execution_count": 41,
   "id": "bbac93d0-b8bc-4133-a6bc-6a725df58b6c",
   "metadata": {},
   "outputs": [],
   "source": [
    "p = model.f_pvalue\n",
    "f = model.fvalue"
   ]
  },
  {
   "cell_type": "code",
   "execution_count": 49,
   "id": "36e967c9-c346-4045-9cd7-ccbd4c944e2f",
   "metadata": {},
   "outputs": [
    {
     "data": {
      "application/vnd.jupyter.widget-view+json": {
       "model_id": "959104d1053743d297d262e285139e89",
       "version_major": 2,
       "version_minor": 0
      },
      "text/plain": [
       "  0%|          | 0/328 [00:00<?, ?it/s]"
      ]
     },
     "metadata": {},
     "output_type": "display_data"
    },
    {
     "name": "stderr",
     "output_type": "stream",
     "text": [
      "/opt/conda/lib/python3.9/site-packages/statsmodels/regression/linear_model.py:1827: RuntimeWarning: invalid value encountered in double_scalars\n",
      "  return self.mse_model/self.mse_resid\n"
     ]
    },
    {
     "name": "stdout",
     "output_type": "stream",
     "text": [
      "CPU times: user 5h 51min 10s, sys: 5h 52min 9s, total: 11h 43min 20s\n",
      "Wall time: 2h 11min 46s\n"
     ]
    }
   ],
   "source": [
    "%%time\n",
    "results = {}\n",
    "for c in tqdm.tqdm(data.columns, total=328):\n",
    "    model = sm.OLS(data[c], dummies).fit()\n",
    "    results[c] = (model.f_pvalue, model.fvalue)\n",
    "results_df = pd.DataFrame(results).T\n",
    "results_df.columns = [\"p\", \"F\"]\n",
    "results_df.to_parquet(\"../../urbangrammar_samba/spatial_signatures/f_stats.pq\")"
   ]
  },
  {
   "cell_type": "code",
   "execution_count": 57,
   "id": "8624c7db-ec31-4354-9eab-dfe3d7eeae1a",
   "metadata": {},
   "outputs": [
    {
     "name": "stdout",
     "output_type": "stream",
     "text": [
      "<class 'pandas.core.frame.DataFrame'>\n",
      "Index: 328 entries, sdbAre_q1 to Code_18_521_q3\n",
      "Data columns (total 2 columns):\n",
      " #   Column  Non-Null Count  Dtype  \n",
      "---  ------  --------------  -----  \n",
      " 0   p       310 non-null    float64\n",
      " 1   F       310 non-null    float64\n",
      "dtypes: float64(2)\n",
      "memory usage: 15.8+ KB\n"
     ]
    }
   ],
   "source": [
    "results_df.info()"
   ]
  },
  {
   "cell_type": "code",
   "execution_count": 78,
   "id": "a7bf2a81-51a4-435a-beaa-98c3eee764b2",
   "metadata": {},
   "outputs": [
    {
     "data": {
      "text/plain": [
       "(14539578, 328)"
      ]
     },
     "execution_count": 78,
     "metadata": {},
     "output_type": "execute_result"
    }
   ],
   "source": [
    "data.shape"
   ]
  },
  {
   "cell_type": "code",
   "execution_count": 80,
   "id": "77e63efd-2e5d-4e55-96d2-bba764682860",
   "metadata": {},
   "outputs": [
    {
     "data": {
      "text/plain": [
       "Index(['Code_18_141_q1', 'Code_18_122_q2', 'Code_18_512_q2', 'Code_18_324_q1',\n",
       "       'Code_18_312_q1'],\n",
       "      dtype='object')"
      ]
     },
     "execution_count": 80,
     "metadata": {},
     "output_type": "execute_result"
    }
   ],
   "source": [
    "results_df[results_df.p > 0.05].index"
   ]
  },
  {
   "cell_type": "code",
   "execution_count": null,
   "id": "5d91d585-c884-4eed-9ee6-c25f28778fc8",
   "metadata": {},
   "outputs": [],
   "source": [
    "Land cover [Green urban areas] (Q1), Land cover [Road and rail networks and associated land] (Q2), "
   ]
  },
  {
   "cell_type": "code",
   "execution_count": 81,
   "id": "51de74bc-378f-4e92-bb6f-5cfff7244f01",
   "metadata": {},
   "outputs": [],
   "source": [
    "key = { \n",
    "    '124': 'Land cover [Airports]',\n",
    "    '211': 'Land cover [Non-irrigated arable land]',\n",
    "    '121': 'Land cover [Industrial or commercial units]',\n",
    "    '421': 'Land cover [Salt marshes]',\n",
    "    '522': 'Land cover [Estuaries]',\n",
    "    '142': 'Land cover [Sport and leisure facilities]',\n",
    "    '141': 'Land cover [Green urban areas]',\n",
    "    '112': 'Land cover [Discontinuous urban fabric]',\n",
    "    '231': 'Land cover [Pastures]',\n",
    "    '311': 'Land cover [Broad-leaved forest]',\n",
    "    '131': 'Land cover [Mineral extraction sites]',\n",
    "    '123': 'Land cover [Port areas]',\n",
    "    '122': 'Land cover [Road and rail networks and associated land]',\n",
    "    '512': 'Land cover [Water bodies]',\n",
    "    '243': 'Land cover [Land principally occupied by agriculture, with significant areas of natural vegetation]',\n",
    "    '313': 'Land cover [Mixed forest]',\n",
    "    '412': 'Land cover [Peat bogs]',\n",
    "    '321': 'Land cover [Natural grasslands]',\n",
    "    '322': 'Land cover [Moors and heathland]',\n",
    "    '324': 'Land cover [Transitional woodland-shrub]',\n",
    "    '111': 'Land cover [Continuous urban fabric]',\n",
    "    '423': 'Land cover [Intertidal flats]',\n",
    "    '523': 'Land cover [Sea and ocean]',\n",
    "    '312': 'Land cover [Coniferous forest]',\n",
    "    '133': 'Land cover [Construction sites]',\n",
    "    '333': 'Land cover [Sparsely vegetated areas]',\n",
    "    '332': 'Land cover [Bare rocks]',\n",
    "    '411': 'Land cover [Inland marshes]',\n",
    "    '132': 'Land cover [Dump sites]',\n",
    "    '222': 'Land cover [Fruit trees and berry plantations]',\n",
    "    '242': 'Land cover [Complex cultivation patterns]',\n",
    "    '331': 'Land cover [Beaches, dunes, sands]',\n",
    "    '511': 'Land cover [Water courses]',\n",
    "    '334': 'Land cover [Burnt areas]',\n",
    "    '244': 'Land cover [Agro-forestry areas]',\n",
    "    '521': 'Land cover [Coastal lagoons]',\n",
    "}"
   ]
  },
  {
   "cell_type": "code",
   "execution_count": 86,
   "id": "5d4c447b-01c0-4957-bbd6-497fec16ccfb",
   "metadata": {},
   "outputs": [
    {
     "data": {
      "text/plain": [
       "'Land cover [Airports] Q1, Land cover [Mineral extraction sites] Q1, Land cover [Road and rail networks and associated land] Q1, Land cover [Water bodies] Q1, Land cover [Inland marshes] Q1, Land cover [Dump sites] Q1, Land cover [Water courses] Q2, Land cover [Burnt areas] Q2, Land cover [Water courses] Q1, Land cover [Burnt areas] Q1, Land cover [Agro-forestry areas] Q3, Land cover [Coastal lagoons] Q2, Land cover [Burnt areas] Q3, Land cover [Agro-forestry areas] Q1, Land cover [Agro-forestry areas] Q2, Land cover [Dump sites] Q2, Land cover [Coastal lagoons] Q1, Land cover [Coastal lagoons] Q3, '"
      ]
     },
     "execution_count": 86,
     "metadata": {},
     "output_type": "execute_result"
    }
   ],
   "source": [
    "s = \"\"\n",
    "for ch in results_df[results_df.p.isna()].index:\n",
    "    s += f\"{key[ch[8:11]]} {ch[12:].upper()}, \"\n",
    "s"
   ]
  },
  {
   "cell_type": "code",
   "execution_count": 54,
   "id": "098fa24b-dd9c-41f4-8314-71a1e288daa8",
   "metadata": {},
   "outputs": [
    {
     "data": {
      "text/plain": [
       "18"
      ]
     },
     "execution_count": 54,
     "metadata": {},
     "output_type": "execute_result"
    }
   ],
   "source": [
    "results_df.p.isna().sum()"
   ]
  },
  {
   "cell_type": "code",
   "execution_count": null,
   "id": "d5fdbd9a-52cc-4a25-be92-c8aebde58e99",
   "metadata": {},
   "outputs": [
    {
     "data": {
      "text/plain": [
       "<AxesSubplot:ylabel='Frequency'>"
      ]
     },
     "execution_count": 56,
     "metadata": {},
     "output_type": "execute_result"
    },
    {
     "data": {
      "image/png": "[encoded data removed]",
      "text/plain": [
       "<Figure size 432x288 with 1 Axes>"
      ]
     },
     "metadata": {
      "needs_background": "light"
     },
     "output_type": "display_data"
    }
   ],
   "source": [
    "data[\"Code_18_141_q1\"].plot.hist()"
   ]
  },
  {
   "cell_type": "code",
   "execution_count": 48,
   "id": "8d21ff2f-5638-46a9-a48c-7737d790e8a9",
   "metadata": {},
   "outputs": [],
   "source": [
    "for char in results_df[results_df.isna().any(axis=1)].index:\n",
    "    assert data[char].min() == 0\n",
    "    assert data[char].max() == 0"
   ]
  },
  {
   "cell_type": "code",
   "execution_count": 58,
   "id": "89759382-a596-4b4d-a3d0-0bbc2188e44a",
   "metadata": {},
   "outputs": [
    {
     "data": {
      "text/plain": [
       "sdbAre_q1         1.164105e+06\n",
       "sdbAre_q2         2.713511e+06\n",
       "sdbAre_q3         2.829579e+06\n",
       "sdbPer_q1         9.943499e+05\n",
       "sdbPer_q2         2.135257e+06\n",
       "                      ...     \n",
       "Code_18_132_q2             NaN\n",
       "Code_18_132_q3    5.033400e+00\n",
       "Code_18_521_q1             NaN\n",
       "Code_18_222_q2    1.679105e+02\n",
       "Code_18_521_q3             NaN\n",
       "Name: F, Length: 328, dtype: float64"
      ]
     },
     "execution_count": 58,
     "metadata": {},
     "output_type": "execute_result"
    }
   ],
   "source": [
    "results_df[\"F\"]"
   ]
  },
  {
   "cell_type": "code",
   "execution_count": 60,
   "id": "6b13a969-0bdc-4876-9724-34ef56b5e439",
   "metadata": {},
   "outputs": [],
   "source": [
    "importance = pd.read_csv(\"../../urbangrammar_samba/spatial_signatures/clustering_data/spsig_feature_importance.csv\", index_col=0)"
   ]
  },
  {
   "cell_type": "code",
   "execution_count": 61,
   "id": "97be55df-52b3-4213-ac4c-9670bb876b37",
   "metadata": {},
   "outputs": [
    {
     "data": {
      "text/html": [
       "<div>\n",
       "<style scoped>\n",
       "    .dataframe tbody tr th:only-of-type {\n",
       "        vertical-align: middle;\n",
       "    }\n",
       "\n",
       "    .dataframe tbody tr th {\n",
       "        vertical-align: top;\n",
       "    }\n",
       "\n",
       "    .dataframe thead th {\n",
       "        text-align: right;\n",
       "    }\n",
       "</style>\n",
       "<table border=\"1\" class=\"dataframe\">\n",
       "  <thead>\n",
       "    <tr style=\"text-align: right;\">\n",
       "      <th></th>\n",
       "      <th>0</th>\n",
       "    </tr>\n",
       "  </thead>\n",
       "  <tbody>\n",
       "    <tr>\n",
       "      <th>sicCAR_q1</th>\n",
       "      <td>0.036944</td>\n",
       "    </tr>\n",
       "    <tr>\n",
       "      <th>sicCAR_q2</th>\n",
       "      <td>0.031717</td>\n",
       "    </tr>\n",
       "    <tr>\n",
       "      <th>mtcWNe_q2</th>\n",
       "      <td>0.023476</td>\n",
       "    </tr>\n",
       "    <tr>\n",
       "      <th>ltbIBD_q2</th>\n",
       "      <td>0.016662</td>\n",
       "    </tr>\n",
       "    <tr>\n",
       "      <th>sdcAre_q3</th>\n",
       "      <td>0.016005</td>\n",
       "    </tr>\n",
       "    <tr>\n",
       "      <th>...</th>\n",
       "      <td>...</td>\n",
       "    </tr>\n",
       "    <tr>\n",
       "      <th>Code_18_334_q2</th>\n",
       "      <td>0.000000</td>\n",
       "    </tr>\n",
       "    <tr>\n",
       "      <th>Code_18_141_q1</th>\n",
       "      <td>0.000000</td>\n",
       "    </tr>\n",
       "    <tr>\n",
       "      <th>Code_18_124_q1</th>\n",
       "      <td>0.000000</td>\n",
       "    </tr>\n",
       "    <tr>\n",
       "      <th>Code_18_511_q2</th>\n",
       "      <td>0.000000</td>\n",
       "    </tr>\n",
       "    <tr>\n",
       "      <th>Code_18_521_q3</th>\n",
       "      <td>0.000000</td>\n",
       "    </tr>\n",
       "  </tbody>\n",
       "</table>\n",
       "<p>328 rows × 1 columns</p>\n",
       "</div>"
      ],
      "text/plain": [
       "                       0\n",
       "sicCAR_q1       0.036944\n",
       "sicCAR_q2       0.031717\n",
       "mtcWNe_q2       0.023476\n",
       "ltbIBD_q2       0.016662\n",
       "sdcAre_q3       0.016005\n",
       "...                  ...\n",
       "Code_18_334_q2  0.000000\n",
       "Code_18_141_q1  0.000000\n",
       "Code_18_124_q1  0.000000\n",
       "Code_18_511_q2  0.000000\n",
       "Code_18_521_q3  0.000000\n",
       "\n",
       "[328 rows x 1 columns]"
      ]
     },
     "execution_count": 61,
     "metadata": {},
     "output_type": "execute_result"
    }
   ],
   "source": [
    "importance"
   ]
  },
  {
   "cell_type": "code",
   "execution_count": 63,
   "id": "73c2afad-be18-4d5d-a78e-05500ccf271b",
   "metadata": {},
   "outputs": [],
   "source": [
    "results_df[\"importance\"] = importance['0']"
   ]
  },
  {
   "cell_type": "code",
   "execution_count": 65,
   "id": "24e9ba6c-cc40-42ca-b832-c038707391ff",
   "metadata": {},
   "outputs": [
    {
     "data": {
      "text/plain": [
       "<AxesSubplot:xlabel='F', ylabel='importance'>"
      ]
     },
     "execution_count": 65,
     "metadata": {},
     "output_type": "execute_result"
    },
    {
     "data": {
      "image/png": "[encoded data removed]",
      "text/plain": [
       "<Figure size 432x288 with 1 Axes>"
      ]
     },
     "metadata": {
      "needs_background": "light"
     },
     "output_type": "display_data"
    }
   ],
   "source": [
    "results_df.plot.scatter(\"F\", \"importance\")"
   ]
  },
  {
   "cell_type": "code",
   "execution_count": 66,
   "id": "8d4e57e0-2395-42dd-8545-104ccc561d78",
   "metadata": {},
   "outputs": [],
   "source": [
    "import seaborn as sns"
   ]
  },
  {
   "cell_type": "code",
   "execution_count": 67,
   "id": "f4b58f1d-875b-4919-ae4b-5aedcb0b8816",
   "metadata": {},
   "outputs": [
    {
     "name": "stderr",
     "output_type": "stream",
     "text": [
      "/opt/conda/lib/python3.9/site-packages/seaborn/_decorators.py:36: FutureWarning: Pass the following variables as keyword args: x, y. From version 0.12, the only valid positional argument will be `data`, and passing other arguments without an explicit keyword will result in an error or misinterpretation.\n",
      "  warnings.warn(\n"
     ]
    },
    {
     "data": {
      "text/plain": [
       "<AxesSubplot:xlabel='F', ylabel='importance'>"
      ]
     },
     "execution_count": 67,
     "metadata": {},
     "output_type": "execute_result"
    },
    {
     "data": {
      "image/png": "[encoded data removed]",
      "text/plain": [
       "<Figure size 432x288 with 1 Axes>"
      ]
     },
     "metadata": {
      "needs_background": "light"
     },
     "output_type": "display_data"
    }
   ],
   "source": [
    "sns.regplot(\"F\", \"importance\", data=results_df)"
   ]
  },
  {
   "cell_type": "code",
   "execution_count": 70,
   "id": "c1a22186-0752-4b68-af30-1ddc16803d56",
   "metadata": {},
   "outputs": [],
   "source": [
    "results_df[\"sig\"] = results_df.p < 0.05"
   ]
  },
  {
   "cell_type": "code",
   "execution_count": 71,
   "id": "089a4ae6-b8c3-4a7e-9354-7dae1668887f",
   "metadata": {},
   "outputs": [
    {
     "name": "stderr",
     "output_type": "stream",
     "text": [
      "/opt/conda/lib/python3.9/site-packages/seaborn/categorical.py:1296: UserWarning: 35.4% of the points cannot be placed; you may want to decrease the size of the markers or use stripplot.\n",
      "  warnings.warn(msg, UserWarning)\n"
     ]
    },
    {
     "data": {
      "text/plain": [
       "<AxesSubplot:xlabel='sig', ylabel='importance'>"
      ]
     },
     "execution_count": 71,
     "metadata": {},
     "output_type": "execute_result"
    },
    {
     "data": {
      "image/png": "[encoded data removed]",
      "text/plain": [
       "<Figure size 432x288 with 1 Axes>"
      ]
     },
     "metadata": {
      "needs_background": "light"
     },
     "output_type": "display_data"
    }
   ],
   "source": [
    "sns.swarmplot(y=\"importance\", x='sig', data=results_df)"
   ]
  },
  {
   "cell_type": "code",
   "execution_count": 77,
   "id": "c8e00dc2-6e73-4fff-9d78-0df0c6e864a3",
   "metadata": {},
   "outputs": [
    {
     "data": {
      "text/html": [
       "<div>\n",
       "<style scoped>\n",
       "    .dataframe tbody tr th:only-of-type {\n",
       "        vertical-align: middle;\n",
       "    }\n",
       "\n",
       "    .dataframe tbody tr th {\n",
       "        vertical-align: top;\n",
       "    }\n",
       "\n",
       "    .dataframe thead th {\n",
       "        text-align: right;\n",
       "    }\n",
       "</style>\n",
       "<table border=\"1\" class=\"dataframe\">\n",
       "  <thead>\n",
       "    <tr style=\"text-align: right;\">\n",
       "      <th></th>\n",
       "      <th>p</th>\n",
       "      <th>F</th>\n",
       "      <th>importance</th>\n",
       "      <th>sig</th>\n",
       "    </tr>\n",
       "  </thead>\n",
       "  <tbody>\n",
       "    <tr>\n",
       "      <th>ssbCor_q1</th>\n",
       "      <td>0.0</td>\n",
       "      <td>7.031875e+06</td>\n",
       "      <td>1.004750e-07</td>\n",
       "      <td>True</td>\n",
       "    </tr>\n",
       "    <tr>\n",
       "      <th>ssbCCD_q2</th>\n",
       "      <td>0.0</td>\n",
       "      <td>5.784977e+06</td>\n",
       "      <td>4.943006e-03</td>\n",
       "      <td>True</td>\n",
       "    </tr>\n",
       "    <tr>\n",
       "      <th>sicCAR_q2</th>\n",
       "      <td>0.0</td>\n",
       "      <td>5.586707e+06</td>\n",
       "      <td>3.171676e-02</td>\n",
       "      <td>True</td>\n",
       "    </tr>\n",
       "    <tr>\n",
       "      <th>ssbSqu_q1</th>\n",
       "      <td>0.0</td>\n",
       "      <td>5.260049e+06</td>\n",
       "      <td>2.004136e-03</td>\n",
       "      <td>True</td>\n",
       "    </tr>\n",
       "    <tr>\n",
       "      <th>sdsSPO_q2</th>\n",
       "      <td>0.0</td>\n",
       "      <td>4.555403e+06</td>\n",
       "      <td>9.863778e-03</td>\n",
       "      <td>True</td>\n",
       "    </tr>\n",
       "    <tr>\n",
       "      <th>ssbCCD_q3</th>\n",
       "      <td>0.0</td>\n",
       "      <td>4.464720e+06</td>\n",
       "      <td>3.564785e-03</td>\n",
       "      <td>True</td>\n",
       "    </tr>\n",
       "    <tr>\n",
       "      <th>sdsSPO_q1</th>\n",
       "      <td>0.0</td>\n",
       "      <td>4.453836e+06</td>\n",
       "      <td>4.645283e-03</td>\n",
       "      <td>True</td>\n",
       "    </tr>\n",
       "    <tr>\n",
       "      <th>R, S, T, U. Other_q2</th>\n",
       "      <td>0.0</td>\n",
       "      <td>4.113209e+06</td>\n",
       "      <td>1.432705e-03</td>\n",
       "      <td>True</td>\n",
       "    </tr>\n",
       "    <tr>\n",
       "      <th>sicCAR_q1</th>\n",
       "      <td>0.0</td>\n",
       "      <td>4.039581e+06</td>\n",
       "      <td>3.694416e-02</td>\n",
       "      <td>True</td>\n",
       "    </tr>\n",
       "    <tr>\n",
       "      <th>ssbERI_q1</th>\n",
       "      <td>0.0</td>\n",
       "      <td>3.946964e+06</td>\n",
       "      <td>7.240188e-03</td>\n",
       "      <td>True</td>\n",
       "    </tr>\n",
       "    <tr>\n",
       "      <th>ssbCor_q2</th>\n",
       "      <td>0.0</td>\n",
       "      <td>3.928673e+06</td>\n",
       "      <td>2.848661e-05</td>\n",
       "      <td>True</td>\n",
       "    </tr>\n",
       "    <tr>\n",
       "      <th>R, S, T, U. Other_q3</th>\n",
       "      <td>0.0</td>\n",
       "      <td>3.884124e+06</td>\n",
       "      <td>2.055444e-03</td>\n",
       "      <td>True</td>\n",
       "    </tr>\n",
       "    <tr>\n",
       "      <th>sicCAR_q3</th>\n",
       "      <td>0.0</td>\n",
       "      <td>3.799049e+06</td>\n",
       "      <td>9.460556e-03</td>\n",
       "      <td>True</td>\n",
       "    </tr>\n",
       "    <tr>\n",
       "      <th>mtcWNe_q1</th>\n",
       "      <td>0.0</td>\n",
       "      <td>3.795199e+06</td>\n",
       "      <td>9.559132e-03</td>\n",
       "      <td>True</td>\n",
       "    </tr>\n",
       "    <tr>\n",
       "      <th>K, L, M, N. Financial, real estate, professional and administrative activities_q3</th>\n",
       "      <td>0.0</td>\n",
       "      <td>3.775361e+06</td>\n",
       "      <td>1.921642e-03</td>\n",
       "      <td>True</td>\n",
       "    </tr>\n",
       "    <tr>\n",
       "      <th>mtcWNe_q2</th>\n",
       "      <td>0.0</td>\n",
       "      <td>3.706665e+06</td>\n",
       "      <td>2.347565e-02</td>\n",
       "      <td>True</td>\n",
       "    </tr>\n",
       "    <tr>\n",
       "      <th>H, J. Transport and communication_q3</th>\n",
       "      <td>0.0</td>\n",
       "      <td>3.607226e+06</td>\n",
       "      <td>1.674766e-03</td>\n",
       "      <td>True</td>\n",
       "    </tr>\n",
       "    <tr>\n",
       "      <th>ssbCCD_q1</th>\n",
       "      <td>0.0</td>\n",
       "      <td>3.603939e+06</td>\n",
       "      <td>3.043970e-03</td>\n",
       "      <td>True</td>\n",
       "    </tr>\n",
       "    <tr>\n",
       "      <th>ssbERI_q2</th>\n",
       "      <td>0.0</td>\n",
       "      <td>3.578647e+06</td>\n",
       "      <td>2.690754e-03</td>\n",
       "      <td>True</td>\n",
       "    </tr>\n",
       "    <tr>\n",
       "      <th>G, I. Distribution, hotels and restaurants_q2</th>\n",
       "      <td>0.0</td>\n",
       "      <td>3.530780e+06</td>\n",
       "      <td>1.797167e-03</td>\n",
       "      <td>True</td>\n",
       "    </tr>\n",
       "  </tbody>\n",
       "</table>\n",
       "</div>"
      ],
      "text/plain": [
       "                                                      p             F  \\\n",
       "ssbCor_q1                                           0.0  7.031875e+06   \n",
       "ssbCCD_q2                                           0.0  5.784977e+06   \n",
       "sicCAR_q2                                           0.0  5.586707e+06   \n",
       "ssbSqu_q1                                           0.0  5.260049e+06   \n",
       "sdsSPO_q2                                           0.0  4.555403e+06   \n",
       "ssbCCD_q3                                           0.0  4.464720e+06   \n",
       "sdsSPO_q1                                           0.0  4.453836e+06   \n",
       "R, S, T, U. Other_q2                                0.0  4.113209e+06   \n",
       "sicCAR_q1                                           0.0  4.039581e+06   \n",
       "ssbERI_q1                                           0.0  3.946964e+06   \n",
       "ssbCor_q2                                           0.0  3.928673e+06   \n",
       "R, S, T, U. Other_q3                                0.0  3.884124e+06   \n",
       "sicCAR_q3                                           0.0  3.799049e+06   \n",
       "mtcWNe_q1                                           0.0  3.795199e+06   \n",
       "K, L, M, N. Financial, real estate, professiona...  0.0  3.775361e+06   \n",
       "mtcWNe_q2                                           0.0  3.706665e+06   \n",
       "H, J. Transport and communication_q3                0.0  3.607226e+06   \n",
       "ssbCCD_q1                                           0.0  3.603939e+06   \n",
       "ssbERI_q2                                           0.0  3.578647e+06   \n",
       "G, I. Distribution, hotels and restaurants_q2       0.0  3.530780e+06   \n",
       "\n",
       "                                                      importance   sig  \n",
       "ssbCor_q1                                           1.004750e-07  True  \n",
       "ssbCCD_q2                                           4.943006e-03  True  \n",
       "sicCAR_q2                                           3.171676e-02  True  \n",
       "ssbSqu_q1                                           2.004136e-03  True  \n",
       "sdsSPO_q2                                           9.863778e-03  True  \n",
       "ssbCCD_q3                                           3.564785e-03  True  \n",
       "sdsSPO_q1                                           4.645283e-03  True  \n",
       "R, S, T, U. Other_q2                                1.432705e-03  True  \n",
       "sicCAR_q1                                           3.694416e-02  True  \n",
       "ssbERI_q1                                           7.240188e-03  True  \n",
       "ssbCor_q2                                           2.848661e-05  True  \n",
       "R, S, T, U. Other_q3                                2.055444e-03  True  \n",
       "sicCAR_q3                                           9.460556e-03  True  \n",
       "mtcWNe_q1                                           9.559132e-03  True  \n",
       "K, L, M, N. Financial, real estate, professiona...  1.921642e-03  True  \n",
       "mtcWNe_q2                                           2.347565e-02  True  \n",
       "H, J. Transport and communication_q3                1.674766e-03  True  \n",
       "ssbCCD_q1                                           3.043970e-03  True  \n",
       "ssbERI_q2                                           2.690754e-03  True  \n",
       "G, I. Distribution, hotels and restaurants_q2       1.797167e-03  True  "
      ]
     },
     "execution_count": 77,
     "metadata": {},
     "output_type": "execute_result"
    }
   ],
   "source": [
    "results_df.query('sig').sort_values(\"F\", ascending=False).head(20)"
   ]
  },
  {
   "cell_type": "code",
   "execution_count": null,
   "id": "ebd097f4-6bbc-4ac9-812c-dde46b0f22a0",
   "metadata": {},
   "outputs": [],
   "source": []
  }
 ],
 "metadata": {
  "kernelspec": {
   "display_name": "Python 3 (ipykernel)",
   "language": "python",
   "name": "python3"
  },
  "language_info": {
   "codemirror_mode": {
    "name": "ipython",
    "version": 3
   },
   "file_extension": ".py",
   "mimetype": "text/x-python",
   "name": "python",
   "nbconvert_exporter": "python",
   "pygments_lexer": "ipython3",
   "version": "3.9.7"
  }
 },
 "nbformat": 4,
 "nbformat_minor": 5
}
