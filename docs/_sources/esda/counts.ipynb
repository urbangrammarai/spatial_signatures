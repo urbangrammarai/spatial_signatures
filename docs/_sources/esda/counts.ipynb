{
 "cells": [
  {
   "cell_type": "markdown",
   "id": "66358fd5-fad4-401b-88b2-4615b3fbfc8a",
   "metadata": {},
   "source": [
    "# Summary of coverage (units, area, population)"
   ]
  },
  {
   "cell_type": "code",
   "execution_count": 105,
   "id": "e92a6104-ee1e-426e-a6b9-378c25a17329",
   "metadata": {},
   "outputs": [],
   "source": [
    "import dask.dataframe as dd\n",
    "import geopandas"
   ]
  },
  {
   "cell_type": "code",
   "execution_count": 106,
   "id": "7c4a3e33-4a63-439f-ac82-412d2eaf01e3",
   "metadata": {},
   "outputs": [],
   "source": [
    "path = \"../../urbangrammar_samba/spatial_signatures/functional/population\""
   ]
  },
  {
   "cell_type": "code",
   "execution_count": 107,
   "id": "4b7374ff-7a36-4761-9506-3198e9dc0219",
   "metadata": {},
   "outputs": [],
   "source": [
    "population = dd.read_parquet(path)"
   ]
  },
  {
   "cell_type": "code",
   "execution_count": 108,
   "id": "eef25b8b-6014-4999-972c-558ef1bfdc9e",
   "metadata": {},
   "outputs": [
    {
     "data": {
      "text/html": [
       "<div><strong>Dask DataFrame Structure:</strong></div>\n",
       "<div>\n",
       "<style scoped>\n",
       "    .dataframe tbody tr th:only-of-type {\n",
       "        vertical-align: middle;\n",
       "    }\n",
       "\n",
       "    .dataframe tbody tr th {\n",
       "        vertical-align: top;\n",
       "    }\n",
       "\n",
       "    .dataframe thead th {\n",
       "        text-align: right;\n",
       "    }\n",
       "</style>\n",
       "<table border=\"1\" class=\"dataframe\">\n",
       "  <thead>\n",
       "    <tr style=\"text-align: right;\">\n",
       "      <th></th>\n",
       "      <th>hindex</th>\n",
       "      <th>population</th>\n",
       "    </tr>\n",
       "    <tr>\n",
       "      <th>npartitions=103</th>\n",
       "      <th></th>\n",
       "      <th></th>\n",
       "    </tr>\n",
       "  </thead>\n",
       "  <tbody>\n",
       "    <tr>\n",
       "      <th></th>\n",
       "      <td>object</td>\n",
       "      <td>float64</td>\n",
       "    </tr>\n",
       "    <tr>\n",
       "      <th></th>\n",
       "      <td>...</td>\n",
       "      <td>...</td>\n",
       "    </tr>\n",
       "    <tr>\n",
       "      <th>...</th>\n",
       "      <td>...</td>\n",
       "      <td>...</td>\n",
       "    </tr>\n",
       "    <tr>\n",
       "      <th></th>\n",
       "      <td>...</td>\n",
       "      <td>...</td>\n",
       "    </tr>\n",
       "    <tr>\n",
       "      <th></th>\n",
       "      <td>...</td>\n",
       "      <td>...</td>\n",
       "    </tr>\n",
       "  </tbody>\n",
       "</table>\n",
       "</div>\n",
       "<div>Dask Name: read-parquet, 103 tasks</div>"
      ],
      "text/plain": [
       "Dask DataFrame Structure:\n",
       "                 hindex population\n",
       "npartitions=103                   \n",
       "                 object    float64\n",
       "                    ...        ...\n",
       "...                 ...        ...\n",
       "                    ...        ...\n",
       "                    ...        ...\n",
       "Dask Name: read-parquet, 103 tasks"
      ]
     },
     "execution_count": 108,
     "metadata": {},
     "output_type": "execute_result"
    }
   ],
   "source": [
    "population"
   ]
  },
  {
   "cell_type": "code",
   "execution_count": 109,
   "id": "bee6e7f7-2395-4ba8-8297-addce1dd2b38",
   "metadata": {},
   "outputs": [],
   "source": [
    "types_path = \"../../urbangrammar_samba/spatial_signatures/signatures/signatures_combined_tessellation\"\n",
    "types = dd.read_parquet(types_path, columns=['hindex', 'signature_type'])"
   ]
  },
  {
   "cell_type": "code",
   "execution_count": 110,
   "id": "b8ac2c4b-5eb0-412a-ab01-b2a3bc18a87c",
   "metadata": {},
   "outputs": [
    {
     "data": {
      "text/html": [
       "<div>\n",
       "<style scoped>\n",
       "    .dataframe tbody tr th:only-of-type {\n",
       "        vertical-align: middle;\n",
       "    }\n",
       "\n",
       "    .dataframe tbody tr th {\n",
       "        vertical-align: top;\n",
       "    }\n",
       "\n",
       "    .dataframe thead th {\n",
       "        text-align: right;\n",
       "    }\n",
       "</style>\n",
       "<table border=\"1\" class=\"dataframe\">\n",
       "  <thead>\n",
       "    <tr style=\"text-align: right;\">\n",
       "      <th></th>\n",
       "      <th>hindex</th>\n",
       "      <th>signature_type</th>\n",
       "    </tr>\n",
       "  </thead>\n",
       "  <tbody>\n",
       "    <tr>\n",
       "      <th>0</th>\n",
       "      <td>c000e109777t0000</td>\n",
       "      <td>6</td>\n",
       "    </tr>\n",
       "    <tr>\n",
       "      <th>1</th>\n",
       "      <td>c000e109777t0001</td>\n",
       "      <td>6</td>\n",
       "    </tr>\n",
       "    <tr>\n",
       "      <th>2</th>\n",
       "      <td>c000e109777t0002</td>\n",
       "      <td>6</td>\n",
       "    </tr>\n",
       "    <tr>\n",
       "      <th>3</th>\n",
       "      <td>c000e109777t0003</td>\n",
       "      <td>6</td>\n",
       "    </tr>\n",
       "    <tr>\n",
       "      <th>4</th>\n",
       "      <td>c000e109777t0004</td>\n",
       "      <td>6</td>\n",
       "    </tr>\n",
       "  </tbody>\n",
       "</table>\n",
       "</div>"
      ],
      "text/plain": [
       "             hindex  signature_type\n",
       "0  c000e109777t0000               6\n",
       "1  c000e109777t0001               6\n",
       "2  c000e109777t0002               6\n",
       "3  c000e109777t0003               6\n",
       "4  c000e109777t0004               6"
      ]
     },
     "execution_count": 110,
     "metadata": {},
     "output_type": "execute_result"
    }
   ],
   "source": [
    "types.head()"
   ]
  },
  {
   "cell_type": "code",
   "execution_count": 111,
   "id": "ee6d32e0-dd40-4b7b-9b3b-a9c43237b732",
   "metadata": {},
   "outputs": [
    {
     "data": {
      "text/html": [
       "<div><strong>Dask DataFrame Structure:</strong></div>\n",
       "<div>\n",
       "<style scoped>\n",
       "    .dataframe tbody tr th:only-of-type {\n",
       "        vertical-align: middle;\n",
       "    }\n",
       "\n",
       "    .dataframe tbody tr th {\n",
       "        vertical-align: top;\n",
       "    }\n",
       "\n",
       "    .dataframe thead th {\n",
       "        text-align: right;\n",
       "    }\n",
       "</style>\n",
       "<table border=\"1\" class=\"dataframe\">\n",
       "  <thead>\n",
       "    <tr style=\"text-align: right;\">\n",
       "      <th></th>\n",
       "      <th>hindex</th>\n",
       "      <th>population</th>\n",
       "      <th>signature_type</th>\n",
       "    </tr>\n",
       "    <tr>\n",
       "      <th>npartitions=103</th>\n",
       "      <th></th>\n",
       "      <th></th>\n",
       "      <th></th>\n",
       "    </tr>\n",
       "  </thead>\n",
       "  <tbody>\n",
       "    <tr>\n",
       "      <th></th>\n",
       "      <td>object</td>\n",
       "      <td>float64</td>\n",
       "      <td>int32</td>\n",
       "    </tr>\n",
       "    <tr>\n",
       "      <th></th>\n",
       "      <td>...</td>\n",
       "      <td>...</td>\n",
       "      <td>...</td>\n",
       "    </tr>\n",
       "    <tr>\n",
       "      <th>...</th>\n",
       "      <td>...</td>\n",
       "      <td>...</td>\n",
       "      <td>...</td>\n",
       "    </tr>\n",
       "    <tr>\n",
       "      <th></th>\n",
       "      <td>...</td>\n",
       "      <td>...</td>\n",
       "      <td>...</td>\n",
       "    </tr>\n",
       "    <tr>\n",
       "      <th></th>\n",
       "      <td>...</td>\n",
       "      <td>...</td>\n",
       "      <td>...</td>\n",
       "    </tr>\n",
       "  </tbody>\n",
       "</table>\n",
       "</div>\n",
       "<div>Dask Name: hash-join, 1549 tasks</div>"
      ],
      "text/plain": [
       "Dask DataFrame Structure:\n",
       "                 hindex population signature_type\n",
       "npartitions=103                                  \n",
       "                 object    float64          int32\n",
       "                    ...        ...            ...\n",
       "...                 ...        ...            ...\n",
       "                    ...        ...            ...\n",
       "                    ...        ...            ...\n",
       "Dask Name: hash-join, 1549 tasks"
      ]
     },
     "execution_count": 111,
     "metadata": {},
     "output_type": "execute_result"
    }
   ],
   "source": [
    "combined = population.merge(types, on='hindex', how=\"left\")\n",
    "combined"
   ]
  },
  {
   "cell_type": "code",
   "execution_count": 114,
   "id": "097bb070-5cc6-4c6a-aa27-3b32e7b29706",
   "metadata": {
    "tags": []
   },
   "outputs": [],
   "source": [
    "summary = combined.groupby('signature_type').agg({\"population\": sum, \"hindex\": \"count\"})"
   ]
  },
  {
   "cell_type": "code",
   "execution_count": 115,
   "id": "ab9e64bc-79fd-4c84-8417-4673c905bba5",
   "metadata": {},
   "outputs": [],
   "source": [
    "summary = summary.compute()"
   ]
  },
  {
   "cell_type": "code",
   "execution_count": 117,
   "id": "30dd2404-2a9f-46f3-97a5-eda75c24f325",
   "metadata": {},
   "outputs": [
    {
     "data": {
      "text/plain": [
       "67140883.00504927"
      ]
     },
     "execution_count": 117,
     "metadata": {},
     "output_type": "execute_result"
    }
   ],
   "source": [
    "summary.population.sum()"
   ]
  },
  {
   "cell_type": "code",
   "execution_count": 121,
   "id": "5a28601d-71f0-4515-a52d-f2d3d1505a15",
   "metadata": {
    "tags": []
   },
   "outputs": [],
   "source": [
    "summary = summary.rename(columns={\n",
    "    \"hindex\": \"count\",\n",
    "})"
   ]
  },
  {
   "cell_type": "code",
   "execution_count": 119,
   "id": "487f29ff-b703-4b18-9a97-d41c652d246f",
   "metadata": {},
   "outputs": [],
   "source": [
    "types = {\n",
    "    0: \"Countryside agriculture\",\n",
    "    1: \"Accessible suburbia\",\n",
    "    3: \"Open sprawl\",\n",
    "    4: \"Wild countryside\",\n",
    "    5: \"Warehouse/Park land\",\n",
    "    6: \"Gridded residential quarters\",\n",
    "    7: \"Urban buffer\",\n",
    "    8: \"Disconnected suburbia\",\n",
    "    20: \"Dense residential neighbourhoods\",\n",
    "    21: \"Connected residential neighbourhoods\",\n",
    "    22: \"Dense urban neighbourhoods\",\n",
    "    90: \"Local urbanity\",\n",
    "    91: \"Concentrated urbanity\",\n",
    "    92: \"Regional urbanity\",\n",
    "    94: \"Metropolitan urbanity\",\n",
    "    95: \"Hyper concentrated urbanity\",\n",
    "    93: \"outlier\",\n",
    "    96: \"outlier\",\n",
    "    97: \"outlier\",\n",
    "    98: \"outlier\",\n",
    "}\n",
    "\n",
    "summary.index = summary.index.map(types)"
   ]
  },
  {
   "cell_type": "code",
   "execution_count": 25,
   "id": "3f25ecb5-bcaa-47c1-976b-53f8c3b37880",
   "metadata": {},
   "outputs": [],
   "source": [
    "summary.to_csv(\"summary.csv\")"
   ]
  },
  {
   "cell_type": "code",
   "execution_count": 120,
   "id": "88207477-b1e2-4912-bfc1-30e9977a9a43",
   "metadata": {},
   "outputs": [
    {
     "data": {
      "text/plain": [
       "<AxesSubplot:xlabel='signature_type'>"
      ]
     },
     "execution_count": 120,
     "metadata": {},
     "output_type": "execute_result"
    },
    {
     "data": {
      "image/png": "[encoded data removed]",
      "text/plain": [
       "<Figure size 432x288 with 1 Axes>"
      ]
     },
     "metadata": {
      "needs_background": "light"
     },
     "output_type": "display_data"
    }
   ],
   "source": [
    "summary['population'].sort_values().plot.bar()"
   ]
  },
  {
   "cell_type": "code",
   "execution_count": 122,
   "id": "a51e3b30-4006-43a2-a94e-364489b7b082",
   "metadata": {},
   "outputs": [
    {
     "data": {
      "text/html": [
       "<div>\n",
       "<style scoped>\n",
       "    .dataframe tbody tr th:only-of-type {\n",
       "        vertical-align: middle;\n",
       "    }\n",
       "\n",
       "    .dataframe tbody tr th {\n",
       "        vertical-align: top;\n",
       "    }\n",
       "\n",
       "    .dataframe thead th {\n",
       "        text-align: right;\n",
       "    }\n",
       "</style>\n",
       "<table border=\"1\" class=\"dataframe\">\n",
       "  <thead>\n",
       "    <tr style=\"text-align: right;\">\n",
       "      <th></th>\n",
       "      <th>population</th>\n",
       "      <th>count</th>\n",
       "    </tr>\n",
       "    <tr>\n",
       "      <th>signature_type</th>\n",
       "      <th></th>\n",
       "      <th></th>\n",
       "    </tr>\n",
       "  </thead>\n",
       "  <tbody>\n",
       "    <tr>\n",
       "      <th>Countryside agriculture</th>\n",
       "      <td>5.765794e+06</td>\n",
       "      <td>3022385</td>\n",
       "    </tr>\n",
       "    <tr>\n",
       "      <th>Accessible suburbia</th>\n",
       "      <td>8.848915e+06</td>\n",
       "      <td>1962830</td>\n",
       "    </tr>\n",
       "    <tr>\n",
       "      <th>Open sprawl</th>\n",
       "      <td>1.291983e+07</td>\n",
       "      <td>2561211</td>\n",
       "    </tr>\n",
       "    <tr>\n",
       "      <th>Wild countryside</th>\n",
       "      <td>7.738578e+05</td>\n",
       "      <td>595902</td>\n",
       "    </tr>\n",
       "    <tr>\n",
       "      <th>Warehouse/Park land</th>\n",
       "      <td>4.885898e+06</td>\n",
       "      <td>707211</td>\n",
       "    </tr>\n",
       "    <tr>\n",
       "      <th>Gridded residential quarters</th>\n",
       "      <td>1.622579e+06</td>\n",
       "      <td>209959</td>\n",
       "    </tr>\n",
       "    <tr>\n",
       "      <th>Urban buffer</th>\n",
       "      <td>1.262026e+07</td>\n",
       "      <td>3686554</td>\n",
       "    </tr>\n",
       "    <tr>\n",
       "      <th>Disconnected suburbia</th>\n",
       "      <td>3.695715e+06</td>\n",
       "      <td>564318</td>\n",
       "    </tr>\n",
       "    <tr>\n",
       "      <th>Dense residential neighbourhoods</th>\n",
       "      <td>5.016013e+06</td>\n",
       "      <td>502835</td>\n",
       "    </tr>\n",
       "    <tr>\n",
       "      <th>Connected residential neighbourhoods</th>\n",
       "      <td>3.200903e+06</td>\n",
       "      <td>374090</td>\n",
       "    </tr>\n",
       "    <tr>\n",
       "      <th>Dense urban neighbourhoods</th>\n",
       "      <td>4.160981e+06</td>\n",
       "      <td>238639</td>\n",
       "    </tr>\n",
       "    <tr>\n",
       "      <th>Local urbanity</th>\n",
       "      <td>2.481154e+06</td>\n",
       "      <td>86380</td>\n",
       "    </tr>\n",
       "    <tr>\n",
       "      <th>Concentrated urbanity</th>\n",
       "      <td>4.979667e+04</td>\n",
       "      <td>1390</td>\n",
       "    </tr>\n",
       "    <tr>\n",
       "      <th>Regional urbanity</th>\n",
       "      <td>9.265150e+05</td>\n",
       "      <td>21760</td>\n",
       "    </tr>\n",
       "    <tr>\n",
       "      <th>outlier</th>\n",
       "      <td>2.601733e+01</td>\n",
       "      <td>3</td>\n",
       "    </tr>\n",
       "    <tr>\n",
       "      <th>Metropolitan urbanity</th>\n",
       "      <td>1.626733e+05</td>\n",
       "      <td>3739</td>\n",
       "    </tr>\n",
       "    <tr>\n",
       "      <th>Hyper concentrated urbanity</th>\n",
       "      <td>9.895050e+03</td>\n",
       "      <td>264</td>\n",
       "    </tr>\n",
       "    <tr>\n",
       "      <th>outlier</th>\n",
       "      <td>2.664581e+00</td>\n",
       "      <td>2</td>\n",
       "    </tr>\n",
       "    <tr>\n",
       "      <th>outlier</th>\n",
       "      <td>7.765722e+01</td>\n",
       "      <td>98</td>\n",
       "    </tr>\n",
       "    <tr>\n",
       "      <th>outlier</th>\n",
       "      <td>4.516088e+00</td>\n",
       "      <td>8</td>\n",
       "    </tr>\n",
       "  </tbody>\n",
       "</table>\n",
       "</div>"
      ],
      "text/plain": [
       "                                        population    count\n",
       "signature_type                                             \n",
       "Countryside agriculture               5.765794e+06  3022385\n",
       "Accessible suburbia                   8.848915e+06  1962830\n",
       "Open sprawl                           1.291983e+07  2561211\n",
       "Wild countryside                      7.738578e+05   595902\n",
       "Warehouse/Park land                   4.885898e+06   707211\n",
       "Gridded residential quarters          1.622579e+06   209959\n",
       "Urban buffer                          1.262026e+07  3686554\n",
       "Disconnected suburbia                 3.695715e+06   564318\n",
       "Dense residential neighbourhoods      5.016013e+06   502835\n",
       "Connected residential neighbourhoods  3.200903e+06   374090\n",
       "Dense urban neighbourhoods            4.160981e+06   238639\n",
       "Local urbanity                        2.481154e+06    86380\n",
       "Concentrated urbanity                 4.979667e+04     1390\n",
       "Regional urbanity                     9.265150e+05    21760\n",
       "outlier                               2.601733e+01        3\n",
       "Metropolitan urbanity                 1.626733e+05     3739\n",
       "Hyper concentrated urbanity           9.895050e+03      264\n",
       "outlier                               2.664581e+00        2\n",
       "outlier                               7.765722e+01       98\n",
       "outlier                               4.516088e+00        8"
      ]
     },
     "execution_count": 122,
     "metadata": {},
     "output_type": "execute_result"
    }
   ],
   "source": [
    "summary"
   ]
  }
 ],
 "metadata": {
  "kernelspec": {
   "display_name": "Python 3 (ipykernel)",
   "language": "python",
   "name": "python3"
  },
  "language_info": {
   "codemirror_mode": {
    "name": "ipython",
    "version": 3
   },
   "file_extension": ".py",
   "mimetype": "text/x-python",
   "name": "python",
   "nbconvert_exporter": "python",
   "pygments_lexer": "ipython3",
   "version": "3.9.7"
  }
 },
 "nbformat": 4,
 "nbformat_minor": 5
}
