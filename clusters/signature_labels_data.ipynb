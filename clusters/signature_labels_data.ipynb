{
 "cells": [
  {
   "cell_type": "markdown",
   "id": "fundamental-steel",
   "metadata": {},
   "source": [
    "# Create canonical labels attached to tessellation"
   ]
  },
  {
   "cell_type": "code",
   "execution_count": 1,
   "id": "armed-meter",
   "metadata": {},
   "outputs": [],
   "source": [
    "import pandas as pd\n",
    "import geopandas as gpd\n",
    "import dask.dataframe\n",
    "import dask_geopandas"
   ]
  },
  {
   "cell_type": "code",
   "execution_count": 2,
   "id": "third-indication",
   "metadata": {},
   "outputs": [],
   "source": [
    "level1 = pd.read_parquet(\"../../urbangrammar_samba/spatial_signatures/clustering_data/KMeans10GB.pq\")"
   ]
  },
  {
   "cell_type": "code",
   "execution_count": 3,
   "id": "indirect-proportion",
   "metadata": {},
   "outputs": [
    {
     "data": {
      "text/html": [
       "<div>\n",
       "<style scoped>\n",
       "    .dataframe tbody tr th:only-of-type {\n",
       "        vertical-align: middle;\n",
       "    }\n",
       "\n",
       "    .dataframe tbody tr th {\n",
       "        vertical-align: top;\n",
       "    }\n",
       "\n",
       "    .dataframe thead th {\n",
       "        text-align: right;\n",
       "    }\n",
       "</style>\n",
       "<table border=\"1\" class=\"dataframe\">\n",
       "  <thead>\n",
       "    <tr style=\"text-align: right;\">\n",
       "      <th></th>\n",
       "      <th>kmeans10gb</th>\n",
       "    </tr>\n",
       "    <tr>\n",
       "      <th>hindex</th>\n",
       "      <th></th>\n",
       "    </tr>\n",
       "  </thead>\n",
       "  <tbody>\n",
       "    <tr>\n",
       "      <th>c000e094707t0000</th>\n",
       "      <td>4</td>\n",
       "    </tr>\n",
       "    <tr>\n",
       "      <th>c000e094763t0000</th>\n",
       "      <td>0</td>\n",
       "    </tr>\n",
       "    <tr>\n",
       "      <th>c000e094763t0001</th>\n",
       "      <td>0</td>\n",
       "    </tr>\n",
       "    <tr>\n",
       "      <th>c000e094763t0002</th>\n",
       "      <td>0</td>\n",
       "    </tr>\n",
       "    <tr>\n",
       "      <th>c000e094764t0000</th>\n",
       "      <td>0</td>\n",
       "    </tr>\n",
       "    <tr>\n",
       "      <th>...</th>\n",
       "      <td>...</td>\n",
       "    </tr>\n",
       "    <tr>\n",
       "      <th>c102e644989t0111</th>\n",
       "      <td>0</td>\n",
       "    </tr>\n",
       "    <tr>\n",
       "      <th>c102e644989t0112</th>\n",
       "      <td>0</td>\n",
       "    </tr>\n",
       "    <tr>\n",
       "      <th>c102e644989t0113</th>\n",
       "      <td>0</td>\n",
       "    </tr>\n",
       "    <tr>\n",
       "      <th>c102e644989t0114</th>\n",
       "      <td>0</td>\n",
       "    </tr>\n",
       "    <tr>\n",
       "      <th>c102e644989t0115</th>\n",
       "      <td>0</td>\n",
       "    </tr>\n",
       "  </tbody>\n",
       "</table>\n",
       "<p>14539578 rows × 1 columns</p>\n",
       "</div>"
      ],
      "text/plain": [
       "                  kmeans10gb\n",
       "hindex                      \n",
       "c000e094707t0000           4\n",
       "c000e094763t0000           0\n",
       "c000e094763t0001           0\n",
       "c000e094763t0002           0\n",
       "c000e094764t0000           0\n",
       "...                      ...\n",
       "c102e644989t0111           0\n",
       "c102e644989t0112           0\n",
       "c102e644989t0113           0\n",
       "c102e644989t0114           0\n",
       "c102e644989t0115           0\n",
       "\n",
       "[14539578 rows x 1 columns]"
      ]
     },
     "execution_count": 3,
     "metadata": {},
     "output_type": "execute_result"
    }
   ],
   "source": [
    "level1"
   ]
  },
  {
   "cell_type": "code",
   "execution_count": 4,
   "id": "after-wagner",
   "metadata": {},
   "outputs": [],
   "source": [
    "level2_9 = pd.read_parquet(\"../../urbangrammar_samba/spatial_signatures/clustering_data/clustergram_cl9_labels.pq\", columns=['9'])"
   ]
  },
  {
   "cell_type": "code",
   "execution_count": 5,
   "id": "placed-edinburgh",
   "metadata": {},
   "outputs": [
    {
     "data": {
      "text/html": [
       "<div>\n",
       "<style scoped>\n",
       "    .dataframe tbody tr th:only-of-type {\n",
       "        vertical-align: middle;\n",
       "    }\n",
       "\n",
       "    .dataframe tbody tr th {\n",
       "        vertical-align: top;\n",
       "    }\n",
       "\n",
       "    .dataframe thead th {\n",
       "        text-align: right;\n",
       "    }\n",
       "</style>\n",
       "<table border=\"1\" class=\"dataframe\">\n",
       "  <thead>\n",
       "    <tr style=\"text-align: right;\">\n",
       "      <th></th>\n",
       "      <th>9</th>\n",
       "    </tr>\n",
       "  </thead>\n",
       "  <tbody>\n",
       "    <tr>\n",
       "      <th>0</th>\n",
       "      <td>0</td>\n",
       "    </tr>\n",
       "    <tr>\n",
       "      <th>1</th>\n",
       "      <td>0</td>\n",
       "    </tr>\n",
       "    <tr>\n",
       "      <th>2</th>\n",
       "      <td>0</td>\n",
       "    </tr>\n",
       "    <tr>\n",
       "      <th>3</th>\n",
       "      <td>0</td>\n",
       "    </tr>\n",
       "    <tr>\n",
       "      <th>4</th>\n",
       "      <td>0</td>\n",
       "    </tr>\n",
       "    <tr>\n",
       "      <th>...</th>\n",
       "      <td>...</td>\n",
       "    </tr>\n",
       "    <tr>\n",
       "      <th>113639</th>\n",
       "      <td>0</td>\n",
       "    </tr>\n",
       "    <tr>\n",
       "      <th>113640</th>\n",
       "      <td>0</td>\n",
       "    </tr>\n",
       "    <tr>\n",
       "      <th>113641</th>\n",
       "      <td>0</td>\n",
       "    </tr>\n",
       "    <tr>\n",
       "      <th>113642</th>\n",
       "      <td>0</td>\n",
       "    </tr>\n",
       "    <tr>\n",
       "      <th>113643</th>\n",
       "      <td>0</td>\n",
       "    </tr>\n",
       "  </tbody>\n",
       "</table>\n",
       "<p>113644 rows × 1 columns</p>\n",
       "</div>"
      ],
      "text/plain": [
       "        9\n",
       "0       0\n",
       "1       0\n",
       "2       0\n",
       "3       0\n",
       "4       0\n",
       "...    ..\n",
       "113639  0\n",
       "113640  0\n",
       "113641  0\n",
       "113642  0\n",
       "113643  0\n",
       "\n",
       "[113644 rows x 1 columns]"
      ]
     },
     "execution_count": 5,
     "metadata": {},
     "output_type": "execute_result"
    }
   ],
   "source": [
    "level2_9"
   ]
  },
  {
   "cell_type": "code",
   "execution_count": 6,
   "id": "directed-sphere",
   "metadata": {},
   "outputs": [],
   "source": [
    "level2_2 = pd.read_parquet(\"../../urbangrammar_samba/spatial_signatures/clustering_data/subclustering_cluster2_k3.pq\")"
   ]
  },
  {
   "cell_type": "code",
   "execution_count": 7,
   "id": "wicked-stress",
   "metadata": {},
   "outputs": [
    {
     "data": {
      "text/html": [
       "<div>\n",
       "<style scoped>\n",
       "    .dataframe tbody tr th:only-of-type {\n",
       "        vertical-align: middle;\n",
       "    }\n",
       "\n",
       "    .dataframe tbody tr th {\n",
       "        vertical-align: top;\n",
       "    }\n",
       "\n",
       "    .dataframe thead th {\n",
       "        text-align: right;\n",
       "    }\n",
       "</style>\n",
       "<table border=\"1\" class=\"dataframe\">\n",
       "  <thead>\n",
       "    <tr style=\"text-align: right;\">\n",
       "      <th></th>\n",
       "      <th>subclustering_cluster2_k3</th>\n",
       "    </tr>\n",
       "    <tr>\n",
       "      <th>hindex</th>\n",
       "      <th></th>\n",
       "    </tr>\n",
       "  </thead>\n",
       "  <tbody>\n",
       "    <tr>\n",
       "      <th>c000e097919t0003</th>\n",
       "      <td>1</td>\n",
       "    </tr>\n",
       "    <tr>\n",
       "      <th>c000e097919t0005</th>\n",
       "      <td>1</td>\n",
       "    </tr>\n",
       "    <tr>\n",
       "      <th>c000e097919t0008</th>\n",
       "      <td>1</td>\n",
       "    </tr>\n",
       "    <tr>\n",
       "      <th>c000e097919t0009</th>\n",
       "      <td>1</td>\n",
       "    </tr>\n",
       "    <tr>\n",
       "      <th>c000e097919t0015</th>\n",
       "      <td>1</td>\n",
       "    </tr>\n",
       "    <tr>\n",
       "      <th>...</th>\n",
       "      <td>...</td>\n",
       "    </tr>\n",
       "    <tr>\n",
       "      <th>c102e639766t0007</th>\n",
       "      <td>0</td>\n",
       "    </tr>\n",
       "    <tr>\n",
       "      <th>c102e639766t0010</th>\n",
       "      <td>0</td>\n",
       "    </tr>\n",
       "    <tr>\n",
       "      <th>c102e639766t0011</th>\n",
       "      <td>0</td>\n",
       "    </tr>\n",
       "    <tr>\n",
       "      <th>c102e639766t0012</th>\n",
       "      <td>0</td>\n",
       "    </tr>\n",
       "    <tr>\n",
       "      <th>c102e639766t0013</th>\n",
       "      <td>0</td>\n",
       "    </tr>\n",
       "  </tbody>\n",
       "</table>\n",
       "<p>1115564 rows × 1 columns</p>\n",
       "</div>"
      ],
      "text/plain": [
       "                  subclustering_cluster2_k3\n",
       "hindex                                     \n",
       "c000e097919t0003                          1\n",
       "c000e097919t0005                          1\n",
       "c000e097919t0008                          1\n",
       "c000e097919t0009                          1\n",
       "c000e097919t0015                          1\n",
       "...                                     ...\n",
       "c102e639766t0007                          0\n",
       "c102e639766t0010                          0\n",
       "c102e639766t0011                          0\n",
       "c102e639766t0012                          0\n",
       "c102e639766t0013                          0\n",
       "\n",
       "[1115564 rows x 1 columns]"
      ]
     },
     "execution_count": 7,
     "metadata": {},
     "output_type": "execute_result"
    }
   ],
   "source": [
    "level2_2"
   ]
  },
  {
   "cell_type": "code",
   "execution_count": 8,
   "id": "collectible-uncle",
   "metadata": {},
   "outputs": [],
   "source": [
    "labels = level1.copy()\n",
    "labels[\"signature_type\"] = labels[\"kmeans10gb\"]\n",
    "labels.loc[labels.kmeans10gb == 9, \"signature_type\"] = (labels.loc[labels.kmeans10gb == 9, \"signature_type\"] * 10) + level2_9[\"9\"].values\n",
    "labels.loc[labels.kmeans10gb == 2, \"signature_type\"] = (labels.loc[labels.kmeans10gb == 2, \"signature_type\"] * 10) +level2_2[\"subclustering_cluster2_k3\"].values"
   ]
  },
  {
   "cell_type": "code",
   "execution_count": 9,
   "id": "immediate-pursuit",
   "metadata": {},
   "outputs": [
    {
     "data": {
      "text/html": [
       "<div>\n",
       "<style scoped>\n",
       "    .dataframe tbody tr th:only-of-type {\n",
       "        vertical-align: middle;\n",
       "    }\n",
       "\n",
       "    .dataframe tbody tr th {\n",
       "        vertical-align: top;\n",
       "    }\n",
       "\n",
       "    .dataframe thead th {\n",
       "        text-align: right;\n",
       "    }\n",
       "</style>\n",
       "<table border=\"1\" class=\"dataframe\">\n",
       "  <thead>\n",
       "    <tr style=\"text-align: right;\">\n",
       "      <th></th>\n",
       "      <th>signature_type</th>\n",
       "    </tr>\n",
       "    <tr>\n",
       "      <th>hindex</th>\n",
       "      <th></th>\n",
       "    </tr>\n",
       "  </thead>\n",
       "  <tbody>\n",
       "    <tr>\n",
       "      <th>c000e094707t0000</th>\n",
       "      <td>4</td>\n",
       "    </tr>\n",
       "    <tr>\n",
       "      <th>c000e094763t0000</th>\n",
       "      <td>0</td>\n",
       "    </tr>\n",
       "    <tr>\n",
       "      <th>c000e094763t0001</th>\n",
       "      <td>0</td>\n",
       "    </tr>\n",
       "    <tr>\n",
       "      <th>c000e094763t0002</th>\n",
       "      <td>0</td>\n",
       "    </tr>\n",
       "    <tr>\n",
       "      <th>c000e094764t0000</th>\n",
       "      <td>0</td>\n",
       "    </tr>\n",
       "    <tr>\n",
       "      <th>...</th>\n",
       "      <td>...</td>\n",
       "    </tr>\n",
       "    <tr>\n",
       "      <th>c102e644989t0111</th>\n",
       "      <td>0</td>\n",
       "    </tr>\n",
       "    <tr>\n",
       "      <th>c102e644989t0112</th>\n",
       "      <td>0</td>\n",
       "    </tr>\n",
       "    <tr>\n",
       "      <th>c102e644989t0113</th>\n",
       "      <td>0</td>\n",
       "    </tr>\n",
       "    <tr>\n",
       "      <th>c102e644989t0114</th>\n",
       "      <td>0</td>\n",
       "    </tr>\n",
       "    <tr>\n",
       "      <th>c102e644989t0115</th>\n",
       "      <td>0</td>\n",
       "    </tr>\n",
       "  </tbody>\n",
       "</table>\n",
       "<p>14539578 rows × 1 columns</p>\n",
       "</div>"
      ],
      "text/plain": [
       "                  signature_type\n",
       "hindex                          \n",
       "c000e094707t0000               4\n",
       "c000e094763t0000               0\n",
       "c000e094763t0001               0\n",
       "c000e094763t0002               0\n",
       "c000e094764t0000               0\n",
       "...                          ...\n",
       "c102e644989t0111               0\n",
       "c102e644989t0112               0\n",
       "c102e644989t0113               0\n",
       "c102e644989t0114               0\n",
       "c102e644989t0115               0\n",
       "\n",
       "[14539578 rows x 1 columns]"
      ]
     },
     "execution_count": 9,
     "metadata": {},
     "output_type": "execute_result"
    }
   ],
   "source": [
    "labels = labels.drop(columns=[\"kmeans10gb\"])\n",
    "labels"
   ]
  },
  {
   "cell_type": "code",
   "execution_count": 19,
   "id": "respected-spiritual",
   "metadata": {},
   "outputs": [],
   "source": [
    "labels.to_parquet(\"../../urbangrammar_samba/spatial_signatures/signatures/signatures_combined_levels_labels.pq\")"
   ]
  },
  {
   "cell_type": "code",
   "execution_count": 10,
   "id": "turkish-dividend",
   "metadata": {},
   "outputs": [],
   "source": [
    "cells = dask_geopandas.read_parquet(\"../../urbangrammar_samba/spatial_signatures/tessellation/\")"
   ]
  },
  {
   "cell_type": "code",
   "execution_count": 11,
   "id": "familiar-gregory",
   "metadata": {},
   "outputs": [],
   "source": [
    "cells = cells.merge(labels, how=\"left\", left_on=\"hindex\", right_index=True)"
   ]
  },
  {
   "cell_type": "code",
   "execution_count": 12,
   "id": "developed-engagement",
   "metadata": {},
   "outputs": [
    {
     "data": {
      "text/html": [
       "<div><strong>Dask DataFrame Structure:</strong></div>\n",
       "<div>\n",
       "<style scoped>\n",
       "    .dataframe tbody tr th:only-of-type {\n",
       "        vertical-align: middle;\n",
       "    }\n",
       "\n",
       "    .dataframe tbody tr th {\n",
       "        vertical-align: top;\n",
       "    }\n",
       "\n",
       "    .dataframe thead th {\n",
       "        text-align: right;\n",
       "    }\n",
       "</style>\n",
       "<table border=\"1\" class=\"dataframe\">\n",
       "  <thead>\n",
       "    <tr style=\"text-align: right;\">\n",
       "      <th></th>\n",
       "      <th>hindex</th>\n",
       "      <th>geometry</th>\n",
       "      <th>signature_type</th>\n",
       "    </tr>\n",
       "    <tr>\n",
       "      <th>npartitions=103</th>\n",
       "      <th></th>\n",
       "      <th></th>\n",
       "      <th></th>\n",
       "    </tr>\n",
       "  </thead>\n",
       "  <tbody>\n",
       "    <tr>\n",
       "      <th></th>\n",
       "      <td>object</td>\n",
       "      <td>object</td>\n",
       "      <td>float64</td>\n",
       "    </tr>\n",
       "    <tr>\n",
       "      <th></th>\n",
       "      <td>...</td>\n",
       "      <td>...</td>\n",
       "      <td>...</td>\n",
       "    </tr>\n",
       "    <tr>\n",
       "      <th>...</th>\n",
       "      <td>...</td>\n",
       "      <td>...</td>\n",
       "      <td>...</td>\n",
       "    </tr>\n",
       "    <tr>\n",
       "      <th></th>\n",
       "      <td>...</td>\n",
       "      <td>...</td>\n",
       "      <td>...</td>\n",
       "    </tr>\n",
       "    <tr>\n",
       "      <th></th>\n",
       "      <td>...</td>\n",
       "      <td>...</td>\n",
       "      <td>...</td>\n",
       "    </tr>\n",
       "  </tbody>\n",
       "</table>\n",
       "</div>\n",
       "<div>Dask Name: rename, 413 tasks</div>"
      ],
      "text/plain": [
       "Dask DataFrame Structure:\n",
       "                 hindex geometry signature_type\n",
       "npartitions=103                                \n",
       "                 object   object        float64\n",
       "                    ...      ...            ...\n",
       "...                 ...      ...            ...\n",
       "                    ...      ...            ...\n",
       "                    ...      ...            ...\n",
       "Dask Name: rename, 413 tasks"
      ]
     },
     "execution_count": 12,
     "metadata": {},
     "output_type": "execute_result"
    }
   ],
   "source": [
    "cells = cells.drop(columns=\"buildings\")\n",
    "cells = cells.rename(columns={\"tessellation\": \"geometry\"})\n",
    "cells"
   ]
  },
  {
   "cell_type": "code",
   "execution_count": 13,
   "id": "rural-malaysia",
   "metadata": {},
   "outputs": [],
   "source": [
    "cells = dask_geopandas.from_dask_dataframe(cells)"
   ]
  },
  {
   "cell_type": "code",
   "execution_count": 14,
   "id": "weekly-target",
   "metadata": {},
   "outputs": [
    {
     "data": {
      "text/html": [
       "<div><strong>Dask-GeoPandas GeoDataFrame Structure:</strong></div>\n",
       "<div>\n",
       "<style scoped>\n",
       "    .dataframe tbody tr th:only-of-type {\n",
       "        vertical-align: middle;\n",
       "    }\n",
       "\n",
       "    .dataframe tbody tr th {\n",
       "        vertical-align: top;\n",
       "    }\n",
       "\n",
       "    .dataframe thead th {\n",
       "        text-align: right;\n",
       "    }\n",
       "</style>\n",
       "<table border=\"1\" class=\"dataframe\">\n",
       "  <thead>\n",
       "    <tr style=\"text-align: right;\">\n",
       "      <th></th>\n",
       "      <th>hindex</th>\n",
       "      <th>geometry</th>\n",
       "      <th>signature_type</th>\n",
       "    </tr>\n",
       "    <tr>\n",
       "      <th>npartitions=103</th>\n",
       "      <th></th>\n",
       "      <th></th>\n",
       "      <th></th>\n",
       "    </tr>\n",
       "  </thead>\n",
       "  <tbody>\n",
       "    <tr>\n",
       "      <th></th>\n",
       "      <td>object</td>\n",
       "      <td>geometry</td>\n",
       "      <td>float64</td>\n",
       "    </tr>\n",
       "    <tr>\n",
       "      <th></th>\n",
       "      <td>...</td>\n",
       "      <td>...</td>\n",
       "      <td>...</td>\n",
       "    </tr>\n",
       "    <tr>\n",
       "      <th>...</th>\n",
       "      <td>...</td>\n",
       "      <td>...</td>\n",
       "      <td>...</td>\n",
       "    </tr>\n",
       "    <tr>\n",
       "      <th></th>\n",
       "      <td>...</td>\n",
       "      <td>...</td>\n",
       "      <td>...</td>\n",
       "    </tr>\n",
       "    <tr>\n",
       "      <th></th>\n",
       "      <td>...</td>\n",
       "      <td>...</td>\n",
       "      <td>...</td>\n",
       "    </tr>\n",
       "  </tbody>\n",
       "</table>\n",
       "</div>\n",
       "<div>Dask Name: GeoDataFrame, 516 tasks</div>"
      ],
      "text/plain": [
       "<dask_geopandas.GeoDataFrame | 516 tasks | 103 npartitions>"
      ]
     },
     "execution_count": 14,
     "metadata": {},
     "output_type": "execute_result"
    }
   ],
   "source": [
    "cells"
   ]
  },
  {
   "cell_type": "code",
   "execution_count": 15,
   "id": "incident-strategy",
   "metadata": {
    "tags": []
   },
   "outputs": [
    {
     "name": "stderr",
     "output_type": "stream",
     "text": [
      "/opt/conda/lib/python3.8/site-packages/dask/utils.py:35: UserWarning: this is an initial implementation of Parquet/Feather file support and associated metadata.  This is tracking version 0.1.0 of the metadata specification at https://github.com/geopandas/geo-arrow-spec\n",
      "\n",
      "This metadata specification does not yet make stability promises.  We do not yet recommend using this in a production setting unless you are able to rewrite your Parquet/Feather files.\n",
      "\n",
      "To further ignore this warning, you can do: \n",
      "import warnings; warnings.filterwarnings('ignore', message='.*initial implementation of Parquet.*')\n",
      "  return func(*args, **kwargs)\n"
     ]
    },
    {
     "name": "stdout",
     "output_type": "stream",
     "text": [
      "CPU times: user 17min 44s, sys: 2min 26s, total: 20min 11s\n",
      "Wall time: 20min 11s\n"
     ]
    }
   ],
   "source": [
    "%%time\n",
    "cells.to_parquet(\"../../urbangrammar_samba/spatial_signatures/signatures/signatures_combined_tessellation/\")"
   ]
  },
  {
   "cell_type": "code",
   "execution_count": 16,
   "id": "generous-cabin",
   "metadata": {},
   "outputs": [],
   "source": [
    "cells = dask_geopandas.read_parquet(\"../../urbangrammar_samba/spatial_signatures/signatures/signatures_combined_tessellation/\")"
   ]
  },
  {
   "cell_type": "code",
   "execution_count": 17,
   "id": "mobile-modeling",
   "metadata": {},
   "outputs": [
    {
     "data": {
      "text/html": [
       "<div><strong>Dask-GeoPandas GeoDataFrame Structure:</strong></div>\n",
       "<div>\n",
       "<style scoped>\n",
       "    .dataframe tbody tr th:only-of-type {\n",
       "        vertical-align: middle;\n",
       "    }\n",
       "\n",
       "    .dataframe tbody tr th {\n",
       "        vertical-align: top;\n",
       "    }\n",
       "\n",
       "    .dataframe thead th {\n",
       "        text-align: right;\n",
       "    }\n",
       "</style>\n",
       "<table border=\"1\" class=\"dataframe\">\n",
       "  <thead>\n",
       "    <tr style=\"text-align: right;\">\n",
       "      <th></th>\n",
       "      <th>hindex</th>\n",
       "      <th>geometry</th>\n",
       "      <th>signature_type</th>\n",
       "    </tr>\n",
       "    <tr>\n",
       "      <th>npartitions=103</th>\n",
       "      <th></th>\n",
       "      <th></th>\n",
       "      <th></th>\n",
       "    </tr>\n",
       "  </thead>\n",
       "  <tbody>\n",
       "    <tr>\n",
       "      <th></th>\n",
       "      <td>object</td>\n",
       "      <td>geometry</td>\n",
       "      <td>int32</td>\n",
       "    </tr>\n",
       "    <tr>\n",
       "      <th></th>\n",
       "      <td>...</td>\n",
       "      <td>...</td>\n",
       "      <td>...</td>\n",
       "    </tr>\n",
       "    <tr>\n",
       "      <th>...</th>\n",
       "      <td>...</td>\n",
       "      <td>...</td>\n",
       "      <td>...</td>\n",
       "    </tr>\n",
       "    <tr>\n",
       "      <th></th>\n",
       "      <td>...</td>\n",
       "      <td>...</td>\n",
       "      <td>...</td>\n",
       "    </tr>\n",
       "    <tr>\n",
       "      <th></th>\n",
       "      <td>...</td>\n",
       "      <td>...</td>\n",
       "      <td>...</td>\n",
       "    </tr>\n",
       "  </tbody>\n",
       "</table>\n",
       "</div>\n",
       "<div>Dask Name: read-parquet, 103 tasks</div>"
      ],
      "text/plain": [
       "<dask_geopandas.GeoDataFrame | 103 tasks | 103 npartitions>"
      ]
     },
     "execution_count": 17,
     "metadata": {},
     "output_type": "execute_result"
    }
   ],
   "source": [
    "cells"
   ]
  },
  {
   "cell_type": "code",
   "execution_count": 18,
   "id": "electric-protest",
   "metadata": {},
   "outputs": [
    {
     "name": "stdout",
     "output_type": "stream",
     "text": [
      "CPU times: user 27min 22s, sys: 34 s, total: 27min 57s\n",
      "Wall time: 3min 22s\n"
     ]
    }
   ],
   "source": [
    "%%time\n",
    "cells.calculate_spatial_partitions()"
   ]
  },
  {
   "cell_type": "code",
   "execution_count": 19,
   "id": "loved-radio",
   "metadata": {},
   "outputs": [
    {
     "data": {
      "text/plain": [
       "0      POLYGON Z ((339010.000 426700.000 0.000, 33596...\n",
       "1      POLYGON Z ((459529.390 339487.330 0.000, 45951...\n",
       "2      POLYGON Z ((380696.000 228900.000 0.000, 37766...\n",
       "3      POLYGON Z ((363161.000 541631.000 0.000, 33680...\n",
       "4      POLYGON Z ((431181.406 393369.256 0.000, 40940...\n",
       "                             ...                        \n",
       "98     POLYGON Z ((448173.875 209362.352 0.000, 44814...\n",
       "99     POLYGON Z ((513455.520 192183.030 0.000, 50044...\n",
       "100    POLYGON Z ((172420.000 603651.000 0.000, 16125...\n",
       "101    POLYGON Z ((419376.825 272261.845 0.000, 41514...\n",
       "102    POLYGON Z ((367870.000 68210.000 0.000, 367820...\n",
       "Length: 103, dtype: geometry"
      ]
     },
     "execution_count": 19,
     "metadata": {},
     "output_type": "execute_result"
    }
   ],
   "source": [
    "cells.spatial_partitions"
   ]
  },
  {
   "cell_type": "code",
   "execution_count": 20,
   "id": "structural-grocery",
   "metadata": {},
   "outputs": [
    {
     "data": {
      "text/plain": [
       "<AxesSubplot:>"
      ]
     },
     "execution_count": 20,
     "metadata": {},
     "output_type": "execute_result"
    },
    {
     "data": {
      "image/png": "[encoded data removed]",
      "text/plain": [
       "<Figure size 864x864 with 1 Axes>"
      ]
     },
     "metadata": {
      "needs_background": "light"
     },
     "output_type": "display_data"
    }
   ],
   "source": [
    "cells.spatial_partitions.plot(figsize=(12, 12), cmap=\"tab20\", alpha=.2)"
   ]
  }
 ],
 "metadata": {
  "kernelspec": {
   "display_name": "Python 3",
   "language": "python",
   "name": "python3"
  },
  "language_info": {
   "codemirror_mode": {
    "name": "ipython",
    "version": 3
   },
   "file_extension": ".py",
   "mimetype": "text/x-python",
   "name": "python",
   "nbconvert_exporter": "python",
   "pygments_lexer": "ipython3",
   "version": "3.8.8"
  }
 },
 "nbformat": 4,
 "nbformat_minor": 5
}
