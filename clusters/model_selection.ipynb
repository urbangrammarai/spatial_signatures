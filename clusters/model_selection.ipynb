{
 "cells": [
  {
   "cell_type": "markdown",
   "id": "small-eligibility",
   "metadata": {},
   "source": [
    "# Clustering model selection matrix\n",
    "\n",
    "This notebook compares performance of various clustering models aimed at the selection of the optimal model for delineation of spatial signatures. \n",
    "\n",
    "## Dimensions\n",
    "\n",
    "Dimensions of models to be tested.\n",
    "\n",
    "### Algorithms\n",
    "\n",
    "- K-Means\n",
    "- K-Medoid\n",
    "- SOM\n",
    "    - different architectures\n",
    "        - grid dimensions\n",
    "        - parameter selection\n",
    "- GMM\n",
    "\n",
    "### Data normalisation\n",
    "\n",
    "- MinMax stretch\n",
    "- Standardise\n",
    "- RobustScaler?\n",
    "\n",
    "### Dimensionality reduction\n",
    "\n",
    "- PCA\n",
    "- tSNA?\n",
    "- K-means with k>200?\n",
    "\n",
    "### Number of clusters\n",
    "\n",
    "- n -> m\n",
    "\n",
    "### Input data\n",
    "\n",
    "- Form\n",
    "- Function\n",
    "- Form & Function\n",
    "\n",
    "## Comparison\n",
    "\n",
    "### Quantitative data\n",
    "\n",
    "- Mean sampled silhouette score\n",
    "- Calinski-Harabasz\n",
    "- Davies-Bouldin\n",
    "- BIC\n",
    "\n",
    "### Qualitative data\n",
    "\n",
    "- label frequencies\n",
    "- cross tabulation\n",
    "    - postcode classification\n",
    "    - modum\n",
    "    - worldpop\n",
    "- N-S, E-W distribution of cluster centers\n",
    "    - weighted by area?\n",
    "- Signatures\n",
    "    - polygon areas\n",
    "    - distances between signatures of the same kind\n",
    "    - number of polygons/components (how many times we see the signature type)\n",
    "- maps for a few cities\n",
    "    - Liverpool\n",
    "    - Glasgow\n",
    "    - London\n",
    "\n",
    "- clustergram for every algorithm"
   ]
  },
  {
   "cell_type": "markdown",
   "id": "deluxe-thanksgiving",
   "metadata": {},
   "source": [
    "## First phase\n",
    "\n",
    "- Each algorithm on a few similar "
   ]
  },
  {
   "cell_type": "markdown",
   "id": "rental-memphis",
   "metadata": {},
   "source": [
    "## Data normalisation\n",
    "\n",
    "Since we'll be reusing normalised/standardised data repeatedly, we do the transformation once and store results in chunked parquet files."
   ]
  },
  {
   "cell_type": "code",
   "execution_count": 1,
   "id": "humanitarian-concentrate",
   "metadata": {},
   "outputs": [],
   "source": [
    "import dask.dataframe"
   ]
  },
  {
   "cell_type": "code",
   "execution_count": 2,
   "id": "mighty-hospital",
   "metadata": {},
   "outputs": [],
   "source": [
    "form = dask.dataframe.read_parquet(\"../../urbangrammar_samba/spatial_signatures/morphometrics/convolutions/conv_*.pq\")"
   ]
  },
  {
   "cell_type": "code",
   "execution_count": 4,
   "id": "approved-element",
   "metadata": {},
   "outputs": [],
   "source": [
    "standardized = (form - form.mean()) / form.std()"
   ]
  },
  {
   "cell_type": "code",
   "execution_count": 5,
   "id": "charming-world",
   "metadata": {},
   "outputs": [
    {
     "name": "stdout",
     "output_type": "stream",
     "text": [
      "CPU times: user 3min 43s, sys: 1min 14s, total: 4min 57s\n",
      "Wall time: 3min 47s\n"
     ]
    }
   ],
   "source": [
    "%%time\n",
    "standardized.to_parquet(\"../../urbangrammar_samba/spatial_signatures/clustering_data/form/standardized/\")"
   ]
  },
  {
   "cell_type": "code",
   "execution_count": 6,
   "id": "suburban-portal",
   "metadata": {},
   "outputs": [],
   "source": [
    "min_max = (form - form.min()) / (form.max() - form.min())"
   ]
  },
  {
   "cell_type": "code",
   "execution_count": 7,
   "id": "permanent-sound",
   "metadata": {},
   "outputs": [
    {
     "name": "stdout",
     "output_type": "stream",
     "text": [
      "CPU times: user 3min 1s, sys: 1min 7s, total: 4min 8s\n",
      "Wall time: 3min 48s\n"
     ]
    }
   ],
   "source": [
    "%%time\n",
    "min_max.to_parquet(\"../../urbangrammar_samba/spatial_signatures/clustering_data/form/normalized/\")"
   ]
  },
  {
   "cell_type": "markdown",
   "id": "christian-particular",
   "metadata": {},
   "source": [
    "### Harmonize chunks\n",
    "\n",
    "Some chunks are missing columns as certain land use types are not present. We need to harmonize our chunks to have the same columns in each of them."
   ]
  },
  {
   "cell_type": "code",
   "execution_count": 24,
   "id": "third-investing",
   "metadata": {},
   "outputs": [],
   "source": [
    "import pyarrow.parquet as pq\n",
    "\n",
    "columns = set()\n",
    "for i in range(103):\n",
    "    schema = pq.read_schema(f\"../../urbangrammar_samba/spatial_signatures/functional/functional/func_{i}.pq\")\n",
    "    for c in schema.names:\n",
    "        columns.add(c)\n",
    "\n",
    "for i in range(103):\n",
    "    df = pd.read_parquet(f\"../../urbangrammar_samba/spatial_signatures/functional/functional/func_{i}.pq\")\n",
    "    missing = [c for c in columns if c not in df.columns]\n",
    "    df[missing] = 0\n",
    "    df.to_parquet(f\"../../urbangrammar_samba/spatial_signatures/functional/functional/func_{i}.pq\")"
   ]
  },
  {
   "cell_type": "code",
   "execution_count": 25,
   "id": "union-replica",
   "metadata": {
    "tags": []
   },
   "outputs": [
    {
     "name": "stdout",
     "output_type": "stream",
     "text": [
      "CPU times: user 5min 35s, sys: 1min 39s, total: 7min 15s\n",
      "Wall time: 3min 3s\n"
     ]
    }
   ],
   "source": [
    "%%time\n",
    "function = dask.dataframe.read_parquet(\"../../urbangrammar_samba/spatial_signatures/functional/functional/func_*.pq\")\n",
    "standardized = (function - function.mean()) / function.std()\n",
    "min_max = (function - function.min()) / (function.max() - function.min())\n",
    "standardized.to_parquet(\"../../urbangrammar_samba/spatial_signatures/clustering_data/function/standardized/\")\n",
    "min_max.to_parquet(\"../../urbangrammar_samba/spatial_signatures/clustering_data/function/normalized/\")"
   ]
  },
  {
   "cell_type": "markdown",
   "id": "broke-battery",
   "metadata": {},
   "source": [
    "Ensure that each observation has `hindex`."
   ]
  },
  {
   "cell_type": "code",
   "execution_count": 27,
   "id": "ordered-participation",
   "metadata": {},
   "outputs": [],
   "source": [
    "stand_fn = dask.dataframe.read_parquet(\"../../urbangrammar_samba/spatial_signatures/clustering_data/function/standardized/\")"
   ]
  },
  {
   "cell_type": "code",
   "execution_count": 29,
   "id": "seasonal-internet",
   "metadata": {},
   "outputs": [],
   "source": [
    "standardized_form = dask.dataframe.read_parquet(\"../../urbangrammar_samba/spatial_signatures/clustering_data/form/standardized/\")\n",
    "standardized_form['hindex'] = stand_fn.index.values\n",
    "standardized_form.to_parquet(\"../../urbangrammar_samba/spatial_signatures/clustering_data/form/standardized/\")\n",
    "\n",
    "normalized_form = dask.dataframe.read_parquet(\"../../urbangrammar_samba/spatial_signatures/clustering_data/form/normalized/\")\n",
    "normalized_form['hindex'] = stand_fn.index.values\n",
    "normalized_form.to_parquet(\"../../urbangrammar_samba/spatial_signatures/clustering_data/form/normalized/\")"
   ]
  },
  {
   "cell_type": "markdown",
   "id": "stock-nature",
   "metadata": {},
   "source": [
    "## Test cases\n",
    "\n",
    "Test cases: \n",
    "- Chunk 68 - Glasgow 155609\n",
    "- Chunk 51 - Merseyside 121188\n",
    "- Random sample - 250000"
   ]
  },
  {
   "cell_type": "code",
   "execution_count": 32,
   "id": "national-ability",
   "metadata": {},
   "outputs": [],
   "source": [
    "standardized_form = dask.dataframe.read_parquet(\"../../urbangrammar_samba/spatial_signatures/clustering_data/form/standardized/\").compute().set_index('hindex')"
   ]
  },
  {
   "cell_type": "code",
   "execution_count": 33,
   "id": "irish-decline",
   "metadata": {},
   "outputs": [],
   "source": [
    "sample = standardized_form.sample(n=250_000, random_state=42)\n",
    "sample.to_parquet(\"../../urbangrammar_samba/spatial_signatures/clustering_data/sample/form_standardized.pq\")"
   ]
  },
  {
   "cell_type": "code",
   "execution_count": 34,
   "id": "canadian-energy",
   "metadata": {},
   "outputs": [],
   "source": [
    "normalized_form = dask.dataframe.read_parquet(\"../../urbangrammar_samba/spatial_signatures/clustering_data/form/normalized/\").compute().set_index('hindex')\n",
    "sample_norm = normalized_form.loc[sample.index]\n",
    "sample_norm.to_parquet(\"../../urbangrammar_samba/spatial_signatures/clustering_data/sample/form_normalized.pq\")"
   ]
  },
  {
   "cell_type": "code",
   "execution_count": 37,
   "id": "sustained-embassy",
   "metadata": {},
   "outputs": [],
   "source": [
    "stand_fn = dask.dataframe.read_parquet(\"../../urbangrammar_samba/spatial_signatures/clustering_data/function/standardized/\").compute()\n",
    "sample_stand_fn = stand_fn.loc[sample.index]\n",
    "sample_stand_fn.to_parquet(\"../../urbangrammar_samba/spatial_signatures/clustering_data/sample/function_standardized.pq\")"
   ]
  },
  {
   "cell_type": "code",
   "execution_count": 38,
   "id": "cellular-soldier",
   "metadata": {},
   "outputs": [],
   "source": [
    "norm_fn = dask.dataframe.read_parquet(\"../../urbangrammar_samba/spatial_signatures/clustering_data/function/normalized/\").compute()\n",
    "sample_norm_fn = norm_fn.loc[sample.index]\n",
    "sample_norm_fn.to_parquet(\"../../urbangrammar_samba/spatial_signatures/clustering_data/sample/function_normalized.pq\")"
   ]
  },
  {
   "cell_type": "code",
   "execution_count": 7,
   "id": "reliable-romance",
   "metadata": {},
   "outputs": [],
   "source": [
    "geoms = dask.dataframe.read_parquet(\"../../urbangrammar_samba/spatial_signatures/tessellation/tess_*.pq\").compute().set_index(\"hindex\")\n",
    "sample_geoms = geoms.loc[sample.index]\n",
    "sample_geoms.to_parquet(\"../../urbangrammar_samba/spatial_signatures/clustering_data/sample/geometry.pq\")"
   ]
  },
  {
   "cell_type": "markdown",
   "id": "coastal-trance",
   "metadata": {},
   "source": [
    "## Evaluation\n",
    "\n",
    "Link auxillary data."
   ]
  },
  {
   "cell_type": "code",
   "execution_count": 26,
   "id": "improved-statistics",
   "metadata": {},
   "outputs": [
    {
     "name": "stderr",
     "output_type": "stream",
     "text": [
      "/opt/conda/lib/python3.8/site-packages/geopandas/geodataframe.py:577: RuntimeWarning: Sequential read of iterator was interrupted. Resetting iterator. This can negatively impact the performance.\n",
      "  for feature in features_lst:\n",
      "/opt/conda/lib/python3.8/site-packages/tobler/area_weighted/area_join.py:63: UserWarning: Cannot preserve dtype of 'ward'. Falling back to `dtype=object`.\n",
      "  warnings.warn(\n"
     ]
    },
    {
     "name": "stdout",
     "output_type": "stream",
     "text": [
      "Part sample done.\n"
     ]
    }
   ],
   "source": [
    "import geopandas as gpd\n",
    "import tobler\n",
    "import rioxarray\n",
    "import rasterstats\n",
    "import numpy as np\n",
    "\n",
    "parts = {}\n",
    "parts[\"chunk51\"] = gpd.read_parquet(\"../../urbangrammar_samba/spatial_signatures/tessellation/tess_51.pq\")\n",
    "parts[\"chunk68\"] = gpd.read_parquet(\"../../urbangrammar_samba/spatial_signatures/tessellation/tess_68.pq\")\n",
    "parts[\"sample\"] = pd.read_parquet(\"../../urbangrammar_samba/spatial_signatures/clustering_data/sample/geometry.pq\", columns=[\"tessellation\"])\n",
    "parts[\"sample\"] = gpd.GeoDataFrame(parts[\"sample\"])\n",
    "parts[\"sample\"][\"tessellation\"] = gpd.GeoSeries.from_wkb(parts[\"sample\"].tessellation, crs=27700)\n",
    "parts[\"sample\"] = parts[\"sample\"].set_geometry(\"tessellation\")\n",
    "\n",
    "\n",
    "for key, gdf in parts.items():\n",
    "    murray = gpd.read_file(\"../../urbangrammar_samba/spatial_signatures/clustering_data/validation/murray.gpkg\", bbox=tuple(gdf.total_bounds))\n",
    "    murray.geometry = murray.buffer(80, cap_style=3)\n",
    "    joined = tobler.area_weighted.area_join(murray, gdf, variables=[\"ward\"])\n",
    "    joined.reset_index()[[\"hindex\", 'ward']].to_parquet(f\"../../urbangrammar_samba/spatial_signatures/clustering_data/validation/murray_{key}.pq\")\n",
    "    \n",
    "    modum = gpd.read_file(\"../../urbangrammar_samba/spatial_signatures/clustering_data/validation/modumew2016.zip\", bbox=tuple(gdf.total_bounds))\n",
    "    joined = tobler.area_weighted.area_join(modum, gdf, variables=[\"CLUSTER_LA\"])\n",
    "    joined.reset_index()[[\"hindex\", 'CLUSTER_LA']].to_parquet(f\"../../urbangrammar_samba/spatial_signatures/clustering_data/validation/modum_{key}.pq\")\n",
    "    \n",
    "    foot = rioxarray.open_rasterio(\"../../urbangrammar_samba/spatial_signatures/clustering_data/validation/jochem.tif\")\n",
    "    foot_osgb = foot.rio.reproject(\"EPSG:27700\")\n",
    "    clipped = foot_osgb.rio.clip_box(*gdf.total_bounds)\n",
    "    arr = clipped.values\n",
    "    affine = clipped.rio.transform()\n",
    "    stats = rasterstats.zonal_stats(\n",
    "        gdf.representative_point(), \n",
    "        raster=arr[0],\n",
    "        affine=affine,\n",
    "        stats=['mean'],\n",
    "        nodata = np.nan,\n",
    "    )\n",
    "    gdf['jochem'] = [x[\"mean\"] for x in stats]\n",
    "    gdf.reset_index()[[\"hindex\", 'jochem']].to_parquet(f\"../../urbangrammar_samba/spatial_signatures/clustering_data/validation/jochem_{key}.pq\")\n",
    "    print(f\"Part {key} done.\")"
   ]
  },
  {
   "cell_type": "code",
   "execution_count": 60,
   "id": "turned-radio",
   "metadata": {},
   "outputs": [],
   "source": [
    "def evaluation(data, labels, case, identifier, murray, modum, jochem, geom, sample_size=None):\n",
    "    \"\"\"Get evaluation metrics for a given clustering\n",
    "    \n",
    "    Parameters:\n",
    "        data : array\n",
    "        labels : array\n",
    "        case : string {\"chunks\", \"sample\"}\n",
    "        identifier : ID of clustering model\n",
    "        sample_size : int (silhouette_score sample size)\n",
    "    \n",
    "    \"\"\"\n",
    "    from sklearn import metrics\n",
    "    import pandas as pd\n",
    "    import scipy as sp\n",
    "    import matplotlib.pyplot as plt\n",
    "    import contextily as ctx\n",
    "    import urbangrammar_graphics as ugg\n",
    "    import dask_geopandas\n",
    "    from utils.dask_geopandas import dask_dissolve\n",
    "    \n",
    "    \n",
    "    results = {}\n",
    "    \n",
    "    try:\n",
    "        results['silhouette'] = metrics.silhouette_score(data, labels, sample_size=sample_size, random_state=42)\n",
    "    except ValueError:\n",
    "        results['silhouette'] = np.nan\n",
    "    results['calinski'] = metrics.calinski_harabasz_score(data, labels)\n",
    "    results['davies'] = metrics.davies_bouldin_score(data, labels)\n",
    "\n",
    "    results['frequencies'] = pd.Series(labels).value_counts()\n",
    "    \n",
    "    # cross tabulation\n",
    "\n",
    "    modum['labels'] = labels\n",
    "    mod_crosstab = pd.crosstab(modum.dropna()['labels'], modum.dropna()[\"CLUSTER_LA\"])\n",
    "    results['mod_chi'], results['mod_p'], results['mod_dof'], results['mod_exp'] = sp.stats.chi2_contingency(mod_crosstab)\n",
    "    results['mod_cramers_'] = cramers_v(mod_crosstab)\n",
    "    results['mod_crosstab'] = mod_crosstab\n",
    "\n",
    "    murray['labels'] = labels\n",
    "    mur_crosstab = pd.crosstab(murray.dropna()['labels'], murray.dropna()[\"ward\"])\n",
    "    results['mur_chi'], results['mur_p'], results['mur_dof'], results['mur_exp'] = sp.stats.chi2_contingency(mur_crosstab)\n",
    "    results['mur_cramers_v'] = cramers_v(mur_crosstab)\n",
    "    results['mur_crosstab'] = mur_crosstab\n",
    "\n",
    "\n",
    "    jochem['labels'] = labels\n",
    "    joc_crosstab = pd.crosstab(jochem.dropna()['labels'], jochem.dropna()[\"jochem\"])\n",
    "    results['joc_chi'], results['joc_p'], results['joc_dof'], results['joc_exp'] = sp.stats.chi2_contingency(joc_crosstab)\n",
    "    results['joc_cramers_v'] = cramers_v(joc_crosstab)\n",
    "    results['joc_crosstab'] = joc_crosstab\n",
    "    \n",
    "    \n",
    "    if case == \"chunks\":\n",
    "        # signatures\n",
    "        \n",
    "        geom['labels'] = labels        \n",
    "        ddf = dask_geopandas.from_geopandas(geom.sort_values('labels'), npartitions=64)\n",
    "        spsig = dask_dissolve(ddf, by='labels').compute().reset_index(drop=True).explode()\n",
    "        \n",
    "        results['signature_abundance'] = spsig.labels.value_counts()\n",
    "        results['signature_areas'] = spsig.area\n",
    "        \n",
    "        \n",
    "        cmap = ugg.get_colormap(spsig.labels.nunique(), randomize=True)\n",
    "        token = \"pk.eyJ1IjoibWFydGluZmxlaXMiLCJhIjoiY2tsNmhlemtxMmlicTJubXN6and5aTc2NCJ9.l7nSUXM7ZRjAWTB7oXiswQ\"\n",
    "        \n",
    "        ax = spsig.cx[332971:361675, 379462:404701].plot(\"labels\", figsize=(20, 20), zorder=1, linewidth=.3, edgecolor='w', alpha=1, legend=True, cmap=cmap, categorical=True)\n",
    "        ctx.add_basemap(ax, crs=27700, source=ugg.get_tiles('roads', token), zorder=2, alpha=.3)\n",
    "        ctx.add_basemap(ax, crs=27700, source=ugg.get_tiles('labels', token), zorder=3, alpha=1)\n",
    "        ctx.add_basemap(ax, crs=27700, source=ugg.get_tiles('background', token), zorder=-1, alpha=1)\n",
    "        ax.set_axis_off()\n",
    "\n",
    "        plt.savefig(f\"../../urbangrammar_samba/spatial_signatures/clustering_data/validation/maps/{identifier}_lpool.png\")\n",
    "        plt.close()   \n",
    "\n",
    "        ax = spsig.cx[218800:270628, 645123:695069].plot(\"labels\", figsize=(20, 20), zorder=1, linewidth=.3, edgecolor='w', alpha=1, legend=True, cmap=cmap, categorical=True)\n",
    "        ctx.add_basemap(ax, crs=27700, source=ugg.get_tiles('roads', token), zorder=2, alpha=.3)\n",
    "        ctx.add_basemap(ax, crs=27700, source=ugg.get_tiles('labels', token), zorder=3, alpha=1)\n",
    "        ctx.add_basemap(ax, crs=27700, source=ugg.get_tiles('background', token), zorder=-1, alpha=1)\n",
    "        ax.set_axis_off()\n",
    "        plt.savefig(f\"../../urbangrammar_samba/spatial_signatures/clustering_data/validation/maps/{identifier}_gla.png\")\n",
    "        plt.close()    \n",
    "    \n",
    "#     else:\n",
    "        \n",
    "#         geom['labels'] = labels        \n",
    "#         ddf = dask_geopandas.from_geopandas(geom.sort_values('labels'), npartitions=64)\n",
    "#         spsig = dask_dissolve(ddf, by='labels').compute().reset_index().explode()\n",
    "#         centroid = spsig.centroid\n",
    "#         results['x_coords'] = centroid.x\n",
    "#         results['y_coords ']= centroid.y\n",
    "        \n",
    "    return results\n",
    "\n",
    "\n",
    "def cramers_v(confusion_matrix):\n",
    "    import scipy as sp\n",
    "    import numpy as np\n",
    "    \n",
    "    chi2 = sp.stats.chi2_contingency(confusion_matrix)[0]\n",
    "    n = confusion_matrix.sum().sum()\n",
    "    phi2 = chi2/n\n",
    "    r,k = confusion_matrix.shape\n",
    "    phi2corr = max(0, phi2-((k-1)*(r-1))/(n-1))\n",
    "    rcorr = r-((r-1)**2)/(n-1)\n",
    "    kcorr = k-((k-1)**2)/(n-1)\n",
    "    return np.sqrt(phi2corr/min((kcorr-1),(rcorr-1)))"
   ]
  },
  {
   "cell_type": "code",
   "execution_count": 68,
   "id": "arbitrary-violation",
   "metadata": {},
   "outputs": [],
   "source": [
    "for transformation in [\"normalized\", \"standardized\"]:\n",
    "    c51 = pd.read_parquet(f\"../../urbangrammar_samba/spatial_signatures/clustering_data/form/{transformation}/part.51.parquet\")\n",
    "    c68 = pd.read_parquet(f\"../../urbangrammar_samba/spatial_signatures/clustering_data/form/{transformation}/part.68.parquet\")\n",
    "    form = pd.concat([c51, c68]).reset_index(drop=True).drop(columns=\"hindex\")\n",
    "\n",
    "    c51f = pd.read_parquet(f\"../../urbangrammar_samba/spatial_signatures/clustering_data/function/{transformation}/part.51.parquet\")\n",
    "    c68f = pd.read_parquet(f\"../../urbangrammar_samba/spatial_signatures/clustering_data/function/{transformation}/part.68.parquet\")\n",
    "    fn = pd.concat([c51f, c68f]).reset_index(drop=True)\n",
    "    \n",
    "    data = pd.concat([form, fn], axis=1).replace([np.inf, -np.inf], np.nan).fillna(0)\n",
    "    data.to_parquet(f\"../../urbangrammar_samba/spatial_signatures/clustering_data/sample/chunks_{transformation}_data.pq\")\n",
    "    \n",
    "    form = pd.read_parquet(f\"../../urbangrammar_samba/spatial_signatures/clustering_data/sample/form_{transformation}.pq\")\n",
    "    fn = pd.read_parquet(f\"../../urbangrammar_samba/spatial_signatures/clustering_data/sample/function_{transformation}.pq\")\n",
    "    data = pd.concat([form, fn], axis=1).replace([np.inf, -np.inf], np.nan).fillna(0)\n",
    "    data.to_parquet(f\"../../urbangrammar_samba/spatial_signatures/clustering_data/sample/sample_{transformation}_data.pq\")"
   ]
  },
  {
   "cell_type": "markdown",
   "id": "fleet-image",
   "metadata": {},
   "source": [
    "## Test matrix"
   ]
  },
  {
   "cell_type": "code",
   "execution_count": null,
   "id": "thousand-photographer",
   "metadata": {},
   "outputs": [],
   "source": [
    "# !pip install scikit-learn-extra\n",
    "# !pip install minisom"
   ]
  },
  {
   "cell_type": "code",
   "execution_count": null,
   "id": "equivalent-banks",
   "metadata": {},
   "outputs": [],
   "source": [
    "from itertools import product\n",
    "from time import time\n",
    "\n",
    "import pandas as pd\n",
    "import numpy as np\n",
    "import geopandas as gpd\n",
    "\n",
    "from sklearn.cluster import KMeans, MiniBatchKMeans\n",
    "from sklearn.mixture import GaussianMixture\n",
    "from sklearn_extra.cluster import KMedoids\n",
    "from minisom import MiniSom\n",
    "\n",
    "\n",
    "labels = {}\n",
    "times = {}\n",
    "evaluations = {}\n",
    "quant_errors = {}"
   ]
  },
  {
   "cell_type": "code",
   "execution_count": 41,
   "id": "local-protection",
   "metadata": {},
   "outputs": [],
   "source": [
    "import numpy as np"
   ]
  },
  {
   "cell_type": "code",
   "execution_count": 62,
   "id": "violent-jacob",
   "metadata": {
    "tags": []
   },
   "outputs": [
    {
     "name": "stdout",
     "output_type": "stream",
     "text": [
      "sample_standardized_KMeans_10 done. Time to fit the model: 33.980648040771484 seconds.\n",
      "sample_standardized_KMeans_15 done. Time to fit the model: 36.58458423614502 seconds.\n",
      "sample_standardized_KMeans_20 done. Time to fit the model: 50.62095856666565 seconds.\n",
      "sample_standardized_KMeans_30 done. Time to fit the model: 88.40085291862488 seconds.\n",
      "sample_standardized_MiniBatchKMeans_10 done. Time to fit the model: 17.53959631919861 seconds.\n",
      "sample_standardized_MiniBatchKMeans_15 done. Time to fit the model: 19.377883672714233 seconds.\n",
      "sample_standardized_MiniBatchKMeans_20 done. Time to fit the model: 19.961794137954712 seconds.\n",
      "sample_standardized_MiniBatchKMeans_30 done. Time to fit the model: 27.228529930114746 seconds.\n",
      "sample_standardized_GMM_10 done. Time to fit the model: 8817.877690076828 seconds.\n",
      "sample_standardized_GMM_15 done. Time to fit the model: 8004.2522094249725 seconds.\n",
      "sample_standardized_GMM_20 done. Time to fit the model: 11593.263016223907 seconds.\n",
      "sample_standardized_GMM_30 done. Time to fit the model: 21957.19268512726 seconds.\n",
      "sample_standardized_SOM_(3, 3)_sigma-0.01_rate-0.01 done. Time to fit the model: 6.041452169418335 seconds.\n",
      "sample_standardized_SOM_(3, 3)_sigma-0.01_rate-0.05 done. Time to fit the model: 6.0424699783325195 seconds.\n",
      "sample_standardized_SOM_(3, 3)_sigma-0.01_rate-0.1 done. Time to fit the model: 6.0597083568573 seconds.\n",
      "sample_standardized_SOM_(3, 3)_sigma-0.01_rate-0.2 done. Time to fit the model: 6.382687568664551 seconds.\n",
      "sample_standardized_SOM_(3, 3)_sigma-0.01_rate-0.5 done. Time to fit the model: 6.059550046920776 seconds.\n",
      "sample_standardized_SOM_(3, 3)_sigma-0.01_rate-1 done. Time to fit the model: 6.28273344039917 seconds.\n",
      "sample_standardized_SOM_(3, 3)_sigma-0.1_rate-0.01 done. Time to fit the model: 6.27402925491333 seconds.\n",
      "sample_standardized_SOM_(3, 3)_sigma-0.1_rate-0.05 done. Time to fit the model: 6.091947555541992 seconds.\n",
      "sample_standardized_SOM_(3, 3)_sigma-0.1_rate-0.1 done. Time to fit the model: 6.291349411010742 seconds.\n",
      "sample_standardized_SOM_(3, 3)_sigma-0.1_rate-0.2 done. Time to fit the model: 6.2743775844573975 seconds.\n",
      "sample_standardized_SOM_(3, 3)_sigma-0.1_rate-0.5 done. Time to fit the model: 6.125728130340576 seconds.\n",
      "sample_standardized_SOM_(3, 3)_sigma-0.1_rate-1 done. Time to fit the model: 6.091755628585815 seconds.\n",
      "sample_standardized_SOM_(3, 3)_sigma-0.25_rate-0.01 done. Time to fit the model: 6.207939147949219 seconds.\n",
      "sample_standardized_SOM_(3, 3)_sigma-0.25_rate-0.05 done. Time to fit the model: 6.399035930633545 seconds.\n",
      "sample_standardized_SOM_(3, 3)_sigma-0.25_rate-0.1 done. Time to fit the model: 6.149229049682617 seconds.\n",
      "sample_standardized_SOM_(3, 3)_sigma-0.25_rate-0.2 done. Time to fit the model: 6.255995750427246 seconds.\n",
      "sample_standardized_SOM_(3, 3)_sigma-0.25_rate-0.5 done. Time to fit the model: 6.120840549468994 seconds.\n",
      "sample_standardized_SOM_(3, 3)_sigma-0.25_rate-1 done. Time to fit the model: 6.245414733886719 seconds.\n",
      "sample_standardized_SOM_(3, 3)_sigma-0.5_rate-0.01 done. Time to fit the model: 5.998126745223999 seconds.\n",
      "sample_standardized_SOM_(3, 3)_sigma-0.5_rate-0.05 done. Time to fit the model: 6.2665159702301025 seconds.\n",
      "sample_standardized_SOM_(3, 3)_sigma-0.5_rate-0.1 done. Time to fit the model: 6.202017545700073 seconds.\n",
      "sample_standardized_SOM_(3, 3)_sigma-0.5_rate-0.2 done. Time to fit the model: 6.271490812301636 seconds.\n",
      "sample_standardized_SOM_(3, 3)_sigma-0.5_rate-0.5 done. Time to fit the model: 6.278396368026733 seconds.\n",
      "sample_standardized_SOM_(3, 3)_sigma-0.5_rate-1 done. Time to fit the model: 6.106752872467041 seconds.\n",
      "sample_standardized_SOM_(3, 3)_sigma-1_rate-0.01 done. Time to fit the model: 6.008735656738281 seconds.\n",
      "sample_standardized_SOM_(3, 3)_sigma-1_rate-0.05 done. Time to fit the model: 6.033384323120117 seconds.\n",
      "sample_standardized_SOM_(3, 3)_sigma-1_rate-0.1 done. Time to fit the model: 6.1437554359436035 seconds.\n",
      "sample_standardized_SOM_(3, 3)_sigma-1_rate-0.2 done. Time to fit the model: 6.351598739624023 seconds.\n",
      "sample_standardized_SOM_(3, 3)_sigma-1_rate-0.5 done. Time to fit the model: 6.337004899978638 seconds.\n",
      "sample_standardized_SOM_(3, 3)_sigma-1_rate-1 done. Time to fit the model: 6.048030853271484 seconds.\n",
      "sample_standardized_SOM_(2, 5)_sigma-0.01_rate-0.01 done. Time to fit the model: 6.246315956115723 seconds.\n",
      "sample_standardized_SOM_(2, 5)_sigma-0.01_rate-0.05 done. Time to fit the model: 6.338611841201782 seconds.\n",
      "sample_standardized_SOM_(2, 5)_sigma-0.01_rate-0.1 done. Time to fit the model: 6.214588403701782 seconds.\n",
      "sample_standardized_SOM_(2, 5)_sigma-0.01_rate-0.2 done. Time to fit the model: 6.299610137939453 seconds.\n",
      "sample_standardized_SOM_(2, 5)_sigma-0.01_rate-0.5 done. Time to fit the model: 6.38018798828125 seconds.\n",
      "sample_standardized_SOM_(2, 5)_sigma-0.01_rate-1 done. Time to fit the model: 6.186944007873535 seconds.\n",
      "sample_standardized_SOM_(2, 5)_sigma-0.1_rate-0.01 done. Time to fit the model: 6.1516852378845215 seconds.\n",
      "sample_standardized_SOM_(2, 5)_sigma-0.1_rate-0.05 done. Time to fit the model: 6.371593952178955 seconds.\n",
      "sample_standardized_SOM_(2, 5)_sigma-0.1_rate-0.1 done. Time to fit the model: 6.331070899963379 seconds.\n",
      "sample_standardized_SOM_(2, 5)_sigma-0.1_rate-0.2 done. Time to fit the model: 6.6916892528533936 seconds.\n",
      "sample_standardized_SOM_(2, 5)_sigma-0.1_rate-0.5 done. Time to fit the model: 6.45002007484436 seconds.\n",
      "sample_standardized_SOM_(2, 5)_sigma-0.1_rate-1 done. Time to fit the model: 6.447925567626953 seconds.\n",
      "sample_standardized_SOM_(2, 5)_sigma-0.25_rate-0.01 done. Time to fit the model: 6.230453252792358 seconds.\n",
      "sample_standardized_SOM_(2, 5)_sigma-0.25_rate-0.05 done. Time to fit the model: 6.4163124561309814 seconds.\n",
      "sample_standardized_SOM_(2, 5)_sigma-0.25_rate-0.1 done. Time to fit the model: 6.312195301055908 seconds.\n",
      "sample_standardized_SOM_(2, 5)_sigma-0.25_rate-0.2 done. Time to fit the model: 6.496335744857788 seconds.\n",
      "sample_standardized_SOM_(2, 5)_sigma-0.25_rate-0.5 done. Time to fit the model: 6.320337533950806 seconds.\n",
      "sample_standardized_SOM_(2, 5)_sigma-0.25_rate-1 done. Time to fit the model: 6.391258239746094 seconds.\n",
      "sample_standardized_SOM_(2, 5)_sigma-0.5_rate-0.01 done. Time to fit the model: 6.227715969085693 seconds.\n",
      "sample_standardized_SOM_(2, 5)_sigma-0.5_rate-0.05 done. Time to fit the model: 6.272166013717651 seconds.\n",
      "sample_standardized_SOM_(2, 5)_sigma-0.5_rate-0.1 done. Time to fit the model: 6.29688572883606 seconds.\n",
      "sample_standardized_SOM_(2, 5)_sigma-0.5_rate-0.2 done. Time to fit the model: 6.512700319290161 seconds.\n",
      "sample_standardized_SOM_(2, 5)_sigma-0.5_rate-0.5 done. Time to fit the model: 6.449718236923218 seconds.\n",
      "sample_standardized_SOM_(2, 5)_sigma-0.5_rate-1 done. Time to fit the model: 6.2205281257629395 seconds.\n",
      "sample_standardized_SOM_(2, 5)_sigma-1_rate-0.01 done. Time to fit the model: 6.2186102867126465 seconds.\n",
      "sample_standardized_SOM_(2, 5)_sigma-1_rate-0.05 done. Time to fit the model: 6.249726295471191 seconds.\n",
      "sample_standardized_SOM_(2, 5)_sigma-1_rate-0.1 done. Time to fit the model: 6.2725629806518555 seconds.\n",
      "sample_standardized_SOM_(2, 5)_sigma-1_rate-0.2 done. Time to fit the model: 6.410464763641357 seconds.\n",
      "sample_standardized_SOM_(2, 5)_sigma-1_rate-0.5 done. Time to fit the model: 6.647894382476807 seconds.\n",
      "sample_standardized_SOM_(2, 5)_sigma-1_rate-1 done. Time to fit the model: 6.202193737030029 seconds.\n",
      "sample_standardized_SOM_(3, 4)_sigma-0.01_rate-0.01 done. Time to fit the model: 6.466960906982422 seconds.\n",
      "sample_standardized_SOM_(3, 4)_sigma-0.01_rate-0.05 done. Time to fit the model: 6.4868175983428955 seconds.\n",
      "sample_standardized_SOM_(3, 4)_sigma-0.01_rate-0.1 done. Time to fit the model: 6.603813648223877 seconds.\n",
      "sample_standardized_SOM_(3, 4)_sigma-0.01_rate-0.2 done. Time to fit the model: 6.70729660987854 seconds.\n",
      "sample_standardized_SOM_(3, 4)_sigma-0.01_rate-0.5 done. Time to fit the model: 6.687565326690674 seconds.\n",
      "sample_standardized_SOM_(3, 4)_sigma-0.01_rate-1 done. Time to fit the model: 6.6126062870025635 seconds.\n",
      "sample_standardized_SOM_(3, 4)_sigma-0.1_rate-0.01 done. Time to fit the model: 6.622690200805664 seconds.\n",
      "sample_standardized_SOM_(3, 4)_sigma-0.1_rate-0.05 done. Time to fit the model: 6.527747392654419 seconds.\n",
      "sample_standardized_SOM_(3, 4)_sigma-0.1_rate-0.1 done. Time to fit the model: 8.404837846755981 seconds.\n",
      "sample_standardized_SOM_(3, 4)_sigma-0.1_rate-0.2 done. Time to fit the model: 9.995216131210327 seconds.\n",
      "sample_standardized_SOM_(3, 4)_sigma-0.1_rate-0.5 done. Time to fit the model: 8.759083271026611 seconds.\n",
      "sample_standardized_SOM_(3, 4)_sigma-0.1_rate-1 done. Time to fit the model: 6.665789604187012 seconds.\n",
      "sample_standardized_SOM_(3, 4)_sigma-0.25_rate-0.01 done. Time to fit the model: 6.517737150192261 seconds.\n",
      "sample_standardized_SOM_(3, 4)_sigma-0.25_rate-0.05 done. Time to fit the model: 6.59808087348938 seconds.\n",
      "sample_standardized_SOM_(3, 4)_sigma-0.25_rate-0.1 done. Time to fit the model: 6.585826396942139 seconds.\n",
      "sample_standardized_SOM_(3, 4)_sigma-0.25_rate-0.2 done. Time to fit the model: 6.641624450683594 seconds.\n",
      "sample_standardized_SOM_(3, 4)_sigma-0.25_rate-0.5 done. Time to fit the model: 8.689597129821777 seconds.\n",
      "sample_standardized_SOM_(3, 4)_sigma-0.25_rate-1 done. Time to fit the model: 9.790433645248413 seconds.\n",
      "sample_standardized_SOM_(3, 4)_sigma-0.5_rate-0.01 done. Time to fit the model: 8.342492580413818 seconds.\n",
      "sample_standardized_SOM_(3, 4)_sigma-0.5_rate-0.05 done. Time to fit the model: 6.496647596359253 seconds.\n",
      "sample_standardized_SOM_(3, 4)_sigma-0.5_rate-0.1 done. Time to fit the model: 6.587351083755493 seconds.\n",
      "sample_standardized_SOM_(3, 4)_sigma-0.5_rate-0.2 done. Time to fit the model: 6.779898166656494 seconds.\n",
      "sample_standardized_SOM_(3, 4)_sigma-0.5_rate-0.5 done. Time to fit the model: 6.784470319747925 seconds.\n",
      "sample_standardized_SOM_(3, 4)_sigma-0.5_rate-1 done. Time to fit the model: 6.452801465988159 seconds.\n",
      "sample_standardized_SOM_(3, 4)_sigma-1_rate-0.01 done. Time to fit the model: 6.6474609375 seconds.\n",
      "sample_standardized_SOM_(3, 4)_sigma-1_rate-0.05 done. Time to fit the model: 6.5371527671813965 seconds.\n",
      "sample_standardized_SOM_(3, 4)_sigma-1_rate-0.1 done. Time to fit the model: 6.913776159286499 seconds.\n",
      "sample_standardized_SOM_(3, 4)_sigma-1_rate-0.2 done. Time to fit the model: 6.674077033996582 seconds.\n",
      "sample_standardized_SOM_(3, 4)_sigma-1_rate-0.5 done. Time to fit the model: 6.895212173461914 seconds.\n",
      "sample_standardized_SOM_(3, 4)_sigma-1_rate-1 done. Time to fit the model: 6.550818204879761 seconds.\n",
      "sample_standardized_SOM_(2, 6)_sigma-0.01_rate-0.01 done. Time to fit the model: 6.406692743301392 seconds.\n",
      "sample_standardized_SOM_(2, 6)_sigma-0.01_rate-0.05 done. Time to fit the model: 6.451681852340698 seconds.\n",
      "sample_standardized_SOM_(2, 6)_sigma-0.01_rate-0.1 done. Time to fit the model: 6.651016712188721 seconds.\n",
      "sample_standardized_SOM_(2, 6)_sigma-0.01_rate-0.2 done. Time to fit the model: 6.768008470535278 seconds.\n",
      "sample_standardized_SOM_(2, 6)_sigma-0.01_rate-0.5 done. Time to fit the model: 6.5549585819244385 seconds.\n",
      "sample_standardized_SOM_(2, 6)_sigma-0.01_rate-1 done. Time to fit the model: 6.604512453079224 seconds.\n",
      "sample_standardized_SOM_(2, 6)_sigma-0.1_rate-0.01 done. Time to fit the model: 6.488897800445557 seconds.\n",
      "sample_standardized_SOM_(2, 6)_sigma-0.1_rate-0.05 done. Time to fit the model: 6.474110841751099 seconds.\n",
      "sample_standardized_SOM_(2, 6)_sigma-0.1_rate-0.1 done. Time to fit the model: 6.891201496124268 seconds.\n",
      "sample_standardized_SOM_(2, 6)_sigma-0.1_rate-0.2 done. Time to fit the model: 6.849219799041748 seconds.\n",
      "sample_standardized_SOM_(2, 6)_sigma-0.1_rate-0.5 done. Time to fit the model: 7.015116453170776 seconds.\n",
      "sample_standardized_SOM_(2, 6)_sigma-0.1_rate-1 done. Time to fit the model: 6.593651533126831 seconds.\n",
      "sample_standardized_SOM_(2, 6)_sigma-0.25_rate-0.01 done. Time to fit the model: 6.737154245376587 seconds.\n",
      "sample_standardized_SOM_(2, 6)_sigma-0.25_rate-0.05 done. Time to fit the model: 8.17149806022644 seconds.\n",
      "sample_standardized_SOM_(2, 6)_sigma-0.25_rate-0.1 done. Time to fit the model: 9.674012899398804 seconds.\n",
      "sample_standardized_SOM_(2, 6)_sigma-0.25_rate-0.2 done. Time to fit the model: 8.839396953582764 seconds.\n",
      "sample_standardized_SOM_(2, 6)_sigma-0.25_rate-0.5 done. Time to fit the model: 6.666623592376709 seconds.\n",
      "sample_standardized_SOM_(2, 6)_sigma-0.25_rate-1 done. Time to fit the model: 6.6030731201171875 seconds.\n",
      "sample_standardized_SOM_(2, 6)_sigma-0.5_rate-0.01 done. Time to fit the model: 6.458607912063599 seconds.\n",
      "sample_standardized_SOM_(2, 6)_sigma-0.5_rate-0.05 done. Time to fit the model: 6.374103784561157 seconds.\n",
      "sample_standardized_SOM_(2, 6)_sigma-0.5_rate-0.1 done. Time to fit the model: 6.520724058151245 seconds.\n",
      "sample_standardized_SOM_(2, 6)_sigma-0.5_rate-0.2 done. Time to fit the model: 6.621204376220703 seconds.\n",
      "sample_standardized_SOM_(2, 6)_sigma-0.5_rate-0.5 done. Time to fit the model: 6.6905903816223145 seconds.\n",
      "sample_standardized_SOM_(2, 6)_sigma-0.5_rate-1 done. Time to fit the model: 6.467045783996582 seconds.\n",
      "sample_standardized_SOM_(2, 6)_sigma-1_rate-0.01 done. Time to fit the model: 6.614234685897827 seconds.\n",
      "sample_standardized_SOM_(2, 6)_sigma-1_rate-0.05 done. Time to fit the model: 6.433612108230591 seconds.\n",
      "sample_standardized_SOM_(2, 6)_sigma-1_rate-0.1 done. Time to fit the model: 6.642040967941284 seconds.\n",
      "sample_standardized_SOM_(2, 6)_sigma-1_rate-0.2 done. Time to fit the model: 6.810717821121216 seconds.\n",
      "sample_standardized_SOM_(2, 6)_sigma-1_rate-0.5 done. Time to fit the model: 6.835365056991577 seconds.\n",
      "sample_standardized_SOM_(2, 6)_sigma-1_rate-1 done. Time to fit the model: 6.449937343597412 seconds.\n",
      "sample_standardized_SOM_(3, 5)_sigma-0.01_rate-0.01 done. Time to fit the model: 6.848511457443237 seconds.\n",
      "sample_standardized_SOM_(3, 5)_sigma-0.01_rate-0.05 done. Time to fit the model: 6.851857423782349 seconds.\n",
      "sample_standardized_SOM_(3, 5)_sigma-0.01_rate-0.1 done. Time to fit the model: 6.921448469161987 seconds.\n",
      "sample_standardized_SOM_(3, 5)_sigma-0.01_rate-0.2 done. Time to fit the model: 7.021340370178223 seconds.\n",
      "sample_standardized_SOM_(3, 5)_sigma-0.01_rate-0.5 done. Time to fit the model: 6.932762384414673 seconds.\n",
      "sample_standardized_SOM_(3, 5)_sigma-0.01_rate-1 done. Time to fit the model: 7.124608039855957 seconds.\n",
      "sample_standardized_SOM_(3, 5)_sigma-0.1_rate-0.01 done. Time to fit the model: 6.972275733947754 seconds.\n",
      "sample_standardized_SOM_(3, 5)_sigma-0.1_rate-0.05 done. Time to fit the model: 7.044497013092041 seconds.\n",
      "sample_standardized_SOM_(3, 5)_sigma-0.1_rate-0.1 done. Time to fit the model: 7.2646777629852295 seconds.\n",
      "sample_standardized_SOM_(3, 5)_sigma-0.1_rate-0.2 done. Time to fit the model: 8.82405710220337 seconds.\n",
      "sample_standardized_SOM_(3, 5)_sigma-0.1_rate-0.5 done. Time to fit the model: 10.416626453399658 seconds.\n",
      "sample_standardized_SOM_(3, 5)_sigma-0.1_rate-1 done. Time to fit the model: 9.215104579925537 seconds.\n",
      "sample_standardized_SOM_(3, 5)_sigma-0.25_rate-0.01 done. Time to fit the model: 8.639707326889038 seconds.\n",
      "sample_standardized_SOM_(3, 5)_sigma-0.25_rate-0.05 done. Time to fit the model: 10.058373928070068 seconds.\n",
      "sample_standardized_SOM_(3, 5)_sigma-0.25_rate-0.1 done. Time to fit the model: 8.89886999130249 seconds.\n",
      "sample_standardized_SOM_(3, 5)_sigma-0.25_rate-0.2 done. Time to fit the model: 7.006105422973633 seconds.\n",
      "sample_standardized_SOM_(3, 5)_sigma-0.25_rate-0.5 done. Time to fit the model: 7.002037286758423 seconds.\n",
      "sample_standardized_SOM_(3, 5)_sigma-0.25_rate-1 done. Time to fit the model: 6.9071714878082275 seconds.\n",
      "sample_standardized_SOM_(3, 5)_sigma-0.5_rate-0.01 done. Time to fit the model: 6.878051280975342 seconds.\n",
      "sample_standardized_SOM_(3, 5)_sigma-0.5_rate-0.05 done. Time to fit the model: 6.978433847427368 seconds.\n",
      "sample_standardized_SOM_(3, 5)_sigma-0.5_rate-0.1 done. Time to fit the model: 7.020828485488892 seconds.\n",
      "sample_standardized_SOM_(3, 5)_sigma-0.5_rate-0.2 done. Time to fit the model: 7.195865869522095 seconds.\n",
      "sample_standardized_SOM_(3, 5)_sigma-0.5_rate-0.5 done. Time to fit the model: 7.115154266357422 seconds.\n",
      "sample_standardized_SOM_(3, 5)_sigma-0.5_rate-1 done. Time to fit the model: 7.015010356903076 seconds.\n",
      "sample_standardized_SOM_(3, 5)_sigma-1_rate-0.01 done. Time to fit the model: 6.9420506954193115 seconds.\n",
      "sample_standardized_SOM_(3, 5)_sigma-1_rate-0.05 done. Time to fit the model: 7.148162841796875 seconds.\n",
      "sample_standardized_SOM_(3, 5)_sigma-1_rate-0.1 done. Time to fit the model: 7.281223773956299 seconds.\n",
      "sample_standardized_SOM_(3, 5)_sigma-1_rate-0.2 done. Time to fit the model: 7.0804712772369385 seconds.\n",
      "sample_standardized_SOM_(3, 5)_sigma-1_rate-0.5 done. Time to fit the model: 7.378613233566284 seconds.\n",
      "sample_standardized_SOM_(3, 5)_sigma-1_rate-1 done. Time to fit the model: 7.000572204589844 seconds.\n",
      "sample_standardized_SOM_(4, 5)_sigma-0.01_rate-0.01 done. Time to fit the model: 7.723738193511963 seconds.\n",
      "sample_standardized_SOM_(4, 5)_sigma-0.01_rate-0.05 done. Time to fit the model: 7.72091817855835 seconds.\n",
      "sample_standardized_SOM_(4, 5)_sigma-0.01_rate-0.1 done. Time to fit the model: 7.813778638839722 seconds.\n",
      "sample_standardized_SOM_(4, 5)_sigma-0.01_rate-0.2 done. Time to fit the model: 7.847135543823242 seconds.\n",
      "sample_standardized_SOM_(4, 5)_sigma-0.01_rate-0.5 done. Time to fit the model: 8.101349592208862 seconds.\n",
      "sample_standardized_SOM_(4, 5)_sigma-0.01_rate-1 done. Time to fit the model: 7.922775506973267 seconds.\n",
      "sample_standardized_SOM_(4, 5)_sigma-0.1_rate-0.01 done. Time to fit the model: 7.866520166397095 seconds.\n",
      "sample_standardized_SOM_(4, 5)_sigma-0.1_rate-0.05 done. Time to fit the model: 7.924614191055298 seconds.\n",
      "sample_standardized_SOM_(4, 5)_sigma-0.1_rate-0.1 done. Time to fit the model: 7.896871566772461 seconds.\n",
      "sample_standardized_SOM_(4, 5)_sigma-0.1_rate-0.2 done. Time to fit the model: 7.926555156707764 seconds.\n",
      "sample_standardized_SOM_(4, 5)_sigma-0.1_rate-0.5 done. Time to fit the model: 7.869636058807373 seconds.\n",
      "sample_standardized_SOM_(4, 5)_sigma-0.1_rate-1 done. Time to fit the model: 8.035306930541992 seconds.\n",
      "sample_standardized_SOM_(4, 5)_sigma-0.25_rate-0.01 done. Time to fit the model: 7.94612717628479 seconds.\n",
      "sample_standardized_SOM_(4, 5)_sigma-0.25_rate-0.05 done. Time to fit the model: 7.792319059371948 seconds.\n",
      "sample_standardized_SOM_(4, 5)_sigma-0.25_rate-0.1 done. Time to fit the model: 7.886402368545532 seconds.\n",
      "sample_standardized_SOM_(4, 5)_sigma-0.25_rate-0.2 done. Time to fit the model: 7.945167303085327 seconds.\n",
      "sample_standardized_SOM_(4, 5)_sigma-0.25_rate-0.5 done. Time to fit the model: 7.895480155944824 seconds.\n",
      "sample_standardized_SOM_(4, 5)_sigma-0.25_rate-1 done. Time to fit the model: 8.203335523605347 seconds.\n",
      "sample_standardized_SOM_(4, 5)_sigma-0.5_rate-0.01 done. Time to fit the model: 7.717268705368042 seconds.\n",
      "sample_standardized_SOM_(4, 5)_sigma-0.5_rate-0.05 done. Time to fit the model: 7.8255932331085205 seconds.\n",
      "sample_standardized_SOM_(4, 5)_sigma-0.5_rate-0.1 done. Time to fit the model: 8.04367995262146 seconds.\n",
      "sample_standardized_SOM_(4, 5)_sigma-0.5_rate-0.2 done. Time to fit the model: 9.806514978408813 seconds.\n",
      "sample_standardized_SOM_(4, 5)_sigma-0.5_rate-0.5 done. Time to fit the model: 11.029207229614258 seconds.\n",
      "sample_standardized_SOM_(4, 5)_sigma-0.5_rate-1 done. Time to fit the model: 9.586603164672852 seconds.\n",
      "sample_standardized_SOM_(4, 5)_sigma-1_rate-0.01 done. Time to fit the model: 7.6841535568237305 seconds.\n",
      "sample_standardized_SOM_(4, 5)_sigma-1_rate-0.05 done. Time to fit the model: 7.742480993270874 seconds.\n",
      "sample_standardized_SOM_(4, 5)_sigma-1_rate-0.1 done. Time to fit the model: 8.154315948486328 seconds.\n",
      "sample_standardized_SOM_(4, 5)_sigma-1_rate-0.2 done. Time to fit the model: 9.876065254211426 seconds.\n",
      "sample_standardized_SOM_(4, 5)_sigma-1_rate-0.5 done. Time to fit the model: 11.988449573516846 seconds.\n",
      "sample_standardized_SOM_(4, 5)_sigma-1_rate-1 done. Time to fit the model: 9.684459686279297 seconds.\n",
      "sample_standardized_SOM_(5, 5)_sigma-0.01_rate-0.01 done. Time to fit the model: 8.574947834014893 seconds.\n",
      "sample_standardized_SOM_(5, 5)_sigma-0.01_rate-0.05 done. Time to fit the model: 8.547278642654419 seconds.\n",
      "sample_standardized_SOM_(5, 5)_sigma-0.01_rate-0.1 done. Time to fit the model: 8.799760341644287 seconds.\n",
      "sample_standardized_SOM_(5, 5)_sigma-0.01_rate-0.2 done. Time to fit the model: 8.887267827987671 seconds.\n",
      "sample_standardized_SOM_(5, 5)_sigma-0.01_rate-0.5 done. Time to fit the model: 8.837449073791504 seconds.\n",
      "sample_standardized_SOM_(5, 5)_sigma-0.01_rate-1 done. Time to fit the model: 8.59840703010559 seconds.\n",
      "sample_standardized_SOM_(5, 5)_sigma-0.1_rate-0.01 done. Time to fit the model: 8.567549228668213 seconds.\n",
      "sample_standardized_SOM_(5, 5)_sigma-0.1_rate-0.05 done. Time to fit the model: 8.490204811096191 seconds.\n",
      "sample_standardized_SOM_(5, 5)_sigma-0.1_rate-0.1 done. Time to fit the model: 9.251555919647217 seconds.\n",
      "sample_standardized_SOM_(5, 5)_sigma-0.1_rate-0.2 done. Time to fit the model: 8.830044507980347 seconds.\n",
      "sample_standardized_SOM_(5, 5)_sigma-0.1_rate-0.5 done. Time to fit the model: 8.744437217712402 seconds.\n",
      "sample_standardized_SOM_(5, 5)_sigma-0.1_rate-1 done. Time to fit the model: 10.71109390258789 seconds.\n",
      "sample_standardized_SOM_(5, 5)_sigma-0.25_rate-0.01 done. Time to fit the model: 8.963495254516602 seconds.\n",
      "sample_standardized_SOM_(5, 5)_sigma-0.25_rate-0.05 done. Time to fit the model: 8.572678327560425 seconds.\n",
      "sample_standardized_SOM_(5, 5)_sigma-0.25_rate-0.1 done. Time to fit the model: 8.890587568283081 seconds.\n",
      "sample_standardized_SOM_(5, 5)_sigma-0.25_rate-0.2 done. Time to fit the model: 8.855430364608765 seconds.\n",
      "sample_standardized_SOM_(5, 5)_sigma-0.25_rate-0.5 done. Time to fit the model: 9.030456781387329 seconds.\n",
      "sample_standardized_SOM_(5, 5)_sigma-0.25_rate-1 done. Time to fit the model: 8.97514533996582 seconds.\n",
      "sample_standardized_SOM_(5, 5)_sigma-0.5_rate-0.01 done. Time to fit the model: 8.725110054016113 seconds.\n",
      "sample_standardized_SOM_(5, 5)_sigma-0.5_rate-0.05 done. Time to fit the model: 8.969297409057617 seconds.\n",
      "sample_standardized_SOM_(5, 5)_sigma-0.5_rate-0.1 done. Time to fit the model: 8.507286548614502 seconds.\n",
      "sample_standardized_SOM_(5, 5)_sigma-0.5_rate-0.2 done. Time to fit the model: 11.285863161087036 seconds.\n",
      "sample_standardized_SOM_(5, 5)_sigma-0.5_rate-0.5 done. Time to fit the model: 10.909534215927124 seconds.\n",
      "sample_standardized_SOM_(5, 5)_sigma-0.5_rate-1 done. Time to fit the model: 8.99370288848877 seconds.\n",
      "sample_standardized_SOM_(5, 5)_sigma-1_rate-0.01 done. Time to fit the model: 8.653746128082275 seconds.\n",
      "sample_standardized_SOM_(5, 5)_sigma-1_rate-0.05 done. Time to fit the model: 8.670263767242432 seconds.\n",
      "sample_standardized_SOM_(5, 5)_sigma-1_rate-0.1 done. Time to fit the model: 8.526506185531616 seconds.\n",
      "sample_standardized_SOM_(5, 5)_sigma-1_rate-0.2 done. Time to fit the model: 8.697363138198853 seconds.\n",
      "sample_standardized_SOM_(5, 5)_sigma-1_rate-0.5 done. Time to fit the model: 9.55558180809021 seconds.\n",
      "sample_standardized_SOM_(5, 5)_sigma-1_rate-1 done. Time to fit the model: 8.891328811645508 seconds.\n",
      "sample_standardized_SOM_(6, 5)_sigma-0.01_rate-0.01 done. Time to fit the model: 11.544363021850586 seconds.\n",
      "sample_standardized_SOM_(6, 5)_sigma-0.01_rate-0.05 done. Time to fit the model: 14.227508068084717 seconds.\n",
      "sample_standardized_SOM_(6, 5)_sigma-0.01_rate-0.1 done. Time to fit the model: 15.08832836151123 seconds.\n",
      "sample_standardized_SOM_(6, 5)_sigma-0.01_rate-0.2 done. Time to fit the model: 14.320567846298218 seconds.\n",
      "sample_standardized_SOM_(6, 5)_sigma-0.01_rate-0.5 done. Time to fit the model: 12.988727807998657 seconds.\n",
      "sample_standardized_SOM_(6, 5)_sigma-0.01_rate-1 done. Time to fit the model: 12.774047136306763 seconds.\n",
      "sample_standardized_SOM_(6, 5)_sigma-0.1_rate-0.01 done. Time to fit the model: 12.655745267868042 seconds.\n",
      "sample_standardized_SOM_(6, 5)_sigma-0.1_rate-0.05 done. Time to fit the model: 13.632773637771606 seconds.\n",
      "sample_standardized_SOM_(6, 5)_sigma-0.1_rate-0.1 done. Time to fit the model: 13.69734263420105 seconds.\n",
      "sample_standardized_SOM_(6, 5)_sigma-0.1_rate-0.2 done. Time to fit the model: 11.825275182723999 seconds.\n",
      "sample_standardized_SOM_(6, 5)_sigma-0.1_rate-0.5 done. Time to fit the model: 11.564648151397705 seconds.\n",
      "sample_standardized_SOM_(6, 5)_sigma-0.1_rate-1 done. Time to fit the model: 13.11095905303955 seconds.\n",
      "sample_standardized_SOM_(6, 5)_sigma-0.25_rate-0.01 done. Time to fit the model: 11.38231635093689 seconds.\n",
      "sample_standardized_SOM_(6, 5)_sigma-0.25_rate-0.05 done. Time to fit the model: 10.2324857711792 seconds.\n",
      "sample_standardized_SOM_(6, 5)_sigma-0.25_rate-0.1 done. Time to fit the model: 10.075611352920532 seconds.\n",
      "sample_standardized_SOM_(6, 5)_sigma-0.25_rate-0.2 done. Time to fit the model: 11.45384669303894 seconds.\n",
      "sample_standardized_SOM_(6, 5)_sigma-0.25_rate-0.5 done. Time to fit the model: 13.136953353881836 seconds.\n",
      "sample_standardized_SOM_(6, 5)_sigma-0.25_rate-1 done. Time to fit the model: 12.988116979598999 seconds.\n",
      "sample_standardized_SOM_(6, 5)_sigma-0.5_rate-0.01 done. Time to fit the model: 13.676304578781128 seconds.\n",
      "sample_standardized_SOM_(6, 5)_sigma-0.5_rate-0.05 done. Time to fit the model: 13.65310263633728 seconds.\n",
      "sample_standardized_SOM_(6, 5)_sigma-0.5_rate-0.1 done. Time to fit the model: 11.345702409744263 seconds.\n",
      "sample_standardized_SOM_(6, 5)_sigma-0.5_rate-0.2 done. Time to fit the model: 10.200783014297485 seconds.\n",
      "sample_standardized_SOM_(6, 5)_sigma-0.5_rate-0.5 done. Time to fit the model: 10.253746271133423 seconds.\n",
      "sample_standardized_SOM_(6, 5)_sigma-0.5_rate-1 done. Time to fit the model: 9.905344724655151 seconds.\n",
      "sample_standardized_SOM_(6, 5)_sigma-1_rate-0.01 done. Time to fit the model: 9.97464895248413 seconds.\n",
      "sample_standardized_SOM_(6, 5)_sigma-1_rate-0.05 done. Time to fit the model: 9.808958053588867 seconds.\n",
      "sample_standardized_SOM_(6, 5)_sigma-1_rate-0.1 done. Time to fit the model: 9.867895603179932 seconds.\n",
      "sample_standardized_SOM_(6, 5)_sigma-1_rate-0.2 done. Time to fit the model: 10.446823596954346 seconds.\n",
      "sample_standardized_SOM_(6, 5)_sigma-1_rate-0.5 done. Time to fit the model: 10.370377779006958 seconds.\n",
      "sample_standardized_SOM_(6, 5)_sigma-1_rate-1 done. Time to fit the model: 11.236787557601929 seconds.\n"
     ]
    }
   ],
   "source": [
    "# for case in [\"chunks\", \"sample\"]:\n",
    "for case in [\"sample\"]:\n",
    "    \n",
    "    if case == \"chunks\":\n",
    "        mod51 = pd.read_parquet(\"../../urbangrammar_samba/spatial_signatures/clustering_data/validation/modum_chunk51.pq\")\n",
    "        mod68 = pd.read_parquet(\"../../urbangrammar_samba/spatial_signatures/clustering_data/validation/modum_chunk68.pq\")\n",
    "        modum = pd.concat([mod51, mod68]).reset_index(drop=True)\n",
    "\n",
    "        mur51 = pd.read_parquet(\"../../urbangrammar_samba/spatial_signatures/clustering_data/validation/murray_chunk51.pq\")\n",
    "        mur68 = pd.read_parquet(\"../../urbangrammar_samba/spatial_signatures/clustering_data/validation/murray_chunk68.pq\")\n",
    "        murray = pd.concat([mur51, mur68]).reset_index(drop=True)\n",
    "\n",
    "        joc51 = pd.read_parquet(\"../../urbangrammar_samba/spatial_signatures/clustering_data/validation/jochem_chunk51.pq\")\n",
    "        joc68 = pd.read_parquet(\"../../urbangrammar_samba/spatial_signatures/clustering_data/validation/jochem_chunk68.pq\")\n",
    "        jochem = pd.concat([joc51, joc68]).reset_index(drop=True)\n",
    "\n",
    "        geom51 = gpd.read_parquet(\"../../urbangrammar_samba/spatial_signatures/tessellation/tess_51.pq\", columns=[\"tessellation\", \"hindex\"])\n",
    "        geom68 = gpd.read_parquet(\"../../urbangrammar_samba/spatial_signatures/tessellation/tess_68.pq\", columns=[\"tessellation\", \"hindex\"])\n",
    "        geom = pd.concat([geom51, geom68]).reset_index(drop=True).rename_geometry(\"geometry\")\n",
    "\n",
    "    else:\n",
    "        modum = pd.read_parquet(\"../../urbangrammar_samba/spatial_signatures/clustering_data/validation/modum_sample.pq\")\n",
    "        murray = pd.read_parquet(\"../../urbangrammar_samba/spatial_signatures/clustering_data/validation/murray_sample.pq\")\n",
    "        jochem = pd.read_parquet(\"../../urbangrammar_samba/spatial_signatures/clustering_data/validation/jochem_sample.pq\")\n",
    "        geom = pd.read_parquet(\"../../urbangrammar_samba/spatial_signatures/clustering_data/sample/geometry.pq\", columns=[\"tessellation\", \"hindex\"])\n",
    "        geom = gpd.GeoDataFrame(geom, geometry=gpd.GeoSeries.from_wkb(geom.tessellation))\n",
    "\n",
    "#     for transformation in [\"normalized\", \"standardized\"]:\n",
    "    for transformation in [\"standardized\"]:\n",
    "        \n",
    "        # load data and prepare numpy.array\n",
    "        if case == \"chunks\":\n",
    "            data = pd.read_parquet(f\"../../urbangrammar_samba/spatial_signatures/clustering_data/sample/chunks_{transformation}_data.pq\").values\n",
    "        else:\n",
    "            data = pd.read_parquet(f\"../../urbangrammar_samba/spatial_signatures/clustering_data/sample/sample_{transformation}_data.pq\").values \n",
    "\n",
    "        for k in [10, 15, 20, 30]:\n",
    "            # KMeans\n",
    "            identifier = f\"{case}_{transformation}_KMeans_{k}\"\n",
    "            s = time()\n",
    "            km = KMeans(n_clusters=k, n_init=10, random_state=42).fit(data)\n",
    "            times[identifier] = time() - s\n",
    "            labels_ = km.labels_\n",
    "            labels[identifier] = labels_\n",
    "            \n",
    "            evaluations[identifier] = evaluation(data, labels_, case, identifier, murray, modum, jochem, geom, sample_size=10_000)\n",
    "            \n",
    "            print(f\"{identifier} done. Time to fit the model: {times[identifier]} seconds.\")\n",
    "            \n",
    "        for k in [10, 15, 20, 30]:\n",
    "            # MiniBatchKMeans\n",
    "            identifier = f\"{case}_{transformation}_MiniBatchKMeans_{k}\"\n",
    "            s = time()\n",
    "            km = MiniBatchKMeans(n_clusters=k, batch_size=25_000, n_init=10, random_state=42).fit(data)\n",
    "            times[identifier] = time() - s\n",
    "            labels_ = km.labels_\n",
    "            labels[identifier] = labels_\n",
    "            \n",
    "            evaluations[identifier] = evaluation(data, labels_, case, identifier, murray, modum, jochem, geom, sample_size=10_000)\n",
    "            \n",
    "            print(f\"{identifier} done. Time to fit the model: {times[identifier]} seconds.\")\n",
    "            \n",
    "#         for k in [10, 15, 20, 30]:\n",
    "#             # K-Medoid\n",
    "#             identifier = f\"{case}_{transformation}_KMedoid_{k}\"\n",
    "#             s = time()\n",
    "#             km = KMedoids(n_clusters=k, random_state=42).fit(data)\n",
    "#             times[identifier] = time() - s\n",
    "#             labels_ = km.labels_\n",
    "#             labels[identifier] = labels_\n",
    "            \n",
    "#             evaluations[identifier] = evaluation(data, labels_, case, identifier, murray, modum, jochem, geom, sample_size=10_000)\n",
    "            \n",
    "#             print(f\"{identifier} done. Time to fit the model: {times[identifier]} seconds.\")\n",
    "        \n",
    "        for k in [10, 15, 20, 30]:\n",
    "            # GMM\n",
    "            identifier = f\"{case}_{transformation}_GMM_{k}\"\n",
    "            s = time()\n",
    "            gmm = GaussianMixture(n_components=k, n_init=10, random_state=42, covariance_type=\"full\", max_iter=500).fit(data)\n",
    "            times[identifier] = time() - s\n",
    "            labels_ = gmm.predict(data)\n",
    "            labels[identifier] = labels_\n",
    "            \n",
    "            evaluations[identifier] = evaluation(data, labels_, case, identifier, murray, modum, jochem, geom, sample_size=10_000)\n",
    "            \n",
    "            print(f\"{identifier} done. Time to fit the model: {times[identifier]} seconds.\")\n",
    "\n",
    "        # SOM\n",
    "        for som_shape in [(3, 3), (2, 5), (3, 4), (2, 6), (3, 5), (4, 5), (5, 5), (6, 5)]:\n",
    "            for (sigma, rate) in product([.01, .1, .25, .5, 1], [.01, .05, .1, .2, .5, 1]):\n",
    "                identifier = f\"{case}_{transformation}_SOM_{som_shape}_sigma-{sigma}_rate-{rate}\"\n",
    "                s = time()\n",
    "                som = MiniSom(som_shape[0], som_shape[1], data.shape[1], sigma=sigma, learning_rate=rate,\n",
    "                              topology=\"hexagonal\", random_seed=42)\n",
    "                som.train_batch(data, 50000, verbose=False)\n",
    "                winner_coordinates = np.array([som.winner(x) for x in data])\n",
    "                labels_ = np.apply_along_axis(lambda x: str(tuple(x)), 1, winner_coordinates)\n",
    "                if len(np.unique(labels_)) > 1:\n",
    "                    times[identifier] = time() - s\n",
    "                    labels[identifier] = labels_\n",
    "\n",
    "                    evaluations[identifier] = evaluation(data, labels_, case, identifier, murray, modum, jochem, geom, sample_size=10_000)\n",
    "                    quant_errors[identifier] = som.quantization_error(data)\n",
    "\n",
    "                print(f\"{identifier} done. Time to fit the model: {times[identifier]} seconds.\")"
   ]
  },
  {
   "cell_type": "code",
   "execution_count": 46,
   "id": "abroad-sheep",
   "metadata": {},
   "outputs": [],
   "source": [
    "import pickle"
   ]
  },
  {
   "cell_type": "code",
   "execution_count": 63,
   "id": "invalid-cache",
   "metadata": {},
   "outputs": [],
   "source": [
    "with open(\"all_data.pickle\", \"wb\") as f:\n",
    "    pickle.dump((labels, times, evaluations, quant_errors), f)"
   ]
  },
  {
   "cell_type": "code",
   "execution_count": null,
   "id": "polish-birthday",
   "metadata": {},
   "outputs": [],
   "source": [
    "labels = {}\n",
    "times = {}\n",
    "evaluations = {}\n",
    "quant_errors = {}"
   ]
  },
  {
   "cell_type": "code",
   "execution_count": 66,
   "id": "little-border",
   "metadata": {},
   "outputs": [],
   "source": [
    "options = evaluations.keys()"
   ]
  },
  {
   "cell_type": "code",
   "execution_count": 69,
   "id": "another-saskatchewan",
   "metadata": {},
   "outputs": [
    {
     "data": {
      "text/plain": [
       "1008"
      ]
     },
     "execution_count": 69,
     "metadata": {},
     "output_type": "execute_result"
    }
   ],
   "source": [
    "len(options)"
   ]
  },
  {
   "cell_type": "code",
   "execution_count": 71,
   "id": "alive-seller",
   "metadata": {},
   "outputs": [],
   "source": [
    "one_eval = evaluations[list(options)[0]]"
   ]
  },
  {
   "cell_type": "code",
   "execution_count": 93,
   "id": "color-gasoline",
   "metadata": {},
   "outputs": [],
   "source": [
    "useless = []\n",
    "\n",
    "for op in list(options):\n",
    "    if 'chunks' in op:\n",
    "        if ((evaluations[op][\"frequencies\"] / 276797) > .9).any():\n",
    "            useless.append(op)\n",
    "    else:\n",
    "        if ((evaluations[op][\"frequencies\"] / 250000) > .9).any():\n",
    "            useless.append(op)"
   ]
  },
  {
   "cell_type": "code",
   "execution_count": 95,
   "id": "unauthorized-apartment",
   "metadata": {},
   "outputs": [
    {
     "data": {
      "text/plain": [
       "388"
      ]
     },
     "execution_count": 95,
     "metadata": {},
     "output_type": "execute_result"
    }
   ],
   "source": [
    "len(useless)"
   ]
  },
  {
   "cell_type": "code",
   "execution_count": 96,
   "id": "environmental-musician",
   "metadata": {},
   "outputs": [],
   "source": [
    "options = [o for o in list(evaluations.keys()) if o not in useless]"
   ]
  },
  {
   "cell_type": "code",
   "execution_count": 98,
   "id": "coral-parks",
   "metadata": {},
   "outputs": [
    {
     "name": "stderr",
     "output_type": "stream",
     "text": [
      "<ipython-input-98-aae62151d6e4>:1: DeprecationWarning: The default dtype for empty Series will be 'object' instead of 'float64' in a future version. Specify a dtype explicitly to silence this warning.\n",
      "  silhouettes_chunks = pd.Series()\n",
      "<ipython-input-98-aae62151d6e4>:2: DeprecationWarning: The default dtype for empty Series will be 'object' instead of 'float64' in a future version. Specify a dtype explicitly to silence this warning.\n",
      "  silhouettes_sample = pd.Series()\n"
     ]
    }
   ],
   "source": [
    "silhouettes_chunks = pd.Series()\n",
    "silhouettes_sample = pd.Series()\n",
    "\n",
    "\n",
    "for op in options:\n",
    "    if 'chunks' in op:\n",
    "        silhouettes_chunks[op[7:]] = evaluations[op]['silhouette']\n",
    "    else:\n",
    "        silhouettes_sample[op[7:]] = evaluations[op]['silhouette']"
   ]
  },
  {
   "cell_type": "code",
   "execution_count": 191,
   "id": "infectious-advertiser",
   "metadata": {},
   "outputs": [
    {
     "data": {
      "text/plain": [
       "standardized_SOM_(5, 5)_sigma-1_rate-1         -0.024278\n",
       "standardized_SOM_(6, 5)_sigma-0.1_rate-0.01    -0.017866\n",
       "standardized_SOM_(6, 5)_sigma-0.01_rate-0.01   -0.017866\n",
       "standardized_SOM_(6, 5)_sigma-0.25_rate-0.01   -0.017779\n",
       "standardized_SOM_(3, 4)_sigma-1_rate-0.5       -0.017356\n",
       "standardized_SOM_(2, 5)_sigma-1_rate-0.5       -0.015143\n",
       "standardized_SOM_(3, 4)_sigma-1_rate-0.2       -0.015097\n",
       "standardized_SOM_(3, 4)_sigma-1_rate-1         -0.014982\n",
       "standardized_SOM_(6, 5)_sigma-1_rate-1         -0.012165\n",
       "standardized_SOM_(2, 6)_sigma-1_rate-0.5       -0.007150\n",
       "standardized_SOM_(6, 5)_sigma-0.5_rate-0.01    -0.005978\n",
       "standardized_SOM_(3, 5)_sigma-1_rate-1         -0.005481\n",
       "standardized_SOM_(2, 6)_sigma-1_rate-1         -0.004917\n",
       "standardized_SOM_(6, 5)_sigma-1_rate-0.2       -0.004576\n",
       "standardized_SOM_(5, 5)_sigma-0.25_rate-0.01   -0.003037\n",
       "standardized_SOM_(5, 5)_sigma-0.1_rate-0.01    -0.003037\n",
       "standardized_SOM_(5, 5)_sigma-0.01_rate-0.01   -0.003037\n",
       "standardized_SOM_(4, 5)_sigma-1_rate-1         -0.002892\n",
       "standardized_SOM_(5, 5)_sigma-1_rate-0.5        0.000401\n",
       "standardized_SOM_(5, 5)_sigma-0.5_rate-0.01     0.001457\n",
       "standardized_SOM_(4, 5)_sigma-1_rate-0.5        0.001654\n",
       "standardized_SOM_(3, 5)_sigma-1_rate-0.5        0.001845\n",
       "standardized_SOM_(6, 5)_sigma-1_rate-0.5        0.002844\n",
       "standardized_SOM_(2, 6)_sigma-1_rate-0.1        0.004279\n",
       "standardized_SOM_(4, 5)_sigma-1_rate-0.05       0.005213\n",
       "standardized_SOM_(4, 5)_sigma-0.25_rate-0.01    0.009532\n",
       "standardized_SOM_(4, 5)_sigma-0.1_rate-0.01     0.009661\n",
       "standardized_SOM_(4, 5)_sigma-0.01_rate-0.01    0.009661\n",
       "standardized_SOM_(2, 5)_sigma-1_rate-1          0.009980\n",
       "standardized_SOM_(5, 5)_sigma-1_rate-0.1        0.010408\n",
       "standardized_SOM_(3, 3)_sigma-1_rate-0.1        0.012268\n",
       "standardized_SOM_(6, 5)_sigma-1_rate-0.1        0.013664\n",
       "standardized_SOM_(2, 5)_sigma-1_rate-0.2        0.013981\n",
       "standardized_SOM_(6, 5)_sigma-1_rate-0.05       0.014087\n",
       "standardized_SOM_(3, 3)_sigma-1_rate-0.5        0.015501\n",
       "standardized_GMM_20                             0.015964\n",
       "standardized_SOM_(3, 3)_sigma-1_rate-1          0.016246\n",
       "standardized_SOM_(6, 5)_sigma-0.01_rate-0.05    0.016587\n",
       "standardized_SOM_(6, 5)_sigma-0.1_rate-0.05     0.016587\n",
       "standardized_SOM_(5, 5)_sigma-1_rate-0.05       0.017124\n",
       "dtype: float64"
      ]
     },
     "execution_count": 191,
     "metadata": {},
     "output_type": "execute_result"
    }
   ],
   "source": [
    "silhouettes_chunks.sort_values()[:60]"
   ]
  },
  {
   "cell_type": "code",
   "execution_count": 100,
   "id": "constitutional-syria",
   "metadata": {},
   "outputs": [
    {
     "data": {
      "text/plain": [
       "standardized_MiniBatchKMeans_15                 0.003868\n",
       "standardized_MiniBatchKMeans_30                 0.006452\n",
       "standardized_GMM_30                             0.006930\n",
       "standardized_SOM_(6, 5)_sigma-0.25_rate-0.01    0.007282\n",
       "standardized_SOM_(6, 5)_sigma-0.5_rate-0.01     0.007616\n",
       "standardized_SOM_(6, 5)_sigma-1_rate-0.01       0.011388\n",
       "standardized_SOM_(6, 5)_sigma-0.01_rate-0.01    0.012175\n",
       "standardized_SOM_(6, 5)_sigma-0.1_rate-0.01     0.012175\n",
       "standardized_SOM_(4, 5)_sigma-1_rate-0.01       0.012226\n",
       "standardized_SOM_(5, 5)_sigma-1_rate-0.01       0.012382\n",
       "normalized_GMM_30                               0.012945\n",
       "standardized_SOM_(5, 5)_sigma-0.1_rate-0.01     0.013606\n",
       "standardized_SOM_(5, 5)_sigma-0.01_rate-0.01    0.013606\n",
       "standardized_SOM_(5, 5)_sigma-0.25_rate-0.01    0.015820\n",
       "standardized_SOM_(5, 5)_sigma-0.5_rate-0.01     0.018615\n",
       "standardized_SOM_(4, 5)_sigma-0.5_rate-0.01     0.020928\n",
       "standardized_SOM_(5, 5)_sigma-1_rate-0.05       0.024459\n",
       "normalized_GMM_20                               0.024881\n",
       "standardized_SOM_(6, 5)_sigma-1_rate-0.05       0.026259\n",
       "standardized_SOM_(4, 5)_sigma-0.25_rate-0.01    0.026938\n",
       "dtype: float64"
      ]
     },
     "execution_count": 100,
     "metadata": {},
     "output_type": "execute_result"
    }
   ],
   "source": [
    "silhouettes_sample.sort_values()[:20]"
   ]
  },
  {
   "cell_type": "code",
   "execution_count": 101,
   "id": "bronze-detective",
   "metadata": {
    "tags": []
   },
   "outputs": [
    {
     "name": "stderr",
     "output_type": "stream",
     "text": [
      "<ipython-input-101-3d898caf6c7b>:1: DeprecationWarning: The default dtype for empty Series will be 'object' instead of 'float64' in a future version. Specify a dtype explicitly to silence this warning.\n",
      "  calinski_chunks = pd.Series()\n",
      "<ipython-input-101-3d898caf6c7b>:2: DeprecationWarning: The default dtype for empty Series will be 'object' instead of 'float64' in a future version. Specify a dtype explicitly to silence this warning.\n",
      "  calinski_sample = pd.Series()\n"
     ]
    }
   ],
   "source": [
    "calinski_chunks = pd.Series()\n",
    "calinski_sample = pd.Series()\n",
    "\n",
    "\n",
    "for op in options:\n",
    "    if 'chunks' in op:\n",
    "        calinski_chunks[op[7:]] = evaluations[op]['calinski']\n",
    "    else:\n",
    "        calinski_sample[op[7:]] = evaluations[op]['calinski']"
   ]
  },
  {
   "cell_type": "code",
   "execution_count": 182,
   "id": "adult-sector",
   "metadata": {},
   "outputs": [
    {
     "data": {
      "text/plain": [
       "standardized_SOM_(6, 5)_sigma-0.1_rate-0.01     6959.598231\n",
       "standardized_SOM_(6, 5)_sigma-0.01_rate-0.01    6959.598231\n",
       "standardized_SOM_(6, 5)_sigma-0.25_rate-0.01    6960.295718\n",
       "standardized_SOM_(6, 5)_sigma-1_rate-1          6990.208635\n",
       "standardized_SOM_(5, 5)_sigma-0.01_rate-1       7421.136225\n",
       "standardized_SOM_(5, 5)_sigma-0.1_rate-1        7421.136225\n",
       "standardized_SOM_(5, 5)_sigma-0.25_rate-1       7424.063839\n",
       "standardized_SOM_(6, 5)_sigma-0.1_rate-1        7430.500504\n",
       "standardized_SOM_(6, 5)_sigma-0.01_rate-1       7430.500504\n",
       "standardized_SOM_(6, 5)_sigma-0.25_rate-1       7433.264305\n",
       "standardized_SOM_(6, 5)_sigma-0.5_rate-0.01     7748.246318\n",
       "standardized_SOM_(5, 5)_sigma-1_rate-1          7825.409446\n",
       "standardized_SOM_(4, 5)_sigma-1_rate-1          8107.615230\n",
       "standardized_SOM_(5, 5)_sigma-0.01_rate-0.01    8112.822740\n",
       "standardized_SOM_(5, 5)_sigma-0.1_rate-0.01     8112.822740\n",
       "standardized_SOM_(5, 5)_sigma-0.25_rate-0.01    8112.861026\n",
       "standardized_SOM_(6, 5)_sigma-1_rate-0.1        8151.871415\n",
       "standardized_SOM_(6, 5)_sigma-1_rate-0.05       8325.496573\n",
       "standardized_SOM_(6, 5)_sigma-1_rate-0.5        8435.576391\n",
       "standardized_SOM_(6, 5)_sigma-1_rate-0.2        8531.387056\n",
       "standardized_SOM_(5, 5)_sigma-1_rate-0.5        8637.871332\n",
       "standardized_SOM_(6, 5)_sigma-1_rate-0.01       8692.361927\n",
       "standardized_SOM_(5, 5)_sigma-1_rate-0.05       8757.975202\n",
       "standardized_SOM_(6, 5)_sigma-0.1_rate-0.05     8880.918331\n",
       "standardized_SOM_(6, 5)_sigma-0.01_rate-0.05    8880.918331\n",
       "standardized_SOM_(6, 5)_sigma-0.25_rate-0.05    8889.270389\n",
       "standardized_SOM_(6, 5)_sigma-0.5_rate-1        8916.942159\n",
       "standardized_SOM_(6, 5)_sigma-0.25_rate-0.5     9182.328743\n",
       "standardized_SOM_(5, 5)_sigma-0.01_rate-0.5     9191.094510\n",
       "standardized_SOM_(5, 5)_sigma-0.1_rate-0.5      9191.094510\n",
       "standardized_SOM_(6, 5)_sigma-0.5_rate-0.5      9257.700244\n",
       "standardized_SOM_(6, 5)_sigma-0.01_rate-0.5     9268.506869\n",
       "standardized_SOM_(6, 5)_sigma-0.1_rate-0.5      9268.506869\n",
       "standardized_SOM_(5, 5)_sigma-0.5_rate-0.01     9270.206260\n",
       "standardized_SOM_(6, 5)_sigma-0.1_rate-0.1      9272.037507\n",
       "standardized_SOM_(6, 5)_sigma-0.01_rate-0.1     9272.037507\n",
       "standardized_SOM_(6, 5)_sigma-0.25_rate-0.1     9272.245939\n",
       "standardized_SOM_(6, 5)_sigma-0.5_rate-0.05     9293.160804\n",
       "standardized_SOM_(3, 4)_sigma-1_rate-1          9301.033645\n",
       "standardized_SOM_(3, 4)_sigma-1_rate-0.5        9387.162748\n",
       "dtype: float64"
      ]
     },
     "execution_count": 182,
     "metadata": {},
     "output_type": "execute_result"
    }
   ],
   "source": [
    "calinski_chunks.sort_values()[:40]"
   ]
  },
  {
   "cell_type": "code",
   "execution_count": 103,
   "id": "injured-disorder",
   "metadata": {},
   "outputs": [
    {
     "data": {
      "text/plain": [
       "standardized_SOM_(6, 5)_sigma-1_rate-0.01       4824.010917\n",
       "standardized_SOM_(6, 5)_sigma-0.01_rate-0.01    4889.160249\n",
       "standardized_SOM_(6, 5)_sigma-0.1_rate-0.01     4889.160249\n",
       "standardized_SOM_(6, 5)_sigma-0.25_rate-0.01    4915.344589\n",
       "standardized_SOM_(6, 5)_sigma-0.5_rate-0.01     4980.880058\n",
       "standardized_SOM_(6, 5)_sigma-0.01_rate-0.5     5014.890213\n",
       "standardized_SOM_(6, 5)_sigma-0.1_rate-0.5      5014.890213\n",
       "standardized_SOM_(6, 5)_sigma-0.25_rate-0.5     5014.890213\n",
       "standardized_MiniBatchKMeans_30                 5134.759793\n",
       "standardized_SOM_(6, 5)_sigma-1_rate-0.05       5153.592227\n",
       "standardized_SOM_(6, 5)_sigma-0.5_rate-1        5286.382837\n",
       "standardized_SOM_(6, 5)_sigma-1_rate-0.1        5364.270909\n",
       "standardized_SOM_(4, 5)_sigma-0.5_rate-0.5      5555.249455\n",
       "standardized_SOM_(5, 5)_sigma-1_rate-0.01       5559.596842\n",
       "standardized_SOM_(5, 5)_sigma-0.01_rate-0.01    5678.900502\n",
       "standardized_SOM_(5, 5)_sigma-0.1_rate-0.01     5678.900502\n",
       "standardized_SOM_(5, 5)_sigma-0.25_rate-0.01    5739.259915\n",
       "standardized_SOM_(5, 5)_sigma-0.01_rate-0.5     5772.861153\n",
       "standardized_SOM_(5, 5)_sigma-0.1_rate-0.5      5772.861153\n",
       "standardized_SOM_(6, 5)_sigma-1_rate-0.2        5774.465544\n",
       "dtype: float64"
      ]
     },
     "execution_count": 103,
     "metadata": {},
     "output_type": "execute_result"
    }
   ],
   "source": [
    "calinski_sample.sort_values()[:20]"
   ]
  },
  {
   "cell_type": "code",
   "execution_count": 104,
   "id": "natural-surgeon",
   "metadata": {},
   "outputs": [
    {
     "name": "stderr",
     "output_type": "stream",
     "text": [
      "<ipython-input-104-073e6f8c2f61>:1: DeprecationWarning: The default dtype for empty Series will be 'object' instead of 'float64' in a future version. Specify a dtype explicitly to silence this warning.\n",
      "  davies_chunks = pd.Series()\n",
      "<ipython-input-104-073e6f8c2f61>:2: DeprecationWarning: The default dtype for empty Series will be 'object' instead of 'float64' in a future version. Specify a dtype explicitly to silence this warning.\n",
      "  davies_sample = pd.Series()\n"
     ]
    }
   ],
   "source": [
    "davies_chunks = pd.Series()\n",
    "davies_sample = pd.Series()\n",
    "\n",
    "\n",
    "for op in options:\n",
    "    if 'chunks' in op:\n",
    "        davies_chunks[op[7:]] = evaluations[op]['davies']\n",
    "    else:\n",
    "        davies_sample[op[7:]] = evaluations[op]['davies']"
   ]
  },
  {
   "cell_type": "code",
   "execution_count": 105,
   "id": "casual-sharp",
   "metadata": {},
   "outputs": [
    {
     "data": {
      "text/plain": [
       "standardized_SOM_(3, 4)_sigma-0.5_rate-0.2      1.327454\n",
       "standardized_SOM_(3, 4)_sigma-0.5_rate-0.5      1.328461\n",
       "standardized_SOM_(3, 5)_sigma-0.5_rate-1        1.336137\n",
       "standardized_SOM_(3, 5)_sigma-0.1_rate-0.2      1.351700\n",
       "standardized_SOM_(3, 5)_sigma-0.01_rate-0.2     1.351700\n",
       "standardized_SOM_(3, 5)_sigma-0.25_rate-0.2     1.354574\n",
       "standardized_SOM_(2, 6)_sigma-0.5_rate-1        1.363487\n",
       "standardized_SOM_(2, 5)_sigma-0.5_rate-0.5      1.381653\n",
       "standardized_SOM_(3, 4)_sigma-0.5_rate-1        1.393961\n",
       "standardized_SOM_(2, 5)_sigma-0.5_rate-1        1.394819\n",
       "standardized_SOM_(4, 5)_sigma-0.5_rate-1        1.411874\n",
       "normalized_SOM_(2, 6)_sigma-0.5_rate-0.01       1.426189\n",
       "standardized_SOM_(2, 6)_sigma-0.5_rate-0.2      1.426299\n",
       "standardized_SOM_(5, 5)_sigma-0.25_rate-1       1.437903\n",
       "standardized_SOM_(5, 5)_sigma-0.01_rate-1       1.440224\n",
       "standardized_SOM_(5, 5)_sigma-0.1_rate-1        1.440224\n",
       "standardized_SOM_(3, 5)_sigma-0.5_rate-0.2      1.448240\n",
       "standardized_SOM_(3, 3)_sigma-0.5_rate-0.01     1.469553\n",
       "standardized_SOM_(3, 3)_sigma-0.1_rate-0.01     1.478125\n",
       "standardized_SOM_(3, 3)_sigma-0.01_rate-0.01    1.478125\n",
       "dtype: float64"
      ]
     },
     "execution_count": 105,
     "metadata": {},
     "output_type": "execute_result"
    }
   ],
   "source": [
    "davies_chunks.sort_values()[:20]"
   ]
  },
  {
   "cell_type": "code",
   "execution_count": 106,
   "id": "direct-absorption",
   "metadata": {},
   "outputs": [
    {
     "data": {
      "text/plain": [
       "normalized_SOM_(5, 5)_sigma-0.25_rate-1        0.803414\n",
       "normalized_SOM_(6, 5)_sigma-0.25_rate-1        0.803414\n",
       "normalized_SOM_(3, 4)_sigma-0.25_rate-1        0.962934\n",
       "normalized_SOM_(2, 5)_sigma-0.25_rate-1        0.962934\n",
       "normalized_SOM_(4, 5)_sigma-0.25_rate-1        0.962934\n",
       "normalized_SOM_(3, 5)_sigma-0.25_rate-1        0.962934\n",
       "normalized_SOM_(2, 6)_sigma-0.25_rate-1        0.962934\n",
       "standardized_SOM_(6, 5)_sigma-0.5_rate-1       1.144874\n",
       "standardized_SOM_(5, 5)_sigma-0.25_rate-0.5    1.193206\n",
       "standardized_SOM_(6, 5)_sigma-0.01_rate-0.5    1.198918\n",
       "standardized_SOM_(6, 5)_sigma-0.1_rate-0.5     1.198918\n",
       "standardized_SOM_(6, 5)_sigma-0.25_rate-0.5    1.198918\n",
       "standardized_SOM_(5, 5)_sigma-0.01_rate-0.5    1.212181\n",
       "standardized_SOM_(5, 5)_sigma-0.1_rate-0.5     1.212181\n",
       "standardized_SOM_(4, 5)_sigma-0.25_rate-0.5    1.212815\n",
       "standardized_SOM_(4, 5)_sigma-0.01_rate-0.5    1.212815\n",
       "standardized_SOM_(4, 5)_sigma-0.1_rate-0.5     1.212815\n",
       "standardized_SOM_(4, 5)_sigma-0.5_rate-0.5     1.264575\n",
       "normalized_SOM_(3, 3)_sigma-0.25_rate-1        1.308968\n",
       "normalized_SOM_(3, 4)_sigma-0.5_rate-0.05      1.345703\n",
       "dtype: float64"
      ]
     },
     "execution_count": 106,
     "metadata": {},
     "output_type": "execute_result"
    }
   ],
   "source": [
    "davies_sample.sort_values()[:20]"
   ]
  },
  {
   "cell_type": "code",
   "execution_count": 108,
   "id": "dirty-tiger",
   "metadata": {},
   "outputs": [
    {
     "data": {
      "text/plain": [
       "dict_keys(['silhouette', 'calinski', 'davies', 'frequencies', 'mod_chi', 'mod_p', 'mod_dof', 'mod_exp', 'mod_cramers_', 'mod_crosstab', 'mur_chi', 'mur_p', 'mur_dof', 'mur_exp', 'mur_cramers_v', 'mur_crosstab', 'joc_chi', 'joc_p', 'joc_dof', 'joc_exp', 'joc_cramers_v', 'joc_crosstab', 'signature_abundance', 'signature_areas'])"
      ]
     },
     "execution_count": 108,
     "metadata": {},
     "output_type": "execute_result"
    }
   ],
   "source": [
    "one_eval.keys()"
   ]
  },
  {
   "cell_type": "code",
   "execution_count": 163,
   "id": "increasing-nursing",
   "metadata": {},
   "outputs": [
    {
     "data": {
      "text/plain": [
       "1    67888\n",
       "2    48507\n",
       "6    42341\n",
       "8    39074\n",
       "7    31447\n",
       "0    12142\n",
       "3    11888\n",
       "5     8989\n",
       "4     7895\n",
       "9     6626\n",
       "dtype: int64"
      ]
     },
     "execution_count": 163,
     "metadata": {},
     "output_type": "execute_result"
    }
   ],
   "source": []
  },
  {
   "cell_type": "code",
   "execution_count": 113,
   "id": "prerequisite-investigation",
   "metadata": {},
   "outputs": [
    {
     "name": "stderr",
     "output_type": "stream",
     "text": [
      "<ipython-input-113-66d2c596d8be>:1: DeprecationWarning: The default dtype for empty Series will be 'object' instead of 'float64' in a future version. Specify a dtype explicitly to silence this warning.\n",
      "  fragmentation = pd.Series()\n"
     ]
    }
   ],
   "source": [
    "fragmentation = pd.Series()\n",
    "\n",
    "for op in options:\n",
    "    if 'chunks' in op:\n",
    "        fragmentation[op[7:]] = evaluations[op]['signature_abundance'].sum()\n",
    "   "
   ]
  },
  {
   "cell_type": "code",
   "execution_count": 136,
   "id": "popular-spain",
   "metadata": {},
   "outputs": [
    {
     "name": "stderr",
     "output_type": "stream",
     "text": [
      "<ipython-input-136-010d462a7fa0>:1: DeprecationWarning: The default dtype for empty Series will be 'object' instead of 'float64' in a future version. Specify a dtype explicitly to silence this warning.\n",
      "  fragmentation_area = pd.Series()\n"
     ]
    }
   ],
   "source": [
    "fragmentation_area = pd.Series()\n",
    "\n",
    "for op in options:\n",
    "    if 'chunks' in op:\n",
    "        fragmentation_area[op[7:]] = evaluations[op]['signature_areas'].median()\n",
    "   "
   ]
  },
  {
   "cell_type": "code",
   "execution_count": 186,
   "id": "amazing-intervention",
   "metadata": {},
   "outputs": [
    {
     "data": {
      "text/plain": [
       "standardized_SOM_(3, 3)_sigma-0.1_rate-0.05      838\n",
       "standardized_SOM_(3, 3)_sigma-0.01_rate-0.05     838\n",
       "standardized_SOM_(3, 3)_sigma-0.25_rate-0.05     840\n",
       "standardized_SOM_(2, 5)_sigma-0.5_rate-1         908\n",
       "standardized_SOM_(3, 3)_sigma-0.5_rate-0.01      927\n",
       "standardized_SOM_(3, 3)_sigma-0.25_rate-0.01     931\n",
       "standardized_SOM_(2, 5)_sigma-0.1_rate-0.05      937\n",
       "standardized_SOM_(2, 5)_sigma-0.01_rate-0.05     937\n",
       "standardized_SOM_(2, 6)_sigma-0.5_rate-1         940\n",
       "standardized_SOM_(2, 5)_sigma-0.25_rate-0.05     940\n",
       "standardized_SOM_(3, 3)_sigma-0.1_rate-0.01      941\n",
       "standardized_SOM_(3, 3)_sigma-0.01_rate-0.01     941\n",
       "standardized_SOM_(3, 4)_sigma-0.5_rate-1         953\n",
       "standardized_SOM_(3, 4)_sigma-0.5_rate-0.2       964\n",
       "standardized_SOM_(2, 6)_sigma-0.5_rate-0.2       967\n",
       "standardized_SOM_(2, 5)_sigma-0.01_rate-0.1     1023\n",
       "standardized_SOM_(2, 5)_sigma-0.1_rate-0.1      1023\n",
       "standardized_SOM_(2, 5)_sigma-0.25_rate-0.1     1023\n",
       "standardized_SOM_(3, 5)_sigma-0.5_rate-1        1029\n",
       "standardized_SOM_(3, 4)_sigma-0.25_rate-0.1     1040\n",
       "standardized_SOM_(2, 6)_sigma-0.1_rate-0.1      1040\n",
       "standardized_SOM_(3, 4)_sigma-0.01_rate-0.1     1040\n",
       "standardized_SOM_(2, 6)_sigma-0.25_rate-0.1     1040\n",
       "standardized_SOM_(2, 6)_sigma-0.01_rate-0.1     1040\n",
       "standardized_SOM_(3, 4)_sigma-0.1_rate-0.1      1040\n",
       "standardized_SOM_(3, 3)_sigma-0.25_rate-0.1     1101\n",
       "standardized_SOM_(3, 3)_sigma-0.01_rate-0.1     1103\n",
       "standardized_SOM_(3, 3)_sigma-0.1_rate-0.1      1103\n",
       "standardized_SOM_(3, 5)_sigma-0.25_rate-0.2     1146\n",
       "standardized_SOM_(2, 5)_sigma-0.5_rate-0.5      1147\n",
       "standardized_SOM_(3, 5)_sigma-0.1_rate-0.2      1148\n",
       "standardized_SOM_(3, 5)_sigma-0.01_rate-0.2     1148\n",
       "standardized_SOM_(2, 5)_sigma-0.25_rate-0.01    1151\n",
       "standardized_SOM_(2, 5)_sigma-0.1_rate-0.01     1151\n",
       "standardized_SOM_(2, 5)_sigma-0.01_rate-0.01    1151\n",
       "standardized_SOM_(3, 3)_sigma-0.5_rate-0.1      1185\n",
       "standardized_SOM_(3, 3)_sigma-0.5_rate-0.05     1188\n",
       "standardized_SOM_(2, 5)_sigma-0.5_rate-0.01     1203\n",
       "standardized_SOM_(2, 5)_sigma-0.5_rate-0.05     1203\n",
       "standardized_SOM_(3, 4)_sigma-0.5_rate-0.5      1218\n",
       "standardized_SOM_(2, 5)_sigma-0.5_rate-0.1      1219\n",
       "standardized_SOM_(3, 4)_sigma-0.5_rate-0.1      1248\n",
       "standardized_SOM_(2, 6)_sigma-0.25_rate-0.05    1328\n",
       "standardized_SOM_(3, 4)_sigma-0.01_rate-0.05    1329\n",
       "standardized_SOM_(3, 4)_sigma-0.1_rate-0.05     1329\n",
       "standardized_SOM_(3, 4)_sigma-0.25_rate-0.05    1329\n",
       "standardized_SOM_(2, 6)_sigma-0.1_rate-0.05     1329\n",
       "standardized_SOM_(2, 6)_sigma-0.01_rate-0.05    1329\n",
       "standardized_SOM_(3, 5)_sigma-0.5_rate-0.2      1353\n",
       "standardized_SOM_(5, 5)_sigma-0.25_rate-1       1354\n",
       "dtype: int64"
      ]
     },
     "execution_count": 186,
     "metadata": {},
     "output_type": "execute_result"
    }
   ],
   "source": [
    "fragmentation.loc[fragmentation.index.str.contains('stand')].sort_values()[:50]"
   ]
  },
  {
   "cell_type": "code",
   "execution_count": 121,
   "id": "distant-effect",
   "metadata": {},
   "outputs": [
    {
     "data": {
      "text/plain": [
       "normalized_KMeans_10               2547\n",
       "normalized_KMeans_15               3197\n",
       "normalized_KMeans_20               3771\n",
       "normalized_KMeans_30               4779\n",
       "normalized_MiniBatchKMeans_10      2364\n",
       "normalized_MiniBatchKMeans_15      3414\n",
       "normalized_MiniBatchKMeans_20      4120\n",
       "normalized_MiniBatchKMeans_30      5145\n",
       "standardized_KMeans_10             1661\n",
       "standardized_KMeans_15             1994\n",
       "standardized_KMeans_20             2365\n",
       "standardized_KMeans_30             3174\n",
       "standardized_MiniBatchKMeans_10    1654\n",
       "standardized_MiniBatchKMeans_15    2163\n",
       "standardized_MiniBatchKMeans_20    2735\n",
       "standardized_MiniBatchKMeans_30    3389\n",
       "dtype: int64"
      ]
     },
     "execution_count": 121,
     "metadata": {},
     "output_type": "execute_result"
    }
   ],
   "source": [
    "fragmentation.loc[fragmentation.index.str.contains('KMeans')]"
   ]
  },
  {
   "cell_type": "code",
   "execution_count": 122,
   "id": "handed-antibody",
   "metadata": {},
   "outputs": [
    {
     "data": {
      "text/plain": [
       "normalized_GMM_10      1409\n",
       "normalized_GMM_15      1453\n",
       "normalized_GMM_20      1229\n",
       "normalized_GMM_30      1379\n",
       "standardized_GMM_10    1520\n",
       "standardized_GMM_15    1373\n",
       "standardized_GMM_20    1531\n",
       "standardized_GMM_30    1369\n",
       "dtype: int64"
      ]
     },
     "execution_count": 122,
     "metadata": {},
     "output_type": "execute_result"
    }
   ],
   "source": [
    "fragmentation.loc[fragmentation.index.str.contains('GMM')]"
   ]
  },
  {
   "cell_type": "code",
   "execution_count": 173,
   "id": "crude-affiliation",
   "metadata": {},
   "outputs": [
    {
     "data": {
      "text/plain": [
       "standardized_GMM_30                             2700.965074\n",
       "standardized_SOM_(2, 6)_sigma-1_rate-0.1        2391.975084\n",
       "standardized_SOM_(2, 5)_sigma-1_rate-0.05       2374.398935\n",
       "standardized_SOM_(3, 3)_sigma-1_rate-0.1        2368.246530\n",
       "standardized_SOM_(4, 5)_sigma-0.5_rate-0.2      2356.992203\n",
       "standardized_SOM_(6, 5)_sigma-0.01_rate-0.05    2344.947563\n",
       "standardized_SOM_(6, 5)_sigma-0.1_rate-0.05     2344.947563\n",
       "standardized_SOM_(6, 5)_sigma-0.25_rate-0.05    2307.287479\n",
       "standardized_SOM_(3, 5)_sigma-1_rate-0.01       2284.809471\n",
       "standardized_SOM_(4, 5)_sigma-0.1_rate-0.1      2281.160246\n",
       "standardized_SOM_(4, 5)_sigma-0.25_rate-0.1     2281.160246\n",
       "standardized_SOM_(4, 5)_sigma-0.01_rate-0.1     2281.160246\n",
       "standardized_SOM_(2, 5)_sigma-1_rate-0.2        2270.651929\n",
       "standardized_SOM_(3, 3)_sigma-1_rate-0.2        2266.443011\n",
       "standardized_MiniBatchKMeans_30                 2244.820890\n",
       "standardized_GMM_15                             2239.217112\n",
       "standardized_SOM_(2, 6)_sigma-1_rate-0.01       2225.597443\n",
       "standardized_SOM_(5, 5)_sigma-0.25_rate-0.2     2211.483474\n",
       "standardized_SOM_(3, 3)_sigma-1_rate-0.5        2209.690410\n",
       "standardized_SOM_(6, 5)_sigma-0.5_rate-0.2      2208.273922\n",
       "standardized_SOM_(4, 5)_sigma-1_rate-0.2        2181.945189\n",
       "standardized_SOM_(5, 5)_sigma-0.25_rate-0.05    2181.621606\n",
       "standardized_KMeans_15                          2178.768019\n",
       "standardized_SOM_(2, 5)_sigma-0.5_rate-0.01     2172.631353\n",
       "standardized_SOM_(5, 5)_sigma-0.01_rate-0.05    2171.944870\n",
       "standardized_SOM_(5, 5)_sigma-0.1_rate-0.05     2171.944870\n",
       "standardized_SOM_(2, 5)_sigma-0.01_rate-0.01    2167.586785\n",
       "standardized_SOM_(2, 5)_sigma-0.1_rate-0.01     2167.586785\n",
       "standardized_SOM_(2, 5)_sigma-0.25_rate-0.01    2167.586785\n",
       "standardized_SOM_(5, 5)_sigma-0.01_rate-0.2     2162.585085\n",
       "standardized_SOM_(5, 5)_sigma-0.1_rate-0.2      2162.585085\n",
       "standardized_SOM_(4, 5)_sigma-0.5_rate-0.01     2160.063375\n",
       "standardized_GMM_20                             2150.874923\n",
       "standardized_SOM_(6, 5)_sigma-0.25_rate-0.01    2146.214265\n",
       "standardized_KMeans_30                          2141.359582\n",
       "standardized_SOM_(6, 5)_sigma-0.5_rate-0.01     2135.201701\n",
       "standardized_SOM_(6, 5)_sigma-0.01_rate-0.5     2131.123645\n",
       "standardized_SOM_(6, 5)_sigma-0.1_rate-0.5      2131.123645\n",
       "standardized_SOM_(6, 5)_sigma-0.01_rate-0.01    2129.098278\n",
       "standardized_SOM_(6, 5)_sigma-0.1_rate-0.01     2129.098278\n",
       "dtype: float64"
      ]
     },
     "execution_count": 173,
     "metadata": {},
     "output_type": "execute_result"
    }
   ],
   "source": [
    "fragmentation_area.loc[fragmentation_area.index.str.contains('stand')].sort_values(ascending=False)[:40]"
   ]
  },
  {
   "cell_type": "code",
   "execution_count": 188,
   "id": "robust-pilot",
   "metadata": {},
   "outputs": [
    {
     "data": {
      "text/plain": [
       "17    24262\n",
       "18    21483\n",
       "12    20069\n",
       "28    19235\n",
       "13    17831\n",
       "5     17506\n",
       "11    16281\n",
       "6     16210\n",
       "3     15925\n",
       "27    13116\n",
       "19    12653\n",
       "1      8949\n",
       "15     8100\n",
       "16     8015\n",
       "9      7612\n",
       "2      7590\n",
       "14     6497\n",
       "0      6306\n",
       "24     5686\n",
       "23     5089\n",
       "29     4582\n",
       "20     3989\n",
       "21     3505\n",
       "26     3180\n",
       "4      1669\n",
       "25      610\n",
       "8       361\n",
       "10      221\n",
       "22      179\n",
       "7        86\n",
       "dtype: int64"
      ]
     },
     "execution_count": 188,
     "metadata": {},
     "output_type": "execute_result"
    }
   ],
   "source": [
    "evaluations[\"chunks_standardized_GMM_30\"]['frequencies']"
   ]
  },
  {
   "cell_type": "code",
   "execution_count": 124,
   "id": "advisory-overall",
   "metadata": {},
   "outputs": [
    {
     "name": "stderr",
     "output_type": "stream",
     "text": [
      "<ipython-input-124-3e38af0033b5>:1: DeprecationWarning: The default dtype for empty Series will be 'object' instead of 'float64' in a future version. Specify a dtype explicitly to silence this warning.\n",
      "  postcode = pd.Series()\n"
     ]
    }
   ],
   "source": [
    "postcode = pd.Series()\n",
    "\n",
    "for op in options:\n",
    "    if 'chunks' in op:\n",
    "        postcode[op[7:]] = evaluations[op]['mur_cramers_v']"
   ]
  },
  {
   "cell_type": "code",
   "execution_count": 184,
   "id": "previous-missile",
   "metadata": {},
   "outputs": [
    {
     "data": {
      "text/plain": [
       "standardized_SOM_(6, 5)_sigma-0.01_rate-0.01    0.193043\n",
       "standardized_SOM_(6, 5)_sigma-0.25_rate-0.01    0.193126\n",
       "standardized_SOM_(6, 5)_sigma-1_rate-0.01       0.193576\n",
       "standardized_GMM_15                             0.195398\n",
       "standardized_SOM_(6, 5)_sigma-0.5_rate-0.2      0.195544\n",
       "standardized_SOM_(5, 5)_sigma-0.5_rate-0.5      0.195676\n",
       "normalized_GMM_20                               0.196112\n",
       "standardized_SOM_(6, 5)_sigma-1_rate-0.05       0.197000\n",
       "standardized_SOM_(6, 5)_sigma-0.5_rate-0.05     0.197602\n",
       "standardized_SOM_(6, 5)_sigma-0.25_rate-0.05    0.197952\n",
       "standardized_SOM_(6, 5)_sigma-0.01_rate-0.05    0.198055\n",
       "standardized_SOM_(6, 5)_sigma-0.1_rate-0.05     0.198055\n",
       "standardized_GMM_20                             0.200421\n",
       "normalized_KMeans_30                            0.201362\n",
       "standardized_KMeans_20                          0.202131\n",
       "normalized_MiniBatchKMeans_30                   0.204752\n",
       "normalized_GMM_30                               0.204883\n",
       "standardized_MiniBatchKMeans_30                 0.210613\n",
       "standardized_KMeans_30                          0.214844\n",
       "standardized_GMM_30                             0.215383\n",
       "dtype: float64"
      ]
     },
     "execution_count": 184,
     "metadata": {},
     "output_type": "execute_result"
    }
   ],
   "source": [
    "postcode.sort_values()[-20:]"
   ]
  },
  {
   "cell_type": "code",
   "execution_count": 126,
   "id": "authorized-freeze",
   "metadata": {},
   "outputs": [
    {
     "name": "stderr",
     "output_type": "stream",
     "text": [
      "<ipython-input-126-60783ea3004f>:1: DeprecationWarning: The default dtype for empty Series will be 'object' instead of 'float64' in a future version. Specify a dtype explicitly to silence this warning.\n",
      "  jochem = pd.Series()\n"
     ]
    }
   ],
   "source": [
    "jochem = pd.Series()\n",
    "\n",
    "for op in options:\n",
    "    if 'chunks' in op:\n",
    "        jochem[op[7:]] = evaluations[op]['joc_cramers_v']"
   ]
  },
  {
   "cell_type": "code",
   "execution_count": 127,
   "id": "meaning-fraud",
   "metadata": {},
   "outputs": [
    {
     "data": {
      "text/plain": [
       "standardized_SOM_(6, 5)_sigma-1_rate-0.05      0.293012\n",
       "standardized_SOM_(5, 5)_sigma-1_rate-0.5       0.293537\n",
       "standardized_SOM_(6, 5)_sigma-1_rate-0.2       0.293610\n",
       "normalized_MiniBatchKMeans_30                  0.293773\n",
       "standardized_GMM_15                            0.295652\n",
       "standardized_SOM_(6, 5)_sigma-1_rate-0.01      0.295684\n",
       "standardized_SOM_(5, 5)_sigma-1_rate-0.01      0.296311\n",
       "standardized_SOM_(6, 5)_sigma-1_rate-0.5       0.296498\n",
       "standardized_SOM_(6, 5)_sigma-0.5_rate-0.05    0.299157\n",
       "normalized_GMM_30                              0.299246\n",
       "standardized_MiniBatchKMeans_15                0.299745\n",
       "standardized_SOM_(5, 5)_sigma-0.5_rate-0.5     0.302494\n",
       "standardized_SOM_(6, 5)_sigma-0.5_rate-0.2     0.304802\n",
       "standardized_GMM_20                            0.308456\n",
       "standardized_MiniBatchKMeans_20                0.311887\n",
       "standardized_KMeans_15                         0.313963\n",
       "standardized_KMeans_20                         0.315366\n",
       "standardized_GMM_30                            0.320287\n",
       "standardized_KMeans_30                         0.326838\n",
       "standardized_MiniBatchKMeans_30                0.329180\n",
       "dtype: float64"
      ]
     },
     "execution_count": 127,
     "metadata": {},
     "output_type": "execute_result"
    }
   ],
   "source": [
    "jochem.sort_values()[-20:]"
   ]
  },
  {
   "cell_type": "code",
   "execution_count": 129,
   "id": "tough-dietary",
   "metadata": {},
   "outputs": [
    {
     "name": "stderr",
     "output_type": "stream",
     "text": [
      "<ipython-input-129-13e43c17149a>:1: DeprecationWarning: The default dtype for empty Series will be 'object' instead of 'float64' in a future version. Specify a dtype explicitly to silence this warning.\n",
      "  modum = pd.Series()\n"
     ]
    }
   ],
   "source": [
    "modum = pd.Series()\n",
    "\n",
    "for op in options:\n",
    "    if 'chunks' in op:\n",
    "        modum[op[7:]] = evaluations[op]['mod_cramers_']"
   ]
  },
  {
   "cell_type": "code",
   "execution_count": 130,
   "id": "excessive-national",
   "metadata": {},
   "outputs": [
    {
     "data": {
      "text/plain": [
       "standardized_SOM_(5, 5)_sigma-1_rate-0.1        0.298132\n",
       "standardized_SOM_(4, 5)_sigma-1_rate-0.5        0.298227\n",
       "standardized_SOM_(6, 5)_sigma-0.01_rate-0.1     0.301453\n",
       "standardized_SOM_(6, 5)_sigma-0.1_rate-0.1      0.301453\n",
       "standardized_SOM_(6, 5)_sigma-0.25_rate-0.1     0.301463\n",
       "standardized_SOM_(6, 5)_sigma-0.5_rate-0.05     0.301649\n",
       "standardized_SOM_(5, 5)_sigma-1_rate-0.5        0.302658\n",
       "standardized_SOM_(6, 5)_sigma-0.25_rate-0.05    0.303264\n",
       "standardized_SOM_(6, 5)_sigma-0.1_rate-0.05     0.303293\n",
       "standardized_SOM_(6, 5)_sigma-0.01_rate-0.05    0.303293\n",
       "standardized_KMeans_30                          0.304986\n",
       "standardized_GMM_30                             0.305577\n",
       "standardized_SOM_(4, 5)_sigma-1_rate-0.05       0.305997\n",
       "standardized_SOM_(6, 5)_sigma-1_rate-0.05       0.307816\n",
       "standardized_SOM_(6, 5)_sigma-1_rate-0.1        0.308840\n",
       "standardized_SOM_(5, 5)_sigma-1_rate-0.01       0.308846\n",
       "standardized_SOM_(6, 5)_sigma-1_rate-0.01       0.311538\n",
       "standardized_MiniBatchKMeans_30                 0.311836\n",
       "standardized_SOM_(6, 5)_sigma-1_rate-0.2        0.312026\n",
       "standardized_SOM_(6, 5)_sigma-1_rate-0.5        0.316889\n",
       "dtype: float64"
      ]
     },
     "execution_count": 130,
     "metadata": {},
     "output_type": "execute_result"
    }
   ],
   "source": [
    "modum.sort_values()[-20:]"
   ]
  },
  {
   "cell_type": "code",
   "execution_count": 131,
   "id": "ahead-cutting",
   "metadata": {},
   "outputs": [],
   "source": [
    "score = pd.DataFrame(index=modum.index)"
   ]
  },
  {
   "cell_type": "code",
   "execution_count": 134,
   "id": "listed-canvas",
   "metadata": {},
   "outputs": [],
   "source": [
    "score[\"modum\"] = pd.Series(range(1, 312), index=modum.sort_values(ascending=False).index)"
   ]
  },
  {
   "cell_type": "code",
   "execution_count": 135,
   "id": "mobile-religious",
   "metadata": {},
   "outputs": [],
   "source": [
    "score[\"postcode_class\"] = pd.Series(range(1, 312), index=postcode.sort_values(ascending=False).index)\n",
    "score[\"jochem\"] = pd.Series(range(1, 312), index=jochem.sort_values(ascending=False).index)"
   ]
  },
  {
   "cell_type": "code",
   "execution_count": 138,
   "id": "formal-cholesterol",
   "metadata": {},
   "outputs": [],
   "source": [
    "score[\"fragmentation_count\"] = pd.Series(range(1, 312), index=fragmentation.sort_values(ascending=True).index)\n",
    "score[\"fragmentation_area\"] = pd.Series(range(1, 312), index=fragmentation_area.sort_values(ascending=False).index)\n",
    "score[\"davies\"] = pd.Series(range(1, 312), index=davies_chunks.sort_values(ascending=True).index)\n",
    "score[\"silhouette\"] = pd.Series(range(1, 312), index=silhouettes_chunks.sort_values(ascending=True).index)\n",
    "score[\"calinski\"] = pd.Series(range(1, 312), index=calinski_chunks.sort_values(ascending=True).index)"
   ]
  },
  {
   "cell_type": "code",
   "execution_count": 141,
   "id": "electronic-replica",
   "metadata": {},
   "outputs": [],
   "source": [
    "score[\"total\"] = score.sum(axis=1)\n",
    "score[\"comparative\"] = score.modum + score.postcode_class + score.jochem\n",
    "score[\"internal\"] = score.davies + score.silhouette + score.calinski\n",
    "score[\"fragmentation\"] = score.fragmentation_count + score.fragmentation_area"
   ]
  },
  {
   "cell_type": "code",
   "execution_count": 144,
   "id": "adequate-virgin",
   "metadata": {},
   "outputs": [
    {
     "data": {
      "text/plain": [
       "standardized_GMM_30                             459\n",
       "normalized_GMM_30                               553\n",
       "standardized_SOM_(5, 5)_sigma-0.01_rate-0.2     637\n",
       "standardized_SOM_(6, 5)_sigma-0.5_rate-0.2      640\n",
       "standardized_SOM_(5, 5)_sigma-0.1_rate-0.2      641\n",
       "standardized_GMM_20                             683\n",
       "standardized_SOM_(6, 5)_sigma-0.5_rate-0.5      683\n",
       "standardized_SOM_(5, 5)_sigma-0.25_rate-0.05    694\n",
       "standardized_SOM_(5, 5)_sigma-0.5_rate-0.5      694\n",
       "standardized_SOM_(6, 5)_sigma-0.1_rate-0.05     698\n",
       "standardized_SOM_(6, 5)_sigma-0.01_rate-0.05    700\n",
       "standardized_GMM_15                             709\n",
       "standardized_SOM_(5, 5)_sigma-0.01_rate-0.05    709\n",
       "standardized_SOM_(6, 5)_sigma-0.1_rate-0.5      709\n",
       "standardized_SOM_(5, 5)_sigma-0.1_rate-0.05     711\n",
       "standardized_SOM_(6, 5)_sigma-0.01_rate-0.5     715\n",
       "standardized_SOM_(4, 5)_sigma-0.1_rate-0.1      715\n",
       "standardized_SOM_(6, 5)_sigma-0.25_rate-0.05    716\n",
       "standardized_SOM_(4, 5)_sigma-0.25_rate-0.1     717\n",
       "standardized_SOM_(4, 5)_sigma-0.01_rate-0.1     717\n",
       "Name: total, dtype: int64"
      ]
     },
     "execution_count": 144,
     "metadata": {},
     "output_type": "execute_result"
    }
   ],
   "source": [
    "score.total.sort_values()[:20]"
   ]
  },
  {
   "cell_type": "code",
   "execution_count": 145,
   "id": "atlantic-dependence",
   "metadata": {},
   "outputs": [
    {
     "data": {
      "text/plain": [
       "standardized_MiniBatchKMeans_30                  7\n",
       "standardized_GMM_30                             13\n",
       "standardized_KMeans_30                          14\n",
       "standardized_KMeans_20                          32\n",
       "standardized_SOM_(6, 5)_sigma-1_rate-0.01       37\n",
       "standardized_SOM_(6, 5)_sigma-0.5_rate-0.05     39\n",
       "standardized_SOM_(6, 5)_sigma-1_rate-0.05       40\n",
       "standardized_SOM_(6, 5)_sigma-1_rate-0.2        42\n",
       "standardized_SOM_(6, 5)_sigma-0.5_rate-0.2      45\n",
       "standardized_SOM_(6, 5)_sigma-0.1_rate-0.05     45\n",
       "standardized_SOM_(6, 5)_sigma-0.25_rate-0.05    48\n",
       "standardized_SOM_(6, 5)_sigma-0.01_rate-0.05    48\n",
       "standardized_SOM_(6, 5)_sigma-1_rate-0.5        49\n",
       "standardized_SOM_(5, 5)_sigma-1_rate-0.01       57\n",
       "standardized_SOM_(5, 5)_sigma-0.5_rate-0.5      57\n",
       "standardized_SOM_(5, 5)_sigma-1_rate-0.5        70\n",
       "standardized_MiniBatchKMeans_20                 79\n",
       "standardized_SOM_(6, 5)_sigma-0.5_rate-0.01     80\n",
       "standardized_SOM_(6, 5)_sigma-1_rate-0.1        83\n",
       "standardized_KMeans_15                          87\n",
       "Name: comparative, dtype: int64"
      ]
     },
     "execution_count": 145,
     "metadata": {},
     "output_type": "execute_result"
    }
   ],
   "source": [
    "score.comparative.sort_values()[:20]"
   ]
  },
  {
   "cell_type": "code",
   "execution_count": 180,
   "id": "anonymous-engineering",
   "metadata": {},
   "outputs": [
    {
     "data": {
      "text/plain": [
       "standardized_SOM_(4, 5)_sigma-0.25_rate-0.5     163\n",
       "standardized_SOM_(4, 5)_sigma-0.01_rate-0.5     177\n",
       "standardized_SOM_(4, 5)_sigma-0.1_rate-0.5      178\n",
       "standardized_SOM_(4, 5)_sigma-0.5_rate-1        185\n",
       "standardized_SOM_(5, 5)_sigma-0.01_rate-0.5     188\n",
       "standardized_SOM_(5, 5)_sigma-0.1_rate-0.5      189\n",
       "standardized_SOM_(6, 5)_sigma-0.1_rate-0.5      199\n",
       "standardized_SOM_(6, 5)_sigma-0.01_rate-0.5     200\n",
       "standardized_SOM_(5, 5)_sigma-0.5_rate-1        202\n",
       "standardized_SOM_(5, 5)_sigma-0.25_rate-0.5     211\n",
       "standardized_SOM_(6, 5)_sigma-0.01_rate-1       218\n",
       "standardized_SOM_(6, 5)_sigma-0.1_rate-1        219\n",
       "standardized_SOM_(6, 5)_sigma-0.25_rate-1       220\n",
       "standardized_SOM_(6, 5)_sigma-0.25_rate-0.5     223\n",
       "standardized_SOM_(6, 5)_sigma-0.5_rate-1        237\n",
       "standardized_SOM_(6, 5)_sigma-0.5_rate-0.5      247\n",
       "standardized_SOM_(4, 5)_sigma-0.5_rate-0.5      259\n",
       "standardized_SOM_(3, 4)_sigma-1_rate-0.5        267\n",
       "standardized_SOM_(5, 5)_sigma-0.25_rate-0.2     269\n",
       "standardized_SOM_(4, 5)_sigma-1_rate-1          271\n",
       "standardized_SOM_(2, 6)_sigma-0.5_rate-0.5      277\n",
       "standardized_SOM_(2, 5)_sigma-1_rate-0.5        286\n",
       "standardized_SOM_(5, 5)_sigma-0.01_rate-0.2     288\n",
       "standardized_SOM_(5, 5)_sigma-0.5_rate-0.5      289\n",
       "standardized_SOM_(5, 5)_sigma-0.1_rate-0.2      291\n",
       "standardized_SOM_(3, 5)_sigma-0.5_rate-0.5      302\n",
       "standardized_SOM_(6, 5)_sigma-0.5_rate-0.05     307\n",
       "standardized_SOM_(6, 5)_sigma-0.1_rate-0.01     307\n",
       "standardized_SOM_(3, 4)_sigma-1_rate-1          309\n",
       "standardized_SOM_(6, 5)_sigma-1_rate-1          309\n",
       "standardized_SOM_(6, 5)_sigma-0.01_rate-0.1     309\n",
       "standardized_SOM_(6, 5)_sigma-0.25_rate-0.01    310\n",
       "standardized_SOM_(4, 5)_sigma-0.5_rate-0.2      310\n",
       "standardized_SOM_(6, 5)_sigma-0.01_rate-0.01    310\n",
       "standardized_SOM_(5, 5)_sigma-1_rate-1          311\n",
       "standardized_SOM_(6, 5)_sigma-0.1_rate-0.1      311\n",
       "standardized_SOM_(2, 6)_sigma-1_rate-0.5        312\n",
       "standardized_SOM_(6, 5)_sigma-1_rate-0.1        312\n",
       "standardized_SOM_(6, 5)_sigma-0.25_rate-0.1     313\n",
       "standardized_SOM_(5, 5)_sigma-0.01_rate-1       318\n",
       "standardized_SOM_(3, 3)_sigma-1_rate-0.2        318\n",
       "standardized_SOM_(5, 5)_sigma-0.1_rate-1        319\n",
       "standardized_SOM_(5, 5)_sigma-0.5_rate-0.05     320\n",
       "standardized_SOM_(5, 5)_sigma-0.5_rate-0.2      320\n",
       "standardized_SOM_(5, 5)_sigma-0.25_rate-1       320\n",
       "standardized_SOM_(6, 5)_sigma-0.5_rate-0.01     324\n",
       "standardized_SOM_(6, 5)_sigma-1_rate-0.5        324\n",
       "standardized_SOM_(6, 5)_sigma-0.1_rate-0.2      324\n",
       "standardized_SOM_(6, 5)_sigma-0.01_rate-0.2     325\n",
       "standardized_SOM_(3, 5)_sigma-1_rate-0.5        325\n",
       "standardized_SOM_(5, 5)_sigma-1_rate-0.5        325\n",
       "standardized_SOM_(6, 5)_sigma-1_rate-0.2        326\n",
       "standardized_SOM_(6, 5)_sigma-0.25_rate-0.2     326\n",
       "standardized_SOM_(6, 5)_sigma-0.5_rate-0.2      329\n",
       "standardized_SOM_(3, 5)_sigma-0.1_rate-0.05     331\n",
       "standardized_SOM_(5, 5)_sigma-1_rate-0.05       331\n",
       "standardized_SOM_(3, 4)_sigma-0.1_rate-0.05     332\n",
       "standardized_SOM_(6, 5)_sigma-0.5_rate-0.1      332\n",
       "standardized_SOM_(6, 5)_sigma-1_rate-0.05       332\n",
       "standardized_SOM_(3, 5)_sigma-0.01_rate-0.05    333\n",
       "Name: internal, dtype: int64"
      ]
     },
     "execution_count": 180,
     "metadata": {},
     "output_type": "execute_result"
    }
   ],
   "source": [
    "score.internal.sort_values()[:60]"
   ]
  },
  {
   "cell_type": "code",
   "execution_count": 189,
   "id": "serial-adams",
   "metadata": {},
   "outputs": [
    {
     "data": {
      "text/plain": [
       "standardized_GMM_30    389\n",
       "normalized_GMM_30      397\n",
       "standardized_GMM_20    439\n",
       "standardized_GMM_15    472\n",
       "normalized_GMM_20      500\n",
       "standardized_GMM_10    538\n",
       "normalized_GMM_15      556\n",
       "normalized_GMM_10      586\n",
       "Name: internal, dtype: int64"
      ]
     },
     "execution_count": 189,
     "metadata": {},
     "output_type": "execute_result"
    }
   ],
   "source": [
    "score.internal.loc[score.index.str.contains(\"GMM\")].sort_values()[:60]"
   ]
  },
  {
   "cell_type": "code",
   "execution_count": 190,
   "id": "communist-mainstream",
   "metadata": {},
   "outputs": [
    {
     "data": {
      "text/plain": [
       "standardized_SOM_(4, 5)_sigma-0.25_rate-0.5     163\n",
       "standardized_SOM_(4, 5)_sigma-0.01_rate-0.5     177\n",
       "standardized_SOM_(4, 5)_sigma-0.1_rate-0.5      178\n",
       "standardized_SOM_(4, 5)_sigma-0.5_rate-1        185\n",
       "standardized_SOM_(5, 5)_sigma-0.01_rate-0.5     188\n",
       "standardized_SOM_(5, 5)_sigma-0.1_rate-0.5      189\n",
       "standardized_SOM_(6, 5)_sigma-0.1_rate-0.5      199\n",
       "standardized_SOM_(6, 5)_sigma-0.01_rate-0.5     200\n",
       "standardized_SOM_(5, 5)_sigma-0.5_rate-1        202\n",
       "standardized_SOM_(5, 5)_sigma-0.25_rate-0.5     211\n",
       "standardized_SOM_(6, 5)_sigma-0.01_rate-1       218\n",
       "standardized_SOM_(6, 5)_sigma-0.1_rate-1        219\n",
       "standardized_SOM_(6, 5)_sigma-0.25_rate-1       220\n",
       "standardized_SOM_(6, 5)_sigma-0.25_rate-0.5     223\n",
       "standardized_SOM_(6, 5)_sigma-0.5_rate-1        237\n",
       "standardized_SOM_(6, 5)_sigma-0.5_rate-0.5      247\n",
       "standardized_SOM_(4, 5)_sigma-0.5_rate-0.5      259\n",
       "standardized_SOM_(3, 4)_sigma-1_rate-0.5        267\n",
       "standardized_SOM_(5, 5)_sigma-0.25_rate-0.2     269\n",
       "standardized_SOM_(4, 5)_sigma-1_rate-1          271\n",
       "standardized_SOM_(2, 6)_sigma-0.5_rate-0.5      277\n",
       "standardized_SOM_(2, 5)_sigma-1_rate-0.5        286\n",
       "standardized_SOM_(5, 5)_sigma-0.01_rate-0.2     288\n",
       "standardized_SOM_(5, 5)_sigma-0.5_rate-0.5      289\n",
       "standardized_SOM_(5, 5)_sigma-0.1_rate-0.2      291\n",
       "standardized_SOM_(3, 5)_sigma-0.5_rate-0.5      302\n",
       "standardized_SOM_(6, 5)_sigma-0.5_rate-0.05     307\n",
       "standardized_SOM_(6, 5)_sigma-0.1_rate-0.01     307\n",
       "standardized_SOM_(3, 4)_sigma-1_rate-1          309\n",
       "standardized_SOM_(6, 5)_sigma-1_rate-1          309\n",
       "standardized_SOM_(6, 5)_sigma-0.01_rate-0.1     309\n",
       "standardized_SOM_(6, 5)_sigma-0.25_rate-0.01    310\n",
       "standardized_SOM_(4, 5)_sigma-0.5_rate-0.2      310\n",
       "standardized_SOM_(6, 5)_sigma-0.01_rate-0.01    310\n",
       "standardized_SOM_(5, 5)_sigma-1_rate-1          311\n",
       "standardized_SOM_(6, 5)_sigma-0.1_rate-0.1      311\n",
       "standardized_SOM_(2, 6)_sigma-1_rate-0.5        312\n",
       "standardized_SOM_(6, 5)_sigma-1_rate-0.1        312\n",
       "standardized_SOM_(6, 5)_sigma-0.25_rate-0.1     313\n",
       "standardized_SOM_(5, 5)_sigma-0.01_rate-1       318\n",
       "standardized_SOM_(3, 3)_sigma-1_rate-0.2        318\n",
       "standardized_SOM_(5, 5)_sigma-0.1_rate-1        319\n",
       "standardized_SOM_(5, 5)_sigma-0.5_rate-0.05     320\n",
       "standardized_SOM_(5, 5)_sigma-0.5_rate-0.2      320\n",
       "standardized_SOM_(5, 5)_sigma-0.25_rate-1       320\n",
       "standardized_SOM_(6, 5)_sigma-0.5_rate-0.01     324\n",
       "standardized_SOM_(6, 5)_sigma-1_rate-0.5        324\n",
       "standardized_SOM_(6, 5)_sigma-0.1_rate-0.2      324\n",
       "standardized_SOM_(6, 5)_sigma-0.01_rate-0.2     325\n",
       "standardized_SOM_(3, 5)_sigma-1_rate-0.5        325\n",
       "standardized_SOM_(5, 5)_sigma-1_rate-0.5        325\n",
       "standardized_SOM_(6, 5)_sigma-1_rate-0.2        326\n",
       "standardized_SOM_(6, 5)_sigma-0.25_rate-0.2     326\n",
       "standardized_SOM_(6, 5)_sigma-0.5_rate-0.2      329\n",
       "standardized_SOM_(3, 5)_sigma-0.1_rate-0.05     331\n",
       "standardized_SOM_(5, 5)_sigma-1_rate-0.05       331\n",
       "standardized_SOM_(3, 4)_sigma-0.1_rate-0.05     332\n",
       "standardized_SOM_(6, 5)_sigma-0.5_rate-0.1      332\n",
       "standardized_SOM_(6, 5)_sigma-1_rate-0.05       332\n",
       "standardized_SOM_(3, 5)_sigma-0.01_rate-0.05    333\n",
       "Name: internal, dtype: int64"
      ]
     },
     "execution_count": 190,
     "metadata": {},
     "output_type": "execute_result"
    }
   ],
   "source": [
    "score.internal.sort_values()[:60]"
   ]
  },
  {
   "cell_type": "code",
   "execution_count": 147,
   "id": "warming-ultimate",
   "metadata": {},
   "outputs": [
    {
     "data": {
      "text/plain": [
       "standardized_GMM_30                              57\n",
       "normalized_GMM_30                                58\n",
       "standardized_GMM_15                              84\n",
       "normalized_GMM_15                                86\n",
       "standardized_SOM_(2, 5)_sigma-0.01_rate-0.01     89\n",
       "standardized_SOM_(2, 5)_sigma-0.25_rate-0.01     91\n",
       "standardized_SOM_(3, 3)_sigma-1_rate-0.2         91\n",
       "standardized_SOM_(2, 5)_sigma-0.5_rate-0.01      92\n",
       "standardized_SOM_(2, 5)_sigma-0.1_rate-0.01      93\n",
       "normalized_SOM_(3, 4)_sigma-0.5_rate-0.01       104\n",
       "normalized_SOM_(2, 6)_sigma-0.5_rate-0.01       105\n",
       "standardized_SOM_(3, 3)_sigma-1_rate-0.1        111\n",
       "normalized_GMM_20                               113\n",
       "standardized_SOM_(2, 6)_sigma-1_rate-0.1        114\n",
       "normalized_SOM_(2, 5)_sigma-0.5_rate-0.01       116\n",
       "standardized_SOM_(2, 5)_sigma-1_rate-0.2        120\n",
       "standardized_SOM_(4, 5)_sigma-0.5_rate-0.2      125\n",
       "standardized_SOM_(2, 5)_sigma-1_rate-0.05       125\n",
       "standardized_GMM_20                             134\n",
       "standardized_SOM_(3, 3)_sigma-1_rate-0.5        138\n",
       "Name: fragmentation, dtype: int64"
      ]
     },
     "execution_count": 147,
     "metadata": {},
     "output_type": "execute_result"
    }
   ],
   "source": [
    "score.fragmentation.sort_values()[:20]"
   ]
  },
  {
   "cell_type": "code",
   "execution_count": 149,
   "id": "competitive-polyester",
   "metadata": {},
   "outputs": [
    {
     "name": "stderr",
     "output_type": "stream",
     "text": [
      "<ipython-input-149-8df411749ae7>:1: DeprecationWarning: The default dtype for empty Series will be 'object' instead of 'float64' in a future version. Specify a dtype explicitly to silence this warning.\n",
      "  postcode_sample = pd.Series()\n",
      "<ipython-input-149-8df411749ae7>:2: DeprecationWarning: The default dtype for empty Series will be 'object' instead of 'float64' in a future version. Specify a dtype explicitly to silence this warning.\n",
      "  jochem_sample = pd.Series()\n",
      "<ipython-input-149-8df411749ae7>:3: DeprecationWarning: The default dtype for empty Series will be 'object' instead of 'float64' in a future version. Specify a dtype explicitly to silence this warning.\n",
      "  modum_sample = pd.Series()\n"
     ]
    }
   ],
   "source": [
    "postcode_sample = pd.Series()\n",
    "jochem_sample = pd.Series()\n",
    "modum_sample = pd.Series()\n",
    "\n",
    "\n",
    "for op in options:\n",
    "    if 'sample' in op:\n",
    "        postcode_sample[op[7:]] = evaluations[op]['mur_cramers_v']\n",
    "        jochem_sample[op[7:]] = evaluations[op]['joc_cramers_v']\n",
    "        modum_sample[op[7:]] = evaluations[op]['mod_cramers_']"
   ]
  },
  {
   "cell_type": "code",
   "execution_count": 151,
   "id": "existing-claim",
   "metadata": {},
   "outputs": [],
   "source": [
    "score_sample = pd.DataFrame(index=modum_sample.index)\n",
    "score_sample[\"modum\"] = pd.Series(range(1, 310), index=modum_sample.sort_values(ascending=False).index)\n",
    "score_sample[\"postcode_class\"] = pd.Series(range(1, 310), index=postcode_sample.sort_values(ascending=False).index)\n",
    "score_sample[\"jochem\"] = pd.Series(range(1, 310), index=jochem_sample.sort_values(ascending=False).index)\n",
    "score_sample[\"davies\"] = pd.Series(range(1, 310), index=davies_sample.sort_values(ascending=True).index)\n",
    "score_sample[\"silhouette\"] = pd.Series(range(1, 310), index=silhouettes_sample.sort_values(ascending=True).index)\n",
    "score_sample[\"calinski\"] = pd.Series(range(1, 310), index=calinski_sample.sort_values(ascending=True).index)\n",
    "score_sample[\"total\"] = score_sample.sum(axis=1)\n",
    "score_sample[\"comparative\"] = score_sample.modum + score_sample.postcode_class + score_sample.jochem\n",
    "score_sample[\"internal\"] = score_sample.davies + score_sample.silhouette + score_sample.calinski"
   ]
  },
  {
   "cell_type": "code",
   "execution_count": 152,
   "id": "fresh-crest",
   "metadata": {},
   "outputs": [
    {
     "data": {
      "text/plain": [
       "standardized_KMeans_30                          340\n",
       "standardized_MiniBatchKMeans_30                 341\n",
       "standardized_SOM_(6, 5)_sigma-1_rate-0.01       346\n",
       "standardized_SOM_(6, 5)_sigma-1_rate-0.05       354\n",
       "standardized_SOM_(6, 5)_sigma-1_rate-0.1        354\n",
       "standardized_SOM_(6, 5)_sigma-0.01_rate-0.05    361\n",
       "standardized_SOM_(6, 5)_sigma-0.1_rate-0.05     361\n",
       "standardized_SOM_(6, 5)_sigma-1_rate-0.2        371\n",
       "standardized_SOM_(6, 5)_sigma-0.5_rate-0.01     376\n",
       "standardized_SOM_(5, 5)_sigma-1_rate-0.05       387\n",
       "standardized_SOM_(6, 5)_sigma-0.25_rate-0.05    391\n",
       "standardized_SOM_(6, 5)_sigma-0.5_rate-0.05     392\n",
       "standardized_SOM_(6, 5)_sigma-0.01_rate-0.01    398\n",
       "standardized_SOM_(6, 5)_sigma-0.1_rate-0.01     400\n",
       "standardized_SOM_(6, 5)_sigma-0.5_rate-0.1      401\n",
       "standardized_SOM_(5, 5)_sigma-1_rate-0.1        402\n",
       "standardized_SOM_(6, 5)_sigma-0.25_rate-0.01    403\n",
       "standardized_SOM_(5, 5)_sigma-1_rate-0.01       403\n",
       "standardized_SOM_(5, 5)_sigma-0.25_rate-0.05    424\n",
       "standardized_SOM_(5, 5)_sigma-0.5_rate-0.01     431\n",
       "Name: total, dtype: int64"
      ]
     },
     "execution_count": 152,
     "metadata": {},
     "output_type": "execute_result"
    }
   ],
   "source": [
    "score_sample.total.sort_values()[:20]"
   ]
  },
  {
   "cell_type": "code",
   "execution_count": 178,
   "id": "difficult-twelve",
   "metadata": {},
   "outputs": [
    {
     "data": {
      "text/plain": [
       "standardized_SOM_(6, 5)_sigma-1_rate-0.05       36\n",
       "standardized_SOM_(6, 5)_sigma-1_rate-0.01       37\n",
       "standardized_MiniBatchKMeans_30                 39\n",
       "standardized_SOM_(6, 5)_sigma-0.01_rate-0.05    41\n",
       "standardized_SOM_(6, 5)_sigma-1_rate-0.1        42\n",
       "standardized_SOM_(6, 5)_sigma-0.1_rate-0.05     42\n",
       "standardized_SOM_(5, 5)_sigma-1_rate-0.05       56\n",
       "standardized_SOM_(6, 5)_sigma-1_rate-0.2        63\n",
       "standardized_SOM_(4, 5)_sigma-0.1_rate-0.05     63\n",
       "standardized_SOM_(4, 5)_sigma-1_rate-0.05       65\n",
       "standardized_SOM_(4, 5)_sigma-0.01_rate-0.05    66\n",
       "standardized_SOM_(6, 5)_sigma-0.25_rate-0.05    69\n",
       "standardized_SOM_(6, 5)_sigma-0.5_rate-0.01     69\n",
       "standardized_SOM_(6, 5)_sigma-0.5_rate-0.05     72\n",
       "standardized_SOM_(5, 5)_sigma-1_rate-0.01       79\n",
       "standardized_SOM_(4, 5)_sigma-0.5_rate-0.05     87\n",
       "standardized_SOM_(5, 5)_sigma-0.01_rate-0.05    88\n",
       "standardized_SOM_(5, 5)_sigma-0.25_rate-0.05    89\n",
       "standardized_SOM_(5, 5)_sigma-0.5_rate-0.05     90\n",
       "standardized_SOM_(5, 5)_sigma-1_rate-0.1        91\n",
       "Name: comparative, dtype: int64"
      ]
     },
     "execution_count": 178,
     "metadata": {},
     "output_type": "execute_result"
    }
   ],
   "source": [
    "score_sample.comparative.loc[score_sample.index.str.contains('stand')].sort_values()[:20]"
   ]
  },
  {
   "cell_type": "code",
   "execution_count": 154,
   "id": "common-hunter",
   "metadata": {},
   "outputs": [
    {
     "data": {
      "text/plain": [
       "standardized_SOM_(6, 5)_sigma-0.1_rate-0.2      208\n",
       "standardized_SOM_(6, 5)_sigma-0.01_rate-0.2     209\n",
       "standardized_SOM_(6, 5)_sigma-0.25_rate-0.2     210\n",
       "standardized_KMeans_30                          218\n",
       "standardized_SOM_(6, 5)_sigma-0.5_rate-0.5      235\n",
       "standardized_SOM_(5, 5)_sigma-0.5_rate-0.2      242\n",
       "standardized_SOM_(5, 5)_sigma-0.25_rate-0.2     258\n",
       "standardized_SOM_(6, 5)_sigma-0.5_rate-0.2      259\n",
       "standardized_SOM_(5, 5)_sigma-0.1_rate-0.2      259\n",
       "standardized_SOM_(5, 5)_sigma-0.01_rate-0.2     263\n",
       "standardized_SOM_(5, 5)_sigma-0.5_rate-0.5      264\n",
       "standardized_SOM_(6, 5)_sigma-0.25_rate-0.01    284\n",
       "standardized_SOM_(6, 5)_sigma-0.01_rate-0.01    289\n",
       "standardized_SOM_(6, 5)_sigma-0.1_rate-0.01     290\n",
       "standardized_SOM_(6, 5)_sigma-0.5_rate-1        295\n",
       "standardized_SOM_(5, 5)_sigma-0.01_rate-0.1     297\n",
       "standardized_SOM_(5, 5)_sigma-0.1_rate-0.1      298\n",
       "standardized_SOM_(5, 5)_sigma-1_rate-0.5        298\n",
       "standardized_SOM_(6, 5)_sigma-1_rate-1          298\n",
       "standardized_SOM_(6, 5)_sigma-0.01_rate-0.1     302\n",
       "Name: internal, dtype: int64"
      ]
     },
     "execution_count": 154,
     "metadata": {},
     "output_type": "execute_result"
    }
   ],
   "source": [
    "score_sample.internal.sort_values()[:20]"
   ]
  },
  {
   "cell_type": "code",
   "execution_count": 160,
   "id": "heated-jonathan",
   "metadata": {},
   "outputs": [
    {
     "data": {
      "text/plain": [
       "standardized_SOM_(6, 5)_sigma-0.1_rate-0.05     1059.0\n",
       "standardized_MiniBatchKMeans_30                 1059.0\n",
       "standardized_SOM_(6, 5)_sigma-0.01_rate-0.05    1061.0\n",
       "standardized_SOM_(6, 5)_sigma-1_rate-0.01       1095.0\n",
       "standardized_KMeans_30                          1103.0\n",
       "standardized_SOM_(6, 5)_sigma-0.25_rate-0.05    1107.0\n",
       "standardized_SOM_(5, 5)_sigma-0.25_rate-0.05    1118.0\n",
       "standardized_SOM_(6, 5)_sigma-0.5_rate-0.01     1133.0\n",
       "standardized_SOM_(5, 5)_sigma-0.01_rate-0.05    1144.0\n",
       "standardized_SOM_(6, 5)_sigma-1_rate-0.05       1147.0\n",
       "standardized_SOM_(5, 5)_sigma-0.1_rate-0.05     1148.0\n",
       "standardized_SOM_(6, 5)_sigma-0.5_rate-0.05     1154.0\n",
       "standardized_SOM_(6, 5)_sigma-1_rate-0.2        1162.0\n",
       "standardized_SOM_(6, 5)_sigma-0.25_rate-0.01    1184.0\n",
       "standardized_SOM_(6, 5)_sigma-0.01_rate-0.1     1189.0\n",
       "standardized_SOM_(5, 5)_sigma-1_rate-0.01       1194.0\n",
       "standardized_SOM_(6, 5)_sigma-0.1_rate-0.1      1194.0\n",
       "standardized_SOM_(6, 5)_sigma-0.1_rate-0.01     1196.0\n",
       "standardized_SOM_(6, 5)_sigma-0.01_rate-0.01    1202.0\n",
       "standardized_SOM_(6, 5)_sigma-0.25_rate-0.1     1208.0\n",
       "standardized_GMM_30                             1210.0\n",
       "standardized_SOM_(6, 5)_sigma-0.5_rate-0.2      1228.0\n",
       "standardized_SOM_(6, 5)_sigma-1_rate-0.1        1239.0\n",
       "normalized_GMM_30                               1244.0\n",
       "standardized_SOM_(5, 5)_sigma-0.5_rate-0.01     1267.0\n",
       "standardized_SOM_(5, 5)_sigma-1_rate-0.1        1295.0\n",
       "standardized_SOM_(6, 5)_sigma-0.5_rate-0.1      1299.0\n",
       "standardized_SOM_(5, 5)_sigma-0.25_rate-0.1     1305.0\n",
       "standardized_SOM_(4, 5)_sigma-0.5_rate-0.01     1311.0\n",
       "standardized_SOM_(5, 5)_sigma-1_rate-0.05       1316.0\n",
       "standardized_SOM_(4, 5)_sigma-1_rate-0.01       1353.0\n",
       "standardized_KMeans_20                          1353.0\n",
       "standardized_SOM_(5, 5)_sigma-0.01_rate-0.1     1360.0\n",
       "standardized_SOM_(5, 5)_sigma-0.1_rate-0.1      1360.0\n",
       "standardized_SOM_(5, 5)_sigma-0.5_rate-0.05     1366.0\n",
       "standardized_SOM_(4, 5)_sigma-1_rate-0.05       1380.0\n",
       "standardized_KMeans_15                          1387.0\n",
       "standardized_SOM_(5, 5)_sigma-1_rate-0.2        1409.0\n",
       "standardized_SOM_(4, 5)_sigma-0.01_rate-0.05    1416.0\n",
       "standardized_SOM_(4, 5)_sigma-0.1_rate-0.05     1418.0\n",
       "Name: total, dtype: float64"
      ]
     },
     "execution_count": 160,
     "metadata": {},
     "output_type": "execute_result"
    }
   ],
   "source": [
    "(score.total + score_sample.total).loc[score.index.intersection(score_sample.index)].sort_values()[:40]"
   ]
  },
  {
   "cell_type": "code",
   "execution_count": 161,
   "id": "breathing-psychology",
   "metadata": {},
   "outputs": [
    {
     "data": {
      "text/plain": [
       "standardized_MiniBatchKMeans_30                  46.0\n",
       "standardized_SOM_(6, 5)_sigma-1_rate-0.01        74.0\n",
       "standardized_SOM_(6, 5)_sigma-1_rate-0.05        76.0\n",
       "standardized_SOM_(6, 5)_sigma-0.1_rate-0.05      87.0\n",
       "standardized_SOM_(6, 5)_sigma-0.01_rate-0.05     89.0\n",
       "standardized_SOM_(6, 5)_sigma-1_rate-0.2        105.0\n",
       "standardized_SOM_(6, 5)_sigma-0.5_rate-0.05     111.0\n",
       "standardized_SOM_(6, 5)_sigma-0.25_rate-0.05    117.0\n",
       "standardized_SOM_(6, 5)_sigma-1_rate-0.1        125.0\n",
       "standardized_SOM_(5, 5)_sigma-1_rate-0.01       136.0\n",
       "standardized_KMeans_30                          136.0\n",
       "standardized_SOM_(6, 5)_sigma-0.5_rate-0.01     149.0\n",
       "standardized_SOM_(6, 5)_sigma-0.5_rate-0.1      187.0\n",
       "standardized_SOM_(5, 5)_sigma-0.01_rate-0.05    188.0\n",
       "standardized_SOM_(5, 5)_sigma-0.25_rate-0.05    188.0\n",
       "standardized_SOM_(5, 5)_sigma-0.1_rate-0.05     192.0\n",
       "standardized_SOM_(4, 5)_sigma-1_rate-0.05       197.0\n",
       "standardized_SOM_(5, 5)_sigma-1_rate-0.1        209.0\n",
       "standardized_SOM_(5, 5)_sigma-0.5_rate-0.01     209.0\n",
       "standardized_KMeans_20                          217.0\n",
       "standardized_SOM_(5, 5)_sigma-1_rate-0.05       223.0\n",
       "standardized_SOM_(4, 5)_sigma-0.5_rate-0.01     235.0\n",
       "standardized_SOM_(6, 5)_sigma-0.1_rate-0.01     236.0\n",
       "standardized_SOM_(6, 5)_sigma-0.01_rate-0.01    238.0\n",
       "standardized_SOM_(6, 5)_sigma-0.01_rate-0.1     240.0\n",
       "standardized_SOM_(6, 5)_sigma-0.1_rate-0.1      242.0\n",
       "standardized_SOM_(6, 5)_sigma-0.25_rate-0.01    242.0\n",
       "standardized_SOM_(6, 5)_sigma-0.25_rate-0.1     251.0\n",
       "standardized_SOM_(4, 5)_sigma-1_rate-0.01       262.0\n",
       "standardized_SOM_(5, 5)_sigma-0.5_rate-0.05     269.0\n",
       "standardized_SOM_(5, 5)_sigma-1_rate-0.2        285.0\n",
       "standardized_SOM_(4, 5)_sigma-0.25_rate-0.01    304.0\n",
       "standardized_SOM_(6, 5)_sigma-1_rate-0.5        306.0\n",
       "normalized_GMM_30                               307.0\n",
       "standardized_MiniBatchKMeans_15                 314.0\n",
       "standardized_KMeans_15                          315.0\n",
       "standardized_SOM_(4, 5)_sigma-0.1_rate-0.01     324.0\n",
       "standardized_SOM_(4, 5)_sigma-0.01_rate-0.01    326.0\n",
       "standardized_SOM_(4, 5)_sigma-0.1_rate-0.05     331.0\n",
       "standardized_SOM_(4, 5)_sigma-0.01_rate-0.05    335.0\n",
       "Name: comparative, dtype: float64"
      ]
     },
     "execution_count": 161,
     "metadata": {},
     "output_type": "execute_result"
    }
   ],
   "source": [
    "(score.comparative + score_sample.comparative).loc[score.index.intersection(score_sample.index)].sort_values()[:40]"
   ]
  },
  {
   "cell_type": "code",
   "execution_count": 162,
   "id": "governing-saskatchewan",
   "metadata": {},
   "outputs": [
    {
     "data": {
      "text/plain": [
       "standardized_SOM_(6, 5)_sigma-0.5_rate-0.5      482.0\n",
       "standardized_SOM_(4, 5)_sigma-0.25_rate-0.5     505.0\n",
       "standardized_SOM_(6, 5)_sigma-0.01_rate-0.5     512.0\n",
       "standardized_SOM_(6, 5)_sigma-0.1_rate-0.5      514.0\n",
       "standardized_SOM_(5, 5)_sigma-0.01_rate-0.5     514.0\n",
       "standardized_SOM_(5, 5)_sigma-0.1_rate-0.5      516.0\n",
       "standardized_SOM_(4, 5)_sigma-0.01_rate-0.5     520.0\n",
       "standardized_SOM_(4, 5)_sigma-0.1_rate-0.5      522.0\n",
       "standardized_SOM_(5, 5)_sigma-0.25_rate-0.5     526.0\n",
       "standardized_SOM_(5, 5)_sigma-0.25_rate-0.2     527.0\n",
       "standardized_SOM_(6, 5)_sigma-0.5_rate-1        532.0\n",
       "standardized_SOM_(6, 5)_sigma-0.1_rate-0.2      532.0\n",
       "standardized_SOM_(6, 5)_sigma-0.01_rate-0.2     534.0\n",
       "standardized_SOM_(6, 5)_sigma-0.25_rate-0.2     536.0\n",
       "standardized_SOM_(6, 5)_sigma-0.25_rate-0.5     541.0\n",
       "standardized_SOM_(5, 5)_sigma-0.1_rate-0.2      550.0\n",
       "standardized_SOM_(5, 5)_sigma-0.01_rate-0.2     551.0\n",
       "standardized_SOM_(5, 5)_sigma-0.5_rate-0.5      553.0\n",
       "standardized_SOM_(5, 5)_sigma-0.5_rate-0.2      562.0\n",
       "standardized_SOM_(4, 5)_sigma-0.5_rate-0.5      571.0\n",
       "standardized_SOM_(6, 5)_sigma-0.5_rate-0.2      588.0\n",
       "standardized_SOM_(6, 5)_sigma-0.25_rate-0.01    594.0\n",
       "standardized_SOM_(6, 5)_sigma-0.1_rate-0.01     597.0\n",
       "standardized_SOM_(6, 5)_sigma-0.01_rate-0.01    599.0\n",
       "standardized_SOM_(6, 5)_sigma-1_rate-1          607.0\n",
       "standardized_SOM_(4, 5)_sigma-1_rate-1          608.0\n",
       "standardized_SOM_(6, 5)_sigma-0.01_rate-0.1     611.0\n",
       "standardized_SOM_(6, 5)_sigma-0.1_rate-0.1      614.0\n",
       "standardized_SOM_(4, 5)_sigma-0.5_rate-0.2      616.0\n",
       "standardized_SOM_(6, 5)_sigma-0.25_rate-0.1     619.0\n",
       "standardized_SOM_(5, 5)_sigma-1_rate-0.5        623.0\n",
       "standardized_SOM_(6, 5)_sigma-1_rate-0.1        624.0\n",
       "standardized_SOM_(5, 5)_sigma-1_rate-1          625.0\n",
       "standardized_SOM_(6, 5)_sigma-0.5_rate-0.05     627.0\n",
       "standardized_SOM_(6, 5)_sigma-0.5_rate-0.01     631.0\n",
       "standardized_SOM_(6, 5)_sigma-1_rate-0.2        634.0\n",
       "standardized_SOM_(6, 5)_sigma-0.5_rate-0.1      635.0\n",
       "standardized_SOM_(6, 5)_sigma-1_rate-0.5        636.0\n",
       "standardized_SOM_(6, 5)_sigma-1_rate-0.05       650.0\n",
       "standardized_SOM_(6, 5)_sigma-1_rate-0.01       651.0\n",
       "Name: internal, dtype: float64"
      ]
     },
     "execution_count": 162,
     "metadata": {},
     "output_type": "execute_result"
    }
   ],
   "source": [
    "(score.internal + score_sample.internal).loc[score.index.intersection(score_sample.index)].sort_values()[:40]"
   ]
  },
  {
   "cell_type": "code",
   "execution_count": 164,
   "id": "intimate-variety",
   "metadata": {},
   "outputs": [
    {
     "data": {
      "text/plain": [
       "17    24262\n",
       "18    21483\n",
       "12    20069\n",
       "28    19235\n",
       "13    17831\n",
       "5     17506\n",
       "11    16281\n",
       "6     16210\n",
       "3     15925\n",
       "27    13116\n",
       "19    12653\n",
       "1      8949\n",
       "15     8100\n",
       "16     8015\n",
       "9      7612\n",
       "2      7590\n",
       "14     6497\n",
       "0      6306\n",
       "24     5686\n",
       "23     5089\n",
       "29     4582\n",
       "20     3989\n",
       "21     3505\n",
       "26     3180\n",
       "4      1669\n",
       "25      610\n",
       "8       361\n",
       "10      221\n",
       "22      179\n",
       "7        86\n",
       "dtype: int64"
      ]
     },
     "execution_count": 164,
     "metadata": {},
     "output_type": "execute_result"
    }
   ],
   "source": [
    "evaluations[\"chunks_standardized_GMM_30\"]['frequencies']"
   ]
  },
  {
   "cell_type": "code",
   "execution_count": 165,
   "id": "dimensional-adrian",
   "metadata": {},
   "outputs": [
    {
     "data": {
      "text/plain": [
       "23    32317\n",
       "0     28309\n",
       "15    25717\n",
       "4     23572\n",
       "18    18582\n",
       "7     17673\n",
       "29    16669\n",
       "11    15973\n",
       "20    15864\n",
       "1     14967\n",
       "5     14199\n",
       "13    10040\n",
       "22     7694\n",
       "25     7138\n",
       "9      5783\n",
       "3      4641\n",
       "21     3207\n",
       "19     3031\n",
       "27     2957\n",
       "14     2012\n",
       "16     1952\n",
       "12     1629\n",
       "28      776\n",
       "2       559\n",
       "17      409\n",
       "24      339\n",
       "26      302\n",
       "6       221\n",
       "10      179\n",
       "8        86\n",
       "dtype: int64"
      ]
     },
     "execution_count": 165,
     "metadata": {},
     "output_type": "execute_result"
    }
   ],
   "source": [
    "evaluations[\"chunks_standardized_KMeans_30\"]['frequencies']"
   ]
  },
  {
   "cell_type": "code",
   "execution_count": 198,
   "id": "excited-maintenance",
   "metadata": {},
   "outputs": [
    {
     "data": {
      "text/plain": [
       "array([13, 13, 13, ..., 21, 21, 21], dtype=int32)"
      ]
     },
     "execution_count": 198,
     "metadata": {},
     "output_type": "execute_result"
    }
   ],
   "source": [
    "labels[\"chunks_standardized_KMeans_30\"]"
   ]
  },
  {
   "cell_type": "code",
   "execution_count": 202,
   "id": "detailed-morgan",
   "metadata": {},
   "outputs": [
    {
     "name": "stdout",
     "output_type": "stream",
     "text": [
      "CPU times: user 17min 16s, sys: 4min 24s, total: 21min 41s\n",
      "Wall time: 1min 28s\n",
      "CPU times: user 5.76 s, sys: 0 ns, total: 5.76 s\n",
      "Wall time: 605 ms\n"
     ]
    }
   ],
   "source": [
    "data = pd.read_parquet(f\"../../urbangrammar_samba/spatial_signatures/clustering_data/sample/sample_standardized_data.pq\").values \n",
    "chunk_data = pd.read_parquet(f\"../../urbangrammar_samba/spatial_signatures/clustering_data/sample/chunks_standardized_data.pq\").values\n",
    "\n",
    "%time km = KMeans(n_clusters=30, n_init=10, random_state=42).fit(data)\n",
    "%time labels_ = km.predict(chunk_data)\n",
    "\n",
    "# geom51 = gpd.read_parquet(\"../../urbangrammar_samba/spatial_signatures/tessellation/tess_51.pq\", columns=[\"tessellation\", \"hindex\"])\n",
    "# geom68 = gpd.read_parquet(\"../../urbangrammar_samba/spatial_signatures/tessellation/tess_68.pq\", columns=[\"tessellation\", \"hindex\"])\n",
    "# geom = pd.concat([geom51, geom68]).reset_index(drop=True).rename_geometry(\"geometry\")\n",
    "\n",
    "geom['labels'] = labels_        "
   ]
  },
  {
   "cell_type": "code",
   "execution_count": 203,
   "id": "finnish-aircraft",
   "metadata": {},
   "outputs": [
    {
     "data": {
      "text/plain": [
       "(250000, 331)"
      ]
     },
     "execution_count": 203,
     "metadata": {},
     "output_type": "execute_result"
    }
   ],
   "source": [
    "data.shape"
   ]
  },
  {
   "cell_type": "code",
   "execution_count": 204,
   "id": "universal-insider",
   "metadata": {},
   "outputs": [
    {
     "data": {
      "text/plain": [
       "(276797, 331)"
      ]
     },
     "execution_count": 204,
     "metadata": {},
     "output_type": "execute_result"
    }
   ],
   "source": [
    "chunk_data.shape"
   ]
  },
  {
   "cell_type": "code",
   "execution_count": 193,
   "id": "parallel-ukraine",
   "metadata": {},
   "outputs": [],
   "source": [
    "    from sklearn import metrics\n",
    "    import pandas as pd\n",
    "    import scipy as sp\n",
    "    import matplotlib.pyplot as plt\n",
    "    import contextily as ctx\n",
    "    import urbangrammar_graphics as ugg\n",
    "    import dask_geopandas\n",
    "    from utils.dask_geopandas import dask_dissolve"
   ]
  },
  {
   "cell_type": "code",
   "execution_count": 205,
   "id": "posted-guatemala",
   "metadata": {},
   "outputs": [],
   "source": [
    "ddf = dask_geopandas.from_geopandas(geom.sort_values('labels'), npartitions=64)\n",
    "spsig = dask_dissolve(ddf, by='labels').compute().reset_index(drop=True).explode()\n",
    "\n",
    "cmap = ugg.get_colormap(spsig.labels.nunique(), randomize=True)\n",
    "token = \"pk.eyJ1IjoibWFydGluZmxlaXMiLCJhIjoiY2tsNmhlemtxMmlicTJubXN6and5aTc2NCJ9.l7nSUXM7ZRjAWTB7oXiswQ\"\n",
    "\n",
    "ax = spsig.cx[332971:361675, 379462:404701].plot(\"labels\", figsize=(20, 20), zorder=1, linewidth=.3, edgecolor='w', alpha=1, legend=True, cmap=cmap, categorical=True)\n",
    "ctx.add_basemap(ax, crs=27700, source=ugg.get_tiles('roads', token), zorder=2, alpha=.3)\n",
    "ctx.add_basemap(ax, crs=27700, source=ugg.get_tiles('labels', token), zorder=3, alpha=1)\n",
    "ctx.add_basemap(ax, crs=27700, source=ugg.get_tiles('background', token), zorder=-1, alpha=1)\n",
    "ax.set_axis_off()\n",
    "\n",
    "plt.savefig(f\"../../urbangrammar_samba/spatial_signatures/clustering_data/validation/maps/KMeans_predicted_lpool.png\")\n",
    "plt.close()   \n",
    "\n",
    "ax = spsig.cx[218800:270628, 645123:695069].plot(\"labels\", figsize=(20, 20), zorder=1, linewidth=.3, edgecolor='w', alpha=1, legend=True, cmap=cmap, categorical=True)\n",
    "ctx.add_basemap(ax, crs=27700, source=ugg.get_tiles('roads', token), zorder=2, alpha=.3)\n",
    "ctx.add_basemap(ax, crs=27700, source=ugg.get_tiles('labels', token), zorder=3, alpha=1)\n",
    "ctx.add_basemap(ax, crs=27700, source=ugg.get_tiles('background', token), zorder=-1, alpha=1)\n",
    "ax.set_axis_off()\n",
    "plt.savefig(f\"../../urbangrammar_samba/spatial_signatures/clustering_data/validation/maps/KMeans_predicted_gla.png\")\n",
    "plt.close() "
   ]
  },
  {
   "cell_type": "code",
   "execution_count": 195,
   "id": "raising-stage",
   "metadata": {},
   "outputs": [
    {
     "name": "stdout",
     "output_type": "stream",
     "text": [
      "CPU times: user 2h 42min 15s, sys: 44min 14s, total: 3h 26min 30s\n",
      "Wall time: 14min 20s\n",
      "CPU times: user 104 µs, sys: 0 ns, total: 104 µs\n",
      "Wall time: 9.3 µs\n"
     ]
    }
   ],
   "source": [
    "%time km = KMeans(n_clusters=30, n_init=100, random_state=42).fit(chunk_data)\n",
    "%time labels_ = km.labels_"
   ]
  },
  {
   "cell_type": "code",
   "execution_count": 196,
   "id": "caroline-holder",
   "metadata": {},
   "outputs": [],
   "source": [
    "geom['labels'] = labels_        \n",
    "\n",
    "ddf = dask_geopandas.from_geopandas(geom.sort_values('labels'), npartitions=64)\n",
    "spsig = dask_dissolve(ddf, by='labels').compute().reset_index(drop=True).explode()\n",
    "\n",
    "cmap = ugg.get_colormap(spsig.labels.nunique(), randomize=True)\n",
    "token = \"pk.eyJ1IjoibWFydGluZmxlaXMiLCJhIjoiY2tsNmhlemtxMmlicTJubXN6and5aTc2NCJ9.l7nSUXM7ZRjAWTB7oXiswQ\"\n",
    "\n",
    "ax = spsig.cx[332971:361675, 379462:404701].plot(\"labels\", figsize=(20, 20), zorder=1, linewidth=.3, edgecolor='w', alpha=1, legend=True, cmap=cmap, categorical=True)\n",
    "ctx.add_basemap(ax, crs=27700, source=ugg.get_tiles('roads', token), zorder=2, alpha=.3)\n",
    "ctx.add_basemap(ax, crs=27700, source=ugg.get_tiles('labels', token), zorder=3, alpha=1)\n",
    "ctx.add_basemap(ax, crs=27700, source=ugg.get_tiles('background', token), zorder=-1, alpha=1)\n",
    "ax.set_axis_off()\n",
    "\n",
    "plt.savefig(f\"../../urbangrammar_samba/spatial_signatures/clustering_data/validation/maps/KMeans30_100_lpool.png\")\n",
    "plt.close()   \n",
    "\n",
    "ax = spsig.cx[218800:270628, 645123:695069].plot(\"labels\", figsize=(20, 20), zorder=1, linewidth=.3, edgecolor='w', alpha=1, legend=True, cmap=cmap, categorical=True)\n",
    "ctx.add_basemap(ax, crs=27700, source=ugg.get_tiles('roads', token), zorder=2, alpha=.3)\n",
    "ctx.add_basemap(ax, crs=27700, source=ugg.get_tiles('labels', token), zorder=3, alpha=1)\n",
    "ctx.add_basemap(ax, crs=27700, source=ugg.get_tiles('background', token), zorder=-1, alpha=1)\n",
    "ax.set_axis_off()\n",
    "plt.savefig(f\"../../urbangrammar_samba/spatial_signatures/clustering_data/validation/maps/KMeans30_100_gla.png\")\n",
    "plt.close() "
   ]
  },
  {
   "cell_type": "markdown",
   "id": "obvious-prison",
   "metadata": {},
   "source": [
    "## Full scale"
   ]
  },
  {
   "cell_type": "code",
   "execution_count": 5,
   "id": "unauthorized-richardson",
   "metadata": {},
   "outputs": [],
   "source": [
    "import numpy as np"
   ]
  },
  {
   "cell_type": "code",
   "execution_count": 2,
   "id": "unlikely-marsh",
   "metadata": {},
   "outputs": [],
   "source": [
    "standardized_form = dask.dataframe.read_parquet(\"../../urbangrammar_samba/spatial_signatures/clustering_data/form/standardized/\").set_index('hindex')\n",
    "stand_fn = dask.dataframe.read_parquet(\"../../urbangrammar_samba/spatial_signatures/clustering_data/function/standardized/\")"
   ]
  },
  {
   "cell_type": "code",
   "execution_count": 6,
   "id": "integrated-kansas",
   "metadata": {},
   "outputs": [],
   "source": [
    "data = dask.dataframe.multi.concat([standardized_form, stand_fn], axis=1).replace([np.inf, -np.inf], np.nan).fillna(0)"
   ]
  },
  {
   "cell_type": "code",
   "execution_count": 8,
   "id": "exceptional-exception",
   "metadata": {},
   "outputs": [
    {
     "name": "stdout",
     "output_type": "stream",
     "text": [
      "CPU times: user 2min 37s, sys: 1min 25s, total: 4min 2s\n",
      "Wall time: 2min 44s\n"
     ]
    }
   ],
   "source": [
    "%time data = data.compute()"
   ]
  },
  {
   "cell_type": "code",
   "execution_count": 9,
   "id": "dressed-version",
   "metadata": {},
   "outputs": [],
   "source": [
    "from sklearn.cluster import KMeans, MiniBatchKMeans"
   ]
  },
  {
   "cell_type": "code",
   "execution_count": 10,
   "id": "indonesian-flash",
   "metadata": {},
   "outputs": [
    {
     "data": {
      "text/html": [
       "<div>\n",
       "<style scoped>\n",
       "    .dataframe tbody tr th:only-of-type {\n",
       "        vertical-align: middle;\n",
       "    }\n",
       "\n",
       "    .dataframe tbody tr th {\n",
       "        vertical-align: top;\n",
       "    }\n",
       "\n",
       "    .dataframe thead th {\n",
       "        text-align: right;\n",
       "    }\n",
       "</style>\n",
       "<table border=\"1\" class=\"dataframe\">\n",
       "  <thead>\n",
       "    <tr style=\"text-align: right;\">\n",
       "      <th></th>\n",
       "      <th>sdbAre_q1</th>\n",
       "      <th>sdbAre_q2</th>\n",
       "      <th>sdbAre_q3</th>\n",
       "      <th>sdbPer_q1</th>\n",
       "      <th>sdbPer_q2</th>\n",
       "      <th>sdbPer_q3</th>\n",
       "      <th>sdbCoA_q1</th>\n",
       "      <th>sdbCoA_q2</th>\n",
       "      <th>sdbCoA_q3</th>\n",
       "      <th>ssbCCo_q1</th>\n",
       "      <th>...</th>\n",
       "      <th>Code_18_521_q2</th>\n",
       "      <th>Code_18_334_q3</th>\n",
       "      <th>Code_18_244_q1</th>\n",
       "      <th>Code_18_244_q2</th>\n",
       "      <th>Code_18_331_q3</th>\n",
       "      <th>Code_18_132_q2</th>\n",
       "      <th>Code_18_132_q3</th>\n",
       "      <th>Code_18_521_q1</th>\n",
       "      <th>Code_18_222_q2</th>\n",
       "      <th>Code_18_521_q3</th>\n",
       "    </tr>\n",
       "    <tr>\n",
       "      <th>hindex</th>\n",
       "      <th></th>\n",
       "      <th></th>\n",
       "      <th></th>\n",
       "      <th></th>\n",
       "      <th></th>\n",
       "      <th></th>\n",
       "      <th></th>\n",
       "      <th></th>\n",
       "      <th></th>\n",
       "      <th></th>\n",
       "      <th></th>\n",
       "      <th></th>\n",
       "      <th></th>\n",
       "      <th></th>\n",
       "      <th></th>\n",
       "      <th></th>\n",
       "      <th></th>\n",
       "      <th></th>\n",
       "      <th></th>\n",
       "      <th></th>\n",
       "      <th></th>\n",
       "    </tr>\n",
       "  </thead>\n",
       "  <tbody>\n",
       "    <tr>\n",
       "      <th>c000e094707t0000</th>\n",
       "      <td>-0.947406</td>\n",
       "      <td>-0.371977</td>\n",
       "      <td>0.020285</td>\n",
       "      <td>-0.901199</td>\n",
       "      <td>-0.237045</td>\n",
       "      <td>-0.023143</td>\n",
       "      <td>-0.000419</td>\n",
       "      <td>-0.001515</td>\n",
       "      <td>-0.010221</td>\n",
       "      <td>-0.046170</td>\n",
       "      <td>...</td>\n",
       "      <td>0.0</td>\n",
       "      <td>0.0</td>\n",
       "      <td>0.0</td>\n",
       "      <td>0.0</td>\n",
       "      <td>-0.008758</td>\n",
       "      <td>0.0</td>\n",
       "      <td>-0.000679</td>\n",
       "      <td>0.0</td>\n",
       "      <td>-0.009142</td>\n",
       "      <td>0.0</td>\n",
       "    </tr>\n",
       "    <tr>\n",
       "      <th>c000e094763t0000</th>\n",
       "      <td>-0.913567</td>\n",
       "      <td>-0.420861</td>\n",
       "      <td>-0.271703</td>\n",
       "      <td>-0.903627</td>\n",
       "      <td>-0.428003</td>\n",
       "      <td>-0.336729</td>\n",
       "      <td>-0.000419</td>\n",
       "      <td>-0.001515</td>\n",
       "      <td>-0.010221</td>\n",
       "      <td>-0.035325</td>\n",
       "      <td>...</td>\n",
       "      <td>0.0</td>\n",
       "      <td>0.0</td>\n",
       "      <td>0.0</td>\n",
       "      <td>0.0</td>\n",
       "      <td>-0.008758</td>\n",
       "      <td>0.0</td>\n",
       "      <td>-0.000679</td>\n",
       "      <td>0.0</td>\n",
       "      <td>-0.009142</td>\n",
       "      <td>0.0</td>\n",
       "    </tr>\n",
       "    <tr>\n",
       "      <th>c000e094763t0001</th>\n",
       "      <td>-0.878137</td>\n",
       "      <td>-0.411587</td>\n",
       "      <td>-0.284021</td>\n",
       "      <td>-0.900393</td>\n",
       "      <td>-0.416250</td>\n",
       "      <td>-0.350010</td>\n",
       "      <td>-0.000419</td>\n",
       "      <td>-0.001515</td>\n",
       "      <td>-0.010221</td>\n",
       "      <td>-0.034917</td>\n",
       "      <td>...</td>\n",
       "      <td>0.0</td>\n",
       "      <td>0.0</td>\n",
       "      <td>0.0</td>\n",
       "      <td>0.0</td>\n",
       "      <td>-0.008758</td>\n",
       "      <td>0.0</td>\n",
       "      <td>-0.000679</td>\n",
       "      <td>0.0</td>\n",
       "      <td>-0.009142</td>\n",
       "      <td>0.0</td>\n",
       "    </tr>\n",
       "    <tr>\n",
       "      <th>c000e094763t0002</th>\n",
       "      <td>-0.952475</td>\n",
       "      <td>-0.421566</td>\n",
       "      <td>-0.283919</td>\n",
       "      <td>-0.968400</td>\n",
       "      <td>-0.429947</td>\n",
       "      <td>-0.343165</td>\n",
       "      <td>-0.000419</td>\n",
       "      <td>-0.001515</td>\n",
       "      <td>-0.010221</td>\n",
       "      <td>-0.065649</td>\n",
       "      <td>...</td>\n",
       "      <td>0.0</td>\n",
       "      <td>0.0</td>\n",
       "      <td>0.0</td>\n",
       "      <td>0.0</td>\n",
       "      <td>-0.008758</td>\n",
       "      <td>0.0</td>\n",
       "      <td>-0.000679</td>\n",
       "      <td>0.0</td>\n",
       "      <td>-0.009142</td>\n",
       "      <td>0.0</td>\n",
       "    </tr>\n",
       "    <tr>\n",
       "      <th>c000e094764t0000</th>\n",
       "      <td>-0.964878</td>\n",
       "      <td>-0.420861</td>\n",
       "      <td>-0.271703</td>\n",
       "      <td>-0.972440</td>\n",
       "      <td>-0.420006</td>\n",
       "      <td>-0.315861</td>\n",
       "      <td>-0.000419</td>\n",
       "      <td>-0.001515</td>\n",
       "      <td>-0.010221</td>\n",
       "      <td>-0.066832</td>\n",
       "      <td>...</td>\n",
       "      <td>0.0</td>\n",
       "      <td>0.0</td>\n",
       "      <td>0.0</td>\n",
       "      <td>0.0</td>\n",
       "      <td>-0.008758</td>\n",
       "      <td>0.0</td>\n",
       "      <td>-0.000679</td>\n",
       "      <td>0.0</td>\n",
       "      <td>-0.009142</td>\n",
       "      <td>0.0</td>\n",
       "    </tr>\n",
       "    <tr>\n",
       "      <th>...</th>\n",
       "      <td>...</td>\n",
       "      <td>...</td>\n",
       "      <td>...</td>\n",
       "      <td>...</td>\n",
       "      <td>...</td>\n",
       "      <td>...</td>\n",
       "      <td>...</td>\n",
       "      <td>...</td>\n",
       "      <td>...</td>\n",
       "      <td>...</td>\n",
       "      <td>...</td>\n",
       "      <td>...</td>\n",
       "      <td>...</td>\n",
       "      <td>...</td>\n",
       "      <td>...</td>\n",
       "      <td>...</td>\n",
       "      <td>...</td>\n",
       "      <td>...</td>\n",
       "      <td>...</td>\n",
       "      <td>...</td>\n",
       "      <td>...</td>\n",
       "    </tr>\n",
       "    <tr>\n",
       "      <th>c102e644989t0111</th>\n",
       "      <td>-0.311466</td>\n",
       "      <td>-0.431706</td>\n",
       "      <td>-0.373463</td>\n",
       "      <td>-0.082269</td>\n",
       "      <td>-0.459270</td>\n",
       "      <td>-0.389532</td>\n",
       "      <td>-0.000419</td>\n",
       "      <td>-0.001515</td>\n",
       "      <td>-0.010221</td>\n",
       "      <td>0.132837</td>\n",
       "      <td>...</td>\n",
       "      <td>0.0</td>\n",
       "      <td>0.0</td>\n",
       "      <td>0.0</td>\n",
       "      <td>0.0</td>\n",
       "      <td>-0.008758</td>\n",
       "      <td>0.0</td>\n",
       "      <td>-0.000679</td>\n",
       "      <td>0.0</td>\n",
       "      <td>-0.009142</td>\n",
       "      <td>0.0</td>\n",
       "    </tr>\n",
       "    <tr>\n",
       "      <th>c102e644989t0112</th>\n",
       "      <td>-0.326671</td>\n",
       "      <td>-0.461825</td>\n",
       "      <td>-0.371855</td>\n",
       "      <td>-0.149873</td>\n",
       "      <td>-0.528701</td>\n",
       "      <td>-0.386678</td>\n",
       "      <td>-0.000419</td>\n",
       "      <td>-0.001515</td>\n",
       "      <td>-0.010221</td>\n",
       "      <td>0.136559</td>\n",
       "      <td>...</td>\n",
       "      <td>0.0</td>\n",
       "      <td>0.0</td>\n",
       "      <td>0.0</td>\n",
       "      <td>0.0</td>\n",
       "      <td>-0.008758</td>\n",
       "      <td>0.0</td>\n",
       "      <td>-0.000679</td>\n",
       "      <td>0.0</td>\n",
       "      <td>-0.009142</td>\n",
       "      <td>0.0</td>\n",
       "    </tr>\n",
       "    <tr>\n",
       "      <th>c102e644989t0113</th>\n",
       "      <td>-0.094236</td>\n",
       "      <td>-0.364761</td>\n",
       "      <td>-0.304254</td>\n",
       "      <td>0.024972</td>\n",
       "      <td>-0.347371</td>\n",
       "      <td>-0.283669</td>\n",
       "      <td>-0.000419</td>\n",
       "      <td>-0.001515</td>\n",
       "      <td>-0.010221</td>\n",
       "      <td>0.021411</td>\n",
       "      <td>...</td>\n",
       "      <td>0.0</td>\n",
       "      <td>0.0</td>\n",
       "      <td>0.0</td>\n",
       "      <td>0.0</td>\n",
       "      <td>-0.008758</td>\n",
       "      <td>0.0</td>\n",
       "      <td>-0.000679</td>\n",
       "      <td>0.0</td>\n",
       "      <td>-0.009142</td>\n",
       "      <td>0.0</td>\n",
       "    </tr>\n",
       "    <tr>\n",
       "      <th>c102e644989t0114</th>\n",
       "      <td>-0.477667</td>\n",
       "      <td>-0.568464</td>\n",
       "      <td>-0.390033</td>\n",
       "      <td>-0.600170</td>\n",
       "      <td>-0.646516</td>\n",
       "      <td>-0.472676</td>\n",
       "      <td>-0.000419</td>\n",
       "      <td>-0.001515</td>\n",
       "      <td>-0.010221</td>\n",
       "      <td>0.424887</td>\n",
       "      <td>...</td>\n",
       "      <td>0.0</td>\n",
       "      <td>0.0</td>\n",
       "      <td>0.0</td>\n",
       "      <td>0.0</td>\n",
       "      <td>-0.008758</td>\n",
       "      <td>0.0</td>\n",
       "      <td>-0.000679</td>\n",
       "      <td>0.0</td>\n",
       "      <td>-0.009142</td>\n",
       "      <td>0.0</td>\n",
       "    </tr>\n",
       "    <tr>\n",
       "      <th>c102e644989t0115</th>\n",
       "      <td>-0.413094</td>\n",
       "      <td>-0.545952</td>\n",
       "      <td>-0.382834</td>\n",
       "      <td>-0.400108</td>\n",
       "      <td>-0.610332</td>\n",
       "      <td>-0.440413</td>\n",
       "      <td>-0.000419</td>\n",
       "      <td>-0.001515</td>\n",
       "      <td>-0.010221</td>\n",
       "      <td>0.160613</td>\n",
       "      <td>...</td>\n",
       "      <td>0.0</td>\n",
       "      <td>0.0</td>\n",
       "      <td>0.0</td>\n",
       "      <td>0.0</td>\n",
       "      <td>-0.008758</td>\n",
       "      <td>0.0</td>\n",
       "      <td>-0.000679</td>\n",
       "      <td>0.0</td>\n",
       "      <td>-0.009142</td>\n",
       "      <td>0.0</td>\n",
       "    </tr>\n",
       "  </tbody>\n",
       "</table>\n",
       "<p>14539578 rows × 331 columns</p>\n",
       "</div>"
      ],
      "text/plain": [
       "                  sdbAre_q1  sdbAre_q2  sdbAre_q3  sdbPer_q1  sdbPer_q2  \\\n",
       "hindex                                                                    \n",
       "c000e094707t0000  -0.947406  -0.371977   0.020285  -0.901199  -0.237045   \n",
       "c000e094763t0000  -0.913567  -0.420861  -0.271703  -0.903627  -0.428003   \n",
       "c000e094763t0001  -0.878137  -0.411587  -0.284021  -0.900393  -0.416250   \n",
       "c000e094763t0002  -0.952475  -0.421566  -0.283919  -0.968400  -0.429947   \n",
       "c000e094764t0000  -0.964878  -0.420861  -0.271703  -0.972440  -0.420006   \n",
       "...                     ...        ...        ...        ...        ...   \n",
       "c102e644989t0111  -0.311466  -0.431706  -0.373463  -0.082269  -0.459270   \n",
       "c102e644989t0112  -0.326671  -0.461825  -0.371855  -0.149873  -0.528701   \n",
       "c102e644989t0113  -0.094236  -0.364761  -0.304254   0.024972  -0.347371   \n",
       "c102e644989t0114  -0.477667  -0.568464  -0.390033  -0.600170  -0.646516   \n",
       "c102e644989t0115  -0.413094  -0.545952  -0.382834  -0.400108  -0.610332   \n",
       "\n",
       "                  sdbPer_q3  sdbCoA_q1  sdbCoA_q2  sdbCoA_q3  ssbCCo_q1  ...  \\\n",
       "hindex                                                                   ...   \n",
       "c000e094707t0000  -0.023143  -0.000419  -0.001515  -0.010221  -0.046170  ...   \n",
       "c000e094763t0000  -0.336729  -0.000419  -0.001515  -0.010221  -0.035325  ...   \n",
       "c000e094763t0001  -0.350010  -0.000419  -0.001515  -0.010221  -0.034917  ...   \n",
       "c000e094763t0002  -0.343165  -0.000419  -0.001515  -0.010221  -0.065649  ...   \n",
       "c000e094764t0000  -0.315861  -0.000419  -0.001515  -0.010221  -0.066832  ...   \n",
       "...                     ...        ...        ...        ...        ...  ...   \n",
       "c102e644989t0111  -0.389532  -0.000419  -0.001515  -0.010221   0.132837  ...   \n",
       "c102e644989t0112  -0.386678  -0.000419  -0.001515  -0.010221   0.136559  ...   \n",
       "c102e644989t0113  -0.283669  -0.000419  -0.001515  -0.010221   0.021411  ...   \n",
       "c102e644989t0114  -0.472676  -0.000419  -0.001515  -0.010221   0.424887  ...   \n",
       "c102e644989t0115  -0.440413  -0.000419  -0.001515  -0.010221   0.160613  ...   \n",
       "\n",
       "                  Code_18_521_q2  Code_18_334_q3  Code_18_244_q1  \\\n",
       "hindex                                                             \n",
       "c000e094707t0000             0.0             0.0             0.0   \n",
       "c000e094763t0000             0.0             0.0             0.0   \n",
       "c000e094763t0001             0.0             0.0             0.0   \n",
       "c000e094763t0002             0.0             0.0             0.0   \n",
       "c000e094764t0000             0.0             0.0             0.0   \n",
       "...                          ...             ...             ...   \n",
       "c102e644989t0111             0.0             0.0             0.0   \n",
       "c102e644989t0112             0.0             0.0             0.0   \n",
       "c102e644989t0113             0.0             0.0             0.0   \n",
       "c102e644989t0114             0.0             0.0             0.0   \n",
       "c102e644989t0115             0.0             0.0             0.0   \n",
       "\n",
       "                  Code_18_244_q2  Code_18_331_q3  Code_18_132_q2  \\\n",
       "hindex                                                             \n",
       "c000e094707t0000             0.0       -0.008758             0.0   \n",
       "c000e094763t0000             0.0       -0.008758             0.0   \n",
       "c000e094763t0001             0.0       -0.008758             0.0   \n",
       "c000e094763t0002             0.0       -0.008758             0.0   \n",
       "c000e094764t0000             0.0       -0.008758             0.0   \n",
       "...                          ...             ...             ...   \n",
       "c102e644989t0111             0.0       -0.008758             0.0   \n",
       "c102e644989t0112             0.0       -0.008758             0.0   \n",
       "c102e644989t0113             0.0       -0.008758             0.0   \n",
       "c102e644989t0114             0.0       -0.008758             0.0   \n",
       "c102e644989t0115             0.0       -0.008758             0.0   \n",
       "\n",
       "                  Code_18_132_q3  Code_18_521_q1  Code_18_222_q2  \\\n",
       "hindex                                                             \n",
       "c000e094707t0000       -0.000679             0.0       -0.009142   \n",
       "c000e094763t0000       -0.000679             0.0       -0.009142   \n",
       "c000e094763t0001       -0.000679             0.0       -0.009142   \n",
       "c000e094763t0002       -0.000679             0.0       -0.009142   \n",
       "c000e094764t0000       -0.000679             0.0       -0.009142   \n",
       "...                          ...             ...             ...   \n",
       "c102e644989t0111       -0.000679             0.0       -0.009142   \n",
       "c102e644989t0112       -0.000679             0.0       -0.009142   \n",
       "c102e644989t0113       -0.000679             0.0       -0.009142   \n",
       "c102e644989t0114       -0.000679             0.0       -0.009142   \n",
       "c102e644989t0115       -0.000679             0.0       -0.009142   \n",
       "\n",
       "                  Code_18_521_q3  \n",
       "hindex                            \n",
       "c000e094707t0000             0.0  \n",
       "c000e094763t0000             0.0  \n",
       "c000e094763t0001             0.0  \n",
       "c000e094763t0002             0.0  \n",
       "c000e094764t0000             0.0  \n",
       "...                          ...  \n",
       "c102e644989t0111             0.0  \n",
       "c102e644989t0112             0.0  \n",
       "c102e644989t0113             0.0  \n",
       "c102e644989t0114             0.0  \n",
       "c102e644989t0115             0.0  \n",
       "\n",
       "[14539578 rows x 331 columns]"
      ]
     },
     "execution_count": 10,
     "metadata": {},
     "output_type": "execute_result"
    }
   ],
   "source": [
    "data"
   ]
  },
  {
   "cell_type": "code",
   "execution_count": 11,
   "id": "protecting-consolidation",
   "metadata": {},
   "outputs": [
    {
     "name": "stdout",
     "output_type": "stream",
     "text": [
      "CPU times: user 27min 19s, sys: 1min 9s, total: 28min 29s\n",
      "Wall time: 5min 11s\n"
     ]
    }
   ],
   "source": [
    "%time km = KMeans(n_clusters=20, n_init=1, random_state=42).fit(data)"
   ]
  },
  {
   "cell_type": "code",
   "execution_count": 12,
   "id": "distinguished-limit",
   "metadata": {},
   "outputs": [
    {
     "name": "stdout",
     "output_type": "stream",
     "text": [
      "CPU times: user 5min 13s, sys: 3min 53s, total: 9min 7s\n",
      "Wall time: 1min 40s\n"
     ]
    }
   ],
   "source": [
    "%time kmb = MiniBatchKMeans(n_clusters=20, n_init=1, random_state=42, batch_size=1_000_000).fit(data)"
   ]
  },
  {
   "cell_type": "code",
   "execution_count": null,
   "id": "universal-abuse",
   "metadata": {},
   "outputs": [],
   "source": []
  }
 ],
 "metadata": {
  "kernelspec": {
   "display_name": "Python 3",
   "language": "python",
   "name": "python3"
  },
  "language_info": {
   "codemirror_mode": {
    "name": "ipython",
    "version": 3
   },
   "file_extension": ".py",
   "mimetype": "text/x-python",
   "name": "python",
   "nbconvert_exporter": "python",
   "pygments_lexer": "ipython3",
   "version": "3.8.8"
  }
 },
 "nbformat": 4,
 "nbformat_minor": 5
}
