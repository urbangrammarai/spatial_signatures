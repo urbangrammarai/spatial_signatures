{
 "cells": [
  {
   "cell_type": "code",
   "execution_count": 1,
   "metadata": {},
   "outputs": [],
   "source": [
    "import numpy as np\n",
    "import pandas as pd\n",
    "import geopandas\n",
    "import libpysal\n",
    "import momepy\n",
    "import scipy\n",
    "\n",
    "from dask.distributed import Client, LocalCluster, as_completed"
   ]
  },
  {
   "cell_type": "code",
   "execution_count": 2,
   "metadata": {},
   "outputs": [
    {
     "data": {
      "text/html": [
       "<table style=\"border: 2px solid white;\">\n",
       "<tr>\n",
       "<td style=\"vertical-align: top; border: 0px solid white\">\n",
       "<h3 style=\"text-align: left;\">Client</h3>\n",
       "<ul style=\"text-align: left; list-style: none; margin: 0; padding: 0;\">\n",
       "  <li><b>Scheduler: </b>tcp://127.0.0.1:43135</li>\n",
       "  <li><b>Dashboard: </b><a href='http://127.0.0.1:8787/status' target='_blank'>http://127.0.0.1:8787/status</a></li>\n",
       "</ul>\n",
       "</td>\n",
       "<td style=\"vertical-align: top; border: 0px solid white\">\n",
       "<h3 style=\"text-align: left;\">Cluster</h3>\n",
       "<ul style=\"text-align: left; list-style:none; margin: 0; padding: 0;\">\n",
       "  <li><b>Workers: </b>8</li>\n",
       "  <li><b>Cores: </b>8</li>\n",
       "  <li><b>Memory: </b>84.28 GB</li>\n",
       "</ul>\n",
       "</td>\n",
       "</tr>\n",
       "</table>"
      ],
      "text/plain": [
       "<Client: 'tcp://127.0.0.1:43135' processes=8 threads=8, memory=84.28 GB>"
      ]
     },
     "execution_count": 2,
     "metadata": {},
     "output_type": "execute_result"
    }
   ],
   "source": [
    "workers = 8\n",
    "client = Client(LocalCluster(n_workers=workers, threads_per_worker=1))\n",
    "client"
   ]
  },
  {
   "cell_type": "code",
   "execution_count": 3,
   "metadata": {},
   "outputs": [],
   "source": [
    "cross_chunk = pd.read_parquet('../../urbangrammar_samba/spatial_signatures/cross-chunk_indices.pq')"
   ]
  },
  {
   "cell_type": "code",
   "execution_count": 4,
   "metadata": {},
   "outputs": [],
   "source": [
    "def generate_w(chunk_id):\n",
    "    # load cells of a chunk\n",
    "    cells = geopandas.read_parquet(f\"../../urbangrammar_samba/spatial_signatures/morphometrics/cells/cells_{chunk_id}.pq\")\n",
    "    \n",
    "    # add neighbouring cells from other chunks\n",
    "    cross_chunk_cells = []\n",
    "    \n",
    "    for chunk, inds in cross_chunk.loc[chunk_id].indices.iteritems():\n",
    "        add_cells = geopandas.read_parquet(f\"../../urbangrammar_samba/spatial_signatures/morphometrics/cells/cells_{chunk}.pq\").iloc[inds]\n",
    "        cross_chunk_cells.append(add_cells)\n",
    "    \n",
    "    df = cells.append(pd.concat(cross_chunk_cells, ignore_index=True), ignore_index=True)\n",
    "\n",
    "    w = libpysal.weights.Queen.from_dataframe(df, geom_col='tessellation')\n",
    "    w3 = momepy.sw_high(k=3, weights=w)\n",
    "    \n",
    "    scipy.sparse.save_npz(f\"../../urbangrammar_samba/spatial_signatures/weights/w_{chunk_id}.npz\", w.sparse)\n",
    "    scipy.sparse.save_npz(f\"../../urbangrammar_samba/spatial_signatures/weights/w3_{chunk_id}.npz\", w3.sparse)\n",
    "    \n",
    "    return f\"Chunk {chunk_id} processed sucessfully.\""
   ]
  },
  {
   "cell_type": "code",
   "execution_count": 5,
   "metadata": {},
   "outputs": [
    {
     "name": "stdout",
     "output_type": "stream",
     "text": [
      "Chunk 0 processed sucessfully.\n",
      "Chunk 3 processed sucessfully.\n",
      "Chunk 2 processed sucessfully.\n",
      "Chunk 1 processed sucessfully.\n",
      "Chunk 7 processed sucessfully.\n",
      "Chunk 4 processed sucessfully.\n",
      "Chunk 5 processed sucessfully.\n",
      "Chunk 8 processed sucessfully.\n",
      "Chunk 9 processed sucessfully.\n",
      "Chunk 11 processed sucessfully.\n",
      "Chunk 10 processed sucessfully.\n",
      "Chunk 6 processed sucessfully.\n",
      "Chunk 13 processed sucessfully.\n",
      "Chunk 14 processed sucessfully.\n",
      "Chunk 12 processed sucessfully.\n",
      "Chunk 15 processed sucessfully.\n",
      "Chunk 16 processed sucessfully.\n",
      "Chunk 18 processed sucessfully.\n",
      "Chunk 17 processed sucessfully.\n",
      "Chunk 19 processed sucessfully.\n",
      "Chunk 20 processed sucessfully.\n",
      "Chunk 21 processed sucessfully.\n",
      "Chunk 23 processed sucessfully.\n",
      "Chunk 22 processed sucessfully.\n",
      "Chunk 25 processed sucessfully.\n",
      "Chunk 24 processed sucessfully.\n",
      "Chunk 26 processed sucessfully.\n",
      "Chunk 28 processed sucessfully.\n",
      "Chunk 27 processed sucessfully.\n",
      "Chunk 29 processed sucessfully.\n",
      "Chunk 31 processed sucessfully.\n",
      "Chunk 30 processed sucessfully.\n",
      "Chunk 36 processed sucessfully.\n",
      "Chunk 34 processed sucessfully.\n",
      "Chunk 33 processed sucessfully.\n",
      "Chunk 32 processed sucessfully.\n",
      "Chunk 35 processed sucessfully.\n",
      "Chunk 37 processed sucessfully.\n",
      "Chunk 39 processed sucessfully.\n",
      "Chunk 42 processed sucessfully.\n",
      "Chunk 44 processed sucessfully.\n",
      "Chunk 38 processed sucessfully.\n",
      "Chunk 41 processed sucessfully.\n",
      "Chunk 43 processed sucessfully.\n",
      "Chunk 40 processed sucessfully.\n",
      "Chunk 45 processed sucessfully.\n",
      "Chunk 47 processed sucessfully.\n",
      "Chunk 46 processed sucessfully.\n",
      "Chunk 49 processed sucessfully.\n",
      "Chunk 51 processed sucessfully.\n",
      "Chunk 48 processed sucessfully.\n",
      "Chunk 50 processed sucessfully.\n",
      "Chunk 52 processed sucessfully.\n",
      "Chunk 53 processed sucessfully.\n",
      "Chunk 55 processed sucessfully.\n",
      "Chunk 57 processed sucessfully.\n",
      "Chunk 54 processed sucessfully.\n",
      "Chunk 58 processed sucessfully.\n",
      "Chunk 56 processed sucessfully.\n",
      "Chunk 59 processed sucessfully.\n",
      "Chunk 60 processed sucessfully.\n",
      "Chunk 63 processed sucessfully.\n",
      "Chunk 62 processed sucessfully.\n",
      "Chunk 65 processed sucessfully.\n",
      "Chunk 66 processed sucessfully.\n",
      "Chunk 61 processed sucessfully.\n",
      "Chunk 68 processed sucessfully.\n",
      "Chunk 64 processed sucessfully.\n",
      "Chunk 67 processed sucessfully.\n",
      "Chunk 70 processed sucessfully.\n",
      "Chunk 69 processed sucessfully.\n",
      "Chunk 74 processed sucessfully.\n",
      "Chunk 72 processed sucessfully.\n",
      "Chunk 71 processed sucessfully.\n",
      "Chunk 73 processed sucessfully.\n",
      "Chunk 75 processed sucessfully.\n",
      "Chunk 78 processed sucessfully.\n",
      "Chunk 77 processed sucessfully.\n",
      "Chunk 76 processed sucessfully.\n",
      "Chunk 81 processed sucessfully.\n",
      "Chunk 79 processed sucessfully.\n",
      "Chunk 80 processed sucessfully.\n",
      "Chunk 84 processed sucessfully.\n",
      "Chunk 82 processed sucessfully.\n",
      "Chunk 83 processed sucessfully.\n",
      "Chunk 85 processed sucessfully.\n",
      "Chunk 87 processed sucessfully.\n",
      "Chunk 86 processed sucessfully.\n",
      "Chunk 88 processed sucessfully.\n",
      "Chunk 90 processed sucessfully.\n",
      "Chunk 91 processed sucessfully.\n",
      "Chunk 93 processed sucessfully.\n",
      "Chunk 94 processed sucessfully.\n",
      "Chunk 89 processed sucessfully.\n",
      "Chunk 95 processed sucessfully.\n",
      "Chunk 96 processed sucessfully.\n",
      "Chunk 92 processed sucessfully.\n",
      "Chunk 97 processed sucessfully.\n",
      "Chunk 99 processed sucessfully.\n",
      "Chunk 100 processed sucessfully.\n",
      "Chunk 98 processed sucessfully.\n",
      "Chunk 102 processed sucessfully.\n",
      "Chunk 101 processed sucessfully.\n",
      "CPU times: user 4min 30s, sys: 32.1 s, total: 5min 2s\n",
      "Wall time: 29min 59s\n"
     ]
    }
   ],
   "source": [
    "%%time\n",
    "inputs = iter(range(103))\n",
    "futures = [client.submit(generate_w, next(inputs)) for i in range(workers)]\n",
    "ac = as_completed(futures)\n",
    "for finished_future in ac:\n",
    "    # submit new future \n",
    "    try:\n",
    "        new_future = client.submit(generate_w, next(inputs))\n",
    "        ac.add(new_future)\n",
    "    except StopIteration:\n",
    "        pass\n",
    "    print(finished_future.result())"
   ]
  },
  {
   "cell_type": "code",
   "execution_count": 6,
   "metadata": {},
   "outputs": [],
   "source": [
    "client.close()"
   ]
  },
  {
   "cell_type": "code",
   "execution_count": null,
   "metadata": {},
   "outputs": [],
   "source": []
  }
 ],
 "metadata": {
  "kernelspec": {
   "display_name": "Python 3",
   "language": "python",
   "name": "python3"
  },
  "language_info": {
   "codemirror_mode": {
    "name": "ipython",
    "version": 3
   },
   "file_extension": ".py",
   "mimetype": "text/x-python",
   "name": "python",
   "nbconvert_exporter": "python",
   "pygments_lexer": "ipython3",
   "version": "3.7.8"
  }
 },
 "nbformat": 4,
 "nbformat_minor": 4
}
