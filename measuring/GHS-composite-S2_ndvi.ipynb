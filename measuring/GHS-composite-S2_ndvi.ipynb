{
 "cells": [
  {
   "cell_type": "markdown",
   "metadata": {},
   "source": [
    "# NDVI\n",
    "\n",
    "This document shows the computation of NDVI scores for each of the enclosed tesselations (ETs) in GB."
   ]
  },
  {
   "cell_type": "code",
   "execution_count": 1,
   "metadata": {},
   "outputs": [
    {
     "name": "stdout",
     "output_type": "stream",
     "text": [
      "Run this notebook using version 6.0alpha of the gds_env\n"
     ]
    }
   ],
   "source": [
    "! echo \"Run this notebook using version $GDS_ENV_VERSION of the gds_env\"\n",
    "#SERVER_IP = open(\"../../SERVER_IP\").read().strip(\"\\n\")\n",
    "SERVER_IP = \"0.0.0.0\""
   ]
  },
  {
   "cell_type": "markdown",
   "metadata": {},
   "source": [
    "## Set up"
   ]
  },
  {
   "cell_type": "code",
   "execution_count": 2,
   "metadata": {},
   "outputs": [],
   "source": [
    "import sys\n",
    "sys.path.insert(0, \"../\")\n",
    "import utils\n",
    "import os\n",
    "import fsspec\n",
    "import pandas\n",
    "import geopandas\n",
    "import rasterio\n",
    "import rasterio.mask\n",
    "from shapely.geometry import box\n",
    "import rasterstats\n",
    "import numpy\n",
    "import rioxarray, xarray\n",
    "from dask import dataframe as dd\n",
    "from dask.distributed import Client, LocalCluster, as_completed\n",
    "from numpy import percentile\n",
    "from glob import glob\n",
    "from time import time"
   ]
  },
  {
   "cell_type": "markdown",
   "metadata": {},
   "source": [
    "### Cluster"
   ]
  },
  {
   "cell_type": "markdown",
   "metadata": {},
   "source": [
    "Since we will run some computations on a Dask cluster, let's set it up first:"
   ]
  },
  {
   "cell_type": "code",
   "execution_count": 2,
   "metadata": {},
   "outputs": [
    {
     "name": "stdout",
     "output_type": "stream",
     "text": [
      "kind: Pod\n",
      "metadata:\n",
      "  labels:\n",
      "    foo: bar\n",
      "spec:\n",
      "  restartPolicy: Never\n",
      "  containers:\n",
      "  - image: darribas/gds_py:6.0alpha1\n",
      "    imagePullPolicy: IfNotPresent\n",
      "    args: [start.sh, dask-worker, --nthreads, '1', --no-dashboard, --memory-limit, 3GB, --death-timeout, '60']\n",
      "    name: dask\n",
      "    resources:\n",
      "      limits:\n",
      "        cpu: \"1\"\n",
      "        memory: 3G\n",
      "      requests:\n",
      "        cpu: \"1\"\n",
      "        memory: 3G\n"
     ]
    }
   ],
   "source": [
    "! cat ../../worker-spec.yml"
   ]
  },
  {
   "cell_type": "code",
   "execution_count": null,
   "metadata": {},
   "outputs": [],
   "source": [
    "from dask_kubernetes import KubeCluster\n",
    "from dask.distributed import Client\n",
    "import dask.array as da\n",
    "\n",
    "# Set up cluster\n",
    "cluster = KubeCluster.from_yaml('../../worker-spec.yml')\n",
    "# Provision with up to X pods\n",
    "cluster.scale(50)\n",
    "# Connect Dask to the cluster\n",
    "client = Client(cluster)"
   ]
  },
  {
   "cell_type": "markdown",
   "metadata": {},
   "source": [
    "### Local"
   ]
  },
  {
   "cell_type": "code",
   "execution_count": 3,
   "metadata": {},
   "outputs": [],
   "source": [
    "# Local run (alternative to cluster)\n",
    "from dask.distributed import Client, LocalCluster\n",
    "import dask.array as da\n",
    "\n",
    "cluster = LocalCluster(\n",
    "    threads_per_worker=1,\n",
    "    memory_limit='10GB'\n",
    ")\n",
    "client = Client(address=cluster)"
   ]
  },
  {
   "cell_type": "markdown",
   "metadata": {},
   "source": [
    "## Data"
   ]
  },
  {
   "cell_type": "markdown",
   "metadata": {},
   "source": [
    "And paths to the two datasets we'll use:\n",
    "\n",
    "- The full mosaic is stored as a folder of COGs served over HTTP. First let's grab the URL for the mosaic:"
   ]
  },
  {
   "cell_type": "code",
   "execution_count": 4,
   "metadata": {},
   "outputs": [],
   "source": [
    "# Cluster\n",
    "mosaic_url = f\"http://{SERVER_IP}:8000/ghs_composite_s2/GHS-composite-S2.vrt\"\n",
    "# Local\n",
    "mosaic_url = \"../../data/ghs_composite_s2/GHS-composite-S2.vrt\""
   ]
  },
  {
   "cell_type": "markdown",
   "metadata": {},
   "source": [
    "We can *connect* to it by:"
   ]
  },
  {
   "cell_type": "code",
   "execution_count": 5,
   "metadata": {},
   "outputs": [
    {
     "data": {
      "text/html": [
       "<div><svg style=\"position: absolute; width: 0; height: 0; overflow: hidden\">\n",
       "<defs>\n",
       "<symbol id=\"icon-database\" viewBox=\"0 0 32 32\">\n",
       "<path d=\"M16 0c-8.837 0-16 2.239-16 5v4c0 2.761 7.163 5 16 5s16-2.239 16-5v-4c0-2.761-7.163-5-16-5z\"></path>\n",
       "<path d=\"M16 17c-8.837 0-16-2.239-16-5v6c0 2.761 7.163 5 16 5s16-2.239 16-5v-6c0 2.761-7.163 5-16 5z\"></path>\n",
       "<path d=\"M16 26c-8.837 0-16-2.239-16-5v6c0 2.761 7.163 5 16 5s16-2.239 16-5v-6c0 2.761-7.163 5-16 5z\"></path>\n",
       "</symbol>\n",
       "<symbol id=\"icon-file-text2\" viewBox=\"0 0 32 32\">\n",
       "<path d=\"M28.681 7.159c-0.694-0.947-1.662-2.053-2.724-3.116s-2.169-2.030-3.116-2.724c-1.612-1.182-2.393-1.319-2.841-1.319h-15.5c-1.378 0-2.5 1.121-2.5 2.5v27c0 1.378 1.122 2.5 2.5 2.5h23c1.378 0 2.5-1.122 2.5-2.5v-19.5c0-0.448-0.137-1.23-1.319-2.841zM24.543 5.457c0.959 0.959 1.712 1.825 2.268 2.543h-4.811v-4.811c0.718 0.556 1.584 1.309 2.543 2.268zM28 29.5c0 0.271-0.229 0.5-0.5 0.5h-23c-0.271 0-0.5-0.229-0.5-0.5v-27c0-0.271 0.229-0.5 0.5-0.5 0 0 15.499-0 15.5 0v7c0 0.552 0.448 1 1 1h7v19.5z\"></path>\n",
       "<path d=\"M23 26h-14c-0.552 0-1-0.448-1-1s0.448-1 1-1h14c0.552 0 1 0.448 1 1s-0.448 1-1 1z\"></path>\n",
       "<path d=\"M23 22h-14c-0.552 0-1-0.448-1-1s0.448-1 1-1h14c0.552 0 1 0.448 1 1s-0.448 1-1 1z\"></path>\n",
       "<path d=\"M23 18h-14c-0.552 0-1-0.448-1-1s0.448-1 1-1h14c0.552 0 1 0.448 1 1s-0.448 1-1 1z\"></path>\n",
       "</symbol>\n",
       "</defs>\n",
       "</svg>\n",
       "<style>/* CSS stylesheet for displaying xarray objects in jupyterlab.\n",
       " *\n",
       " */\n",
       "\n",
       ":root {\n",
       "  --xr-font-color0: var(--jp-content-font-color0, rgba(0, 0, 0, 1));\n",
       "  --xr-font-color2: var(--jp-content-font-color2, rgba(0, 0, 0, 0.54));\n",
       "  --xr-font-color3: var(--jp-content-font-color3, rgba(0, 0, 0, 0.38));\n",
       "  --xr-border-color: var(--jp-border-color2, #e0e0e0);\n",
       "  --xr-disabled-color: var(--jp-layout-color3, #bdbdbd);\n",
       "  --xr-background-color: var(--jp-layout-color0, white);\n",
       "  --xr-background-color-row-even: var(--jp-layout-color1, white);\n",
       "  --xr-background-color-row-odd: var(--jp-layout-color2, #eeeeee);\n",
       "}\n",
       "\n",
       "html[theme=dark],\n",
       "body.vscode-dark {\n",
       "  --xr-font-color0: rgba(255, 255, 255, 1);\n",
       "  --xr-font-color2: rgba(255, 255, 255, 0.54);\n",
       "  --xr-font-color3: rgba(255, 255, 255, 0.38);\n",
       "  --xr-border-color: #1F1F1F;\n",
       "  --xr-disabled-color: #515151;\n",
       "  --xr-background-color: #111111;\n",
       "  --xr-background-color-row-even: #111111;\n",
       "  --xr-background-color-row-odd: #313131;\n",
       "}\n",
       "\n",
       ".xr-wrap {\n",
       "  display: block;\n",
       "  min-width: 300px;\n",
       "  max-width: 700px;\n",
       "}\n",
       "\n",
       ".xr-text-repr-fallback {\n",
       "  /* fallback to plain text repr when CSS is not injected (untrusted notebook) */\n",
       "  display: none;\n",
       "}\n",
       "\n",
       ".xr-header {\n",
       "  padding-top: 6px;\n",
       "  padding-bottom: 6px;\n",
       "  margin-bottom: 4px;\n",
       "  border-bottom: solid 1px var(--xr-border-color);\n",
       "}\n",
       "\n",
       ".xr-header > div,\n",
       ".xr-header > ul {\n",
       "  display: inline;\n",
       "  margin-top: 0;\n",
       "  margin-bottom: 0;\n",
       "}\n",
       "\n",
       ".xr-obj-type,\n",
       ".xr-array-name {\n",
       "  margin-left: 2px;\n",
       "  margin-right: 10px;\n",
       "}\n",
       "\n",
       ".xr-obj-type {\n",
       "  color: var(--xr-font-color2);\n",
       "}\n",
       "\n",
       ".xr-sections {\n",
       "  padding-left: 0 !important;\n",
       "  display: grid;\n",
       "  grid-template-columns: 150px auto auto 1fr 20px 20px;\n",
       "}\n",
       "\n",
       ".xr-section-item {\n",
       "  display: contents;\n",
       "}\n",
       "\n",
       ".xr-section-item input {\n",
       "  display: none;\n",
       "}\n",
       "\n",
       ".xr-section-item input + label {\n",
       "  color: var(--xr-disabled-color);\n",
       "}\n",
       "\n",
       ".xr-section-item input:enabled + label {\n",
       "  cursor: pointer;\n",
       "  color: var(--xr-font-color2);\n",
       "}\n",
       "\n",
       ".xr-section-item input:enabled + label:hover {\n",
       "  color: var(--xr-font-color0);\n",
       "}\n",
       "\n",
       ".xr-section-summary {\n",
       "  grid-column: 1;\n",
       "  color: var(--xr-font-color2);\n",
       "  font-weight: 500;\n",
       "}\n",
       "\n",
       ".xr-section-summary > span {\n",
       "  display: inline-block;\n",
       "  padding-left: 0.5em;\n",
       "}\n",
       "\n",
       ".xr-section-summary-in:disabled + label {\n",
       "  color: var(--xr-font-color2);\n",
       "}\n",
       "\n",
       ".xr-section-summary-in + label:before {\n",
       "  display: inline-block;\n",
       "  content: '►';\n",
       "  font-size: 11px;\n",
       "  width: 15px;\n",
       "  text-align: center;\n",
       "}\n",
       "\n",
       ".xr-section-summary-in:disabled + label:before {\n",
       "  color: var(--xr-disabled-color);\n",
       "}\n",
       "\n",
       ".xr-section-summary-in:checked + label:before {\n",
       "  content: '▼';\n",
       "}\n",
       "\n",
       ".xr-section-summary-in:checked + label > span {\n",
       "  display: none;\n",
       "}\n",
       "\n",
       ".xr-section-summary,\n",
       ".xr-section-inline-details {\n",
       "  padding-top: 4px;\n",
       "  padding-bottom: 4px;\n",
       "}\n",
       "\n",
       ".xr-section-inline-details {\n",
       "  grid-column: 2 / -1;\n",
       "}\n",
       "\n",
       ".xr-section-details {\n",
       "  display: none;\n",
       "  grid-column: 1 / -1;\n",
       "  margin-bottom: 5px;\n",
       "}\n",
       "\n",
       ".xr-section-summary-in:checked ~ .xr-section-details {\n",
       "  display: contents;\n",
       "}\n",
       "\n",
       ".xr-array-wrap {\n",
       "  grid-column: 1 / -1;\n",
       "  display: grid;\n",
       "  grid-template-columns: 20px auto;\n",
       "}\n",
       "\n",
       ".xr-array-wrap > label {\n",
       "  grid-column: 1;\n",
       "  vertical-align: top;\n",
       "}\n",
       "\n",
       ".xr-preview {\n",
       "  color: var(--xr-font-color3);\n",
       "}\n",
       "\n",
       ".xr-array-preview,\n",
       ".xr-array-data {\n",
       "  padding: 0 5px !important;\n",
       "  grid-column: 2;\n",
       "}\n",
       "\n",
       ".xr-array-data,\n",
       ".xr-array-in:checked ~ .xr-array-preview {\n",
       "  display: none;\n",
       "}\n",
       "\n",
       ".xr-array-in:checked ~ .xr-array-data,\n",
       ".xr-array-preview {\n",
       "  display: inline-block;\n",
       "}\n",
       "\n",
       ".xr-dim-list {\n",
       "  display: inline-block !important;\n",
       "  list-style: none;\n",
       "  padding: 0 !important;\n",
       "  margin: 0;\n",
       "}\n",
       "\n",
       ".xr-dim-list li {\n",
       "  display: inline-block;\n",
       "  padding: 0;\n",
       "  margin: 0;\n",
       "}\n",
       "\n",
       ".xr-dim-list:before {\n",
       "  content: '(';\n",
       "}\n",
       "\n",
       ".xr-dim-list:after {\n",
       "  content: ')';\n",
       "}\n",
       "\n",
       ".xr-dim-list li:not(:last-child):after {\n",
       "  content: ',';\n",
       "  padding-right: 5px;\n",
       "}\n",
       "\n",
       ".xr-has-index {\n",
       "  font-weight: bold;\n",
       "}\n",
       "\n",
       ".xr-var-list,\n",
       ".xr-var-item {\n",
       "  display: contents;\n",
       "}\n",
       "\n",
       ".xr-var-item > div,\n",
       ".xr-var-item label,\n",
       ".xr-var-item > .xr-var-name span {\n",
       "  background-color: var(--xr-background-color-row-even);\n",
       "  margin-bottom: 0;\n",
       "}\n",
       "\n",
       ".xr-var-item > .xr-var-name:hover span {\n",
       "  padding-right: 5px;\n",
       "}\n",
       "\n",
       ".xr-var-list > li:nth-child(odd) > div,\n",
       ".xr-var-list > li:nth-child(odd) > label,\n",
       ".xr-var-list > li:nth-child(odd) > .xr-var-name span {\n",
       "  background-color: var(--xr-background-color-row-odd);\n",
       "}\n",
       "\n",
       ".xr-var-name {\n",
       "  grid-column: 1;\n",
       "}\n",
       "\n",
       ".xr-var-dims {\n",
       "  grid-column: 2;\n",
       "}\n",
       "\n",
       ".xr-var-dtype {\n",
       "  grid-column: 3;\n",
       "  text-align: right;\n",
       "  color: var(--xr-font-color2);\n",
       "}\n",
       "\n",
       ".xr-var-preview {\n",
       "  grid-column: 4;\n",
       "}\n",
       "\n",
       ".xr-var-name,\n",
       ".xr-var-dims,\n",
       ".xr-var-dtype,\n",
       ".xr-preview,\n",
       ".xr-attrs dt {\n",
       "  white-space: nowrap;\n",
       "  overflow: hidden;\n",
       "  text-overflow: ellipsis;\n",
       "  padding-right: 10px;\n",
       "}\n",
       "\n",
       ".xr-var-name:hover,\n",
       ".xr-var-dims:hover,\n",
       ".xr-var-dtype:hover,\n",
       ".xr-attrs dt:hover {\n",
       "  overflow: visible;\n",
       "  width: auto;\n",
       "  z-index: 1;\n",
       "}\n",
       "\n",
       ".xr-var-attrs,\n",
       ".xr-var-data {\n",
       "  display: none;\n",
       "  background-color: var(--xr-background-color) !important;\n",
       "  padding-bottom: 5px !important;\n",
       "}\n",
       "\n",
       ".xr-var-attrs-in:checked ~ .xr-var-attrs,\n",
       ".xr-var-data-in:checked ~ .xr-var-data {\n",
       "  display: block;\n",
       "}\n",
       "\n",
       ".xr-var-data > table {\n",
       "  float: right;\n",
       "}\n",
       "\n",
       ".xr-var-name span,\n",
       ".xr-var-data,\n",
       ".xr-attrs {\n",
       "  padding-left: 25px !important;\n",
       "}\n",
       "\n",
       ".xr-attrs,\n",
       ".xr-var-attrs,\n",
       ".xr-var-data {\n",
       "  grid-column: 1 / -1;\n",
       "}\n",
       "\n",
       "dl.xr-attrs {\n",
       "  padding: 0;\n",
       "  margin: 0;\n",
       "  display: grid;\n",
       "  grid-template-columns: 125px auto;\n",
       "}\n",
       "\n",
       ".xr-attrs dt, dd {\n",
       "  padding: 0;\n",
       "  margin: 0;\n",
       "  float: left;\n",
       "  padding-right: 10px;\n",
       "  width: auto;\n",
       "}\n",
       "\n",
       ".xr-attrs dt {\n",
       "  font-weight: normal;\n",
       "  grid-column: 1;\n",
       "}\n",
       "\n",
       ".xr-attrs dt:hover span {\n",
       "  display: inline-block;\n",
       "  background: var(--xr-background-color);\n",
       "  padding-right: 10px;\n",
       "}\n",
       "\n",
       ".xr-attrs dd {\n",
       "  grid-column: 2;\n",
       "  white-space: pre-wrap;\n",
       "  word-break: break-all;\n",
       "}\n",
       "\n",
       ".xr-icon-database,\n",
       ".xr-icon-file-text2 {\n",
       "  display: inline-block;\n",
       "  vertical-align: middle;\n",
       "  width: 1em;\n",
       "  height: 1.5em !important;\n",
       "  stroke-width: 0;\n",
       "  stroke: currentColor;\n",
       "  fill: currentColor;\n",
       "}\n",
       "</style><pre class='xr-text-repr-fallback'>&lt;xarray.DataArray (band: 4, y: 182437, x: 121865)&gt;\n",
       "dask.array&lt;open_rasterio-35d60ec82ecb324990de49151f9b808d&lt;this-array&gt;, shape=(4, 182437, 121865), dtype=uint16, chunksize=(4, 1024, 1024), chunktype=numpy.ndarray&gt;\n",
       "Coordinates:\n",
       "  * band         (band) int64 1 2 3 4\n",
       "  * y            (y) float64 1.612e+06 1.612e+06 ... -2.136e+05 -2.136e+05\n",
       "  * x            (x) float64 -2.228e+05 -2.228e+05 ... 9.968e+05 9.968e+05\n",
       "    spatial_ref  int64 0\n",
       "Attributes:\n",
       "    _FillValue:    0.0\n",
       "    scale_factor:  1.0\n",
       "    add_offset:    0.0\n",
       "    grid_mapping:  spatial_ref</pre><div class='xr-wrap' hidden><div class='xr-header'><div class='xr-obj-type'>xarray.DataArray</div><div class='xr-array-name'></div><ul class='xr-dim-list'><li><span class='xr-has-index'>band</span>: 4</li><li><span class='xr-has-index'>y</span>: 182437</li><li><span class='xr-has-index'>x</span>: 121865</li></ul></div><ul class='xr-sections'><li class='xr-section-item'><div class='xr-array-wrap'><input id='section-8f4aeee0-2ac5-44f3-93dd-0deb1f568f8e' class='xr-array-in' type='checkbox' checked><label for='section-8f4aeee0-2ac5-44f3-93dd-0deb1f568f8e' title='Show/hide data repr'><svg class='icon xr-icon-database'><use xlink:href='#icon-database'></use></svg></label><div class='xr-array-preview xr-preview'><span>dask.array&lt;chunksize=(4, 1024, 1024), meta=np.ndarray&gt;</span></div><div class='xr-array-data'><table>\n",
       "<tr>\n",
       "<td>\n",
       "<table>\n",
       "  <thead>\n",
       "    <tr><td> </td><th> Array </th><th> Chunk </th></tr>\n",
       "  </thead>\n",
       "  <tbody>\n",
       "    <tr><th> Bytes </th><td> 177.86 GB </td> <td> 8.39 MB </td></tr>\n",
       "    <tr><th> Shape </th><td> (4, 182437, 121865) </td> <td> (4, 1024, 1024) </td></tr>\n",
       "    <tr><th> Count </th><td> 21481 Tasks </td><td> 21480 Chunks </td></tr>\n",
       "    <tr><th> Type </th><td> uint16 </td><td> numpy.ndarray </td></tr>\n",
       "  </tbody>\n",
       "</table>\n",
       "</td>\n",
       "<td>\n",
       "<svg width=\"155\" height=\"184\" style=\"stroke:rgb(0,0,0);stroke-width:1\" >\n",
       "\n",
       "  <!-- Horizontal lines -->\n",
       "  <line x1=\"10\" y1=\"0\" x2=\"24\" y2=\"14\" style=\"stroke-width:2\" />\n",
       "  <line x1=\"10\" y1=\"6\" x2=\"24\" y2=\"21\" />\n",
       "  <line x1=\"10\" y1=\"12\" x2=\"24\" y2=\"27\" />\n",
       "  <line x1=\"10\" y1=\"18\" x2=\"24\" y2=\"33\" />\n",
       "  <line x1=\"10\" y1=\"24\" x2=\"24\" y2=\"39\" />\n",
       "  <line x1=\"10\" y1=\"31\" x2=\"24\" y2=\"46\" />\n",
       "  <line x1=\"10\" y1=\"37\" x2=\"24\" y2=\"52\" />\n",
       "  <line x1=\"10\" y1=\"43\" x2=\"24\" y2=\"58\" />\n",
       "  <line x1=\"10\" y1=\"50\" x2=\"24\" y2=\"65\" />\n",
       "  <line x1=\"10\" y1=\"56\" x2=\"24\" y2=\"71\" />\n",
       "  <line x1=\"10\" y1=\"63\" x2=\"24\" y2=\"78\" />\n",
       "  <line x1=\"10\" y1=\"69\" x2=\"24\" y2=\"84\" />\n",
       "  <line x1=\"10\" y1=\"76\" x2=\"24\" y2=\"91\" />\n",
       "  <line x1=\"10\" y1=\"82\" x2=\"24\" y2=\"97\" />\n",
       "  <line x1=\"10\" y1=\"88\" x2=\"24\" y2=\"103\" />\n",
       "  <line x1=\"10\" y1=\"94\" x2=\"24\" y2=\"109\" />\n",
       "  <line x1=\"10\" y1=\"101\" x2=\"24\" y2=\"115\" />\n",
       "  <line x1=\"10\" y1=\"107\" x2=\"24\" y2=\"122\" />\n",
       "  <line x1=\"10\" y1=\"113\" x2=\"24\" y2=\"128\" />\n",
       "  <line x1=\"10\" y1=\"120\" x2=\"24\" y2=\"134\" style=\"stroke-width:2\" />\n",
       "\n",
       "  <!-- Vertical lines -->\n",
       "  <line x1=\"10\" y1=\"0\" x2=\"10\" y2=\"120\" style=\"stroke-width:2\" />\n",
       "  <line x1=\"24\" y1=\"14\" x2=\"24\" y2=\"134\" style=\"stroke-width:2\" />\n",
       "\n",
       "  <!-- Colored Rectangle -->\n",
       "  <polygon points=\"10.0,0.0 24.9485979497544,14.948597949754403 24.9485979497544,134.9485979497544 10.0,120.0\" style=\"fill:#8B4903A0;stroke-width:0\"/>\n",
       "\n",
       "  <!-- Horizontal lines -->\n",
       "  <line x1=\"10\" y1=\"0\" x2=\"90\" y2=\"0\" style=\"stroke-width:2\" />\n",
       "  <line x1=\"24\" y1=\"14\" x2=\"105\" y2=\"14\" style=\"stroke-width:2\" />\n",
       "\n",
       "  <!-- Vertical lines -->\n",
       "  <line x1=\"10\" y1=\"0\" x2=\"24\" y2=\"14\" style=\"stroke-width:2\" />\n",
       "  <line x1=\"14\" y1=\"0\" x2=\"28\" y2=\"14\" />\n",
       "  <line x1=\"18\" y1=\"0\" x2=\"33\" y2=\"14\" />\n",
       "  <line x1=\"22\" y1=\"0\" x2=\"37\" y2=\"14\" />\n",
       "  <line x1=\"26\" y1=\"0\" x2=\"41\" y2=\"14\" />\n",
       "  <line x1=\"30\" y1=\"0\" x2=\"45\" y2=\"14\" />\n",
       "  <line x1=\"34\" y1=\"0\" x2=\"49\" y2=\"14\" />\n",
       "  <line x1=\"39\" y1=\"0\" x2=\"54\" y2=\"14\" />\n",
       "  <line x1=\"43\" y1=\"0\" x2=\"58\" y2=\"14\" />\n",
       "  <line x1=\"47\" y1=\"0\" x2=\"62\" y2=\"14\" />\n",
       "  <line x1=\"52\" y1=\"0\" x2=\"67\" y2=\"14\" />\n",
       "  <line x1=\"56\" y1=\"0\" x2=\"71\" y2=\"14\" />\n",
       "  <line x1=\"60\" y1=\"0\" x2=\"75\" y2=\"14\" />\n",
       "  <line x1=\"65\" y1=\"0\" x2=\"80\" y2=\"14\" />\n",
       "  <line x1=\"69\" y1=\"0\" x2=\"84\" y2=\"14\" />\n",
       "  <line x1=\"73\" y1=\"0\" x2=\"88\" y2=\"14\" />\n",
       "  <line x1=\"78\" y1=\"0\" x2=\"92\" y2=\"14\" />\n",
       "  <line x1=\"82\" y1=\"0\" x2=\"97\" y2=\"14\" />\n",
       "  <line x1=\"86\" y1=\"0\" x2=\"101\" y2=\"14\" />\n",
       "  <line x1=\"90\" y1=\"0\" x2=\"105\" y2=\"14\" style=\"stroke-width:2\" />\n",
       "\n",
       "  <!-- Colored Rectangle -->\n",
       "  <polygon points=\"10.0,0.0 90.15808196802183,0.0 105.10667991777623,14.948597949754403 24.9485979497544,14.948597949754403\" style=\"fill:#8B4903A0;stroke-width:0\"/>\n",
       "\n",
       "  <!-- Horizontal lines -->\n",
       "  <line x1=\"24\" y1=\"14\" x2=\"105\" y2=\"14\" style=\"stroke-width:2\" />\n",
       "  <line x1=\"24\" y1=\"21\" x2=\"105\" y2=\"21\" />\n",
       "  <line x1=\"24\" y1=\"27\" x2=\"105\" y2=\"27\" />\n",
       "  <line x1=\"24\" y1=\"33\" x2=\"105\" y2=\"33\" />\n",
       "  <line x1=\"24\" y1=\"39\" x2=\"105\" y2=\"39\" />\n",
       "  <line x1=\"24\" y1=\"46\" x2=\"105\" y2=\"46\" />\n",
       "  <line x1=\"24\" y1=\"52\" x2=\"105\" y2=\"52\" />\n",
       "  <line x1=\"24\" y1=\"58\" x2=\"105\" y2=\"58\" />\n",
       "  <line x1=\"24\" y1=\"65\" x2=\"105\" y2=\"65\" />\n",
       "  <line x1=\"24\" y1=\"71\" x2=\"105\" y2=\"71\" />\n",
       "  <line x1=\"24\" y1=\"78\" x2=\"105\" y2=\"78\" />\n",
       "  <line x1=\"24\" y1=\"84\" x2=\"105\" y2=\"84\" />\n",
       "  <line x1=\"24\" y1=\"91\" x2=\"105\" y2=\"91\" />\n",
       "  <line x1=\"24\" y1=\"97\" x2=\"105\" y2=\"97\" />\n",
       "  <line x1=\"24\" y1=\"103\" x2=\"105\" y2=\"103\" />\n",
       "  <line x1=\"24\" y1=\"109\" x2=\"105\" y2=\"109\" />\n",
       "  <line x1=\"24\" y1=\"115\" x2=\"105\" y2=\"115\" />\n",
       "  <line x1=\"24\" y1=\"122\" x2=\"105\" y2=\"122\" />\n",
       "  <line x1=\"24\" y1=\"128\" x2=\"105\" y2=\"128\" />\n",
       "  <line x1=\"24\" y1=\"134\" x2=\"105\" y2=\"134\" style=\"stroke-width:2\" />\n",
       "\n",
       "  <!-- Vertical lines -->\n",
       "  <line x1=\"24\" y1=\"14\" x2=\"24\" y2=\"134\" style=\"stroke-width:2\" />\n",
       "  <line x1=\"28\" y1=\"14\" x2=\"28\" y2=\"134\" />\n",
       "  <line x1=\"33\" y1=\"14\" x2=\"33\" y2=\"134\" />\n",
       "  <line x1=\"37\" y1=\"14\" x2=\"37\" y2=\"134\" />\n",
       "  <line x1=\"41\" y1=\"14\" x2=\"41\" y2=\"134\" />\n",
       "  <line x1=\"45\" y1=\"14\" x2=\"45\" y2=\"134\" />\n",
       "  <line x1=\"49\" y1=\"14\" x2=\"49\" y2=\"134\" />\n",
       "  <line x1=\"54\" y1=\"14\" x2=\"54\" y2=\"134\" />\n",
       "  <line x1=\"58\" y1=\"14\" x2=\"58\" y2=\"134\" />\n",
       "  <line x1=\"62\" y1=\"14\" x2=\"62\" y2=\"134\" />\n",
       "  <line x1=\"67\" y1=\"14\" x2=\"67\" y2=\"134\" />\n",
       "  <line x1=\"71\" y1=\"14\" x2=\"71\" y2=\"134\" />\n",
       "  <line x1=\"75\" y1=\"14\" x2=\"75\" y2=\"134\" />\n",
       "  <line x1=\"80\" y1=\"14\" x2=\"80\" y2=\"134\" />\n",
       "  <line x1=\"84\" y1=\"14\" x2=\"84\" y2=\"134\" />\n",
       "  <line x1=\"88\" y1=\"14\" x2=\"88\" y2=\"134\" />\n",
       "  <line x1=\"92\" y1=\"14\" x2=\"92\" y2=\"134\" />\n",
       "  <line x1=\"97\" y1=\"14\" x2=\"97\" y2=\"134\" />\n",
       "  <line x1=\"101\" y1=\"14\" x2=\"101\" y2=\"134\" />\n",
       "  <line x1=\"105\" y1=\"14\" x2=\"105\" y2=\"134\" style=\"stroke-width:2\" />\n",
       "\n",
       "  <!-- Colored Rectangle -->\n",
       "  <polygon points=\"24.9485979497544,14.948597949754403 105.10667991777623,14.948597949754403 105.10667991777623,134.9485979497544 24.9485979497544,134.9485979497544\" style=\"fill:#8B4903A0;stroke-width:0\"/>\n",
       "\n",
       "  <!-- Text -->\n",
       "  <text x=\"65.027639\" y=\"154.948598\" font-size=\"1.0rem\" font-weight=\"100\" text-anchor=\"middle\" >121865</text>\n",
       "  <text x=\"125.106680\" y=\"74.948598\" font-size=\"1.0rem\" font-weight=\"100\" text-anchor=\"middle\" transform=\"rotate(-90,125.106680,74.948598)\">182437</text>\n",
       "  <text x=\"7.474299\" y=\"147.474299\" font-size=\"1.0rem\" font-weight=\"100\" text-anchor=\"middle\" transform=\"rotate(45,7.474299,147.474299)\">4</text>\n",
       "</svg>\n",
       "</td>\n",
       "</tr>\n",
       "</table></div></div></li><li class='xr-section-item'><input id='section-59f5abae-6286-4a60-b4d0-0cfa6406ed98' class='xr-section-summary-in' type='checkbox'  checked><label for='section-59f5abae-6286-4a60-b4d0-0cfa6406ed98' class='xr-section-summary' >Coordinates: <span>(4)</span></label><div class='xr-section-inline-details'></div><div class='xr-section-details'><ul class='xr-var-list'><li class='xr-var-item'><div class='xr-var-name'><span class='xr-has-index'>band</span></div><div class='xr-var-dims'>(band)</div><div class='xr-var-dtype'>int64</div><div class='xr-var-preview xr-preview'>1 2 3 4</div><input id='attrs-9a0002b3-2abd-4ae1-acca-a38bbe034fb0' class='xr-var-attrs-in' type='checkbox' disabled><label for='attrs-9a0002b3-2abd-4ae1-acca-a38bbe034fb0' title='Show/Hide attributes'><svg class='icon xr-icon-file-text2'><use xlink:href='#icon-file-text2'></use></svg></label><input id='data-8c83fc92-0a25-4998-9994-8fe7a2b06e70' class='xr-var-data-in' type='checkbox'><label for='data-8c83fc92-0a25-4998-9994-8fe7a2b06e70' title='Show/Hide data repr'><svg class='icon xr-icon-database'><use xlink:href='#icon-database'></use></svg></label><div class='xr-var-attrs'><dl class='xr-attrs'></dl></div><div class='xr-var-data'><pre>array([1, 2, 3, 4])</pre></div></li><li class='xr-var-item'><div class='xr-var-name'><span class='xr-has-index'>y</span></div><div class='xr-var-dims'>(y)</div><div class='xr-var-dtype'>float64</div><div class='xr-var-preview xr-preview'>1.612e+06 1.612e+06 ... -2.136e+05</div><input id='attrs-87d4c562-0652-4945-8a0e-53573dbf131e' class='xr-var-attrs-in' type='checkbox' disabled><label for='attrs-87d4c562-0652-4945-8a0e-53573dbf131e' title='Show/Hide attributes'><svg class='icon xr-icon-file-text2'><use xlink:href='#icon-file-text2'></use></svg></label><input id='data-81334287-ef05-4b3e-b366-ec371d6867d1' class='xr-var-data-in' type='checkbox'><label for='data-81334287-ef05-4b3e-b366-ec371d6867d1' title='Show/Hide data repr'><svg class='icon xr-icon-database'><use xlink:href='#icon-database'></use></svg></label><div class='xr-var-attrs'><dl class='xr-attrs'></dl></div><div class='xr-var-data'><pre>array([1612232.376629, 1612222.368727, 1612212.360825, ..., -213549.231322,\n",
       "       -213559.239224, -213569.247126])</pre></div></li><li class='xr-var-item'><div class='xr-var-name'><span class='xr-has-index'>x</span></div><div class='xr-var-dims'>(x)</div><div class='xr-var-dtype'>float64</div><div class='xr-var-preview xr-preview'>-2.228e+05 -2.228e+05 ... 9.968e+05</div><input id='attrs-64dafd11-9891-428b-b2d8-5dbcf8837dba' class='xr-var-attrs-in' type='checkbox' disabled><label for='attrs-64dafd11-9891-428b-b2d8-5dbcf8837dba' title='Show/Hide attributes'><svg class='icon xr-icon-file-text2'><use xlink:href='#icon-file-text2'></use></svg></label><input id='data-b44be67f-a964-413d-a3ed-1a9630e1364c' class='xr-var-data-in' type='checkbox'><label for='data-b44be67f-a964-413d-a3ed-1a9630e1364c' title='Show/Hide data repr'><svg class='icon xr-icon-database'><use xlink:href='#icon-database'></use></svg></label><div class='xr-var-attrs'><dl class='xr-attrs'></dl></div><div class='xr-var-data'><pre>array([-222818.73324 , -222808.725338, -222798.717436, ...,  996764.229958,\n",
       "        996774.23786 ,  996784.245762])</pre></div></li><li class='xr-var-item'><div class='xr-var-name'><span>spatial_ref</span></div><div class='xr-var-dims'>()</div><div class='xr-var-dtype'>int64</div><div class='xr-var-preview xr-preview'>0</div><input id='attrs-76dadd69-45da-4844-a47b-bae9ef56c1c8' class='xr-var-attrs-in' type='checkbox' ><label for='attrs-76dadd69-45da-4844-a47b-bae9ef56c1c8' title='Show/Hide attributes'><svg class='icon xr-icon-file-text2'><use xlink:href='#icon-file-text2'></use></svg></label><input id='data-ca49b4f9-7db9-462b-ab82-34927eb1bfa7' class='xr-var-data-in' type='checkbox'><label for='data-ca49b4f9-7db9-462b-ab82-34927eb1bfa7' title='Show/Hide data repr'><svg class='icon xr-icon-database'><use xlink:href='#icon-database'></use></svg></label><div class='xr-var-attrs'><dl class='xr-attrs'><dt><span>crs_wkt :</span></dt><dd>PROJCRS[&quot;OSGB 1936 / British National Grid&quot;,BASEGEOGCRS[&quot;OSGB 1936&quot;,DATUM[&quot;OSGB 1936&quot;,ELLIPSOID[&quot;Airy 1830&quot;,6377563.396,299.3249646,LENGTHUNIT[&quot;metre&quot;,1]]],PRIMEM[&quot;Greenwich&quot;,0,ANGLEUNIT[&quot;degree&quot;,0.0174532925199433]],ID[&quot;EPSG&quot;,4277]],CONVERSION[&quot;unnamed&quot;,METHOD[&quot;Transverse Mercator&quot;,ID[&quot;EPSG&quot;,9807]],PARAMETER[&quot;Latitude of natural origin&quot;,49,ANGLEUNIT[&quot;degree&quot;,0.0174532925199433],ID[&quot;EPSG&quot;,8801]],PARAMETER[&quot;Longitude of natural origin&quot;,-2,ANGLEUNIT[&quot;degree&quot;,0.0174532925199433],ID[&quot;EPSG&quot;,8802]],PARAMETER[&quot;Scale factor at natural origin&quot;,0.9996012717,SCALEUNIT[&quot;unity&quot;,1],ID[&quot;EPSG&quot;,8805]],PARAMETER[&quot;False easting&quot;,400000,LENGTHUNIT[&quot;metre&quot;,1],ID[&quot;EPSG&quot;,8806]],PARAMETER[&quot;False northing&quot;,-100000,LENGTHUNIT[&quot;metre&quot;,1],ID[&quot;EPSG&quot;,8807]]],CS[Cartesian,2],AXIS[&quot;easting&quot;,east,ORDER[1],LENGTHUNIT[&quot;metre&quot;,1]],AXIS[&quot;northing&quot;,north,ORDER[2],LENGTHUNIT[&quot;metre&quot;,1]],ID[&quot;EPSG&quot;,27700]]</dd><dt><span>semi_major_axis :</span></dt><dd>6377563.396</dd><dt><span>semi_minor_axis :</span></dt><dd>6356256.909237285</dd><dt><span>inverse_flattening :</span></dt><dd>299.3249646</dd><dt><span>reference_ellipsoid_name :</span></dt><dd>Airy 1830</dd><dt><span>longitude_of_prime_meridian :</span></dt><dd>0.0</dd><dt><span>prime_meridian_name :</span></dt><dd>Greenwich</dd><dt><span>geographic_crs_name :</span></dt><dd>OSGB 1936</dd><dt><span>horizontal_datum_name :</span></dt><dd>OSGB 1936</dd><dt><span>projected_crs_name :</span></dt><dd>OSGB 1936 / British National Grid</dd><dt><span>grid_mapping_name :</span></dt><dd>transverse_mercator</dd><dt><span>latitude_of_projection_origin :</span></dt><dd>49.0</dd><dt><span>longitude_of_central_meridian :</span></dt><dd>-2.0</dd><dt><span>false_easting :</span></dt><dd>400000.0</dd><dt><span>false_northing :</span></dt><dd>-100000.0</dd><dt><span>scale_factor_at_central_meridian :</span></dt><dd>0.9996012717</dd><dt><span>spatial_ref :</span></dt><dd>PROJCRS[&quot;OSGB 1936 / British National Grid&quot;,BASEGEOGCRS[&quot;OSGB 1936&quot;,DATUM[&quot;OSGB 1936&quot;,ELLIPSOID[&quot;Airy 1830&quot;,6377563.396,299.3249646,LENGTHUNIT[&quot;metre&quot;,1]]],PRIMEM[&quot;Greenwich&quot;,0,ANGLEUNIT[&quot;degree&quot;,0.0174532925199433]],ID[&quot;EPSG&quot;,4277]],CONVERSION[&quot;unnamed&quot;,METHOD[&quot;Transverse Mercator&quot;,ID[&quot;EPSG&quot;,9807]],PARAMETER[&quot;Latitude of natural origin&quot;,49,ANGLEUNIT[&quot;degree&quot;,0.0174532925199433],ID[&quot;EPSG&quot;,8801]],PARAMETER[&quot;Longitude of natural origin&quot;,-2,ANGLEUNIT[&quot;degree&quot;,0.0174532925199433],ID[&quot;EPSG&quot;,8802]],PARAMETER[&quot;Scale factor at natural origin&quot;,0.9996012717,SCALEUNIT[&quot;unity&quot;,1],ID[&quot;EPSG&quot;,8805]],PARAMETER[&quot;False easting&quot;,400000,LENGTHUNIT[&quot;metre&quot;,1],ID[&quot;EPSG&quot;,8806]],PARAMETER[&quot;False northing&quot;,-100000,LENGTHUNIT[&quot;metre&quot;,1],ID[&quot;EPSG&quot;,8807]]],CS[Cartesian,2],AXIS[&quot;easting&quot;,east,ORDER[1],LENGTHUNIT[&quot;metre&quot;,1]],AXIS[&quot;northing&quot;,north,ORDER[2],LENGTHUNIT[&quot;metre&quot;,1]],ID[&quot;EPSG&quot;,27700]]</dd><dt><span>GeoTransform :</span></dt><dd>-222823.73719089525 10.007902079383749 0.0 1612237.380579703 0.0 -10.007902079383749</dd></dl></div><div class='xr-var-data'><pre>array(0)</pre></div></li></ul></div></li><li class='xr-section-item'><input id='section-52942666-6971-4de8-aa0d-3f97cd5bf258' class='xr-section-summary-in' type='checkbox'  checked><label for='section-52942666-6971-4de8-aa0d-3f97cd5bf258' class='xr-section-summary' >Attributes: <span>(4)</span></label><div class='xr-section-inline-details'></div><div class='xr-section-details'><dl class='xr-attrs'><dt><span>_FillValue :</span></dt><dd>0.0</dd><dt><span>scale_factor :</span></dt><dd>1.0</dd><dt><span>add_offset :</span></dt><dd>0.0</dd><dt><span>grid_mapping :</span></dt><dd>spatial_ref</dd></dl></div></li></ul></div></div>"
      ],
      "text/plain": [
       "<xarray.DataArray (band: 4, y: 182437, x: 121865)>\n",
       "dask.array<open_rasterio-35d60ec82ecb324990de49151f9b808d<this-array>, shape=(4, 182437, 121865), dtype=uint16, chunksize=(4, 1024, 1024), chunktype=numpy.ndarray>\n",
       "Coordinates:\n",
       "  * band         (band) int64 1 2 3 4\n",
       "  * y            (y) float64 1.612e+06 1.612e+06 ... -2.136e+05 -2.136e+05\n",
       "  * x            (x) float64 -2.228e+05 -2.228e+05 ... 9.968e+05 9.968e+05\n",
       "    spatial_ref  int64 0\n",
       "Attributes:\n",
       "    _FillValue:    0.0\n",
       "    scale_factor:  1.0\n",
       "    add_offset:    0.0\n",
       "    grid_mapping:  spatial_ref"
      ]
     },
     "execution_count": 5,
     "metadata": {},
     "output_type": "execute_result"
    }
   ],
   "source": [
    "r = rioxarray.open_rasterio(mosaic_url,\n",
    "                            chunks={\"x\": 1024, \"y\": 1024}\n",
    "                           )\n",
    "r"
   ]
  },
  {
   "cell_type": "markdown",
   "metadata": {},
   "source": [
    "- The enclosed tessellation:"
   ]
  },
  {
   "cell_type": "code",
   "execution_count": 5,
   "metadata": {},
   "outputs": [],
   "source": [
    "# Cluster\n",
    "#tess_path = f\"http://{SERVER_IP}:8000/tessellation/\"\n",
    "tess_path = f\"http://{SERVER_IP}:8000/spatial_signatures/tessellation/\"\n",
    "# Local\n",
    "tess_path = \"../../data/spatial_signatures/tessellation/\""
   ]
  },
  {
   "cell_type": "markdown",
   "metadata": {},
   "source": [
    "- And the list of chunks:"
   ]
  },
  {
   "cell_type": "code",
   "execution_count": 7,
   "metadata": {},
   "outputs": [],
   "source": [
    "chunks = glob(f\"{tess_path}tess_*.pq\")"
   ]
  },
  {
   "cell_type": "markdown",
   "metadata": {},
   "source": [
    "## Explore `DataArray` size by chunk\n",
    "\n",
    "In sparsely populated areas, ET cells will tend to be larger and, thus translate into larger sizes of the imagery required to cover it. Let's explore the extent to which this is an issue.\n",
    "\n",
    "The `chunk_dimension` method below completes the following tasks for a given chunk:\n",
    "\n",
    "1. Collect bounding boxes for each chunk\n",
    "1. Connect to that section of the mosaic\n",
    "1. Extract dimensions"
   ]
  },
  {
   "cell_type": "code",
   "execution_count": 8,
   "metadata": {},
   "outputs": [],
   "source": [
    "def format_bytes(size):\n",
    "    \"\"\"\n",
    "    Convert bytes to human-readable units\n",
    "    \n",
    "    Taken from: https://stackoverflow.com/a/49361727\n",
    "    ...\n",
    "    \n",
    "    Arguments\n",
    "    ---------\n",
    "    size : int\n",
    "          File size\n",
    "    \n",
    "    Returns\n",
    "    -------\n",
    "    fsize : int\n",
    "           Formatted file size\n",
    "    unit : str\n",
    "          Unit in which size is expressed\n",
    "    \"\"\"\n",
    "    # 2**10 = 1024\n",
    "    power = 2 ** 10\n",
    "    n = 0\n",
    "    power_labels = {0: \"\", 1: \"kilo\", 2: \"mega\", 3: \"giga\", 4: \"tera\"}\n",
    "    while size > power:\n",
    "        size /= power\n",
    "        n += 1\n",
    "    return size, power_labels[n] + \"bytes\"\n",
    "\n",
    "def chunk_dimension(chunk_path):\n",
    "    if type(chunk_path) is not str:\n",
    "        chunk_path = chunk_path[\"paths\"]\n",
    "    with fsspec.open(chunk_path) as p:\n",
    "        chunk = geopandas.read_parquet(p, columns=[\"hindex\", \"tessellation\"])\n",
    "    section = r.rio.clip_box(*chunk.total_bounds)\n",
    "    x_range = section.coords[\"x\"].max() - section.coords[\"x\"].min()\n",
    "    y_range = section.coords[\"y\"].max() - section.coords[\"y\"].min()\n",
    "    area = x_range * y_range / 1e6\n",
    "    size, unit = format_bytes(section.nbytes)\n",
    "    p = chunk_path.split(\"/\")[-1]\n",
    "    out = pandas.Series([p, float(area), section.nbytes, size, unit], \n",
    "                        index=[\"cID\", \"area_sqkm\", \"size\", \"hsize\", \"unit\"]\n",
    "                       )\n",
    "    return out"
   ]
  },
  {
   "cell_type": "markdown",
   "metadata": {},
   "source": [
    "And we can run this distributed across the Dask client:"
   ]
  },
  {
   "cell_type": "code",
   "execution_count": 11,
   "metadata": {},
   "outputs": [
    {
     "name": "stdout",
     "output_type": "stream",
     "text": [
      "CPU times: user 13.7 s, sys: 1.15 s, total: 14.8 s\n",
      "Wall time: 1min 21s\n"
     ]
    }
   ],
   "source": [
    "%%time\n",
    "\n",
    "chunks_dd = dd.from_pandas(pandas.DataFrame({\"paths\": chunks}), \n",
    "                           npartitions=8\n",
    "                          )\n",
    "sizes = chunks_dd.map_partitions(lambda df: df.apply(chunk_dimension, axis=1),\n",
    "                                 meta=[(\"cID\", \"str\"),\n",
    "                                       (\"area_sqkm\", \"f8\"),\n",
    "                                       (\"size\", \"f8\"),\n",
    "                                       (\"hsize\", \"f8\"),\n",
    "                                       (\"unit\", \"str\")\n",
    "                                      ]\n",
    "                                ).compute()"
   ]
  },
  {
   "cell_type": "markdown",
   "metadata": {},
   "source": [
    "From the `sizes` table we can see there's a few chunks that cover a large swath of land, but most are very manageable otherwise. Hence, what we will do is run in parallel all the smaller chunks and then sequentially the few larger ones. In particular, we will leave aside the top three:"
   ]
  },
  {
   "cell_type": "code",
   "execution_count": 15,
   "metadata": {},
   "outputs": [
    {
     "data": {
      "text/html": [
       "<div>\n",
       "<style scoped>\n",
       "    .dataframe tbody tr th:only-of-type {\n",
       "        vertical-align: middle;\n",
       "    }\n",
       "\n",
       "    .dataframe tbody tr th {\n",
       "        vertical-align: top;\n",
       "    }\n",
       "\n",
       "    .dataframe thead th {\n",
       "        text-align: right;\n",
       "    }\n",
       "</style>\n",
       "<table border=\"1\" class=\"dataframe\">\n",
       "  <thead>\n",
       "    <tr style=\"text-align: right;\">\n",
       "      <th></th>\n",
       "      <th>cID</th>\n",
       "      <th>area_sqkm</th>\n",
       "      <th>size</th>\n",
       "      <th>hsize</th>\n",
       "      <th>unit</th>\n",
       "    </tr>\n",
       "  </thead>\n",
       "  <tbody>\n",
       "    <tr>\n",
       "      <th>5</th>\n",
       "      <td>tess_5.pq</td>\n",
       "      <td>98852.771104</td>\n",
       "      <td>7896278496</td>\n",
       "      <td>7.353982</td>\n",
       "      <td>gigabytes</td>\n",
       "    </tr>\n",
       "    <tr>\n",
       "      <th>87</th>\n",
       "      <td>tess_87.pq</td>\n",
       "      <td>98381.295659</td>\n",
       "      <td>7858582248</td>\n",
       "      <td>7.318875</td>\n",
       "      <td>gigabytes</td>\n",
       "    </tr>\n",
       "    <tr>\n",
       "      <th>97</th>\n",
       "      <td>tess_97.pq</td>\n",
       "      <td>33881.959783</td>\n",
       "      <td>2706574856</td>\n",
       "      <td>2.520694</td>\n",
       "      <td>gigabytes</td>\n",
       "    </tr>\n",
       "    <tr>\n",
       "      <th>83</th>\n",
       "      <td>tess_83.pq</td>\n",
       "      <td>23445.222729</td>\n",
       "      <td>1872902528</td>\n",
       "      <td>1.744276</td>\n",
       "      <td>gigabytes</td>\n",
       "    </tr>\n",
       "    <tr>\n",
       "      <th>89</th>\n",
       "      <td>tess_89.pq</td>\n",
       "      <td>18351.235343</td>\n",
       "      <td>1466001600</td>\n",
       "      <td>1.365320</td>\n",
       "      <td>gigabytes</td>\n",
       "    </tr>\n",
       "    <tr>\n",
       "      <th>48</th>\n",
       "      <td>tess_48.pq</td>\n",
       "      <td>17581.976333</td>\n",
       "      <td>1404555840</td>\n",
       "      <td>1.308095</td>\n",
       "      <td>gigabytes</td>\n",
       "    </tr>\n",
       "    <tr>\n",
       "      <th>38</th>\n",
       "      <td>tess_38.pq</td>\n",
       "      <td>16949.749936</td>\n",
       "      <td>1354048752</td>\n",
       "      <td>1.261056</td>\n",
       "      <td>gigabytes</td>\n",
       "    </tr>\n",
       "    <tr>\n",
       "      <th>100</th>\n",
       "      <td>tess_100.pq</td>\n",
       "      <td>16602.280239</td>\n",
       "      <td>1326292344</td>\n",
       "      <td>1.235206</td>\n",
       "      <td>gigabytes</td>\n",
       "    </tr>\n",
       "    <tr>\n",
       "      <th>71</th>\n",
       "      <td>tess_71.pq</td>\n",
       "      <td>15812.966472</td>\n",
       "      <td>1263241712</td>\n",
       "      <td>1.176486</td>\n",
       "      <td>gigabytes</td>\n",
       "    </tr>\n",
       "    <tr>\n",
       "      <th>85</th>\n",
       "      <td>tess_85.pq</td>\n",
       "      <td>11608.782981</td>\n",
       "      <td>927409416</td>\n",
       "      <td>884.446541</td>\n",
       "      <td>megabytes</td>\n",
       "    </tr>\n",
       "  </tbody>\n",
       "</table>\n",
       "</div>"
      ],
      "text/plain": [
       "             cID     area_sqkm        size       hsize       unit\n",
       "5      tess_5.pq  98852.771104  7896278496    7.353982  gigabytes\n",
       "87    tess_87.pq  98381.295659  7858582248    7.318875  gigabytes\n",
       "97    tess_97.pq  33881.959783  2706574856    2.520694  gigabytes\n",
       "83    tess_83.pq  23445.222729  1872902528    1.744276  gigabytes\n",
       "89    tess_89.pq  18351.235343  1466001600    1.365320  gigabytes\n",
       "48    tess_48.pq  17581.976333  1404555840    1.308095  gigabytes\n",
       "38    tess_38.pq  16949.749936  1354048752    1.261056  gigabytes\n",
       "100  tess_100.pq  16602.280239  1326292344    1.235206  gigabytes\n",
       "71    tess_71.pq  15812.966472  1263241712    1.176486  gigabytes\n",
       "85    tess_85.pq  11608.782981   927409416  884.446541  megabytes"
      ]
     },
     "execution_count": 15,
     "metadata": {},
     "output_type": "execute_result"
    }
   ],
   "source": [
    "sizes.sort_values(\"size\", ascending=False).head(10)"
   ]
  },
  {
   "cell_type": "markdown",
   "metadata": {},
   "source": [
    "## Distribute computation by ET cell"
   ]
  },
  {
   "cell_type": "code",
   "execution_count": 11,
   "metadata": {},
   "outputs": [],
   "source": [
    "to_run_seq = [5, 87, 97, 83]\n",
    "out_folder = \"/home/jovyan/work/ndvi/\"\n",
    "done_already = [\n",
    "    int(i.strip(\".pq\").split(\"_\")[-1]) for i in glob(f\"{out_folder}*.pq\")\n",
    "]\n",
    "chunks_for_bag = [\n",
    "    i for i in chunks if \\\n",
    "    (int(i.strip(\".pq\").split(\"_\")[-1]) not in to_run_seq) and \\\n",
    "    (int(i.strip(\".pq\").split(\"_\")[-1]) not in done_already)\n",
    "]"
   ]
  },
  {
   "cell_type": "markdown",
   "metadata": {},
   "source": [
    "To calculate NDVI for each ET cell, we write a method that loads the segment of the mosaic and uses `raster_stats` to compute NDV for each ET cell:"
   ]
  },
  {
   "cell_type": "code",
   "execution_count": 9,
   "metadata": {},
   "outputs": [],
   "source": [
    "def ndvi_for_chunk(pars):\n",
    "    t0 = time()\n",
    "    chunk_path, r_path, out_path = pars\n",
    "    # Read vectors\n",
    "    with fsspec.open(chunk_path) as p:\n",
    "        chunk = geopandas.read_parquet(p,\n",
    "                                       columns=[\"hindex\", \"tessellation\"]\n",
    "                                      )\n",
    "    # Calculate NDVI\n",
    "    with rasterio.open(r_path) as src:\n",
    "        img, transform = rasterio.mask.mask(src, \n",
    "                                            [box(*chunk.total_bounds)],\n",
    "                                            crop=True\n",
    "                                           )\n",
    "        meta = src.meta\n",
    "    ndvi = (img[3] + -1 * img[0]) / (img[3] + img[0])\n",
    "    ndvi[numpy.where(img[0] == meta[\"nodata\"])] = numpy.nan\n",
    "    ndvi[numpy.where(img[3] == meta[\"nodata\"])] = numpy.nan\n",
    "    # Transfer NDVI to vector\n",
    "    stats = rasterstats.zonal_stats(chunk,\n",
    "                                    ndvi,\n",
    "                                    affine=transform,\n",
    "                                    stats=[\"mean\"],\n",
    "                                    all_touched=True,\n",
    "                                    nodata=numpy.nan\n",
    "                                   )\n",
    "    # Process output\n",
    "    out = pandas.DataFrame(stats, index=chunk[\"hindex\"])\n",
    "    t1 = time()\n",
    "    if out_path is None:\n",
    "        return out\n",
    "    else:\n",
    "        out.to_parquet(out_path)\n",
    "        return f\"{chunk_path.split('/')[-1]} | {t1-t0} secs\""
   ]
  },
  {
   "cell_type": "markdown",
   "metadata": {},
   "source": [
    "We can use this function with Dask to run each (small) chunk in parallel. With the following bit of bespoke code (sourced from [here](https://github.com/dask/distributed/issues/864#issuecomment-279229981)), we make sure only as many jobs as cores are running at any given time:"
   ]
  },
  {
   "cell_type": "code",
   "execution_count": 13,
   "metadata": {
    "collapsed": true,
    "jupyter": {
     "outputs_hidden": true
    }
   },
   "outputs": [
    {
     "name": "stdout",
     "output_type": "stream",
     "text": [
      "tess_96.pq | 176.1357979774475 secs\n",
      "tess_34.pq | 189.24869465827942 secs\n",
      "tess_51.pq | 189.69177389144897 secs\n",
      "tess_21.pq | 190.82427144050598 secs\n",
      "tess_29.pq | 192.0962357521057 secs\n",
      "tess_35.pq | 209.44454169273376 secs\n",
      "tess_31.pq | 216.980553150177 secs\n",
      "tess_80.pq | 224.91864657402039 secs\n",
      "tess_86.pq | 228.31078553199768 secs\n",
      "tess_8.pq | 241.759094953537 secs\n",
      "tess_19.pq | 241.96550750732422 secs\n",
      "tess_69.pq | 243.02748799324036 secs\n",
      "tess_65.pq | 253.60629415512085 secs\n",
      "tess_66.pq | 280.157434463501 secs\n",
      "tess_90.pq | 164.63939261436462 secs\n",
      "tess_101.pq | 368.9089524745941 secs\n",
      "tess_64.pq | 381.10221910476685 secs\n",
      "tess_82.pq | 193.65632891654968 secs\n",
      "tess_2.pq | 173.8371868133545 secs\n",
      "tess_15.pq | 154.46832656860352 secs\n",
      "tess_28.pq | 154.55630898475647 secs\n",
      "tess_93.pq | 167.06554055213928 secs\n",
      "tess_60.pq | 181.24081301689148 secs\n",
      "tess_62.pq | 219.98308324813843 secs\n",
      "tess_58.pq | 210.41175413131714 secs\n",
      "tess_79.pq | 160.60391902923584 secs\n",
      "tess_99.pq | 224.48635458946228 secs\n",
      "tess_42.pq | 260.6704902648926 secs\n",
      "tess_26.pq | 233.42561745643616 secs\n",
      "tess_3.pq | 155.10514616966248 secs\n",
      "tess_91.pq | 182.85995650291443 secs\n",
      "tess_70.pq | 201.1124472618103 secs\n",
      "tess_47.pq | 182.7477216720581 secs\n",
      "tess_89.pq | 407.668381690979 secs\n",
      "tess_74.pq | 187.44021558761597 secs\n",
      "tess_16.pq | 176.50726699829102 secs\n",
      "tess_22.pq | 166.78810381889343 secs\n",
      "tess_63.pq | 177.00910091400146 secs\n",
      "tess_84.pq | 220.33403754234314 secs\n",
      "tess_92.pq | 255.7303695678711 secs\n",
      "tess_88.pq | 239.6361527442932 secs\n",
      "tess_53.pq | 210.7572808265686 secs\n",
      "tess_14.pq | 260.92917490005493 secs\n",
      "tess_77.pq | 224.05887055397034 secs\n",
      "tess_61.pq | 359.33106875419617 secs\n",
      "tess_18.pq | 146.86708426475525 secs\n",
      "tess_27.pq | 220.95680165290833 secs\n",
      "tess_20.pq | 181.27921295166016 secs\n",
      "tess_4.pq | 253.60609555244446 secs\n",
      "tess_50.pq | 208.73760104179382 secs\n",
      "tess_10.pq | 177.56747770309448 secs\n",
      "tess_48.pq | 281.5159513950348 secs\n",
      "tess_49.pq | 201.79051685333252 secs\n",
      "tess_59.pq | 203.40360569953918 secs\n",
      "tess_71.pq | 281.03534603118896 secs\n",
      "tess_76.pq | 231.91485619544983 secs\n",
      "tess_33.pq | 194.08718633651733 secs\n",
      "tess_32.pq | 325.78052020072937 secs\n",
      "tess_57.pq | 191.2747642993927 secs\n",
      "tess_67.pq | 317.9279489517212 secs\n",
      "tess_23.pq | 174.35500979423523 secs\n",
      "tess_44.pq | 168.06291508674622 secs\n",
      "tess_45.pq | 196.44418263435364 secs\n",
      "tess_55.pq | 152.75208282470703 secs\n",
      "tess_54.pq | 221.55555033683777 secs\n",
      "tess_7.pq | 217.29637932777405 secs\n",
      "tess_52.pq | 154.59290027618408 secs\n",
      "tess_41.pq | 185.0793354511261 secs\n",
      "tess_102.pq | 185.03288888931274 secs\n",
      "tess_94.pq | 158.22853803634644 secs\n",
      "tess_85.pq | 310.7229986190796 secs\n",
      "tess_72.pq | 181.57512545585632 secs\n",
      "tess_81.pq | 166.95266604423523 secs\n",
      "tess_25.pq | 141.98819208145142 secs\n",
      "tess_38.pq | 419.97113037109375 secs\n",
      "tess_78.pq | 181.82678651809692 secs\n",
      "tess_39.pq | 156.8633315563202 secs\n",
      "tess_0.pq | 133.6713342666626 secs\n",
      "tess_56.pq | 151.15450191497803 secs\n",
      "tess_68.pq | 186.38796997070312 secs\n",
      "tess_98.pq | 226.2064390182495 secs\n",
      "tess_12.pq | 251.47998714447021 secs\n",
      "tess_6.pq | 309.0805878639221 secs\n",
      "CPU times: user 2min 35s, sys: 19.3 s, total: 2min 54s\n",
      "Wall time: 21min 44s\n"
     ]
    }
   ],
   "source": [
    "%%time\n",
    "\n",
    "n_workers = len(cluster.workers)\n",
    "\n",
    "pars_to_submit = [\n",
    "    (\n",
    "        i, \n",
    "        mosaic_url, \n",
    "        f\"{out_folder}ndvi_{i.split('/')[-1]}\"\n",
    "    ) for i in chunks_for_bag\n",
    "]\n",
    "inputs = iter(pars_to_submit)\n",
    "futures = [\n",
    "    client.submit(ndvi_for_chunk, next(inputs)) for i in range(n_workers)\n",
    "]\n",
    "ac = as_completed(futures)\n",
    "for finished_future in ac:\n",
    "    # submit new future \n",
    "    try:\n",
    "        new_future = client.submit(ndvi_for_chunk, next(inputs))\n",
    "        ac.add(new_future)\n",
    "    except StopIteration:\n",
    "        pass\n",
    "    print(finished_future.result())"
   ]
  },
  {
   "cell_type": "markdown",
   "metadata": {},
   "source": [
    "And the larger chunks can be run sequentially outside Dask to maximise memory availability:"
   ]
  },
  {
   "cell_type": "code",
   "execution_count": 14,
   "metadata": {},
   "outputs": [
    {
     "name": "stdout",
     "output_type": "stream",
     "text": [
      "Starting to compute sequentially the 4 largest chunks\n",
      "\n",
      "Working on chunk ../../data/spatial_signatures/tessellation/tess_5.pq\n"
     ]
    },
    {
     "name": "stderr",
     "output_type": "stream",
     "text": [
      "<ipython-input-9-683a09d4bba0>:16: RuntimeWarning: invalid value encountered in true_divide\n",
      "  ndvi = (img[3] + -1 * img[0]) / (img[3] + img[0])\n"
     ]
    },
    {
     "name": "stdout",
     "output_type": "stream",
     "text": [
      "tess_5.pq | 852.3413059711456 secs\n",
      "\n",
      "Working on chunk ../../data/spatial_signatures/tessellation/tess_87.pq\n",
      "tess_87.pq | 821.503981590271 secs\n",
      "\n",
      "Working on chunk ../../data/spatial_signatures/tessellation/tess_97.pq\n",
      "tess_97.pq | 261.8684220314026 secs\n",
      "\n",
      "Working on chunk ../../data/spatial_signatures/tessellation/tess_83.pq\n",
      "tess_83.pq | 260.13328790664673 secs\n",
      "CPU times: user 35min 47s, sys: 2min 50s, total: 38min 37s\n",
      "Wall time: 36min 36s\n"
     ]
    }
   ],
   "source": [
    "%%time\n",
    "\n",
    "pars_to_submit = [\n",
    "    (\n",
    "        f\"{tess_path}tess_{i}.pq\", \n",
    "        mosaic_url, \n",
    "        f\"{out_folder}ndvi_tess_{i}.pq\"\n",
    "    ) for i in to_run_seq\n",
    "]\n",
    "\n",
    "print(f\"Starting to compute sequentially the {len(pars_to_submit)} largest chunks\")\n",
    "for chunk_pars in pars_to_submit:\n",
    "    print(f\"\\nWorking on chunk {chunk_pars[0]}\")\n",
    "    print(ndvi_for_chunk(chunk_pars))"
   ]
  },
  {
   "cell_type": "code",
   "execution_count": 23,
   "metadata": {},
   "outputs": [],
   "source": [
    "client.close()"
   ]
  },
  {
   "cell_type": "markdown",
   "metadata": {},
   "source": [
    "---\n",
    "\n",
    "## [DEPRECATED] `xarray`-based computation"
   ]
  },
  {
   "cell_type": "code",
   "execution_count": 9,
   "metadata": {},
   "outputs": [],
   "source": [
    "def geom2ndvi(row, ndvi, geom=\"geometry\"):\n",
    "    try:\n",
    "        val = ndvi.rio.clip([row[geom]])\\\n",
    "                  .mean()\\\n",
    "                  .values\\\n",
    "                  .tolist()\n",
    "    except:\n",
    "        val = None\n",
    "    return val\n",
    "\n",
    "def ndvi_from_chunk(db_path,\n",
    "                    ndvi_ddf, \n",
    "                    geom=\"tessellation\"\n",
    "                   ):\n",
    "    if type(db_path) is pandas.Series:\n",
    "        db_path = db_path.iloc[0]\n",
    "    with fsspec.open(db_path) as file:\n",
    "        db = geopandas.read_parquet(file, \n",
    "                                    columns=[\"hindex\", \"tessellation\"]\n",
    "                                   ).set_index(\"hindex\")#.head() # <-- head only!!!!!!!!!!!!!!!!!!!!!!!!!!!!!!!!!!!!!!!!!!\n",
    "    ndvi_vals = ndvi_ddf.rio.clip_box(*db.total_bounds).load()\n",
    "    rower = lambda row: geom2ndvi(row, ndvi_vals, geom=geom)\n",
    "    return db.apply(rower, axis=1)\n",
    "\n",
    "r = rioxarray.open_rasterio(mosaic_url,\n",
    "                            chunks={\"x\": 1280, \"y\": 1280}\n",
    "                           )\n",
    "ndvi = (r.sel(band=4) - r.sel(band=1)) / \\\n",
    "       (r.sel(band=4) + r.sel(band=1))"
   ]
  },
  {
   "cell_type": "markdown",
   "metadata": {},
   "source": [
    "The first, `geom2ndvi` takes a single row with the geometry of the cell, and a `DataArray` and returns the NDVI for that cell.\n",
    "\n",
    "This method can be applied sequentially to an entire table from the URL of the mosaic, which is what we describe in `ndvi_from_chunk`.\n",
    "\n",
    "**NOTE** For this to work effectively, the extent of `db.total_bounds` needs to fit comfortably in memory\n",
    "\n",
    "To run the above distributedly, we will set up a Dask DataFrame with all the URLs of the file names:"
   ]
  },
  {
   "cell_type": "code",
   "execution_count": 10,
   "metadata": {},
   "outputs": [
    {
     "data": {
      "text/html": [
       "<div><strong>Dask DataFrame Structure:</strong></div>\n",
       "<div>\n",
       "<style scoped>\n",
       "    .dataframe tbody tr th:only-of-type {\n",
       "        vertical-align: middle;\n",
       "    }\n",
       "\n",
       "    .dataframe tbody tr th {\n",
       "        vertical-align: top;\n",
       "    }\n",
       "\n",
       "    .dataframe thead th {\n",
       "        text-align: right;\n",
       "    }\n",
       "</style>\n",
       "<table border=\"1\" class=\"dataframe\">\n",
       "  <thead>\n",
       "    <tr style=\"text-align: right;\">\n",
       "      <th></th>\n",
       "      <th>file</th>\n",
       "    </tr>\n",
       "    <tr>\n",
       "      <th>npartitions=98</th>\n",
       "      <th></th>\n",
       "    </tr>\n",
       "  </thead>\n",
       "  <tbody>\n",
       "    <tr>\n",
       "      <th>0</th>\n",
       "      <td>object</td>\n",
       "    </tr>\n",
       "    <tr>\n",
       "      <th>1</th>\n",
       "      <td>...</td>\n",
       "    </tr>\n",
       "    <tr>\n",
       "      <th>...</th>\n",
       "      <td>...</td>\n",
       "    </tr>\n",
       "    <tr>\n",
       "      <th>101</th>\n",
       "      <td>...</td>\n",
       "    </tr>\n",
       "    <tr>\n",
       "      <th>102</th>\n",
       "      <td>...</td>\n",
       "    </tr>\n",
       "  </tbody>\n",
       "</table>\n",
       "</div>\n",
       "<div>Dask Name: from_pandas, 98 tasks</div>"
      ],
      "text/plain": [
       "Dask DataFrame Structure:\n",
       "                  file\n",
       "npartitions=98        \n",
       "0               object\n",
       "1                  ...\n",
       "...                ...\n",
       "101                ...\n",
       "102                ...\n",
       "Dask Name: from_pandas, 98 tasks"
      ]
     },
     "execution_count": 10,
     "metadata": {},
     "output_type": "execute_result"
    }
   ],
   "source": [
    "get_chunk_no = lambda c: int(c.split(\"tess_\")[1].strip(\".pq\"))\n",
    "chunk_names = dd.from_pandas(pandas.DataFrame({\"file\": chunks,\n",
    "                                               \"cID\": list(map(get_chunk_no, chunks))\n",
    "                                              }).set_index(\"cID\")\\\n",
    "                                                .drop(to_run_seq),\n",
    "                                              chunksize=1\n",
    "                                             )\n",
    "chunk_names"
   ]
  },
  {
   "cell_type": "markdown",
   "metadata": {},
   "source": [
    "Now we can map the computation of each chunk across the cluster:"
   ]
  },
  {
   "cell_type": "code",
   "execution_count": null,
   "metadata": {
    "collapsed": true,
    "jupyter": {
     "outputs_hidden": true
    }
   },
   "outputs": [
    {
     "name": "stderr",
     "output_type": "stream",
     "text": [
      "/opt/conda/lib/python3.8/site-packages/distributed/worker.py:3373: UserWarning: Large object of size 3.19 MB detected in task graph: \n",
      "  ([[[\"('truediv-b8410295353ac44e273fc0c8c4446e1f',  ... e, None), None)\n",
      "Consider scattering large objects ahead of time\n",
      "with client.scatter to reduce scheduler burden and \n",
      "keep data on workers\n",
      "\n",
      "    future = client.submit(func, big_data)    # bad\n",
      "\n",
      "    big_future = client.scatter(big_data)     # good\n",
      "    future = client.submit(func, big_future)  # good\n",
      "  warnings.warn(\n",
      "distributed.scheduler - INFO - Remove worker <Worker 'tcp://10.1.193.230:33069', name: 29, memory: 138, processing: 233>\n",
      "distributed.core - INFO - Removing comms to tcp://10.1.193.230:33069\n",
      "distributed.batched - INFO - Batched Comm Closed: in <closed TCP>: ConnectionResetError: [Errno 104] Connection reset by peer\n",
      "distributed.scheduler - INFO - Unexpected worker completed task, likely due to work stealing.  Expected: <Worker 'tcp://10.1.178.219:33919', name: 34, memory: 151, processing: 62>, Got: <Worker 'tcp://10.1.178.222:38459', name: 26, memory: 131, processing: 160>, Key: ('open_rasterio-795c3b956cc1d5c020e1f7e90e23a4a6<this-array>-76af8d691afb5bd6af8c9a459da53936', 0, 90, 60)\n",
      "distributed.scheduler - INFO - Remove worker <Worker 'tcp://10.1.193.231:45125', name: 21, memory: 131, processing: 138>\n",
      "distributed.core - INFO - Removing comms to tcp://10.1.193.231:45125\n",
      "distributed.scheduler - INFO - Remove worker <Worker 'tcp://10.1.193.232:39839', name: 49, memory: 146, processing: 1256>\n",
      "distributed.core - INFO - Removing comms to tcp://10.1.193.232:39839\n",
      "distributed.scheduler - INFO - Remove worker <Worker 'tcp://10.1.193.233:41573', name: 11, memory: 208, processing: 135>\n",
      "distributed.core - INFO - Removing comms to tcp://10.1.193.233:41573\n",
      "distributed.scheduler - INFO - Remove worker <Worker 'tcp://10.1.193.229:37205', name: 3, memory: 262, processing: 115>\n",
      "distributed.core - INFO - Removing comms to tcp://10.1.193.229:37205\n",
      "distributed.scheduler - INFO - Register worker <Worker 'tcp://10.1.193.238:44913', name: 41, memory: 0, processing: 0>\n",
      "distributed.scheduler - INFO - Starting worker compute stream, tcp://10.1.193.238:44913\n",
      "distributed.core - INFO - Starting established connection\n",
      "distributed.scheduler - INFO - Register worker <Worker 'tcp://10.1.193.234:36803', name: 36, memory: 0, processing: 0>\n",
      "distributed.scheduler - INFO - Starting worker compute stream, tcp://10.1.193.234:36803\n",
      "distributed.core - INFO - Starting established connection\n",
      "distributed.scheduler - INFO - Register worker <Worker 'tcp://10.1.193.237:35007', name: 24, memory: 0, processing: 0>\n",
      "distributed.scheduler - INFO - Starting worker compute stream, tcp://10.1.193.237:35007\n",
      "distributed.core - INFO - Starting established connection\n",
      "distributed.scheduler - INFO - Register worker <Worker 'tcp://10.1.193.236:41427', name: 18, memory: 0, processing: 0>\n",
      "distributed.scheduler - INFO - Starting worker compute stream, tcp://10.1.193.236:41427\n",
      "distributed.core - INFO - Starting established connection\n",
      "distributed.scheduler - INFO - Register worker <Worker 'tcp://10.1.193.235:34131', name: 38, memory: 0, processing: 0>\n",
      "distributed.scheduler - INFO - Starting worker compute stream, tcp://10.1.193.235:34131\n",
      "distributed.core - INFO - Starting established connection\n",
      "tornado.application - ERROR - Uncaught exception in write_error\n",
      "Traceback (most recent call last):\n",
      "  File \"/opt/conda/lib/python3.8/site-packages/tornado/web.py\", line 1681, in _execute\n",
      "    result = self.prepare()\n",
      "  File \"/opt/conda/lib/python3.8/site-packages/notebook/base/handlers.py\", line 498, in prepare\n",
      "    raise web.HTTPError(403)\n",
      "tornado.web.HTTPError: HTTP 403: Forbidden\n",
      "\n",
      "During handling of the above exception, another exception occurred:\n",
      "\n",
      "Traceback (most recent call last):\n",
      "  File \"/opt/conda/lib/python3.8/site-packages/tornado/web.py\", line 1217, in send_error\n",
      "    self.write_error(status_code, **kwargs)\n",
      "  File \"/opt/conda/lib/python3.8/site-packages/notebook/base/handlers.py\", line 581, in write_error\n",
      "    html = self.render_template('%s.html' % status_code, **ns)\n",
      "  File \"/opt/conda/lib/python3.8/site-packages/notebook/base/handlers.py\", line 511, in render_template\n",
      "    template = self.get_template(name)\n",
      "  File \"/opt/conda/lib/python3.8/site-packages/notebook/base/handlers.py\", line 507, in get_template\n",
      "    return self.settings['jinja2_env'].get_template(name)\n",
      "KeyError: 'jinja2_env'\n"
     ]
    }
   ],
   "source": [
    "%%time\n",
    "ndvis = chunk_names[\"file\"].map_partitions(ndvi_from_chunk,\n",
    "                                           ndvi_ddf=ndvi,\n",
    "                                           meta=(None, 'f8')\n",
    "                                          ).compute()"
   ]
  },
  {
   "cell_type": "code",
   "execution_count": 13,
   "metadata": {},
   "outputs": [
    {
     "data": {
      "text/plain": [
       "hindex\n",
       "c000e109777t0000    0.196805\n",
       "c000e109777t0001    0.165362\n",
       "c000e109777t0002    0.195056\n",
       "c000e109777t0003    0.306654\n",
       "c000e109777t0004    0.216186\n",
       "                      ...   \n",
       "c101e634937t0004    0.959660\n",
       "c101e634937t0003    0.506815\n",
       "c101e634937t0000    0.567918\n",
       "c101e634937t0002    0.537546\n",
       "c101e634937t0001    3.189631\n",
       "Length: 495, dtype: float64"
      ]
     },
     "execution_count": 13,
     "metadata": {},
     "output_type": "execute_result"
    }
   ],
   "source": [
    "ndvis"
   ]
  },
  {
   "cell_type": "markdown",
   "metadata": {},
   "source": [
    "---\n",
    "\n",
    "## [DEPRECATED] Alternative using `geocube`"
   ]
  },
  {
   "cell_type": "markdown",
   "metadata": {},
   "source": [
    "The alternative involves [`geocube`'s zonal stats](https://corteva.github.io/geocube/stable/examples/zonal_statistics.html) and `make_geocube`. In this approach, we first rasterize our ET cells in a grid aligned with the mosaic, then calculate the NDVI. At present, this approach is discarded because the resolution of the mosaic (10m) makes it too coarse to obtain an NDVI for each cell."
   ]
  },
  {
   "cell_type": "code",
   "execution_count": 57,
   "metadata": {},
   "outputs": [],
   "source": [
    "from geocube.api.core import make_geocube"
   ]
  },
  {
   "cell_type": "markdown",
   "metadata": {},
   "source": [
    "We use the same set of ET cells:"
   ]
  },
  {
   "cell_type": "code",
   "execution_count": null,
   "metadata": {},
   "outputs": [],
   "source": [
    "url = f\"http://{SERVER_IP}:8000/spatial_signatures/tessellation/tess_6.pq\"\n",
    "tst = geopandas.read_parquet(url)\n"
   ]
  },
  {
   "cell_type": "code",
   "execution_count": 117,
   "metadata": {},
   "outputs": [
    {
     "name": "stdout",
     "output_type": "stream",
     "text": [
      "<class 'geopandas.geodataframe.GeoDataFrame'>\n",
      "Int64Index: 2049 entries, 15006 to 258237\n",
      "Data columns (total 3 columns):\n",
      " #   Column       Non-Null Count  Dtype   \n",
      "---  ------       --------------  -----   \n",
      " 0   uID          2049 non-null   int64   \n",
      " 1   geometry     2049 non-null   geometry\n",
      " 2   enclosureID  2049 non-null   int64   \n",
      "dtypes: geometry(1), int64(2)\n",
      "memory usage: 64.0 KB\n"
     ]
    }
   ],
   "source": [
    "tst_sub = tst.cx[315891.95:330000, 213727.69:250000]\n",
    "tst_sub.info()"
   ]
  },
  {
   "cell_type": "markdown",
   "metadata": {},
   "source": [
    "Before rasterization, we need to load the segment of the mosaic that overlaps (note no bits are streamed to memory, all lazy evaluation):"
   ]
  },
  {
   "cell_type": "code",
   "execution_count": 118,
   "metadata": {},
   "outputs": [],
   "source": [
    "ndvi_segment = ndvi.rio.clip_box(*tst_sub.total_bounds)"
   ]
  },
  {
   "cell_type": "markdown",
   "metadata": {},
   "source": [
    "We need to rasterize the features:"
   ]
  },
  {
   "cell_type": "code",
   "execution_count": 119,
   "metadata": {},
   "outputs": [
    {
     "name": "stdout",
     "output_type": "stream",
     "text": [
      "CPU times: user 318 ms, sys: 5.81 ms, total: 324 ms\n",
      "Wall time: 323 ms\n"
     ]
    }
   ],
   "source": [
    "%%time\n",
    "out_grid = make_geocube(\n",
    "    vector_data = tst_sub,\n",
    "    measurements=[\"uID\"],\n",
    "    like=ndvi_segment\n",
    ")"
   ]
  },
  {
   "cell_type": "markdown",
   "metadata": {},
   "source": [
    "This creates a `DataSet` object with a rasterised version of the tesselations in `tst`. Now we append the NDVI:"
   ]
  },
  {
   "cell_type": "code",
   "execution_count": 120,
   "metadata": {},
   "outputs": [],
   "source": [
    "out_grid[\"ndvi\"] = ndvi_segment"
   ]
  },
  {
   "cell_type": "markdown",
   "metadata": {},
   "source": [
    "And with both aligned, we can group by each `uID` and calculate average NDVI:"
   ]
  },
  {
   "cell_type": "code",
   "execution_count": 121,
   "metadata": {},
   "outputs": [
    {
     "name": "stdout",
     "output_type": "stream",
     "text": [
      "CPU times: user 598 ms, sys: 2.23 ms, total: 601 ms\n",
      "Wall time: 598 ms\n"
     ]
    }
   ],
   "source": [
    "%%time\n",
    "g = out_grid.drop(\"spatial_ref\")\\\n",
    "            .groupby(out_grid[\"uID\"])"
   ]
  },
  {
   "cell_type": "markdown",
   "metadata": {},
   "source": [
    "And we can get the average easily:"
   ]
  },
  {
   "cell_type": "code",
   "execution_count": 127,
   "metadata": {},
   "outputs": [
    {
     "name": "stdout",
     "output_type": "stream",
     "text": [
      "CPU times: user 6.21 s, sys: 2.89 ms, total: 6.22 s\n",
      "Wall time: 6.21 s\n"
     ]
    }
   ],
   "source": [
    "%%time\n",
    "ndvi_mean = g.mean()"
   ]
  },
  {
   "cell_type": "code",
   "execution_count": 132,
   "metadata": {},
   "outputs": [
    {
     "name": "stderr",
     "output_type": "stream",
     "text": [
      "/opt/conda/lib/python3.8/site-packages/dask/core.py:121: RuntimeWarning: invalid value encountered in true_divide\n",
      "  return func(*(_execute_task(a, cache) for a in args))\n",
      "/opt/conda/lib/python3.8/site-packages/dask/array/numpy_compat.py:41: RuntimeWarning: invalid value encountered in true_divide\n",
      "  x = np.divide(x1, x2, out)\n"
     ]
    }
   ],
   "source": [
    "mn = ndvi_mean.to_dataframe()[[\"ndvi\"]]"
   ]
  },
  {
   "cell_type": "code",
   "execution_count": 149,
   "metadata": {},
   "outputs": [
    {
     "name": "stderr",
     "output_type": "stream",
     "text": [
      "/opt/conda/lib/python3.8/site-packages/dask/core.py:121: RuntimeWarning: invalid value encountered in true_divide\n",
      "  return func(*(_execute_task(a, cache) for a in args))\n"
     ]
    },
    {
     "data": {
      "text/plain": [
       "0.6968843539763994"
      ]
     },
     "execution_count": 149,
     "metadata": {},
     "output_type": "execute_result"
    }
   ],
   "source": [
    "geom2ndvi(tst_sub.query(\"uID == 6712717\").iloc[0], ndvi)"
   ]
  },
  {
   "cell_type": "code",
   "execution_count": 153,
   "metadata": {},
   "outputs": [
    {
     "name": "stderr",
     "output_type": "stream",
     "text": [
      "/opt/conda/lib/python3.8/site-packages/dask/core.py:121: RuntimeWarning: invalid value encountered in true_divide\n",
      "  return func(*(_execute_task(a, cache) for a in args))\n",
      "/opt/conda/lib/python3.8/site-packages/dask/core.py:121: RuntimeWarning: invalid value encountered in true_divide\n",
      "  return func(*(_execute_task(a, cache) for a in args))\n",
      "/opt/conda/lib/python3.8/site-packages/dask/core.py:121: RuntimeWarning: invalid value encountered in true_divide\n",
      "  return func(*(_execute_task(a, cache) for a in args))\n",
      "/opt/conda/lib/python3.8/site-packages/dask/core.py:121: RuntimeWarning: invalid value encountered in true_divide\n",
      "  return func(*(_execute_task(a, cache) for a in args))\n"
     ]
    },
    {
     "name": "stdout",
     "output_type": "stream",
     "text": [
      "CPU times: user 1.6 s, sys: 14.6 ms, total: 1.62 s\n",
      "Wall time: 1.6 s\n"
     ]
    },
    {
     "name": "stderr",
     "output_type": "stream",
     "text": [
      "/opt/conda/lib/python3.8/site-packages/dask/core.py:121: RuntimeWarning: invalid value encountered in true_divide\n",
      "  return func(*(_execute_task(a, cache) for a in args))\n"
     ]
    }
   ],
   "source": [
    "%time out = tst_sub.head().apply(lambda r: geom2ndvi(r, ndvi), axis=1)"
   ]
  },
  {
   "cell_type": "code",
   "execution_count": 144,
   "metadata": {},
   "outputs": [
    {
     "data": {
      "text/html": [
       "<div>\n",
       "<style scoped>\n",
       "    .dataframe tbody tr th:only-of-type {\n",
       "        vertical-align: middle;\n",
       "    }\n",
       "\n",
       "    .dataframe tbody tr th {\n",
       "        vertical-align: top;\n",
       "    }\n",
       "\n",
       "    .dataframe thead th {\n",
       "        text-align: right;\n",
       "    }\n",
       "</style>\n",
       "<table border=\"1\" class=\"dataframe\">\n",
       "  <thead>\n",
       "    <tr style=\"text-align: right;\">\n",
       "      <th></th>\n",
       "      <th>uID</th>\n",
       "      <th>geometry</th>\n",
       "      <th>enclosureID</th>\n",
       "    </tr>\n",
       "  </thead>\n",
       "  <tbody>\n",
       "    <tr>\n",
       "      <th>22988</th>\n",
       "      <td>6712717</td>\n",
       "      <td>POLYGON Z ((329700.369 234529.467 0.000, 32945...</td>\n",
       "      <td>658102</td>\n",
       "    </tr>\n",
       "  </tbody>\n",
       "</table>\n",
       "</div>"
      ],
      "text/plain": [
       "           uID                                           geometry  enclosureID\n",
       "22988  6712717  POLYGON Z ((329700.369 234529.467 0.000, 32945...       658102"
      ]
     },
     "execution_count": 144,
     "metadata": {},
     "output_type": "execute_result"
    }
   ],
   "source": [
    "tst_sub.query(\"uID == 6712717\")"
   ]
  },
  {
   "cell_type": "code",
   "execution_count": 141,
   "metadata": {},
   "outputs": [
    {
     "data": {
      "text/html": [
       "<div>\n",
       "<style scoped>\n",
       "    .dataframe tbody tr th:only-of-type {\n",
       "        vertical-align: middle;\n",
       "    }\n",
       "\n",
       "    .dataframe tbody tr th {\n",
       "        vertical-align: top;\n",
       "    }\n",
       "\n",
       "    .dataframe thead th {\n",
       "        text-align: right;\n",
       "    }\n",
       "</style>\n",
       "<table border=\"1\" class=\"dataframe\">\n",
       "  <thead>\n",
       "    <tr style=\"text-align: right;\">\n",
       "      <th></th>\n",
       "      <th>ndvi</th>\n",
       "    </tr>\n",
       "    <tr>\n",
       "      <th>uID</th>\n",
       "      <th></th>\n",
       "    </tr>\n",
       "  </thead>\n",
       "  <tbody>\n",
       "    <tr>\n",
       "      <th>6712717.0</th>\n",
       "      <td>NaN</td>\n",
       "    </tr>\n",
       "    <tr>\n",
       "      <th>6712718.0</th>\n",
       "      <td>0.682241</td>\n",
       "    </tr>\n",
       "    <tr>\n",
       "      <th>6712719.0</th>\n",
       "      <td>0.675091</td>\n",
       "    </tr>\n",
       "    <tr>\n",
       "      <th>6712720.0</th>\n",
       "      <td>NaN</td>\n",
       "    </tr>\n",
       "    <tr>\n",
       "      <th>6712721.0</th>\n",
       "      <td>0.537544</td>\n",
       "    </tr>\n",
       "  </tbody>\n",
       "</table>\n",
       "</div>"
      ],
      "text/plain": [
       "               ndvi\n",
       "uID                \n",
       "6712717.0       NaN\n",
       "6712718.0  0.682241\n",
       "6712719.0  0.675091\n",
       "6712720.0       NaN\n",
       "6712721.0  0.537544"
      ]
     },
     "execution_count": 141,
     "metadata": {},
     "output_type": "execute_result"
    }
   ],
   "source": [
    "mn.head()"
   ]
  }
 ],
 "metadata": {
  "kernelspec": {
   "display_name": "Python 3",
   "language": "python",
   "name": "python3"
  },
  "language_info": {
   "codemirror_mode": {
    "name": "ipython",
    "version": 3
   },
   "file_extension": ".py",
   "mimetype": "text/x-python",
   "name": "python",
   "nbconvert_exporter": "python",
   "pygments_lexer": "ipython3",
   "version": "3.8.6"
  }
 },
 "nbformat": 4,
 "nbformat_minor": 4
}
