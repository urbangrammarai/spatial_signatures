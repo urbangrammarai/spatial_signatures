{
 "cells": [
  {
   "cell_type": "markdown",
   "id": "sonic-border",
   "metadata": {},
   "source": [
    "# Create inscribed circles\n",
    "\n",
    "This notebook creates a center and a radius of a maximum inscribed circle of each enclosed tessellation cell. \n",
    "\n",
    "It requires custom piece of code within pygeos. Therefore, we use a custom docker container based on `docker/Dockerfile`."
   ]
  },
  {
   "cell_type": "code",
   "execution_count": 9,
   "id": "incorrect-lafayette",
   "metadata": {},
   "outputs": [],
   "source": [
    "from dask.distributed import Client, LocalCluster, as_completed\n",
    "from tqdm.notebook import tqdm\n",
    "from time import time"
   ]
  },
  {
   "cell_type": "code",
   "execution_count": 6,
   "id": "civil-british",
   "metadata": {},
   "outputs": [
    {
     "data": {
      "text/html": [
       "<table style=\"border: 2px solid white;\">\n",
       "<tr>\n",
       "<td style=\"vertical-align: top; border: 0px solid white\">\n",
       "<h3 style=\"text-align: left;\">Client</h3>\n",
       "<ul style=\"text-align: left; list-style: none; margin: 0; padding: 0;\">\n",
       "  <li><b>Scheduler: </b>tcp://127.0.0.1:44843</li>\n",
       "  <li><b>Dashboard: </b><a href='http://127.0.0.1:8787/status' target='_blank'>http://127.0.0.1:8787/status</a></li>\n",
       "</ul>\n",
       "</td>\n",
       "<td style=\"vertical-align: top; border: 0px solid white\">\n",
       "<h3 style=\"text-align: left;\">Cluster</h3>\n",
       "<ul style=\"text-align: left; list-style:none; margin: 0; padding: 0;\">\n",
       "  <li><b>Workers: </b>4</li>\n",
       "  <li><b>Cores: </b>16</li>\n",
       "  <li><b>Memory: </b>134.91 GB</li>\n",
       "</ul>\n",
       "</td>\n",
       "</tr>\n",
       "</table>"
      ],
      "text/plain": [
       "<Client: 'tcp://127.0.0.1:44843' processes=4 threads=16, memory=134.91 GB>"
      ]
     },
     "execution_count": 6,
     "metadata": {},
     "output_type": "execute_result"
    }
   ],
   "source": [
    "client = Client(LocalCluster())\n",
    "client"
   ]
  },
  {
   "cell_type": "code",
   "execution_count": 10,
   "id": "representative-sapphire",
   "metadata": {},
   "outputs": [],
   "source": [
    "def _circle(chunk):\n",
    "    import geopandas as gpd\n",
    "    import pygeos\n",
    "    gpd._compat.USE_PYGEOS = True\n",
    "    \n",
    "    s = time()\n",
    "    df = gpd.read_parquet(f'../../urbangrammar_samba/spatial_signatures/tessellation/tess_{chunk}.pq', columns=['hindex', 'tessellation'])\n",
    "    geoms = df.tessellation.values.data\n",
    "    insc = pygeos.constructive.maximum_inscribed_circle(geoms, 0.1)\n",
    "    lenghts = pygeos.length(insc)\n",
    "    points = pygeos.points(pygeos.get_coordinates(insc)[::2])\n",
    "    res = gpd.GeoDataFrame({'hindex': df.hindex, 'radius': lenghts}, geometry=points, crs=27700, index=df.index)\n",
    "    res.to_parquet(f'../../urbangrammar_samba/spatial_signatures/inscribed_circle/circle_{chunk}.pq')\n",
    "    return f\"Chunk {chunk} processed sucessfully in {time() - s} seconds.\""
   ]
  },
  {
   "cell_type": "code",
   "execution_count": 11,
   "id": "colored-circular",
   "metadata": {},
   "outputs": [
    {
     "name": "stdout",
     "output_type": "stream",
     "text": [
      "Chunk 11 processed sucessfully in 75.18252611160278 seconds.\n",
      "Chunk 3 processed sucessfully in 79.87826347351074 seconds.\n",
      "Chunk 0 processed sucessfully in 86.3075304031372 seconds.\n",
      "Chunk 2 processed sucessfully in 89.55268573760986 seconds.\n",
      "Chunk 10 processed sucessfully in 90.74024438858032 seconds.\n",
      "Chunk 1 processed sucessfully in 97.34478044509888 seconds.\n",
      "Chunk 9 processed sucessfully in 100.90103268623352 seconds.\n",
      "Chunk 15 processed sucessfully in 108.83816909790039 seconds.\n",
      "Chunk 13 processed sucessfully in 111.28670144081116 seconds.\n",
      "Chunk 7 processed sucessfully in 112.3213279247284 seconds.\n",
      "Chunk 8 processed sucessfully in 115.32112979888916 seconds.\n",
      "Chunk 14 processed sucessfully in 122.33609461784363 seconds.\n",
      "Chunk 4 processed sucessfully in 127.47185468673706 seconds.\n",
      "Chunk 17 processed sucessfully in 79.50266242027283 seconds.\n",
      "Chunk 18 processed sucessfully in 74.23960661888123 seconds.\n",
      "Chunk 16 processed sucessfully in 86.40599298477173 seconds.\n",
      "Chunk 12 processed sucessfully in 167.05304145812988 seconds.\n",
      "Chunk 20 processed sucessfully in 79.75736093521118 seconds.\n",
      "Chunk 21 processed sucessfully in 80.58741903305054 seconds.\n",
      "Chunk 22 processed sucessfully in 80.6435329914093 seconds.\n",
      "Chunk 25 processed sucessfully in 72.32591104507446 seconds.\n",
      "Chunk 23 processed sucessfully in 79.83560848236084 seconds.\n",
      "Chunk 19 processed sucessfully in 105.1453025341034 seconds.\n",
      "Chunk 5 processed sucessfully in 195.1716525554657 seconds.\n",
      "Chunk 28 processed sucessfully in 73.44700741767883 seconds.\n",
      "Chunk 6 processed sucessfully in 207.29619550704956 seconds.\n",
      "Chunk 24 processed sucessfully in 106.48440980911255 seconds.\n",
      "Chunk 27 processed sucessfully in 102.46933102607727 seconds.\n",
      "Chunk 26 processed sucessfully in 128.02418613433838 seconds.\n",
      "Chunk 29 processed sucessfully in 88.51605463027954 seconds.\n",
      "Chunk 30 processed sucessfully in 88.9432635307312 seconds.\n",
      "Chunk 31 processed sucessfully in 94.05712509155273 seconds.\n",
      "Chunk 36 processed sucessfully in 76.88225984573364 seconds.\n",
      "Chunk 34 processed sucessfully in 85.03011465072632 seconds.\n",
      "Chunk 33 processed sucessfully in 93.47328281402588 seconds.\n",
      "Chunk 35 processed sucessfully in 93.31725096702576 seconds.\n",
      "Chunk 39 processed sucessfully in 84.95077896118164 seconds.\n",
      "Chunk 37 processed sucessfully in 103.69995832443237 seconds.\n",
      "Chunk 43 processed sucessfully in 78.75121450424194 seconds.\n",
      "Chunk 41 processed sucessfully in 98.14898085594177 seconds.\n",
      "Chunk 32 processed sucessfully in 151.09507703781128 seconds.\n",
      "Chunk 44 processed sucessfully in 82.31604027748108 seconds.\n",
      "Chunk 42 processed sucessfully in 114.99541783332825 seconds.\n",
      "Chunk 47 processed sucessfully in 82.50904440879822 seconds.\n",
      "Chunk 46 processed sucessfully in 99.27299094200134 seconds.\n",
      "Chunk 45 processed sucessfully in 102.41146564483643 seconds.\n",
      "Chunk 52 processed sucessfully in 73.63012290000916 seconds.\n",
      "Chunk 49 processed sucessfully in 94.9011583328247 seconds.\n",
      "Chunk 40 processed sucessfully in 158.7320909500122 seconds.\n",
      "Chunk 50 processed sucessfully in 96.84051871299744 seconds.\n",
      "Chunk 48 processed sucessfully in 101.36079668998718 seconds.\n",
      "Chunk 38 processed sucessfully in 171.39834427833557 seconds.\n",
      "Chunk 51 processed sucessfully in 94.71584892272949 seconds.\n",
      "Chunk 55 processed sucessfully in 71.53085708618164 seconds.\n",
      "Chunk 53 processed sucessfully in 93.04612755775452 seconds.\n",
      "Chunk 54 processed sucessfully in 96.173100233078 seconds.\n",
      "Chunk 56 processed sucessfully in 99.22452998161316 seconds.\n",
      "Chunk 57 processed sucessfully in 92.65790843963623 seconds.\n",
      "Chunk 58 processed sucessfully in 91.41398882865906 seconds.\n",
      "Chunk 59 processed sucessfully in 91.25998950004578 seconds.\n",
      "Chunk 60 processed sucessfully in 86.61306047439575 seconds.\n",
      "Chunk 63 processed sucessfully in 89.7208001613617 seconds.\n",
      "Chunk 62 processed sucessfully in 107.36594891548157 seconds.\n",
      "Chunk 69 processed sucessfully in 96.30247735977173 seconds.\n",
      "Chunk 65 processed sucessfully in 112.9035873413086 seconds.\n",
      "Chunk 68 processed sucessfully in 113.88563823699951 seconds.\n",
      "Chunk 66 processed sucessfully in 120.90739822387695 seconds.\n",
      "Chunk 70 processed sucessfully in 105.3549063205719 seconds.\n",
      "Chunk 72 processed sucessfully in 85.64587545394897 seconds.\n",
      "Chunk 71 processed sucessfully in 107.28501224517822 seconds.\n",
      "Chunk 74 processed sucessfully in 88.7121856212616 seconds.\n",
      "Chunk 61 processed sucessfully in 163.17906045913696 seconds.\n",
      "Chunk 67 processed sucessfully in 147.67236065864563 seconds.\n",
      "Chunk 64 processed sucessfully in 162.09181380271912 seconds.\n",
      "Chunk 73 processed sucessfully in 117.76950526237488 seconds.\n",
      "Chunk 76 processed sucessfully in 105.27343320846558 seconds.\n",
      "Chunk 78 processed sucessfully in 80.98367524147034 seconds.\n",
      "Chunk 75 processed sucessfully in 114.53599977493286 seconds.\n",
      "Chunk 77 processed sucessfully in 101.85784840583801 seconds.\n",
      "Chunk 79 processed sucessfully in 78.74561047554016 seconds.\n",
      "Chunk 81 processed sucessfully in 81.6527853012085 seconds.\n",
      "Chunk 82 processed sucessfully in 88.69246315956116 seconds.\n",
      "Chunk 80 processed sucessfully in 102.27177405357361 seconds.\n",
      "Chunk 84 processed sucessfully in 86.50438046455383 seconds.\n",
      "Chunk 83 processed sucessfully in 112.60691523551941 seconds.\n",
      "Chunk 90 processed sucessfully in 72.91517686843872 seconds.\n",
      "Chunk 86 processed sucessfully in 100.6086437702179 seconds.\n",
      "Chunk 93 processed sucessfully in 74.9451117515564 seconds.\n",
      "Chunk 91 processed sucessfully in 82.35606026649475 seconds.\n",
      "Chunk 88 processed sucessfully in 110.23749661445618 seconds.\n",
      "Chunk 94 processed sucessfully in 75.01656985282898 seconds.\n",
      "Chunk 87 processed sucessfully in 120.26353168487549 seconds.\n",
      "Chunk 96 processed sucessfully in 73.48248147964478 seconds.\n",
      "Chunk 85 processed sucessfully in 132.50018501281738 seconds.\n",
      "Chunk 95 processed sucessfully in 89.38614797592163 seconds.\n",
      "Chunk 92 processed sucessfully in 109.92542171478271 seconds.\n",
      "Chunk 97 processed sucessfully in 79.90889811515808 seconds.\n",
      "Chunk 99 processed sucessfully in 72.52620553970337 seconds.\n",
      "Chunk 89 processed sucessfully in 143.69170308113098 seconds.\n",
      "Chunk 102 processed sucessfully in 58.38040852546692 seconds.\n",
      "Chunk 100 processed sucessfully in 68.74128866195679 seconds.\n",
      "Chunk 98 processed sucessfully in 98.71787142753601 seconds.\n",
      "Chunk 101 processed sucessfully in 97.21494770050049 seconds.\n",
      "CPU times: user 19.2 s, sys: 2.08 s, total: 21.2 s\n",
      "Wall time: 11min 48s\n"
     ]
    }
   ],
   "source": [
    "%%time\n",
    "workers=16\n",
    "inputs = iter(range(103))\n",
    "futures = [client.submit(_circle, next(inputs)) for i in range(workers)]\n",
    "ac = as_completed(futures)\n",
    "for finished_future in ac:\n",
    "    # submit new future \n",
    "    try:\n",
    "        new_future = client.submit(_circle, next(inputs))\n",
    "        ac.add(new_future)\n",
    "    except StopIteration:\n",
    "        pass\n",
    "    print(finished_future.result())"
   ]
  },
  {
   "cell_type": "code",
   "execution_count": null,
   "id": "following-endorsement",
   "metadata": {},
   "outputs": [],
   "source": []
  }
 ],
 "metadata": {
  "kernelspec": {
   "display_name": "Python 3",
   "language": "python",
   "name": "python3"
  },
  "language_info": {
   "codemirror_mode": {
    "name": "ipython",
    "version": 3
   },
   "file_extension": ".py",
   "mimetype": "text/x-python",
   "name": "python",
   "nbconvert_exporter": "python",
   "pygments_lexer": "ipython3",
   "version": "3.8.8"
  }
 },
 "nbformat": 4,
 "nbformat_minor": 5
}
