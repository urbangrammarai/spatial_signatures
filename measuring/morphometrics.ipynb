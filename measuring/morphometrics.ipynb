{
 "cells": [
  {
   "cell_type": "markdown",
   "metadata": {},
   "source": [
    "# Urban morphometrics\n",
    "\n",
    "Morpohometric assessment measure wide range of characters of urban form to derive a complex description of built-up patterns composed of enclosed tessellation, buildings and street network.\n",
    "\n",
    "All algorithms used within this notebook are part of `momepy` Python toolkit and can be used from there. We have extracted them from `momepy`, adapted for `dask` and `pygeos` and used in raw form tailored directly to our use case. The algorithms which were enhanced are pushed back to momepy and will be part of `momepy` 0.4.0.\n",
    "\n",
    "All steps within this notebook are parallelised using `dask`. The first part, which measures aspects of individual elements (does not require to know the context) uses pre-release of `dask-geopandas`. The rest uses `dask` to manage parallel iteration over geo-chunks with single-core algorithms. \n",
    "\n",
    "Some functions are imported from a `momepy_utils.py` file stored wihtin this directory. Those are either helper functions taken directly from momepy or their enhanced versions, all which will be included in the next release of momepy:\n",
    "\n",
    "- `get_edge_ratios` is implemented in momepy 0.4.0 as `get_network_ratio`\n",
    "- `get_nodes` is included in `get_node_id`\n",
    "- remaining functions have been used to refactor existing momepy classes.\n",
    "\n",
    "\n",
    "## Individual elements\n",
    "\n",
    "Note: Requires dask-geopandas and current master of geopandas to support dask version."
   ]
  },
  {
   "cell_type": "code",
   "execution_count": null,
   "metadata": {},
   "outputs": [],
   "source": [
    "# !pip install git+git://github.com/jsignell/dask-geopandas.git\n",
    "# !pip install git+git://github.com/geopandas/geopandas.git"
   ]
  },
  {
   "cell_type": "code",
   "execution_count": 4,
   "metadata": {},
   "outputs": [],
   "source": [
    "import time\n",
    "import warnings\n",
    "from time import time\n",
    "\n",
    "import dask.dataframe as dd\n",
    "import dask_geopandas as dask_geopandas\n",
    "import geopandas\n",
    "import libpysal\n",
    "import momepy\n",
    "import networkx as nx\n",
    "import numpy as np\n",
    "import pandas as pd\n",
    "import pygeos\n",
    "import scipy\n",
    "from tqdm.notebook import tqdm\n",
    "from dask.distributed import Client, LocalCluster, as_completed\n",
    "from libpysal.weights import Queen\n",
    "from momepy_utils import (\n",
    "    _circle_radius,\n",
    "    centroid_corner,\n",
    "    elongation,\n",
    "    get_corners,\n",
    "    get_edge_ratios,\n",
    "    get_nodes,\n",
    "    solar_orientation_poly,\n",
    "    squareness,\n",
    ")"
   ]
  },
  {
   "cell_type": "markdown",
   "metadata": {},
   "source": [
    "We are using a single machine wihtin this notebook with 14 cores, so we start local dask cluster with 14 workers. "
   ]
  },
  {
   "cell_type": "code",
   "execution_count": null,
   "metadata": {},
   "outputs": [],
   "source": [
    "client = Client(LocalCluster(n_workers=14))\n",
    "client"
   ]
  },
  {
   "cell_type": "markdown",
   "metadata": {},
   "source": [
    "`dask-geopandas` is still under development and raises few warnigns at the moment, all which can be ignored."
   ]
  },
  {
   "cell_type": "code",
   "execution_count": null,
   "metadata": {},
   "outputs": [],
   "source": [
    "warnings.filterwarnings('ignore', message='.*initial implementation of Parquet.*')\n",
    "warnings.filterwarnings('ignore', message='.*Assigning CRS to a GeoDataFrame without a geometry*')"
   ]
  },
  {
   "cell_type": "markdown",
   "metadata": {},
   "source": [
    "### Measuring buildings and enclosed cells\n",
    "\n",
    "In the first step, we iterate over geo-chunks, merge enclosed tessellation and buildings to a single `geopandas.GeoDataFrame` and convert it to `dask.GeoDataFrame`. The rest of the code is mostly an extraction from momepy source code adapted for dask."
   ]
  },
  {
   "cell_type": "code",
   "execution_count": null,
   "metadata": {},
   "outputs": [],
   "source": [
    "for chunk_id in tqdm(range(103), total=103):\n",
    "    \n",
    "    # Load data and merge them together\n",
    "    blg = geopandas.read_parquet(f\"../../urbangrammar_samba/spatial_signatures/buildings/blg_{chunk_id}.pq\")\n",
    "    tess = geopandas.read_parquet(f\"../../urbangrammar_samba/spatial_signatures/tessellation/tess_{chunk_id}.pq\")\n",
    "    \n",
    "    blg = blg.rename_geometry('buildings')\n",
    "    tess = tess.rename_geometry('tessellation')\n",
    "\n",
    "    df = tess.merge(blg, on='uID', how='left')\n",
    "    \n",
    "    # Convert to dask.GeoDataFrame\n",
    "    ddf = dask_geopandas.from_geopandas(df, npartitions=14)\n",
    "    \n",
    "    ## Measure morphometric characters\n",
    "    # Building area\n",
    "    ddf['sdbAre'] = ddf.buildings.area\n",
    "    \n",
    "    # Building perimeter\n",
    "    ddf['sdbPer'] = ddf.buildings.length\n",
    "    \n",
    "    # Courtyard area\n",
    "    exterior_area = ddf.buildings.map_partitions(lambda series: pygeos.area(pygeos.polygons(series.exterior.values.data)), meta='float')\n",
    "    ddf['sdbCoA'] = exterior_area - ddf['sdbAre']\n",
    "\n",
    "    # Circular compactness\n",
    "    hull = ddf.buildings.convex_hull.exterior\n",
    "\n",
    "    radius = hull.apply(lambda g: _circle_radius(list(g.coords)) if g is not None else None, meta='float')\n",
    "    ddf['ssbCCo'] = ddf['sdbAre'] / (np.pi * radius ** 2)\n",
    "\n",
    "    # Corners\n",
    "    ddf['ssbCor'] = ddf.buildings.apply(lambda g: get_corners(g), meta='float')\n",
    "\n",
    "    # Squareness\n",
    "    ddf['ssbSqu'] = ddf.buildings.apply(lambda g: squareness(g), meta='float')\n",
    "    \n",
    "    # Equivalent rectangular index\n",
    "    bbox = ddf.buildings.apply(lambda g: g.minimum_rotated_rectangle if g is not None else None, meta=geopandas.GeoSeries())\n",
    "    ddf['ssbERI'] = (ddf['sdbAre'] / bbox.area).pow(1./2) * (bbox.length / ddf['sdbPer'])\n",
    "\n",
    "    # Elongation\n",
    "    ddf['ssbElo'] = bbox.map_partitions(lambda s: elongation(s), meta='float')\n",
    "    \n",
    "    # Centroid corner mean distance and deviation\n",
    "    def _centroid_corner(series):\n",
    "        ccd = series.apply(lambda g: centroid_corner(g))\n",
    "        return pd.DataFrame(ccd.to_list(), index=series.index)\n",
    "\n",
    "    \n",
    "    ddf[['ssbCCM', 'ssbCCD']] = ddf.buildings.map_partitions(_centroid_corner, meta=pd.DataFrame({0: [0.1], 1: [1.1]}))\n",
    "    \n",
    "    # Solar orientation\n",
    "    ddf['stbOri'] = bbox.apply(lambda g: solar_orientation_poly(g), meta='float')\n",
    "    \n",
    "    # Tessellation longest axis length\n",
    "    hull = ddf.tessellation.convex_hull.exterior\n",
    "\n",
    "    ddf['sdcLAL'] = hull.apply(lambda g: _circle_radius(list(g.coords)), meta='float') * 2\n",
    "    \n",
    "    # Tessellation area\n",
    "    ddf['sdcAre'] = ddf.tessellation.area\n",
    "    \n",
    "    # Circular compactness\n",
    "    radius = hull.apply(lambda g: _circle_radius(list(g.coords)), meta='float')\n",
    "    ddf['sscCCo'] = ddf['sdcAre'] / (np.pi * radius ** 2)\n",
    "    \n",
    "    # Equivalent rectangular index\n",
    "    bbox = ddf.tessellation.apply(lambda g: g.minimum_rotated_rectangle, meta=geopandas.GeoSeries())\n",
    "    ddf['sscERI'] = (ddf['sdcAre'] / bbox.area).pow(1./2) * (bbox.length / ddf.tessellation.length)\n",
    "    \n",
    "    # Solar orientation\n",
    "    ddf['stcOri'] = bbox.apply(lambda g: solar_orientation_poly(g), meta='float')\n",
    "    \n",
    "    # Covered area ratio\n",
    "    ddf['sicCAR'] = ddf['sdbAre'] / ddf['sdcAre']\n",
    "    \n",
    "    # Building-cell alignment\n",
    "    ddf['stbCeA'] = (ddf['stbOri'] - ddf['stcOri']).abs()\n",
    "    \n",
    "    # Compute all characters using dask\n",
    "    df = ddf.compute()\n",
    "    \n",
    "    # Save to parquet file\n",
    "    df.to_parquet(f\"../../urbangrammar_samba/spatial_signatures/morphometrics/cells/cells_{chunk_id}.pq\")\n",
    "    client.restart()\n",
    "    time.sleep(5)"
   ]
  },
  {
   "cell_type": "markdown",
   "metadata": {},
   "source": [
    "### Measuring enclosures\n",
    "\n",
    "All enclosures are loaded as a single dask.GeoDataFrame and measured at once."
   ]
  },
  {
   "cell_type": "code",
   "execution_count": null,
   "metadata": {},
   "outputs": [],
   "source": [
    "%%time\n",
    "# Load data\n",
    "encl = dask_geopandas.read_parquet(\"../../urbangrammar_samba/spatial_signatures/enclosures/encl_*.pq\")\n",
    "\n",
    "# Area\n",
    "encl['ldeAre'] = encl.geometry.area\n",
    "\n",
    "# Perimeter\n",
    "encl['ldePer'] = encl.geometry.length\n",
    "\n",
    "# Circular compacntess\n",
    "hull = encl.geometry.convex_hull.exterior\n",
    "\n",
    "radius = hull.apply(lambda g: _circle_radius(list(g.coords)) if g is not None else None, meta='float')\n",
    "encl['lseCCo'] = encl['ldeAre'] / (np.pi * radius ** 2)\n",
    "\n",
    "# Equivalent rectangular index\n",
    "bbox = encl.geometry.apply(lambda g: g.minimum_rotated_rectangle if g is not None else None, meta=geopandas.GeoSeries())\n",
    "encl['lseERI'] = (encl['ldeAre'] / bbox.area).pow(1./2) * (bbox.length / encl['ldePer'])\n",
    "\n",
    "# Compactness-weighted axis\n",
    "longest_axis = hull.apply(lambda g: _circle_radius(list(g.coords)), meta='float') * 2\n",
    "encl['lseCWA'] = longest_axis * ((4 / np.pi) - (16 * encl['ldeAre']) / ((encl['ldePer']) ** 2))\n",
    "\n",
    "# Solar orientation\n",
    "encl['lteOri'] = bbox.apply(lambda g: solar_orientation_poly(g), meta='float')\n",
    "\n",
    "# Compute data and return geopandas.GeoDataFrame\n",
    "encl_df = encl.compute()\n",
    "\n",
    "# Weighted number of neighbors\n",
    "inp, res = encl_df.sindex.query_bulk(encl_df.geometry, predicate='intersects')\n",
    "indices, counts = np.unique(inp, return_counts=True)\n",
    "encl_df['neighbors'] = counts - 1\n",
    "encl_df['lteWNB'] = encl_df['neighbors'] / encl_df['ldePer']\n",
    "\n",
    "# Load complete enclosed tessellation as a dask.GeoDataFrame\n",
    "tess = dd.read_parquet(\"../../urbangrammar_samba/spatial_signatures/tessellation/tess_*.pq\")\n",
    "\n",
    "# Measure weighted cells within enclosure\n",
    "encl_counts = tess.groupby('enclosureID').count().compute()\n",
    "merged = encl_df[['enclosureID', 'ldeAre']].merge(encl_counts[['geometry']], how='left', on='enclosureID')\n",
    "encl_df['lieWCe'] = merged['geometry'] / merged['ldeAre']\n",
    "\n",
    "# Save data to parquet\n",
    "encl_df.drop(columns='geometry').to_parquet(\"../../urbangrammar_samba/spatial_signatures/morphometrics/enclosures.pq\")"
   ]
  },
  {
   "cell_type": "markdown",
   "metadata": {},
   "source": [
    "We can now close dask client."
   ]
  },
  {
   "cell_type": "code",
   "execution_count": null,
   "metadata": {},
   "outputs": [],
   "source": [
    "client.close()"
   ]
  },
  {
   "cell_type": "markdown",
   "metadata": {},
   "source": [
    "## Generate spatial weights (W)\n",
    "\n",
    "Subsequent steps will require understanding of the context of each tessellation cell in a form of spatial weights matrices (Queen contiguity and Queen contiguty of inclusive 3rd order). We generate them beforehand and store as `npz` files representing sparse matrix.\n",
    "\n",
    "Each geo-chunk is loaded together with relevant cross-chunk tessellation cells (to avoid edge effect). We use dask to parallelise the iteration. Number of workers is smaller now to ensure enough memory for each chunk."
   ]
  },
  {
   "cell_type": "code",
   "execution_count": null,
   "metadata": {},
   "outputs": [],
   "source": [
    "workers = 8\n",
    "client = Client(LocalCluster(n_workers=workers, threads_per_worker=1))\n",
    "client"
   ]
  },
  {
   "cell_type": "markdown",
   "metadata": {},
   "source": [
    "First we have to specify a function doing the processing itself, where the only attribure is the `chunk_id`."
   ]
  },
  {
   "cell_type": "code",
   "execution_count": null,
   "metadata": {},
   "outputs": [],
   "source": [
    "def generate_w(chunk_id):\n",
    "    # load cells of a chunk\n",
    "    cells = geopandas.read_parquet(f\"../../urbangrammar_samba/spatial_signatures/morphometrics/cells/cells_{chunk_id}.pq\")\n",
    "    \n",
    "    # add neighbouring cells from other chunks\n",
    "    cross_chunk_cells = []\n",
    "    \n",
    "    for chunk, inds in cross_chunk.loc[chunk_id].indices.iteritems():\n",
    "        add_cells = geopandas.read_parquet(f\"../../urbangrammar_samba/spatial_signatures/morphometrics/cells/cells_{chunk}.pq\").iloc[inds]\n",
    "        cross_chunk_cells.append(add_cells)\n",
    "    \n",
    "    df = cells.append(pd.concat(cross_chunk_cells, ignore_index=True), ignore_index=True)\n",
    "\n",
    "    w = libpysal.weights.Queen.from_dataframe(df, geom_col='tessellation')\n",
    "    w3 = momepy.sw_high(k=3, weights=w)\n",
    "    \n",
    "    scipy.sparse.save_npz(f\"../../urbangrammar_samba/spatial_signatures/weights/w_{chunk_id}.npz\", w.sparse)\n",
    "    scipy.sparse.save_npz(f\"../../urbangrammar_samba/spatial_signatures/weights/w3_{chunk_id}.npz\", w3.sparse)\n",
    "    \n",
    "    return f\"Chunk {chunk_id} processed sucessfully.\""
   ]
  },
  {
   "cell_type": "markdown",
   "metadata": {},
   "source": [
    "Then we use dask to iterate over all 103 chunks. The following script sends first 8 chunks to dask together and then submits a new chunk as soon as any of previous finishes (courtesy of Matthew Rocklin). That way we process only 8 chunks at once ensuring that we the cluster will not run out of memory."
   ]
  },
  {
   "cell_type": "code",
   "execution_count": null,
   "metadata": {},
   "outputs": [],
   "source": [
    "%%time\n",
    "inputs = iter(range(103))\n",
    "futures = [client.submit(generate_w, next(inputs)) for i in range(workers)]\n",
    "ac = as_completed(futures)\n",
    "for finished_future in ac:\n",
    "    # submit new future \n",
    "    try:\n",
    "        new_future = client.submit(generate_w, next(inputs))\n",
    "        ac.add(new_future)\n",
    "    except StopIteration:\n",
    "        pass\n",
    "    print(finished_future.result())"
   ]
  },
  {
   "cell_type": "code",
   "execution_count": null,
   "metadata": {},
   "outputs": [],
   "source": [
    "client.close()"
   ]
  },
  {
   "cell_type": "markdown",
   "metadata": {},
   "source": [
    "## Spatial distribution and network analysis\n",
    "\n",
    "To measure spatial distribution of we use single-core algorithm and parallelise iteration."
   ]
  },
  {
   "cell_type": "code",
   "execution_count": null,
   "metadata": {},
   "outputs": [],
   "source": [
    "workers = 8\n",
    "client = Client(LocalCluster(n_workers=workers, threads_per_worker=1))\n",
    "client"
   ]
  },
  {
   "cell_type": "markdown",
   "metadata": {},
   "source": [
    "We will need to load street network data from PostGIS datatabase, so we establish a connection which will be used within the loop."
   ]
  },
  {
   "cell_type": "code",
   "execution_count": null,
   "metadata": {},
   "outputs": [],
   "source": [
    "cross_chunk = pd.read_parquet('../../urbangrammar_samba/spatial_signatures/cross-chunk_indices.pq')\n",
    "chunks = geopandas.read_parquet('../../urbangrammar_samba/spatial_signatures/local_auth_chunks.pq')\n",
    "\n",
    "user = os.environ.get('DB_USER')\n",
    "pwd = os.environ.get('DB_PWD')\n",
    "host = os.environ.get('DB_HOST')\n",
    "port = os.environ.get('DB_PORT')\n",
    "\n",
    "db_connection_url = f\"postgres+psycopg2://{user}:{pwd}@{host}:{port}/built_env\""
   ]
  },
  {
   "cell_type": "markdown",
   "metadata": {},
   "source": [
    "Within the same function below we measure spatial distribution of elements and network-based characters."
   ]
  },
  {
   "cell_type": "code",
   "execution_count": null,
   "metadata": {},
   "outputs": [],
   "source": [
    "def measure(chunk_id):\n",
    "    # load cells of a chunk\n",
    "    cells = geopandas.read_parquet(f\"../../urbangrammar_samba/spatial_signatures/morphometrics/cells/cells_{chunk_id}.pq\")\n",
    "    cells['keep'] = True\n",
    "    \n",
    "    # add neighbouring cells from other chunks\n",
    "    cross_chunk_cells = []\n",
    "    \n",
    "    for chunk, inds in cross_chunk.loc[chunk_id].indices.iteritems():\n",
    "        add_cells = geopandas.read_parquet(f\"../../urbangrammar_samba/spatial_signatures/morphometrics/cells/cells_{chunk}.pq\").iloc[inds]\n",
    "        add_cells['keep'] = False\n",
    "        cross_chunk_cells.append(add_cells)\n",
    "    \n",
    "    df = cells.append(pd.concat(cross_chunk_cells, ignore_index=True), ignore_index=True)\n",
    "\n",
    "    # read W\n",
    "    w = libpysal.weights.WSP(scipy.sparse.load_npz(f\"../../urbangrammar_samba/spatial_signatures/weights/w_{chunk_id}.npz\")).to_W()\n",
    "    \n",
    "    # alignment\n",
    "    def alignment(x, orientation='stbOri'):\n",
    "        orientations = df[orientation].iloc[w.neighbors[x]]\n",
    "        return abs(orientations - df[orientation].iloc[x]).mean()\n",
    "    \n",
    "    df['mtbAli'] = [alignment(x) for x in range(len(df))]\n",
    "\n",
    "    # mean neighbour distance\n",
    "    def neighbor_distance(x):\n",
    "        geom = df.buildings.iloc[x]\n",
    "        if geom is None:\n",
    "            return np.nan\n",
    "        return df.buildings.iloc[w.neighbors[x]].distance(df.buildings.iloc[x]).mean()\n",
    "\n",
    "    df['mtbNDi'] = [neighbor_distance(x) for x in range(len(df))]\n",
    "    \n",
    "    # weighted neighbours\n",
    "    df['mtcWNe'] = pd.Series([w.cardinalities[x] for x in range(len(df))], index=df.index) / df.tessellation.length\n",
    "    \n",
    "    # area covered by neighbours\n",
    "    def area_covered(x, area='sdcAre'):\n",
    "        neighbours = [x]\n",
    "        neighbours += w.neighbors[x]\n",
    "\n",
    "        return df[area].iloc[neighbours].sum()\n",
    "\n",
    "    df['mdcAre'] = [area_covered(x) for x in range(len(df))]\n",
    "    \n",
    "    # read W3\n",
    "    w3 = libpysal.weights.WSP(scipy.sparse.load_npz(f\"../../urbangrammar_samba/spatial_signatures/weights/w3_{chunk_id}.npz\")).to_W()\n",
    "      \n",
    "    # weighted reached enclosures\n",
    "    def weighted_reached_enclosures(x, area='sdcAre', enclosure_id='enclosureID'):\n",
    "        neighbours = [x]\n",
    "        neighbours += w3.neighbors[x]\n",
    "\n",
    "        vicinity = df[[area, enclosure_id]].iloc[neighbours]\n",
    "\n",
    "        return vicinity[enclosure_id].unique().shape[0] / vicinity[area].sum()\n",
    "    \n",
    "    df['ltcWRE'] = [weighted_reached_enclosures(x) for x in range(len(df))]\n",
    "    \n",
    "    # mean interbuilding distance\n",
    "    # define adjacency list from lipysal\n",
    "    adj_list = w.to_adjlist(remove_symmetric=False)\n",
    "    adj_list[\"weight\"] = (\n",
    "        df.buildings.iloc[adj_list.focal]\n",
    "        .reset_index(drop=True)\n",
    "        .distance(df.buildings.iloc[adj_list.neighbor].reset_index(drop=True)).values\n",
    "    )\n",
    "\n",
    "    G = nx.from_pandas_edgelist(\n",
    "            adj_list, source=\"focal\", target=\"neighbor\", edge_attr=\"weight\"\n",
    "        )\n",
    "    ibd = []\n",
    "    for i in range(len(df)):\n",
    "        try:\n",
    "            sub = nx.ego_graph(G, i, radius=3)\n",
    "            ibd.append(np.nanmean([x[-1] for x in list(sub.edges.data('weight'))]))\n",
    "        except:\n",
    "            ibd.append(np.nan)\n",
    "\n",
    "    df['ltbIBD'] = ibd\n",
    "    \n",
    "    # Reached neighbors and area on 3 topological steps on tessellation\n",
    "    df['ltcRea'] = [w3.cardinalities[i] for i in range(len(df))]\n",
    "    df['ltcAre'] = [df.sdcAre.iloc[w3.neighbors[i]].sum() for i in range(len(df))]\n",
    "\n",
    "    # Save cells to parquet keeping only within-chunk data not the additional neighboring\n",
    "    df[df['keep']].drop(columns=['keep']).to_parquet(f\"../../urbangrammar_samba/spatial_signatures/morphometrics/cells/cells_{chunk_id}.pq\")\n",
    "\n",
    "    # Load street network for an extended chunk area\n",
    "    chunk_area = chunks.geometry.iloc[chunk_id].buffer(5000)  # we extend the area by 5km to minimise edge effect\n",
    "    engine = create_engine(db_connection_url)\n",
    "    sql = f\"SELECT * FROM openroads_200803_topological WHERE ST_Intersects(geometry, ST_GeomFromText('{chunk_area.wkt}',27700))\"\n",
    "    streets = geopandas.read_postgis(sql, engine, geom_col='geometry')\n",
    "    \n",
    "    # Street profile (measures width, width deviation and openness)\n",
    "    sp = street_profile(streets, blg)\n",
    "    streets['sdsSPW'] = sp[0]\n",
    "    streets['sdsSWD'] = sp[1]\n",
    "    streets['sdsSPO'] = sp[2]\n",
    "    \n",
    "    # Street segment length\n",
    "    streets['sdsLen'] = streets.length\n",
    "    \n",
    "    # Street segment linearity\n",
    "    streets['sssLin'] = momepy.Linearity(streets).series\n",
    "    \n",
    "    # Convert geopadnas.GeoDataFrame to networkx.Graph for network analysis\n",
    "    G = momepy.gdf_to_nx(streets)\n",
    "    \n",
    "    # Node degree\n",
    "    G = momepy.node_degree(G)\n",
    "    \n",
    "    # Subgraph analysis (meshedness, proportion of 0, 3 and 4 way intersections, local closeness)\n",
    "    G = momepy.subgraph(\n",
    "        G,\n",
    "        radius=5,\n",
    "        meshedness=True,\n",
    "        cds_length=False,\n",
    "        mode=\"sum\",\n",
    "        degree=\"degree\",\n",
    "        length=\"mm_len\",\n",
    "        mean_node_degree=False,\n",
    "        proportion={0: True, 3: True, 4: True},\n",
    "        cyclomatic=False,\n",
    "        edge_node_ratio=False,\n",
    "        gamma=False,\n",
    "        local_closeness=True,\n",
    "        closeness_weight=\"mm_len\",\n",
    "        verbose=False\n",
    "    )\n",
    "    \n",
    "    # Cul-de-sac length\n",
    "    G = momepy.cds_length(G, radius=3, name=\"ldsCDL\", verbose=False)\n",
    "    \n",
    "    # Square clustering\n",
    "    G = momepy.clustering(G, name=\"xcnSCl\")\n",
    "    \n",
    "    # Mean node distance\n",
    "    G = momepy.mean_node_dist(G, name=\"mtdMDi\", verbose=False)\n",
    "    \n",
    "    # Convert networkx.Graph back to GeoDataFrames and W (denoting relationships between nodes)\n",
    "    nodes, edges, sw = momepy.nx_to_gdf(G, spatial_weights=True)\n",
    "    \n",
    "    # Generate inclusive higher order weights\n",
    "    edges_w3 = momepy.sw_high(k=3, gdf=edges)\n",
    "    \n",
    "    # Mean segment length\n",
    "    edges[\"ldsMSL\"] = momepy.SegmentsLength(edges, spatial_weights=edges_w3, mean=True, verbose=False).series\n",
    "    \n",
    "    # Generate inclusive higher order weights\n",
    "    nodes_w5 = momepy.sw_high(k=5, weights=sw)\n",
    "    \n",
    "    # Node density\n",
    "    nodes[\"lddNDe\"] = momepy.NodeDensity(nodes, edges, nodes_w5, verbose=False).series\n",
    "    \n",
    "    # Weighter node density\n",
    "    nodes[\"linWID\"] = momepy.NodeDensity(nodes, edges, nodes_w5, weighted=True, node_degree=\"degree\", verbose=False).series\n",
    "    \n",
    "    # Save to parquets\n",
    "    edges.to_parquet(f\"../../urbangrammar_samba/spatial_signatures/morphometrics/edges/edges_{chunk_id}.pq\")\n",
    "    nodes.to_parquet(f\"../../urbangrammar_samba/spatial_signatures/morphometrics/nodes/nodes_{chunk_id}.pq\")\n",
    "\n",
    "\n",
    "    return f\"Chunk {chunk_id} processed sucessfully.\""
   ]
  },
  {
   "cell_type": "markdown",
   "metadata": {},
   "source": [
    "Again we use dask to iterate over all 103 chunks. The following script sends first 8 chunks to dask together and then submits a new chunk as soon as any of previous finishes. That way we process only 8 chunks at once ensuring that we the cluster will not run out of memory."
   ]
  },
  {
   "cell_type": "code",
   "execution_count": null,
   "metadata": {},
   "outputs": [],
   "source": [
    "inputs = iter(range(103))\n",
    "futures = [client.submit(measure, next(inputs)) for i in range(workers)]\n",
    "ac = as_completed(futures)\n",
    "for finished_future in ac:\n",
    "    # submit new future \n",
    "    try:\n",
    "        new_future = client.submit(measure, next(inputs))\n",
    "        ac.add(new_future)\n",
    "    except StopIteration:\n",
    "        pass\n",
    "    print(finished_future.result())"
   ]
  },
  {
   "cell_type": "code",
   "execution_count": null,
   "metadata": {},
   "outputs": [],
   "source": [
    "client.close()"
   ]
  },
  {
   "cell_type": "markdown",
   "metadata": {},
   "source": [
    "## Link elements together\n",
    "\n",
    "For the further analysis, we need to link data measured on individual elements together. We link cells to edges based on the proportion of overlap (if a cell intersects more than one edge) and nodes based on proximity (with a restriction - node has to be on linked edge). Enclosures are linked based on enclosure ID.\n",
    "\n",
    "As above, we define a single-core function and use dask to manage parallel iteration."
   ]
  },
  {
   "cell_type": "code",
   "execution_count": null,
   "metadata": {},
   "outputs": [],
   "source": [
    "def link(chunk_id):\n",
    "    s = time()\n",
    "    cells = geopandas.read_parquet(f\"../../urbangrammar_samba/spatial_signatures/morphometrics/cells/cells_{chunk_id}.pq\")\n",
    "    edges = geopandas.read_parquet(f\"../../urbangrammar_samba/spatial_signatures/morphometrics/edges/edges_{chunk_id}.pq\")\n",
    "    nodes = geopandas.read_parquet(f\"../../urbangrammar_samba/spatial_signatures/morphometrics/nodes/nodes_{chunk_id}.pq\")\n",
    "    \n",
    "    cells['edgeID'] = get_edge_ratios(cells, edges)\n",
    "    cells['nodeID'] = get_nodes(cells, nodes, edges, 'nodeID', 'edgeID', 'node_start', 'node_end')\n",
    "    \n",
    "    characters = ['sdsSPW', 'sdsSWD', 'sdsSPO', 'sdsLen', 'sssLin', 'ldsMSL']\n",
    "    l = []\n",
    "    for d in cells.edgeID:\n",
    "        l.append((edges.iloc[list(d.keys())][characters].multiply(list(d.values()), axis='rows')).sum(axis=0))\n",
    "    cells[characters] = pd.DataFrame(l, index=cells.index)\n",
    "    \n",
    "    cells = cells.merge(nodes.drop(columns=['geometry']), on='nodeID', how='left')\n",
    "    cells = cells.rename({'degree': 'mtdDeg', 'meshedness': 'lcdMes', 'proportion_3': 'linP3W', 'proportion_4': 'linP4W',\n",
    "                     'proportion_0': 'linPDE', 'local_closeness': 'lcnClo'}, axis='columns')\n",
    "    \n",
    "    cells['edgeID_keys'] = cells.edgeID.apply(lambda d: list(d.keys()))\n",
    "    cells['edgeID_values'] = cells.edgeID.apply(lambda d: list(d.values()))\n",
    "    \n",
    "    cells.drop(columns='edgeID').to_parquet(f\"../../urbangrammar_samba/spatial_signatures/morphometrics/cells/cells_{chunk_id}.pq\")\n",
    "    \n",
    "    return f\"Chunk {chunk_id} processed sucessfully in {time() - s} seconds.\""
   ]
  },
  {
   "cell_type": "code",
   "execution_count": null,
   "metadata": {},
   "outputs": [],
   "source": [
    "workers = 14\n",
    "client = Client(LocalCluster(n_workers=workers, threads_per_worker=1))\n",
    "client"
   ]
  },
  {
   "cell_type": "code",
   "execution_count": null,
   "metadata": {},
   "outputs": [],
   "source": [
    "%%time\n",
    "inputs = iter(range(103))\n",
    "futures = [client.submit(link, next(inputs)) for i in range(workers)]\n",
    "ac = as_completed(futures)\n",
    "for finished_future in ac:\n",
    "    # submit new future \n",
    "    try:\n",
    "        new_future = client.submit(link, next(inputs))\n",
    "        ac.add(new_future)\n",
    "    except StopIteration:\n",
    "        pass\n",
    "    print(finished_future.result())"
   ]
  },
  {
   "cell_type": "code",
   "execution_count": null,
   "metadata": {},
   "outputs": [],
   "source": [
    "client.close()"
   ]
  },
  {
   "cell_type": "markdown",
   "metadata": {},
   "source": [
    "Enclosures are linked via simple attribute join and since the operation is does not require any computation, it is done as a simple loop."
   ]
  },
  {
   "cell_type": "code",
   "execution_count": null,
   "metadata": {},
   "outputs": [],
   "source": [
    "enclosures = pd.read_parquet(f\"../../urbangrammar_samba/spatial_signatures/morphometrics/enclosures.pq\")"
   ]
  },
  {
   "cell_type": "code",
   "execution_count": null,
   "metadata": {},
   "outputs": [],
   "source": [
    "for chunk_id in range(103):\n",
    "    s = time()\n",
    "    cells = geopandas.read_parquet(f\"../../urbangrammar_samba/spatial_signatures/morphometrics/cells/cells_{chunk_id}.pq\")\n",
    "    \n",
    "    cells = cells.merge(enclosures.drop(columns=['neighbors']), on='enclosureID', how='left')\n",
    "    \n",
    "    cells.to_parquet(f\"../../urbangrammar_samba/spatial_signatures/morphometrics/cells/cells_{chunk_id}.pq\")\n",
    "    \n",
    "    print(f\"Chunk {chunk_id} processed sucessfully in {time() - s} seconds.\")"
   ]
  },
  {
   "cell_type": "markdown",
   "metadata": {},
   "source": [
    "## Inter-element characters\n",
    "\n",
    "The remaining morphometric characters are based on a relations between multiple elements. The implementation mirrors the approach above."
   ]
  },
  {
   "cell_type": "code",
   "execution_count": null,
   "metadata": {},
   "outputs": [],
   "source": [
    "workers = 8\n",
    "client = Client(LocalCluster(n_workers=workers, threads_per_worker=1))\n",
    "client"
   ]
  },
  {
   "cell_type": "code",
   "execution_count": null,
   "metadata": {},
   "outputs": [],
   "source": [
    "def measure(chunk_id):\n",
    "    s = time()\n",
    "    # Load data\n",
    "    cells = geopandas.read_parquet(f\"../../urbangrammar_samba/spatial_signatures/morphometrics/cells/cells_{chunk_id}.pq\")\n",
    "    edges = geopandas.read_parquet(f\"../../urbangrammar_samba/spatial_signatures/morphometrics/edges/edges_{chunk_id}.pq\")\n",
    "    nodes = geopandas.read_parquet(f\"../../urbangrammar_samba/spatial_signatures/morphometrics/nodes/nodes_{chunk_id}.pq\")\n",
    "    \n",
    "    # Street Alignment\n",
    "    edges['orient'] = momepy.Orientation(edges, verbose=False).series\n",
    "    edges['edgeID'] = range(len(edges))\n",
    "    keys = cells.edgeID_values.apply(lambda a: np.argmax(a))\n",
    "    cells['edgeID_primary'] = [inds[i] for inds, i in zip(cells.edgeID_keys, keys)]\n",
    "    cells['stbSAl'] = momepy.StreetAlignment(cells, \n",
    "                                             edges, \n",
    "                                             'stbOri', \n",
    "                                             left_network_id='edgeID_primary', \n",
    "                                             right_network_id='edgeID').series\n",
    "   \n",
    "    # Area Covered by each edge\n",
    "    vals = {x:[] for x in range(len(edges))}\n",
    "    for i, keys in enumerate(cells.edgeID_keys):\n",
    "        for k in keys:\n",
    "            vals[k].append(i)\n",
    "    area_sums = []\n",
    "    for inds in vals.values():\n",
    "        area_sums.append(cells.sdcAre.iloc[inds].sum())\n",
    "    edges['sdsAre'] = area_sums\n",
    "    \n",
    "    # Building per meter\n",
    "    bpm = []\n",
    "    for inds, l in zip(vals.values(), edges.sdsLen):\n",
    "        bpm.append(cells.buildings.iloc[inds].notna().sum() / l if len(inds) > 0 else 0)\n",
    "    edges['sisBpM'] = bpm\n",
    "    \n",
    "    # Cell area\n",
    "    nodes['sddAre'] = nodes.nodeID.apply(lambda nid: cells[cells.nodeID == nid].sdcAre.sum())\n",
    "    \n",
    "    # Area covered by neighboring edges + count of reached cells\n",
    "    edges_W = Queen.from_dataframe(edges)\n",
    "    \n",
    "    areas = []\n",
    "    reached_cells = []\n",
    "    for i in range(len(edges)):\n",
    "        neighbors = [i] + edges_W.neighbors[i]\n",
    "    #     areas\n",
    "        areas.append(edges.sdsAre.iloc[neighbors].sum())\n",
    "    #     reached cells\n",
    "        ids = []\n",
    "        for n in neighbors:\n",
    "             ids += vals[n]\n",
    "        reached_cells.append(len(set(ids)))\n",
    "\n",
    "    edges['misCel'] = reached_cells\n",
    "    edges['mdsAre'] = areas\n",
    "    \n",
    "    # Area covered by neighboring (3 steps) edges + count of reached cells\n",
    "    edges_W3 = momepy.sw_high(k=3, weights=edges_W)\n",
    "    \n",
    "    areas = []\n",
    "    reached_cells = []\n",
    "    for i in range(len(edges)):\n",
    "        neighbors = [i] + edges_W3.neighbors[i]\n",
    "    #     areas\n",
    "        areas.append(edges.sdsAre.iloc[neighbors].sum())\n",
    "    #     reached cells\n",
    "        ids = []\n",
    "        for n in neighbors:\n",
    "             ids += vals[n]\n",
    "        reached_cells.append(len(set(ids)))\n",
    "\n",
    "    edges['lisCel'] = reached_cells\n",
    "    edges['ldsAre'] = areas\n",
    "\n",
    "    # Link together \n",
    "    e_to_link = ['sdsAre', 'sisBpM', 'misCel', 'mdsAre', 'lisCel', 'ldsAre']\n",
    "    n_to_link = 'sddAre'\n",
    "\n",
    "    cells = cells.merge(nodes[['nodeID', 'sddAre']], on='nodeID', how='left')\n",
    "\n",
    "    l = []\n",
    "    for keys, values in zip(cells.edgeID_keys, cells.edgeID_values):\n",
    "        l.append((edges.iloc[keys][e_to_link].multiply(values, axis='rows')).sum(axis=0))  # weighted by the proportion\n",
    "    cells[e_to_link] = pd.DataFrame(l, index=cells.index)\n",
    "    \n",
    "    # Reached neighbors and area on 3 topological steps on tessellation\n",
    "    cells['keep'] = True\n",
    "    \n",
    "    # add neighbouring cells from other chunks\n",
    "    cross_chunk_cells = []\n",
    "    \n",
    "    for chunk, inds in cross_chunk.loc[chunk_id].indices.iteritems():\n",
    "        add_cells = geopandas.read_parquet(f\"../../urbangrammar_samba/spatial_signatures/morphometrics/cells/cells_{chunk}.pq\").iloc[inds]\n",
    "        add_cells['keep'] = False\n",
    "        cross_chunk_cells.append(add_cells)\n",
    "    \n",
    "    df = cells.append(pd.concat(cross_chunk_cells, ignore_index=True), ignore_index=True)\n",
    "    w3 = libpysal.weights.WSP(scipy.sparse.load_npz(f\"../../urbangrammar_samba/spatial_signatures/weights/w3_{chunk_id}.npz\")).to_W()\n",
    "    \n",
    "    # Reached cells in 3 topological steps\n",
    "    df['ltcRea'] = [w3.cardinalities[i] for i in range(len(df))]\n",
    "    \n",
    "    # Reached area in 3 topological steps\n",
    "    df['ltcAre'] = [df.sdcAre.iloc[w3.neighbors[i]].sum() for i in range(len(df))]\n",
    "    \n",
    "    # Save\n",
    "    df[df['keep']].drop(columns=['keep']).to_parquet(f\"../../urbangrammar_samba/spatial_signatures/morphometrics/cells/cells_{chunk_id}.pq\")\n",
    "    \n",
    "    return f\"Chunk {chunk_id} processed sucessfully in {time() - s} seconds.\""
   ]
  },
  {
   "cell_type": "code",
   "execution_count": null,
   "metadata": {},
   "outputs": [],
   "source": [
    "%%time\n",
    "inputs = iter(range(103))\n",
    "futures = [client.submit(measure, next(inputs)) for i in range(workers)]\n",
    "ac = as_completed(futures)\n",
    "for finished_future in ac:\n",
    "    # submit new future \n",
    "    try:\n",
    "        new_future = client.submit(measure, next(inputs))\n",
    "        ac.add(new_future)\n",
    "    except StopIteration:\n",
    "        pass\n",
    "    print(finished_future.result())"
   ]
  },
  {
   "cell_type": "code",
   "execution_count": null,
   "metadata": {},
   "outputs": [],
   "source": [
    "client.close()"
   ]
  },
  {
   "cell_type": "markdown",
   "metadata": {},
   "source": [
    "At this point, all primary morphometric characters are measured and stored in a chunked parquet.\n",
    "\n",
    "## Convolution\n",
    "\n",
    "Morphometric variables are an input of cluster analysis, which should result in delineation of spatial signatures. However, primary morphometric characters can't be used directly. We have to understand them in context. For that reason, we introduce a convolution step. Each of the characters above will be expressed as first, second (median) and third quartile within 3 topological steps on enclosed tessellation. Resulting convolutional data will be then used as an input of cluster analysis."
   ]
  },
  {
   "cell_type": "markdown",
   "metadata": {},
   "source": [
    "#### Generate weights of 10th order"
   ]
  },
  {
   "cell_type": "code",
   "execution_count": 7,
   "metadata": {},
   "outputs": [],
   "source": [
    "cross_chunk = pd.read_parquet('../../urbangrammar_samba/spatial_signatures/cross-chunk_indices_10.pq')\n",
    "\n",
    "def generate_w(chunk_id):\n",
    "    s = time()\n",
    "    # load cells of a chunk\n",
    "    cells = geopandas.read_parquet(f\"../../urbangrammar_samba/spatial_signatures/morphometrics/cells/cells_{chunk_id}.pq\")\n",
    "    \n",
    "    # add neighbouring cells from other chunks\n",
    "    cross_chunk_cells = []\n",
    "    \n",
    "    for chunk, inds in cross_chunk.loc[chunk_id].indices.iteritems():\n",
    "        add_cells = geopandas.read_parquet(f\"../../urbangrammar_samba/spatial_signatures/morphometrics/cells/cells_{chunk}.pq\").iloc[inds]\n",
    "        cross_chunk_cells.append(add_cells)\n",
    "    \n",
    "    df = cells.append(pd.concat(cross_chunk_cells, ignore_index=True), ignore_index=True)\n",
    "\n",
    "    w = libpysal.weights.Queen.from_dataframe(df, geom_col='tessellation', silence_warnings=True)\n",
    "    w10 = momepy.sw_high(k=10, weights=w)\n",
    "    \n",
    "    scipy.sparse.save_npz(f\"../../urbangrammar_samba/spatial_signatures/weights/w10_queen_{chunk_id}.npz\", w.sparse)\n",
    "    scipy.sparse.save_npz(f\"../../urbangrammar_samba/spatial_signatures/weights/w10_10_{chunk_id}.npz\", w10.sparse)\n",
    "    \n",
    "    return f\"Chunk {chunk_id} processed sucessfully in {time() - s} seconds.\""
   ]
  },
  {
   "cell_type": "code",
   "execution_count": null,
   "metadata": {
    "collapsed": true,
    "jupyter": {
     "outputs_hidden": true
    },
    "tags": []
   },
   "outputs": [
    {
     "data": {
      "application/vnd.jupyter.widget-view+json": {
       "model_id": "ea9a2e7fcd9c4d84b09821b9511eb0cf",
       "version_major": 2,
       "version_minor": 0
      },
      "text/plain": [
       "  0%|          | 0/103 [00:00<?, ?it/s]"
      ]
     },
     "metadata": {},
     "output_type": "display_data"
    },
    {
     "name": "stdout",
     "output_type": "stream",
     "text": [
      "Chunk 0 processed sucessfully in 316.37095499038696 seconds.\n",
      "Chunk 1 processed sucessfully in 491.681759595871 seconds.\n",
      "Chunk 2 processed sucessfully in 431.6562063694 seconds.\n",
      "Chunk 3 processed sucessfully in 415.92933177948 seconds.\n",
      "Chunk 4 processed sucessfully in 703.5903306007385 seconds.\n",
      "Chunk 5 processed sucessfully in 622.5808844566345 seconds.\n",
      "Chunk 6 processed sucessfully in 972.744900226593 seconds.\n",
      "Chunk 7 processed sucessfully in 582.5596327781677 seconds.\n",
      "Chunk 8 processed sucessfully in 649.1616985797882 seconds.\n",
      "Chunk 9 processed sucessfully in 489.80875730514526 seconds.\n",
      "Chunk 10 processed sucessfully in 440.14411187171936 seconds.\n",
      "Chunk 11 processed sucessfully in 410.46586871147156 seconds.\n",
      "Chunk 12 processed sucessfully in 723.2832217216492 seconds.\n",
      "Chunk 13 processed sucessfully in 523.529534816742 seconds.\n",
      "Chunk 14 processed sucessfully in 608.9691398143768 seconds.\n",
      "Chunk 15 processed sucessfully in 431.5302448272705 seconds.\n",
      "Chunk 16 processed sucessfully in 359.5892493724823 seconds.\n",
      "Chunk 17 processed sucessfully in 356.1692316532135 seconds.\n",
      "Chunk 18 processed sucessfully in 363.9447720050812 seconds.\n",
      "Chunk 19 processed sucessfully in 422.09540605545044 seconds.\n",
      "Chunk 20 processed sucessfully in 440.3369314670563 seconds.\n",
      "Chunk 21 processed sucessfully in 520.4324748516083 seconds.\n",
      "Chunk 22 processed sucessfully in 433.4581091403961 seconds.\n",
      "Chunk 23 processed sucessfully in 473.68613290786743 seconds.\n",
      "Chunk 24 processed sucessfully in 514.4364762306213 seconds.\n",
      "Chunk 25 processed sucessfully in 384.3659420013428 seconds.\n",
      "Chunk 26 processed sucessfully in 561.0015258789062 seconds.\n",
      "Chunk 27 processed sucessfully in 522.7717218399048 seconds.\n",
      "Chunk 28 processed sucessfully in 405.17521572113037 seconds.\n",
      "Chunk 29 processed sucessfully in 400.2644863128662 seconds.\n",
      "Chunk 30 processed sucessfully in 683.7991404533386 seconds.\n",
      "Chunk 31 processed sucessfully in 377.3410851955414 seconds.\n",
      "Chunk 32 processed sucessfully in 709.951803445816 seconds.\n",
      "Chunk 33 processed sucessfully in 392.99678206443787 seconds.\n",
      "Chunk 34 processed sucessfully in 369.2902057170868 seconds.\n",
      "Chunk 35 processed sucessfully in 467.20433378219604 seconds.\n",
      "Chunk 36 processed sucessfully in 311.1378049850464 seconds.\n",
      "Chunk 38 processed sucessfully in 728.8909161090851 seconds.\n",
      "Chunk 39 processed sucessfully in 472.73110246658325 seconds.\n",
      "Chunk 40 processed sucessfully in 857.3202881813049 seconds.\n",
      "Chunk 41 processed sucessfully in 462.12418603897095 seconds.\n",
      "Chunk 42 processed sucessfully in 469.5953435897827 seconds.\n",
      "Chunk 43 processed sucessfully in 433.78106570243835 seconds.\n",
      "Chunk 44 processed sucessfully in 403.88263988494873 seconds.\n",
      "Chunk 45 processed sucessfully in 481.71834993362427 seconds.\n",
      "Chunk 46 processed sucessfully in 556.1396548748016 seconds.\n"
     ]
    }
   ],
   "source": [
    "# I am afraid that we would run out of memory if we did this in parallel\n",
    "for i in tqdm(range(103), total=103):\n",
    "    print(generate_w(i))"
   ]
  },
  {
   "cell_type": "code",
   "execution_count": 20,
   "metadata": {},
   "outputs": [],
   "source": [
    "def generate_distance_w(chunk_id):\n",
    "    s = time()\n",
    "    # load cells of a chunk\n",
    "    cells = geopandas.read_parquet(f\"../../urbangrammar_samba/spatial_signatures/morphometrics/cells/cells_{chunk_id}.pq\", columns=[\"tessellation\"])\n",
    "    \n",
    "    # add neighbouring cells from other chunks\n",
    "    cross_chunk_cells = []\n",
    "    \n",
    "    for chunk, inds in cross_chunk.loc[chunk_id].indices.iteritems():\n",
    "        add_cells = geopandas.read_parquet(f\"../../urbangrammar_samba/spatial_signatures/morphometrics/cells/cells_{chunk}.pq\", columns=[\"tessellation\"]).iloc[inds]\n",
    "        cross_chunk_cells.append(add_cells)\n",
    "    \n",
    "    df = cells.append(pd.concat(cross_chunk_cells, ignore_index=True), ignore_index=True)\n",
    "\n",
    "    w = libpysal.weights.WSP(scipy.sparse.load_npz(f\"../../urbangrammar_samba/spatial_signatures/weights/w10_10_{chunk_id}.npz\")).to_W()\n",
    "\n",
    "    df.geometry = df.centroid\n",
    "    for i, geom in enumerate(df.geometry):\n",
    "        neighbours = w.neighbors[i]\n",
    "        vicinity = df.iloc[neighbours]\n",
    "        distance = vicinity.distance(geom)\n",
    "        w.weights[i] = distance.to_list()\n",
    "    \n",
    "    scipy.sparse.save_npz(f\"../../urbangrammar_samba/spatial_signatures/weights/w10_10_distance_{chunk_id}.npz\", w.sparse)\n",
    "    \n",
    "    return f\"Chunk {chunk_id} processed sucessfully in {time() - s} seconds.\""
   ]
  },
  {
   "cell_type": "code",
   "execution_count": 21,
   "metadata": {
    "collapsed": true,
    "jupyter": {
     "outputs_hidden": true
    },
    "tags": []
   },
   "outputs": [
    {
     "data": {
      "application/vnd.jupyter.widget-view+json": {
       "model_id": "90bd2c9e86274396aa2a6c7001f8ef47",
       "version_major": 2,
       "version_minor": 0
      },
      "text/plain": [
       "  0%|          | 0/103 [00:00<?, ?it/s]"
      ]
     },
     "metadata": {},
     "output_type": "display_data"
    },
    {
     "name": "stderr",
     "output_type": "stream",
     "text": [
      "/opt/conda/lib/python3.8/site-packages/libpysal/weights/weights.py:172: UserWarning: The weights matrix is not fully connected: \n",
      " There are 2 disconnected components.\n",
      " There is 1 island with id: 117408.\n",
      "  warnings.warn(message)\n"
     ]
    },
    {
     "name": "stdout",
     "output_type": "stream",
     "text": [
      "Chunk 0 processed sucessfully in 148.43301725387573 seconds.\n"
     ]
    },
    {
     "name": "stderr",
     "output_type": "stream",
     "text": [
      "/opt/conda/lib/python3.8/site-packages/libpysal/weights/weights.py:172: UserWarning: The weights matrix is not fully connected: \n",
      " There are 17 disconnected components.\n",
      " There are 7 islands with ids: 129987, 133329, 154196, 164082, 173764, 174296, 178630.\n",
      "  warnings.warn(message)\n"
     ]
    },
    {
     "name": "stdout",
     "output_type": "stream",
     "text": [
      "Chunk 1 processed sucessfully in 233.17103719711304 seconds.\n"
     ]
    },
    {
     "name": "stderr",
     "output_type": "stream",
     "text": [
      "/opt/conda/lib/python3.8/site-packages/libpysal/weights/weights.py:172: UserWarning: The weights matrix is not fully connected: \n",
      " There are 8 disconnected components.\n",
      " There are 2 islands with ids: 128344, 155326.\n",
      "  warnings.warn(message)\n"
     ]
    },
    {
     "name": "stdout",
     "output_type": "stream",
     "text": [
      "Chunk 2 processed sucessfully in 211.11699414253235 seconds.\n"
     ]
    },
    {
     "name": "stderr",
     "output_type": "stream",
     "text": [
      "/opt/conda/lib/python3.8/site-packages/libpysal/weights/weights.py:172: UserWarning: The weights matrix is not fully connected: \n",
      " There are 11 disconnected components.\n",
      " There are 5 islands with ids: 111576, 115679, 130190, 135459, 144200.\n",
      "  warnings.warn(message)\n"
     ]
    },
    {
     "name": "stdout",
     "output_type": "stream",
     "text": [
      "Chunk 3 processed sucessfully in 196.47370409965515 seconds.\n"
     ]
    },
    {
     "name": "stderr",
     "output_type": "stream",
     "text": [
      "/opt/conda/lib/python3.8/site-packages/libpysal/weights/weights.py:172: UserWarning: The weights matrix is not fully connected: \n",
      " There are 9 disconnected components.\n",
      " There are 3 islands with ids: 197896, 219887, 225719.\n",
      "  warnings.warn(message)\n"
     ]
    },
    {
     "name": "stdout",
     "output_type": "stream",
     "text": [
      "Chunk 4 processed sucessfully in 325.46193265914917 seconds.\n"
     ]
    },
    {
     "name": "stderr",
     "output_type": "stream",
     "text": [
      "/opt/conda/lib/python3.8/site-packages/libpysal/weights/weights.py:172: UserWarning: The weights matrix is not fully connected: \n",
      " There are 216 disconnected components.\n",
      " There are 162 islands with ids: 234211, 234213, 234707, 234708, 234725, 234783, 234785, 234789, 234796, 234801, 234803, 234810, 234870, 234958, 234965, 234969, 234983, 235019, 235024, 235042, 235045, 235047, 235055, 235058, 235059, 235062, 235063, 235066, 235067, 235071, 235076, 235077, 235080, 235082, 235089, 235094, 235101, 235104, 235106, 235107, 235111, 235120, 235121, 235138, 235142, 235143, 235146, 235148, 235149, 235150, 235152, 235155, 235157, 235158, 235167, 235168, 235169, 235175, 235179, 235188, 235190, 235214, 235216, 235217, 235220, 235221, 235226, 235229, 235230, 235235, 235242, 235250, 235255, 235271, 235285, 235287, 235315, 235321, 235338, 235348, 235362, 235388, 235393, 235399, 235409, 235413, 235425, 235441, 235442, 235443, 235444, 235445, 235446, 235447, 235453, 235455, 235461, 235462, 235464, 235465, 235471, 235472, 235490, 235491, 235493, 235501, 235502, 235503, 235506, 235511, 235516, 235517, 235537, 235541, 235557, 235559, 235566, 235567, 235572, 235593, 235597, 235603, 235609, 235615, 235658, 235672, 235679, 235683, 235692, 235709, 235714, 235721, 235731, 235738, 235743, 235744, 235751, 235752, 235753, 235754, 235761, 235762, 235766, 235767, 235768, 235786, 235787, 235789, 235790, 235792, 235793, 235794, 235795, 235798, 235800, 235809, 235839, 235840, 235854, 235873, 235874, 235875.\n",
      "  warnings.warn(message)\n"
     ]
    },
    {
     "name": "stdout",
     "output_type": "stream",
     "text": [
      "Chunk 5 processed sucessfully in 292.6534535884857 seconds.\n"
     ]
    },
    {
     "name": "stderr",
     "output_type": "stream",
     "text": [
      "/opt/conda/lib/python3.8/site-packages/libpysal/weights/weights.py:172: UserWarning: The weights matrix is not fully connected: \n",
      " There are 17 disconnected components.\n",
      " There are 7 islands with ids: 261627, 261628, 265375, 270336, 271107, 273452, 325283.\n",
      "  warnings.warn(message)\n"
     ]
    },
    {
     "name": "stdout",
     "output_type": "stream",
     "text": [
      "Chunk 6 processed sucessfully in 445.8685245513916 seconds.\n"
     ]
    },
    {
     "name": "stderr",
     "output_type": "stream",
     "text": [
      "/opt/conda/lib/python3.8/site-packages/libpysal/weights/weights.py:172: UserWarning: The weights matrix is not fully connected: \n",
      " There are 11 disconnected components.\n",
      " There are 6 islands with ids: 146067, 157019, 178978, 179921, 196088, 201462.\n",
      "  warnings.warn(message)\n"
     ]
    },
    {
     "name": "stdout",
     "output_type": "stream",
     "text": [
      "Chunk 7 processed sucessfully in 266.2336826324463 seconds.\n"
     ]
    },
    {
     "name": "stderr",
     "output_type": "stream",
     "text": [
      "/opt/conda/lib/python3.8/site-packages/libpysal/weights/weights.py:172: UserWarning: The weights matrix is not fully connected: \n",
      " There are 9 disconnected components.\n",
      " There are 5 islands with ids: 149961, 156543, 186429, 210738, 211707.\n",
      "  warnings.warn(message)\n"
     ]
    },
    {
     "name": "stdout",
     "output_type": "stream",
     "text": [
      "Chunk 8 processed sucessfully in 282.93740034103394 seconds.\n"
     ]
    },
    {
     "name": "stderr",
     "output_type": "stream",
     "text": [
      "/opt/conda/lib/python3.8/site-packages/libpysal/weights/weights.py:172: UserWarning: The weights matrix is not fully connected: \n",
      " There are 11 disconnected components.\n",
      " There are 6 islands with ids: 131784, 144438, 145139, 148759, 178003, 182317.\n",
      "  warnings.warn(message)\n"
     ]
    },
    {
     "name": "stdout",
     "output_type": "stream",
     "text": [
      "Chunk 9 processed sucessfully in 229.047461271286 seconds.\n"
     ]
    },
    {
     "name": "stderr",
     "output_type": "stream",
     "text": [
      "/opt/conda/lib/python3.8/site-packages/libpysal/weights/weights.py:172: UserWarning: The weights matrix is not fully connected: \n",
      " There are 6 disconnected components.\n",
      " There is 1 island with id: 163162.\n",
      "  warnings.warn(message)\n"
     ]
    },
    {
     "name": "stdout",
     "output_type": "stream",
     "text": [
      "Chunk 10 processed sucessfully in 210.61869072914124 seconds.\n"
     ]
    },
    {
     "name": "stderr",
     "output_type": "stream",
     "text": [
      "/opt/conda/lib/python3.8/site-packages/libpysal/weights/weights.py:172: UserWarning: The weights matrix is not fully connected: \n",
      " There are 7 disconnected components.\n",
      " There are 2 islands with ids: 119450, 134297.\n",
      "  warnings.warn(message)\n"
     ]
    },
    {
     "name": "stdout",
     "output_type": "stream",
     "text": [
      "Chunk 11 processed sucessfully in 195.23993682861328 seconds.\n"
     ]
    },
    {
     "name": "stderr",
     "output_type": "stream",
     "text": [
      "/opt/conda/lib/python3.8/site-packages/libpysal/weights/weights.py:172: UserWarning: The weights matrix is not fully connected: \n",
      " There are 8 disconnected components.\n",
      " There are 4 islands with ids: 209165, 209170, 213280, 230710.\n",
      "  warnings.warn(message)\n"
     ]
    },
    {
     "name": "stdout",
     "output_type": "stream",
     "text": [
      "Chunk 12 processed sucessfully in 332.61838126182556 seconds.\n"
     ]
    },
    {
     "name": "stderr",
     "output_type": "stream",
     "text": [
      "/opt/conda/lib/python3.8/site-packages/libpysal/weights/weights.py:172: UserWarning: The weights matrix is not fully connected: \n",
      " There are 14 disconnected components.\n",
      " There are 8 islands with ids: 141991, 141993, 170904, 171323, 172109, 172779, 173220, 189518.\n",
      "  warnings.warn(message)\n"
     ]
    },
    {
     "name": "stdout",
     "output_type": "stream",
     "text": [
      "Chunk 13 processed sucessfully in 237.32561421394348 seconds.\n"
     ]
    },
    {
     "name": "stderr",
     "output_type": "stream",
     "text": [
      "/opt/conda/lib/python3.8/site-packages/libpysal/weights/weights.py:172: UserWarning: The weights matrix is not fully connected: \n",
      " There are 26 disconnected components.\n",
      " There are 10 islands with ids: 149934, 149961, 150595, 151291, 173515, 185651, 194258, 195351, 196488, 204577.\n",
      "  warnings.warn(message)\n"
     ]
    },
    {
     "name": "stdout",
     "output_type": "stream",
     "text": [
      "Chunk 14 processed sucessfully in 271.8659632205963 seconds.\n"
     ]
    },
    {
     "name": "stderr",
     "output_type": "stream",
     "text": [
      "/opt/conda/lib/python3.8/site-packages/libpysal/weights/weights.py:172: UserWarning: The weights matrix is not fully connected: \n",
      " There are 13 disconnected components.\n",
      " There are 4 islands with ids: 104333, 106066, 135397, 155471.\n",
      "  warnings.warn(message)\n"
     ]
    },
    {
     "name": "stdout",
     "output_type": "stream",
     "text": [
      "Chunk 15 processed sucessfully in 202.72529363632202 seconds.\n"
     ]
    },
    {
     "name": "stderr",
     "output_type": "stream",
     "text": [
      "/opt/conda/lib/python3.8/site-packages/libpysal/weights/weights.py:172: UserWarning: The weights matrix is not fully connected: \n",
      " There are 11 disconnected components.\n",
      " There are 4 islands with ids: 120266, 129179, 135636, 150457.\n",
      "  warnings.warn(message)\n"
     ]
    },
    {
     "name": "stdout",
     "output_type": "stream",
     "text": [
      "Chunk 16 processed sucessfully in 176.17322421073914 seconds.\n"
     ]
    },
    {
     "name": "stderr",
     "output_type": "stream",
     "text": [
      "/opt/conda/lib/python3.8/site-packages/libpysal/weights/weights.py:172: UserWarning: The weights matrix is not fully connected: \n",
      " There are 5 disconnected components.\n",
      " There are 3 islands with ids: 119002, 124069, 125308.\n",
      "  warnings.warn(message)\n"
     ]
    },
    {
     "name": "stdout",
     "output_type": "stream",
     "text": [
      "Chunk 17 processed sucessfully in 184.20350122451782 seconds.\n"
     ]
    },
    {
     "name": "stderr",
     "output_type": "stream",
     "text": [
      "/opt/conda/lib/python3.8/site-packages/libpysal/weights/weights.py:172: UserWarning: The weights matrix is not fully connected: \n",
      " There are 7 disconnected components.\n",
      " There are 3 islands with ids: 105404, 117589, 128371.\n",
      "  warnings.warn(message)\n"
     ]
    },
    {
     "name": "stdout",
     "output_type": "stream",
     "text": [
      "Chunk 18 processed sucessfully in 179.24176859855652 seconds.\n"
     ]
    },
    {
     "name": "stderr",
     "output_type": "stream",
     "text": [
      "/opt/conda/lib/python3.8/site-packages/libpysal/weights/weights.py:172: UserWarning: The weights matrix is not fully connected: \n",
      " There are 5 disconnected components.\n",
      " There are 2 islands with ids: 160236, 167180.\n",
      "  warnings.warn(message)\n"
     ]
    },
    {
     "name": "stdout",
     "output_type": "stream",
     "text": [
      "Chunk 19 processed sucessfully in 202.80839371681213 seconds.\n"
     ]
    },
    {
     "name": "stderr",
     "output_type": "stream",
     "text": [
      "/opt/conda/lib/python3.8/site-packages/libpysal/weights/weights.py:172: UserWarning: The weights matrix is not fully connected: \n",
      " There are 16 disconnected components.\n",
      " There are 5 islands with ids: 108513, 108636, 108941, 141461, 158970.\n",
      "  warnings.warn(message)\n"
     ]
    },
    {
     "name": "stdout",
     "output_type": "stream",
     "text": [
      "Chunk 20 processed sucessfully in 207.90735244750977 seconds.\n"
     ]
    },
    {
     "name": "stderr",
     "output_type": "stream",
     "text": [
      "/opt/conda/lib/python3.8/site-packages/libpysal/weights/weights.py:172: UserWarning: The weights matrix is not fully connected: \n",
      " There are 21 disconnected components.\n",
      " There are 5 islands with ids: 117072, 120055, 120436, 139715, 165715.\n",
      "  warnings.warn(message)\n"
     ]
    },
    {
     "name": "stdout",
     "output_type": "stream",
     "text": [
      "Chunk 21 processed sucessfully in 233.11504578590393 seconds.\n"
     ]
    },
    {
     "name": "stderr",
     "output_type": "stream",
     "text": [
      "/opt/conda/lib/python3.8/site-packages/libpysal/weights/weights.py:172: UserWarning: The weights matrix is not fully connected: \n",
      " There are 8 disconnected components.\n",
      " There are 2 islands with ids: 113667, 137661.\n",
      "  warnings.warn(message)\n"
     ]
    },
    {
     "name": "stdout",
     "output_type": "stream",
     "text": [
      "Chunk 22 processed sucessfully in 206.59698796272278 seconds.\n"
     ]
    },
    {
     "name": "stderr",
     "output_type": "stream",
     "text": [
      "/opt/conda/lib/python3.8/site-packages/libpysal/weights/weights.py:172: UserWarning: The weights matrix is not fully connected: \n",
      " There are 8 disconnected components.\n",
      " There are 4 islands with ids: 109056, 116572, 129537, 140451.\n",
      "  warnings.warn(message)\n"
     ]
    },
    {
     "name": "stdout",
     "output_type": "stream",
     "text": [
      "Chunk 23 processed sucessfully in 220.47490882873535 seconds.\n"
     ]
    },
    {
     "name": "stderr",
     "output_type": "stream",
     "text": [
      "/opt/conda/lib/python3.8/site-packages/libpysal/weights/weights.py:172: UserWarning: The weights matrix is not fully connected: \n",
      " There are 3 disconnected components.\n",
      " There are 2 islands with ids: 159859, 186073.\n",
      "  warnings.warn(message)\n"
     ]
    },
    {
     "name": "stdout",
     "output_type": "stream",
     "text": [
      "Chunk 24 processed sucessfully in 243.22397184371948 seconds.\n"
     ]
    },
    {
     "name": "stderr",
     "output_type": "stream",
     "text": [
      "/opt/conda/lib/python3.8/site-packages/libpysal/weights/weights.py:172: UserWarning: The weights matrix is not fully connected: \n",
      " There are 8 disconnected components.\n",
      "  warnings.warn(message)\n"
     ]
    },
    {
     "name": "stdout",
     "output_type": "stream",
     "text": [
      "Chunk 25 processed sucessfully in 190.69647121429443 seconds.\n"
     ]
    },
    {
     "name": "stderr",
     "output_type": "stream",
     "text": [
      "/opt/conda/lib/python3.8/site-packages/libpysal/weights/weights.py:172: UserWarning: The weights matrix is not fully connected: \n",
      " There are 7 disconnected components.\n",
      " There are 3 islands with ids: 157186, 162337, 167339.\n",
      "  warnings.warn(message)\n"
     ]
    },
    {
     "name": "stdout",
     "output_type": "stream",
     "text": [
      "Chunk 26 processed sucessfully in 251.88402652740479 seconds.\n"
     ]
    },
    {
     "name": "stderr",
     "output_type": "stream",
     "text": [
      "/opt/conda/lib/python3.8/site-packages/libpysal/weights/weights.py:172: UserWarning: The weights matrix is not fully connected: \n",
      " There are 6 disconnected components.\n",
      " There are 3 islands with ids: 149990, 167520, 187452.\n",
      "  warnings.warn(message)\n"
     ]
    },
    {
     "name": "stdout",
     "output_type": "stream",
     "text": [
      "Chunk 27 processed sucessfully in 238.72793292999268 seconds.\n"
     ]
    },
    {
     "name": "stderr",
     "output_type": "stream",
     "text": [
      "/opt/conda/lib/python3.8/site-packages/libpysal/weights/weights.py:172: UserWarning: The weights matrix is not fully connected: \n",
      " There are 6 disconnected components.\n",
      " There are 3 islands with ids: 110532, 119551, 123624.\n",
      "  warnings.warn(message)\n"
     ]
    },
    {
     "name": "stdout",
     "output_type": "stream",
     "text": [
      "Chunk 28 processed sucessfully in 189.12012243270874 seconds.\n"
     ]
    },
    {
     "name": "stderr",
     "output_type": "stream",
     "text": [
      "/opt/conda/lib/python3.8/site-packages/libpysal/weights/weights.py:172: UserWarning: The weights matrix is not fully connected: \n",
      " There are 27 disconnected components.\n",
      " There are 17 islands with ids: 123468, 123475, 123524, 123585, 123599, 123631, 123642, 123649, 123718, 123726, 123761, 123782, 123787, 124473, 124492, 152280, 153614.\n",
      "  warnings.warn(message)\n"
     ]
    },
    {
     "name": "stdout",
     "output_type": "stream",
     "text": [
      "Chunk 29 processed sucessfully in 199.6555633544922 seconds.\n"
     ]
    },
    {
     "name": "stderr",
     "output_type": "stream",
     "text": [
      "/opt/conda/lib/python3.8/site-packages/libpysal/weights/weights.py:172: UserWarning: The weights matrix is not fully connected: \n",
      " There are 11 disconnected components.\n",
      " There is 1 island with id: 227210.\n",
      "  warnings.warn(message)\n"
     ]
    },
    {
     "name": "stdout",
     "output_type": "stream",
     "text": [
      "Chunk 30 processed sucessfully in 311.71409463882446 seconds.\n"
     ]
    },
    {
     "name": "stderr",
     "output_type": "stream",
     "text": [
      "/opt/conda/lib/python3.8/site-packages/libpysal/weights/weights.py:172: UserWarning: The weights matrix is not fully connected: \n",
      " There are 13 disconnected components.\n",
      " There are 11 islands with ids: 133908, 134101, 134218, 134245, 134271, 134318, 134338, 134358, 134372, 134400, 134418.\n",
      "  warnings.warn(message)\n"
     ]
    },
    {
     "name": "stdout",
     "output_type": "stream",
     "text": [
      "Chunk 31 processed sucessfully in 174.53720831871033 seconds.\n"
     ]
    },
    {
     "name": "stderr",
     "output_type": "stream",
     "text": [
      "/opt/conda/lib/python3.8/site-packages/libpysal/weights/weights.py:172: UserWarning: The weights matrix is not fully connected: \n",
      " There are 26 disconnected components.\n",
      " There are 21 islands with ids: 209487, 209488, 209489, 209490, 209491, 209494, 209498, 209500, 209503, 209505, 209506, 209517, 209527, 209529, 209530, 209531, 209532, 219045, 231905, 234629, 249854.\n",
      "  warnings.warn(message)\n"
     ]
    },
    {
     "name": "stdout",
     "output_type": "stream",
     "text": [
      "Chunk 32 processed sucessfully in 319.5335350036621 seconds.\n"
     ]
    },
    {
     "name": "stderr",
     "output_type": "stream",
     "text": [
      "/opt/conda/lib/python3.8/site-packages/libpysal/weights/weights.py:172: UserWarning: The weights matrix is not fully connected: \n",
      " There are 37 disconnected components.\n",
      " There are 21 islands with ids: 128457, 128461, 128490, 128647, 128667, 129117, 129218, 129233, 129237, 129263, 129267, 129303, 129359, 129392, 129657, 129672, 129685, 129771, 129773, 129775, 138894.\n",
      "  warnings.warn(message)\n"
     ]
    },
    {
     "name": "stdout",
     "output_type": "stream",
     "text": [
      "Chunk 33 processed sucessfully in 193.7149510383606 seconds.\n"
     ]
    },
    {
     "name": "stderr",
     "output_type": "stream",
     "text": [
      "/opt/conda/lib/python3.8/site-packages/libpysal/weights/weights.py:172: UserWarning: The weights matrix is not fully connected: \n",
      " There are 29 disconnected components.\n",
      " There are 17 islands with ids: 116984, 117291, 117477, 117513, 117714, 117939, 118012, 118169, 118191, 118194, 118220, 118348, 118382, 121095, 124441, 134933, 155793.\n",
      "  warnings.warn(message)\n"
     ]
    },
    {
     "name": "stdout",
     "output_type": "stream",
     "text": [
      "Chunk 34 processed sucessfully in 188.13902521133423 seconds.\n"
     ]
    },
    {
     "name": "stderr",
     "output_type": "stream",
     "text": [
      "/opt/conda/lib/python3.8/site-packages/libpysal/weights/weights.py:172: UserWarning: The weights matrix is not fully connected: \n",
      " There are 10 disconnected components.\n",
      " There are 6 islands with ids: 135378, 140632, 142768, 162965, 162970, 168824.\n",
      "  warnings.warn(message)\n"
     ]
    },
    {
     "name": "stdout",
     "output_type": "stream",
     "text": [
      "Chunk 35 processed sucessfully in 238.97440838813782 seconds.\n"
     ]
    },
    {
     "name": "stderr",
     "output_type": "stream",
     "text": [
      "/opt/conda/lib/python3.8/site-packages/libpysal/weights/weights.py:172: UserWarning: The weights matrix is not fully connected: \n",
      " There are 10 disconnected components.\n",
      " There are 6 islands with ids: 107209, 107395, 107535, 108741, 109485, 109490.\n",
      "  warnings.warn(message)\n"
     ]
    },
    {
     "name": "stdout",
     "output_type": "stream",
     "text": [
      "Chunk 36 processed sucessfully in 148.72315406799316 seconds.\n"
     ]
    },
    {
     "name": "stderr",
     "output_type": "stream",
     "text": [
      "/opt/conda/lib/python3.8/site-packages/libpysal/weights/weights.py:172: UserWarning: The weights matrix is not fully connected: \n",
      " There are 18 disconnected components.\n",
      " There are 12 islands with ids: 152613, 152677, 152862, 153043, 153044, 153257, 153750, 154010, 154064, 186500, 189194, 190010.\n",
      "  warnings.warn(message)\n"
     ]
    },
    {
     "name": "stdout",
     "output_type": "stream",
     "text": [
      "Chunk 37 processed sucessfully in 229.74570775032043 seconds.\n"
     ]
    },
    {
     "name": "stderr",
     "output_type": "stream",
     "text": [
      "/opt/conda/lib/python3.8/site-packages/libpysal/weights/weights.py:172: UserWarning: The weights matrix is not fully connected: \n",
      " There are 25 disconnected components.\n",
      " There are 18 islands with ids: 226545, 226754, 227199, 227209, 227243, 228265, 228287, 228311, 228350, 228351, 228451, 228502, 228638, 232585, 235563, 245268, 248536, 255031.\n",
      "  warnings.warn(message)\n"
     ]
    },
    {
     "name": "stdout",
     "output_type": "stream",
     "text": [
      "Chunk 38 processed sucessfully in 331.59811091423035 seconds.\n"
     ]
    },
    {
     "name": "stderr",
     "output_type": "stream",
     "text": [
      "/opt/conda/lib/python3.8/site-packages/libpysal/weights/weights.py:172: UserWarning: The weights matrix is not fully connected: \n",
      " There are 4 disconnected components.\n",
      "  warnings.warn(message)\n"
     ]
    },
    {
     "name": "stdout",
     "output_type": "stream",
     "text": [
      "Chunk 39 processed sucessfully in 231.28053855895996 seconds.\n"
     ]
    },
    {
     "name": "stderr",
     "output_type": "stream",
     "text": [
      "/opt/conda/lib/python3.8/site-packages/libpysal/weights/weights.py:172: UserWarning: The weights matrix is not fully connected: \n",
      " There are 12 disconnected components.\n",
      " There are 6 islands with ids: 244447, 254820, 254871, 261906, 279876, 303924.\n",
      "  warnings.warn(message)\n"
     ]
    },
    {
     "name": "stdout",
     "output_type": "stream",
     "text": [
      "Chunk 40 processed sucessfully in 393.5891122817993 seconds.\n"
     ]
    },
    {
     "name": "stderr",
     "output_type": "stream",
     "text": [
      "/opt/conda/lib/python3.8/site-packages/libpysal/weights/weights.py:172: UserWarning: The weights matrix is not fully connected: \n",
      " There are 11 disconnected components.\n",
      " There are 4 islands with ids: 133359, 134960, 149114, 164789.\n",
      "  warnings.warn(message)\n"
     ]
    },
    {
     "name": "stdout",
     "output_type": "stream",
     "text": [
      "Chunk 41 processed sucessfully in 227.68449091911316 seconds.\n"
     ]
    },
    {
     "name": "stderr",
     "output_type": "stream",
     "text": [
      "/opt/conda/lib/python3.8/site-packages/libpysal/weights/weights.py:172: UserWarning: The weights matrix is not fully connected: \n",
      " There are 28 disconnected components.\n",
      " There are 22 islands with ids: 149910, 149913, 149930, 149970, 149978, 149984, 150003, 150019, 150353, 150670, 150877, 151109, 152111, 152133, 152141, 152143, 152187, 152261, 152374, 152379, 152806, 152810.\n",
      "  warnings.warn(message)\n"
     ]
    },
    {
     "name": "stdout",
     "output_type": "stream",
     "text": [
      "Chunk 42 processed sucessfully in 219.58051896095276 seconds.\n"
     ]
    },
    {
     "name": "stderr",
     "output_type": "stream",
     "text": [
      "/opt/conda/lib/python3.8/site-packages/libpysal/weights/weights.py:172: UserWarning: The weights matrix is not fully connected: \n",
      " There are 12 disconnected components.\n",
      " There are 5 islands with ids: 132612, 133460, 133573, 170278, 170951.\n",
      "  warnings.warn(message)\n"
     ]
    },
    {
     "name": "stdout",
     "output_type": "stream",
     "text": [
      "Chunk 43 processed sucessfully in 208.21176767349243 seconds.\n"
     ]
    },
    {
     "name": "stderr",
     "output_type": "stream",
     "text": [
      "/opt/conda/lib/python3.8/site-packages/libpysal/weights/weights.py:172: UserWarning: The weights matrix is not fully connected: \n",
      " There are 8 disconnected components.\n",
      " There are 2 islands with ids: 125145, 131133.\n",
      "  warnings.warn(message)\n"
     ]
    },
    {
     "name": "stdout",
     "output_type": "stream",
     "text": [
      "Chunk 44 processed sucessfully in 198.68476033210754 seconds.\n"
     ]
    },
    {
     "name": "stderr",
     "output_type": "stream",
     "text": [
      "/opt/conda/lib/python3.8/site-packages/libpysal/weights/weights.py:172: UserWarning: The weights matrix is not fully connected: \n",
      " There are 7 disconnected components.\n",
      " There are 3 islands with ids: 148136, 162903, 188070.\n",
      "  warnings.warn(message)\n"
     ]
    },
    {
     "name": "stdout",
     "output_type": "stream",
     "text": [
      "Chunk 45 processed sucessfully in 229.89559864997864 seconds.\n"
     ]
    },
    {
     "name": "stderr",
     "output_type": "stream",
     "text": [
      "/opt/conda/lib/python3.8/site-packages/libpysal/weights/weights.py:172: UserWarning: The weights matrix is not fully connected: \n",
      " There are 6 disconnected components.\n",
      " There is 1 island with id: 183791.\n",
      "  warnings.warn(message)\n"
     ]
    },
    {
     "name": "stdout",
     "output_type": "stream",
     "text": [
      "Chunk 46 processed sucessfully in 249.5990493297577 seconds.\n"
     ]
    },
    {
     "name": "stderr",
     "output_type": "stream",
     "text": [
      "/opt/conda/lib/python3.8/site-packages/libpysal/weights/weights.py:172: UserWarning: The weights matrix is not fully connected: \n",
      " There are 18 disconnected components.\n",
      " There are 11 islands with ids: 111746, 111788, 111880, 111890, 111892, 111910, 111918, 111934, 111966, 112191, 120918.\n",
      "  warnings.warn(message)\n"
     ]
    },
    {
     "name": "stdout",
     "output_type": "stream",
     "text": [
      "Chunk 47 processed sucessfully in 175.11259937286377 seconds.\n"
     ]
    },
    {
     "name": "stderr",
     "output_type": "stream",
     "text": [
      "/opt/conda/lib/python3.8/site-packages/libpysal/weights/weights.py:172: UserWarning: The weights matrix is not fully connected: \n",
      " There are 25 disconnected components.\n",
      " There are 15 islands with ids: 124961, 124962, 124967, 124978, 124988, 125005, 125008, 125009, 125014, 125015, 125027, 125107, 125109, 125238, 137148.\n",
      "  warnings.warn(message)\n"
     ]
    },
    {
     "name": "stdout",
     "output_type": "stream",
     "text": [
      "Chunk 48 processed sucessfully in 247.36505031585693 seconds.\n"
     ]
    },
    {
     "name": "stderr",
     "output_type": "stream",
     "text": [
      "/opt/conda/lib/python3.8/site-packages/libpysal/weights/weights.py:172: UserWarning: The weights matrix is not fully connected: \n",
      " There are 11 disconnected components.\n",
      " There are 7 islands with ids: 134005, 134039, 134585, 134669, 138792, 153783, 157829.\n",
      "  warnings.warn(message)\n"
     ]
    },
    {
     "name": "stdout",
     "output_type": "stream",
     "text": [
      "Chunk 49 processed sucessfully in 233.3647243976593 seconds.\n"
     ]
    },
    {
     "name": "stderr",
     "output_type": "stream",
     "text": [
      "/opt/conda/lib/python3.8/site-packages/libpysal/weights/weights.py:172: UserWarning: The weights matrix is not fully connected: \n",
      " There are 14 disconnected components.\n",
      " There are 7 islands with ids: 152034, 159569, 172767, 172769, 178756, 187119, 196194.\n",
      "  warnings.warn(message)\n"
     ]
    },
    {
     "name": "stdout",
     "output_type": "stream",
     "text": [
      "Chunk 50 processed sucessfully in 274.49847769737244 seconds.\n"
     ]
    },
    {
     "name": "stderr",
     "output_type": "stream",
     "text": [
      "/opt/conda/lib/python3.8/site-packages/libpysal/weights/weights.py:172: UserWarning: The weights matrix is not fully connected: \n",
      " There are 13 disconnected components.\n",
      " There are 3 islands with ids: 144989, 150449, 165906.\n",
      "  warnings.warn(message)\n"
     ]
    },
    {
     "name": "stdout",
     "output_type": "stream",
     "text": [
      "Chunk 51 processed sucessfully in 217.49440360069275 seconds.\n"
     ]
    },
    {
     "name": "stderr",
     "output_type": "stream",
     "text": [
      "/opt/conda/lib/python3.8/site-packages/libpysal/weights/weights.py:172: UserWarning: The weights matrix is not fully connected: \n",
      " There are 6 disconnected components.\n",
      " There are 4 islands with ids: 122150, 129518, 145800, 146784.\n",
      "  warnings.warn(message)\n"
     ]
    },
    {
     "name": "stdout",
     "output_type": "stream",
     "text": [
      "Chunk 52 processed sucessfully in 181.56513929367065 seconds.\n"
     ]
    },
    {
     "name": "stderr",
     "output_type": "stream",
     "text": [
      "/opt/conda/lib/python3.8/site-packages/libpysal/weights/weights.py:172: UserWarning: The weights matrix is not fully connected: \n",
      " There are 10 disconnected components.\n",
      " There are 4 islands with ids: 152864, 161153, 166517, 185820.\n",
      "  warnings.warn(message)\n"
     ]
    },
    {
     "name": "stdout",
     "output_type": "stream",
     "text": [
      "Chunk 53 processed sucessfully in 271.16719484329224 seconds.\n"
     ]
    },
    {
     "name": "stderr",
     "output_type": "stream",
     "text": [
      "/opt/conda/lib/python3.8/site-packages/libpysal/weights/weights.py:172: UserWarning: The weights matrix is not fully connected: \n",
      " There are 13 disconnected components.\n",
      " There are 2 islands with ids: 172689, 179046.\n",
      "  warnings.warn(message)\n"
     ]
    },
    {
     "name": "stdout",
     "output_type": "stream",
     "text": [
      "Chunk 54 processed sucessfully in 257.327924489975 seconds.\n"
     ]
    },
    {
     "name": "stderr",
     "output_type": "stream",
     "text": [
      "/opt/conda/lib/python3.8/site-packages/libpysal/weights/weights.py:172: UserWarning: The weights matrix is not fully connected: \n",
      " There are 10 disconnected components.\n",
      " There are 6 islands with ids: 137274, 139874, 139997, 141567, 142676, 155879.\n",
      "  warnings.warn(message)\n"
     ]
    },
    {
     "name": "stdout",
     "output_type": "stream",
     "text": [
      "Chunk 55 processed sucessfully in 202.45160293579102 seconds.\n"
     ]
    },
    {
     "name": "stderr",
     "output_type": "stream",
     "text": [
      "/opt/conda/lib/python3.8/site-packages/libpysal/weights/weights.py:172: UserWarning: The weights matrix is not fully connected: \n",
      " There are 6 disconnected components.\n",
      " There are 2 islands with ids: 165140, 175433.\n",
      "  warnings.warn(message)\n"
     ]
    },
    {
     "name": "stdout",
     "output_type": "stream",
     "text": [
      "Chunk 56 processed sucessfully in 223.3841724395752 seconds.\n"
     ]
    },
    {
     "name": "stderr",
     "output_type": "stream",
     "text": [
      "/opt/conda/lib/python3.8/site-packages/libpysal/weights/weights.py:172: UserWarning: The weights matrix is not fully connected: \n",
      " There are 15 disconnected components.\n",
      " There are 10 islands with ids: 130725, 130729, 130878, 131107, 131134, 131175, 131201, 131260, 145552, 146082.\n",
      "  warnings.warn(message)\n"
     ]
    },
    {
     "name": "stdout",
     "output_type": "stream",
     "text": [
      "Chunk 57 processed sucessfully in 158.50740456581116 seconds.\n"
     ]
    },
    {
     "name": "stderr",
     "output_type": "stream",
     "text": [
      "/opt/conda/lib/python3.8/site-packages/libpysal/weights/weights.py:172: UserWarning: The weights matrix is not fully connected: \n",
      " There are 44 disconnected components.\n",
      " There are 23 islands with ids: 118910, 118912, 118923, 118924, 118930, 118970, 118975, 118977, 118982, 118997, 119010, 119081, 119098, 119104, 119121, 119123, 119183, 119256, 119260, 119289, 119513, 122046, 136583.\n",
      "  warnings.warn(message)\n"
     ]
    },
    {
     "name": "stdout",
     "output_type": "stream",
     "text": [
      "Chunk 58 processed sucessfully in 198.86790132522583 seconds.\n"
     ]
    },
    {
     "name": "stderr",
     "output_type": "stream",
     "text": [
      "/opt/conda/lib/python3.8/site-packages/libpysal/weights/weights.py:172: UserWarning: The weights matrix is not fully connected: \n",
      " There are 8 disconnected components.\n",
      " There are 5 islands with ids: 130961, 133798, 143597, 176070, 179637.\n",
      "  warnings.warn(message)\n"
     ]
    },
    {
     "name": "stdout",
     "output_type": "stream",
     "text": [
      "Chunk 59 processed sucessfully in 223.31676125526428 seconds.\n"
     ]
    },
    {
     "name": "stderr",
     "output_type": "stream",
     "text": [
      "/opt/conda/lib/python3.8/site-packages/libpysal/weights/weights.py:172: UserWarning: The weights matrix is not fully connected: \n",
      " There are 11 disconnected components.\n",
      " There are 4 islands with ids: 124266, 128999, 134552, 149861.\n",
      "  warnings.warn(message)\n"
     ]
    },
    {
     "name": "stdout",
     "output_type": "stream",
     "text": [
      "Chunk 60 processed sucessfully in 209.40075492858887 seconds.\n"
     ]
    },
    {
     "name": "stderr",
     "output_type": "stream",
     "text": [
      "/opt/conda/lib/python3.8/site-packages/libpysal/weights/weights.py:172: UserWarning: The weights matrix is not fully connected: \n",
      " There are 14 disconnected components.\n",
      " There are 4 islands with ids: 236333, 280329, 287828, 306669.\n",
      "  warnings.warn(message)\n"
     ]
    },
    {
     "name": "stdout",
     "output_type": "stream",
     "text": [
      "Chunk 61 processed sucessfully in 427.454585313797 seconds.\n"
     ]
    },
    {
     "name": "stderr",
     "output_type": "stream",
     "text": [
      "/opt/conda/lib/python3.8/site-packages/libpysal/weights/weights.py:172: UserWarning: The weights matrix is not fully connected: \n",
      " There are 7 disconnected components.\n",
      " There are 2 islands with ids: 142574, 160842.\n",
      "  warnings.warn(message)\n"
     ]
    },
    {
     "name": "stdout",
     "output_type": "stream",
     "text": [
      "Chunk 62 processed sucessfully in 253.92991995811462 seconds.\n"
     ]
    },
    {
     "name": "stderr",
     "output_type": "stream",
     "text": [
      "/opt/conda/lib/python3.8/site-packages/libpysal/weights/weights.py:172: UserWarning: The weights matrix is not fully connected: \n",
      " There are 11 disconnected components.\n",
      " There are 6 islands with ids: 120538, 133082, 136761, 157193, 160484, 160717.\n",
      "  warnings.warn(message)\n"
     ]
    },
    {
     "name": "stdout",
     "output_type": "stream",
     "text": [
      "Chunk 63 processed sucessfully in 196.85611534118652 seconds.\n"
     ]
    },
    {
     "name": "stderr",
     "output_type": "stream",
     "text": [
      "/opt/conda/lib/python3.8/site-packages/libpysal/weights/weights.py:172: UserWarning: The weights matrix is not fully connected: \n",
      " There are 50 disconnected components.\n",
      " There are 25 islands with ids: 216853, 217415, 217996, 218924, 218965, 219048, 219050, 219181, 219319, 219334, 219338, 219368, 219379, 219439, 219452, 219455, 219512, 219519, 219892, 219907, 219937, 219939, 229633, 231210, 238465.\n",
      "  warnings.warn(message)\n"
     ]
    },
    {
     "name": "stdout",
     "output_type": "stream",
     "text": [
      "Chunk 64 processed sucessfully in 354.77829933166504 seconds.\n"
     ]
    },
    {
     "name": "stderr",
     "output_type": "stream",
     "text": [
      "/opt/conda/lib/python3.8/site-packages/libpysal/weights/weights.py:172: UserWarning: The weights matrix is not fully connected: \n",
      " There are 17 disconnected components.\n",
      " There are 6 islands with ids: 156647, 156653, 157156, 157257, 159513, 165602.\n",
      "  warnings.warn(message)\n"
     ]
    },
    {
     "name": "stdout",
     "output_type": "stream",
     "text": [
      "Chunk 65 processed sucessfully in 263.1460394859314 seconds.\n"
     ]
    },
    {
     "name": "stderr",
     "output_type": "stream",
     "text": [
      "/opt/conda/lib/python3.8/site-packages/libpysal/weights/weights.py:172: UserWarning: The weights matrix is not fully connected: \n",
      " There are 10 disconnected components.\n",
      " There are 3 islands with ids: 166190, 166954, 195471.\n",
      "  warnings.warn(message)\n"
     ]
    },
    {
     "name": "stdout",
     "output_type": "stream",
     "text": [
      "Chunk 66 processed sucessfully in 254.1169135570526 seconds.\n"
     ]
    },
    {
     "name": "stderr",
     "output_type": "stream",
     "text": [
      "/opt/conda/lib/python3.8/site-packages/libpysal/weights/weights.py:172: UserWarning: The weights matrix is not fully connected: \n",
      " There are 5 disconnected components.\n",
      " There are 2 islands with ids: 235233, 252343.\n",
      "  warnings.warn(message)\n"
     ]
    },
    {
     "name": "stdout",
     "output_type": "stream",
     "text": [
      "Chunk 67 processed sucessfully in 368.75104236602783 seconds.\n"
     ]
    },
    {
     "name": "stderr",
     "output_type": "stream",
     "text": [
      "/opt/conda/lib/python3.8/site-packages/libpysal/weights/weights.py:172: UserWarning: The weights matrix is not fully connected: \n",
      " There are 12 disconnected components.\n",
      " There are 5 islands with ids: 155088, 155160, 167986, 191013, 196669.\n",
      "  warnings.warn(message)\n"
     ]
    },
    {
     "name": "stdout",
     "output_type": "stream",
     "text": [
      "Chunk 68 processed sucessfully in 264.6607723236084 seconds.\n"
     ]
    },
    {
     "name": "stderr",
     "output_type": "stream",
     "text": [
      "/opt/conda/lib/python3.8/site-packages/libpysal/weights/weights.py:172: UserWarning: The weights matrix is not fully connected: \n",
      " There are 11 disconnected components.\n",
      " There are 2 islands with ids: 158286, 159068.\n",
      "  warnings.warn(message)\n"
     ]
    },
    {
     "name": "stdout",
     "output_type": "stream",
     "text": [
      "Chunk 69 processed sucessfully in 290.5715596675873 seconds.\n"
     ]
    },
    {
     "name": "stderr",
     "output_type": "stream",
     "text": [
      "/opt/conda/lib/python3.8/site-packages/libpysal/weights/weights.py:172: UserWarning: The weights matrix is not fully connected: \n",
      " There are 12 disconnected components.\n",
      " There are 6 islands with ids: 150978, 166808, 167170, 178361, 178384, 193905.\n",
      "  warnings.warn(message)\n"
     ]
    },
    {
     "name": "stdout",
     "output_type": "stream",
     "text": [
      "Chunk 70 processed sucessfully in 234.2130560874939 seconds.\n"
     ]
    },
    {
     "name": "stderr",
     "output_type": "stream",
     "text": [
      "/opt/conda/lib/python3.8/site-packages/libpysal/weights/weights.py:172: UserWarning: The weights matrix is not fully connected: \n",
      " There are 9 disconnected components.\n",
      " There are 5 islands with ids: 129657, 131156, 138104, 147618, 177723.\n",
      "  warnings.warn(message)\n"
     ]
    },
    {
     "name": "stdout",
     "output_type": "stream",
     "text": [
      "Chunk 71 processed sucessfully in 253.7894606590271 seconds.\n"
     ]
    },
    {
     "name": "stderr",
     "output_type": "stream",
     "text": [
      "/opt/conda/lib/python3.8/site-packages/libpysal/weights/weights.py:172: UserWarning: The weights matrix is not fully connected: \n",
      " There are 12 disconnected components.\n",
      " There are 6 islands with ids: 130098, 147514, 152653, 156044, 159793, 164178.\n",
      "  warnings.warn(message)\n"
     ]
    },
    {
     "name": "stdout",
     "output_type": "stream",
     "text": [
      "Chunk 72 processed sucessfully in 263.50014424324036 seconds.\n"
     ]
    },
    {
     "name": "stderr",
     "output_type": "stream",
     "text": [
      "/opt/conda/lib/python3.8/site-packages/libpysal/weights/weights.py:172: UserWarning: The weights matrix is not fully connected: \n",
      " There are 30 disconnected components.\n",
      " There are 18 islands with ids: 159450, 159452, 159454, 159455, 159457, 159459, 159460, 159461, 159465, 159466, 159467, 159468, 159469, 159471, 200198, 205753, 209350, 210274.\n",
      "  warnings.warn(message)\n"
     ]
    },
    {
     "name": "stdout",
     "output_type": "stream",
     "text": [
      "Chunk 73 processed sucessfully in 299.1839327812195 seconds.\n"
     ]
    },
    {
     "name": "stderr",
     "output_type": "stream",
     "text": [
      "/opt/conda/lib/python3.8/site-packages/libpysal/weights/weights.py:172: UserWarning: The weights matrix is not fully connected: \n",
      " There are 13 disconnected components.\n",
      " There are 5 islands with ids: 133214, 142247, 162225, 171526, 171662.\n",
      "  warnings.warn(message)\n"
     ]
    },
    {
     "name": "stdout",
     "output_type": "stream",
     "text": [
      "Chunk 74 processed sucessfully in 231.59208178520203 seconds.\n"
     ]
    },
    {
     "name": "stderr",
     "output_type": "stream",
     "text": [
      "/opt/conda/lib/python3.8/site-packages/libpysal/weights/weights.py:172: UserWarning: The weights matrix is not fully connected: \n",
      " There are 16 disconnected components.\n",
      " There are 9 islands with ids: 175128, 184864, 185710, 217674, 221634, 225009, 225316, 229729, 239190.\n",
      "  warnings.warn(message)\n"
     ]
    },
    {
     "name": "stdout",
     "output_type": "stream",
     "text": [
      "Chunk 75 processed sucessfully in 304.73678612709045 seconds.\n"
     ]
    },
    {
     "name": "stderr",
     "output_type": "stream",
     "text": [
      "/opt/conda/lib/python3.8/site-packages/libpysal/weights/weights.py:172: UserWarning: The weights matrix is not fully connected: \n",
      " There are 16 disconnected components.\n",
      " There are 8 islands with ids: 149664, 150112, 151215, 162296, 162297, 181738, 183735, 213768.\n",
      "  warnings.warn(message)\n"
     ]
    },
    {
     "name": "stdout",
     "output_type": "stream",
     "text": [
      "Chunk 76 processed sucessfully in 276.6728549003601 seconds.\n"
     ]
    },
    {
     "name": "stderr",
     "output_type": "stream",
     "text": [
      "/opt/conda/lib/python3.8/site-packages/libpysal/weights/weights.py:172: UserWarning: The weights matrix is not fully connected: \n",
      " There are 6 disconnected components.\n",
      " There are 5 islands with ids: 137306, 137355, 137363, 137406, 155001.\n",
      "  warnings.warn(message)\n"
     ]
    },
    {
     "name": "stdout",
     "output_type": "stream",
     "text": [
      "Chunk 77 processed sucessfully in 220.53749704360962 seconds.\n"
     ]
    },
    {
     "name": "stderr",
     "output_type": "stream",
     "text": [
      "/opt/conda/lib/python3.8/site-packages/libpysal/weights/weights.py:172: UserWarning: The weights matrix is not fully connected: \n",
      " There are 16 disconnected components.\n",
      " There are 9 islands with ids: 109475, 109675, 110994, 111063, 111138, 115290, 122922, 128689, 155812.\n",
      "  warnings.warn(message)\n"
     ]
    },
    {
     "name": "stdout",
     "output_type": "stream",
     "text": [
      "Chunk 78 processed sucessfully in 207.42325520515442 seconds.\n"
     ]
    },
    {
     "name": "stderr",
     "output_type": "stream",
     "text": [
      "/opt/conda/lib/python3.8/site-packages/libpysal/weights/weights.py:172: UserWarning: The weights matrix is not fully connected: \n",
      " There are 8 disconnected components.\n",
      " There are 5 islands with ids: 123412, 128408, 149735, 149736, 152636.\n",
      "  warnings.warn(message)\n"
     ]
    },
    {
     "name": "stdout",
     "output_type": "stream",
     "text": [
      "Chunk 79 processed sucessfully in 207.57619166374207 seconds.\n"
     ]
    },
    {
     "name": "stderr",
     "output_type": "stream",
     "text": [
      "/opt/conda/lib/python3.8/site-packages/libpysal/weights/weights.py:172: UserWarning: The weights matrix is not fully connected: \n",
      " There are 10 disconnected components.\n",
      " There are 5 islands with ids: 167921, 167922, 183242, 200627, 208682.\n",
      "  warnings.warn(message)\n"
     ]
    },
    {
     "name": "stdout",
     "output_type": "stream",
     "text": [
      "Chunk 80 processed sucessfully in 242.84630632400513 seconds.\n"
     ]
    },
    {
     "name": "stderr",
     "output_type": "stream",
     "text": [
      "/opt/conda/lib/python3.8/site-packages/libpysal/weights/weights.py:172: UserWarning: The weights matrix is not fully connected: \n",
      " There are 11 disconnected components.\n",
      " There are 6 islands with ids: 108879, 109619, 109791, 109794, 109795, 109933.\n",
      "  warnings.warn(message)\n"
     ]
    },
    {
     "name": "stdout",
     "output_type": "stream",
     "text": [
      "Chunk 81 processed sucessfully in 156.10908246040344 seconds.\n"
     ]
    },
    {
     "name": "stderr",
     "output_type": "stream",
     "text": [
      "/opt/conda/lib/python3.8/site-packages/libpysal/weights/weights.py:172: UserWarning: The weights matrix is not fully connected: \n",
      " There are 11 disconnected components.\n",
      " There are 3 islands with ids: 145108, 159652, 189674.\n",
      "  warnings.warn(message)\n"
     ]
    },
    {
     "name": "stdout",
     "output_type": "stream",
     "text": [
      "Chunk 82 processed sucessfully in 237.42833352088928 seconds.\n"
     ]
    },
    {
     "name": "stderr",
     "output_type": "stream",
     "text": [
      "/opt/conda/lib/python3.8/site-packages/libpysal/weights/weights.py:172: UserWarning: The weights matrix is not fully connected: \n",
      " There are 29 disconnected components.\n",
      " There are 16 islands with ids: 142220, 142245, 142256, 142266, 142269, 142369, 142417, 142529, 145065, 145696, 145718, 146889, 147156, 147278, 165073, 168672.\n",
      "  warnings.warn(message)\n"
     ]
    },
    {
     "name": "stdout",
     "output_type": "stream",
     "text": [
      "Chunk 83 processed sucessfully in 232.90090823173523 seconds.\n"
     ]
    },
    {
     "name": "stderr",
     "output_type": "stream",
     "text": [
      "/opt/conda/lib/python3.8/site-packages/libpysal/weights/weights.py:172: UserWarning: The weights matrix is not fully connected: \n",
      " There are 5 disconnected components.\n",
      " There are 2 islands with ids: 110833, 111462.\n",
      "  warnings.warn(message)\n"
     ]
    },
    {
     "name": "stdout",
     "output_type": "stream",
     "text": [
      "Chunk 84 processed sucessfully in 180.23269033432007 seconds.\n"
     ]
    },
    {
     "name": "stderr",
     "output_type": "stream",
     "text": [
      "/opt/conda/lib/python3.8/site-packages/libpysal/weights/weights.py:172: UserWarning: The weights matrix is not fully connected: \n",
      " There are 40 disconnected components.\n",
      " There are 24 islands with ids: 173357, 173761, 173798, 173880, 173883, 173976, 174174, 174194, 174298, 174305, 177736, 177755, 177771, 177778, 177780, 177796, 177798, 177818, 177823, 177909, 178447, 178513, 178557, 178799.\n",
      "  warnings.warn(message)\n"
     ]
    },
    {
     "name": "stdout",
     "output_type": "stream",
     "text": [
      "Chunk 85 processed sucessfully in 237.13694953918457 seconds.\n"
     ]
    },
    {
     "name": "stderr",
     "output_type": "stream",
     "text": [
      "/opt/conda/lib/python3.8/site-packages/libpysal/weights/weights.py:172: UserWarning: The weights matrix is not fully connected: \n",
      " There are 13 disconnected components.\n",
      " There are 9 islands with ids: 143103, 143866, 145455, 150180, 177294, 184733, 191892, 193767, 198540.\n",
      "  warnings.warn(message)\n"
     ]
    },
    {
     "name": "stdout",
     "output_type": "stream",
     "text": [
      "Chunk 86 processed sucessfully in 248.50655436515808 seconds.\n"
     ]
    },
    {
     "name": "stderr",
     "output_type": "stream",
     "text": [
      "/opt/conda/lib/python3.8/site-packages/libpysal/weights/weights.py:172: UserWarning: The weights matrix is not fully connected: \n",
      " There are 721 disconnected components.\n",
      " There are 651 islands with ids: 142916, 142931, 143078, 143132, 143133, 143134, 143167, 143168, 143184, 143193, 143197, 143208, 143243, 143380, 143383, 143409, 143411, 143417, 143429, 143436, 143437, 143441, 143471, 143472, 143517, 143526, 143544, 143648, 143663, 143682, 143691, 143695, 143704, 143761, 143771, 143773, 143818, 143832, 143835, 143836, 143842, 143872, 143875, 143891, 143900, 143919, 143928, 143931, 143933, 143939, 143942, 143950, 143952, 143969, 143977, 143981, 144001, 144022, 144046, 144049, 144055, 144056, 144061, 144069, 144076, 144085, 144089, 144127, 144143, 144185, 144225, 144227, 144249, 144250, 144255, 144259, 144262, 144272, 144274, 144295, 144297, 144304, 144314, 144320, 144342, 144352, 144362, 144376, 144389, 144405, 144412, 144524, 144559, 144561, 144572, 144573, 144576, 144589, 144609, 144646, 144648, 144671, 144710, 144731, 144739, 144740, 144741, 144742, 144754, 144806, 144819, 144842, 144987, 145085, 145110, 145112, 145178, 145182, 145218, 145234, 145262, 145263, 145294, 145313, 145374, 145392, 145394, 145409, 145485, 145489, 145505, 145518, 145525, 145527, 145528, 145529, 145530, 145533, 145534, 145536, 145545, 145582, 145596, 145607, 145630, 145634, 145660, 145675, 145688, 145717, 145719, 145734, 145753, 145765, 145788, 145804, 145812, 145825, 145838, 145841, 145856, 145857, 145868, 145874, 145886, 145891, 145985, 146000, 146031, 146036, 146068, 146103, 146125, 146133, 146176, 146211, 146216, 146232, 146325, 146370, 146390, 146397, 146411, 146439, 146446, 146468, 146488, 146529, 146549, 146565, 146569, 146595, 146631, 146654, 146655, 146689, 146695, 146715, 146719, 146724, 146731, 146747, 146748, 146776, 146785, 146801, 146810, 146814, 146833, 146838, 146843, 146849, 146867, 146870, 146873, 146875, 146878, 146912, 146913, 146920, 146921, 146927, 146949, 146966, 146967, 146970, 146986, 146995, 147000, 147007, 147016, 147021, 147054, 147103, 147134, 147138, 147154, 147168, 147178, 147185, 147199, 147223, 147232, 147238, 147245, 147260, 147299, 147301, 147307, 147312, 147317, 147321, 147323, 147326, 147328, 147331, 147332, 147338, 147343, 147344, 147350, 147352, 147389, 147453, 147460, 147476, 147489, 147492, 147493, 147501, 147515, 147520, 147529, 147536, 147550, 147551, 147552, 147559, 147561, 147565, 147569, 147570, 147585, 147593, 147594, 147596, 147600, 147604, 147644, 147645, 147668, 147695, 147698, 147710, 147720, 147743, 147750, 147753, 147766, 147770, 147773, 147775, 147784, 147785, 147786, 147789, 147798, 147800, 147801, 147802, 147804, 147811, 147817, 147820, 147821, 147824, 147826, 147831, 147838, 147841, 147842, 147849, 147852, 147861, 147868, 147890, 147895, 147898, 147911, 147912, 147915, 147917, 147923, 147931, 147938, 147939, 147940, 147942, 147943, 147946, 147950, 147955, 147958, 147962, 147964, 147966, 147972, 147986, 147987, 147989, 147992, 147993, 147996, 147997, 147998, 148004, 148016, 148033, 148050, 148058, 148065, 148067, 148072, 148073, 148084, 148087, 148088, 148090, 148096, 148106, 148109, 148116, 148131, 148157, 148160, 148176, 148184, 148189, 148218, 148230, 148243, 148245, 148257, 148265, 148277, 148278, 148283, 148284, 148300, 148303, 148346, 148351, 148360, 148423, 148440, 148450, 148458, 148468, 148480, 148498, 148557, 148595, 148599, 148600, 148608, 148614, 148618, 148628, 148636, 148645, 148646, 148648, 148649, 148672, 148693, 148706, 148710, 148719, 148722, 148725, 148763, 148772, 148781, 148783, 148822, 148862, 148864, 148869, 148877, 148882, 148888, 148893, 148897, 148899, 148900, 148903, 148918, 148960, 148978, 148981, 148983, 149000, 149002, 149007, 149011, 149028, 149043, 149045, 149048, 149049, 149050, 149053, 149055, 149056, 149057, 149059, 149061, 149066, 149069, 149071, 149083, 149092, 149097, 149099, 149102, 149113, 149125, 149133, 149140, 149144, 149153, 149168, 149176, 149177, 149178, 149181, 149185, 149192, 149200, 149220, 149227, 149229, 149231, 149234, 149245, 149246, 149247, 149248, 149252, 149255, 149258, 149260, 149268, 149269, 149284, 149294, 149297, 149298, 149299, 149303, 149305, 149306, 149310, 149313, 149327, 149342, 149343, 149381, 149395, 149404, 149422, 149431, 149432, 149446, 149481, 149489, 149496, 149502, 149512, 149518, 149519, 149520, 149523, 149527, 149528, 149531, 149538, 149540, 149546, 149548, 149549, 149556, 149557, 149560, 149561, 149571, 149574, 149577, 149584, 149585, 149586, 149587, 149588, 149596, 149604, 149608, 149609, 149619, 149621, 149624, 149625, 149626, 149630, 149635, 149639, 149641, 149643, 149644, 149656, 149658, 149667, 149670, 149677, 149678, 149680, 149681, 149683, 149686, 149688, 149689, 149690, 149691, 149692, 149694, 149702, 149721, 149722, 149730, 149743, 149756, 149757, 149762, 149763, 149769, 149771, 149785, 149788, 149789, 149801, 149810, 149816, 149822, 149824, 149826, 149845, 149848, 149856, 149862, 149864, 149871, 149881, 149883, 149885, 149890, 149903, 149927, 149935, 149951, 149955, 149980, 150021, 150044, 150057, 150062, 150064, 150065, 150154, 150177, 150181, 150193, 150213, 150215, 150216, 150217, 150219, 150243, 150245, 150256, 150257, 150259, 150260, 150267, 150271, 150277, 150283, 150292, 150309, 150310, 150321, 150329, 150372, 150407, 150408, 150414, 150416, 150418, 150454, 150457, 150460, 150487, 150488.\n",
      "  warnings.warn(message)\n"
     ]
    },
    {
     "name": "stdout",
     "output_type": "stream",
     "text": [
      "Chunk 87 processed sucessfully in 227.92471551895142 seconds.\n"
     ]
    },
    {
     "name": "stderr",
     "output_type": "stream",
     "text": [
      "/opt/conda/lib/python3.8/site-packages/libpysal/weights/weights.py:172: UserWarning: The weights matrix is not fully connected: \n",
      " There are 11 disconnected components.\n",
      " There are 5 islands with ids: 172530, 173713, 174052, 190075, 190076.\n",
      "  warnings.warn(message)\n"
     ]
    },
    {
     "name": "stdout",
     "output_type": "stream",
     "text": [
      "Chunk 88 processed sucessfully in 233.84631967544556 seconds.\n"
     ]
    },
    {
     "name": "stderr",
     "output_type": "stream",
     "text": [
      "/opt/conda/lib/python3.8/site-packages/libpysal/weights/weights.py:172: UserWarning: The weights matrix is not fully connected: \n",
      " There are 68 disconnected components.\n",
      " There are 49 islands with ids: 227459, 227460, 227461, 227462, 227463, 227466, 227468, 227484, 227485, 227486, 227488, 227489, 227492, 227493, 227494, 227495, 227497, 227498, 227499, 227500, 227502, 227503, 227504, 227505, 227508, 227510, 227514, 227524, 227527, 227529, 227531, 227533, 227539, 227540, 227541, 227729, 227735, 227785, 227793, 228342, 228991, 229121, 229546, 229549, 229550, 229636, 230115, 231834, 233730.\n",
      "  warnings.warn(message)\n"
     ]
    },
    {
     "name": "stdout",
     "output_type": "stream",
     "text": [
      "Chunk 89 processed sucessfully in 284.80965065956116 seconds.\n"
     ]
    },
    {
     "name": "stderr",
     "output_type": "stream",
     "text": [
      "/opt/conda/lib/python3.8/site-packages/libpysal/weights/weights.py:172: UserWarning: The weights matrix is not fully connected: \n",
      " There are 8 disconnected components.\n",
      " There are 2 islands with ids: 150406, 154817.\n",
      "  warnings.warn(message)\n"
     ]
    },
    {
     "name": "stdout",
     "output_type": "stream",
     "text": [
      "Chunk 90 processed sucessfully in 211.46636080741882 seconds.\n"
     ]
    },
    {
     "name": "stderr",
     "output_type": "stream",
     "text": [
      "/opt/conda/lib/python3.8/site-packages/libpysal/weights/weights.py:172: UserWarning: The weights matrix is not fully connected: \n",
      " There are 7 disconnected components.\n",
      " There is 1 island with id: 167260.\n",
      "  warnings.warn(message)\n"
     ]
    },
    {
     "name": "stdout",
     "output_type": "stream",
     "text": [
      "Chunk 91 processed sucessfully in 233.61219358444214 seconds.\n"
     ]
    },
    {
     "name": "stderr",
     "output_type": "stream",
     "text": [
      "/opt/conda/lib/python3.8/site-packages/libpysal/weights/weights.py:172: UserWarning: The weights matrix is not fully connected: \n",
      " There are 13 disconnected components.\n",
      " There are 5 islands with ids: 178434, 178538, 219117, 238999, 267437.\n",
      "  warnings.warn(message)\n"
     ]
    },
    {
     "name": "stdout",
     "output_type": "stream",
     "text": [
      "Chunk 92 processed sucessfully in 364.09398126602173 seconds.\n"
     ]
    },
    {
     "name": "stderr",
     "output_type": "stream",
     "text": [
      "/opt/conda/lib/python3.8/site-packages/libpysal/weights/weights.py:172: UserWarning: The weights matrix is not fully connected: \n",
      " There are 5 disconnected components.\n",
      " There are 2 islands with ids: 125054, 134814.\n",
      "  warnings.warn(message)\n"
     ]
    },
    {
     "name": "stdout",
     "output_type": "stream",
     "text": [
      "Chunk 93 processed sucessfully in 220.23269653320312 seconds.\n"
     ]
    },
    {
     "name": "stderr",
     "output_type": "stream",
     "text": [
      "/opt/conda/lib/python3.8/site-packages/libpysal/weights/weights.py:172: UserWarning: The weights matrix is not fully connected: \n",
      " There are 12 disconnected components.\n",
      " There are 3 islands with ids: 139292, 140529, 169298.\n",
      "  warnings.warn(message)\n"
     ]
    },
    {
     "name": "stdout",
     "output_type": "stream",
     "text": [
      "Chunk 94 processed sucessfully in 237.6123263835907 seconds.\n"
     ]
    },
    {
     "name": "stderr",
     "output_type": "stream",
     "text": [
      "/opt/conda/lib/python3.8/site-packages/libpysal/weights/weights.py:172: UserWarning: The weights matrix is not fully connected: \n",
      " There are 7 disconnected components.\n",
      " There are 3 islands with ids: 135388, 138476, 146980.\n",
      "  warnings.warn(message)\n"
     ]
    },
    {
     "name": "stdout",
     "output_type": "stream",
     "text": [
      "Chunk 95 processed sucessfully in 247.24600315093994 seconds.\n",
      "Chunk 96 processed sucessfully in 201.34737181663513 seconds.\n"
     ]
    },
    {
     "name": "stderr",
     "output_type": "stream",
     "text": [
      "/opt/conda/lib/python3.8/site-packages/libpysal/weights/weights.py:172: UserWarning: The weights matrix is not fully connected: \n",
      " There are 315 disconnected components.\n",
      " There are 267 islands with ids: 111786, 111840, 111952, 111953, 111959, 111974, 111976, 111979, 111984, 111985, 111991, 111993, 111994, 111996, 111997, 111999, 112002, 112003, 112005, 112009, 112014, 112015, 112016, 112018, 112025, 112027, 112029, 112030, 112031, 112033, 112034, 112049, 112050, 112062, 112087, 112096, 112142, 112155, 112164, 112168, 112226, 112276, 112284, 112308, 112324, 112358, 112378, 112524, 112693, 112696, 112711, 112738, 112745, 112747, 112748, 112752, 112759, 112783, 112899, 112955, 112965, 112982, 112985, 113003, 113012, 113044, 113053, 113062, 113082, 113140, 113143, 113237, 113255, 113284, 113288, 113294, 113308, 113311, 113315, 113320, 113327, 113355, 113367, 113383, 113412, 113452, 113465, 113472, 113483, 113530, 113597, 113613, 113620, 113640, 114008, 114180, 114199, 114212, 114226, 114370, 114403, 114458, 114466, 114513, 114520, 114556, 114618, 114640, 114718, 114762, 114832, 114849, 114853, 114869, 114885, 114887, 114923, 115040, 115083, 115151, 115178, 115196, 115216, 115236, 115252, 115266, 115267, 115271, 115276, 115280, 115302, 115305, 115309, 115310, 115312, 115314, 115318, 115319, 115322, 115324, 115326, 115327, 115329, 115332, 115333, 115346, 115355, 115358, 115362, 115377, 115378, 115379, 115386, 115408, 115443, 115446, 115450, 115458, 115463, 115465, 115472, 115476, 115489, 115492, 115495, 115502, 115503, 115505, 115507, 115508, 115509, 115510, 115511, 115515, 115516, 115523, 115529, 115533, 115534, 115538, 115539, 115541, 115547, 115555, 115560, 115588, 115593, 115597, 115606, 115608, 115637, 115653, 115665, 115667, 115682, 115683, 115687, 115693, 115720, 115721, 115726, 115733, 115742, 115828, 115836, 115839, 115843, 115868, 115899, 115927, 115932, 115962, 116013, 116130, 116151, 116157, 116212, 116238, 116245, 116249, 116252, 116253, 116256, 116259, 116261, 116279, 116290, 116300, 116325, 116336, 116383, 116405, 116412, 116438, 116453, 116457, 116460, 116473, 116486, 116505, 116528, 116542, 116551, 116555, 116556, 116557, 116568, 116577, 116605, 116611, 116614, 116616, 116619, 116621, 116622, 116637, 116644, 116647, 116649, 116655, 116668, 116669, 116670, 116671, 117010, 132122, 145958.\n",
      "  warnings.warn(message)\n"
     ]
    },
    {
     "name": "stdout",
     "output_type": "stream",
     "text": [
      "Chunk 97 processed sucessfully in 230.589741230011 seconds.\n"
     ]
    },
    {
     "name": "stderr",
     "output_type": "stream",
     "text": [
      "/opt/conda/lib/python3.8/site-packages/libpysal/weights/weights.py:172: UserWarning: The weights matrix is not fully connected: \n",
      " There are 8 disconnected components.\n",
      " There are 3 islands with ids: 192665, 238648, 248981.\n",
      "  warnings.warn(message)\n"
     ]
    },
    {
     "name": "stdout",
     "output_type": "stream",
     "text": [
      "Chunk 98 processed sucessfully in 310.0511486530304 seconds.\n"
     ]
    },
    {
     "name": "stderr",
     "output_type": "stream",
     "text": [
      "/opt/conda/lib/python3.8/site-packages/libpysal/weights/weights.py:172: UserWarning: The weights matrix is not fully connected: \n",
      " There are 46 disconnected components.\n",
      " There are 27 islands with ids: 136939, 136946, 136953, 136956, 137450, 137497, 137536, 137538, 137563, 137571, 137573, 138003, 138034, 138044, 138087, 143233, 144070, 146219, 152038, 154368, 156244, 156245, 164971, 166175, 173534, 186205, 186370.\n",
      "  warnings.warn(message)\n"
     ]
    },
    {
     "name": "stdout",
     "output_type": "stream",
     "text": [
      "Chunk 99 processed sucessfully in 237.9031059741974 seconds.\n"
     ]
    },
    {
     "name": "stderr",
     "output_type": "stream",
     "text": [
      "/opt/conda/lib/python3.8/site-packages/libpysal/weights/weights.py:172: UserWarning: The weights matrix is not fully connected: \n",
      " There are 11 disconnected components.\n",
      " There are 4 islands with ids: 145018, 159712, 166989, 166990.\n",
      "  warnings.warn(message)\n"
     ]
    },
    {
     "name": "stdout",
     "output_type": "stream",
     "text": [
      "Chunk 100 processed sucessfully in 252.1358687877655 seconds.\n"
     ]
    },
    {
     "name": "stderr",
     "output_type": "stream",
     "text": [
      "/opt/conda/lib/python3.8/site-packages/libpysal/weights/weights.py:172: UserWarning: The weights matrix is not fully connected: \n",
      " There are 11 disconnected components.\n",
      " There are 4 islands with ids: 245250, 245382, 273303, 302782.\n",
      "  warnings.warn(message)\n"
     ]
    },
    {
     "name": "stdout",
     "output_type": "stream",
     "text": [
      "Chunk 101 processed sucessfully in 385.7198483943939 seconds.\n"
     ]
    },
    {
     "name": "stderr",
     "output_type": "stream",
     "text": [
      "/opt/conda/lib/python3.8/site-packages/libpysal/weights/weights.py:172: UserWarning: The weights matrix is not fully connected: \n",
      " There are 9 disconnected components.\n",
      " There are 5 islands with ids: 139758, 154451, 154461, 164041, 172042.\n",
      "  warnings.warn(message)\n"
     ]
    },
    {
     "name": "stdout",
     "output_type": "stream",
     "text": [
      "Chunk 102 processed sucessfully in 235.5640685558319 seconds.\n"
     ]
    }
   ],
   "source": [
    "# I am afraid that we would run out of memory if we did this in parallel\n",
    "for i in tqdm(range(103), total=103):\n",
    "    print(generate_distance_w(i))"
   ]
  },
  {
   "cell_type": "code",
   "execution_count": null,
   "metadata": {},
   "outputs": [],
   "source": [
    "def convolute(chunk_id):\n",
    "   \n",
    "    s = time()\n",
    "    cells = geopandas.read_parquet(f\"../../urbangrammar_samba/spatial_signatures/morphometrics/cells/cells_{chunk_id}.pq\")\n",
    "    cells['keep'] = True\n",
    "    # add neighbouring cells from other chunks\n",
    "    cross_chunk_cells = []\n",
    "\n",
    "    for chunk, inds in cross_chunk.loc[chunk_id].indices.iteritems():\n",
    "        add_cells = geopandas.read_parquet(f\"../../urbangrammar_samba/spatial_signatures/morphometrics/cells/cells_{chunk}.pq\").iloc[inds]\n",
    "        add_cells['keep'] = False\n",
    "        cross_chunk_cells.append(add_cells)\n",
    "\n",
    "    df = cells.append(pd.concat(cross_chunk_cells, ignore_index=True), ignore_index=True)\n",
    "\n",
    "    # read W\n",
    "    w = libpysal.weights.WSP(scipy.sparse.load_npz(f\"../../urbangrammar_samba/spatial_signatures/weights/w3_{chunk_id}.npz\")).to_W()\n",
    "\n",
    "    # list characters\n",
    "    characters = [x for x in df.columns if len(x) == 6]\n",
    "    \n",
    "    # prepare dictionary to store results\n",
    "    convolutions = {}\n",
    "    for c in characters:\n",
    "        convolutions[c] = []\n",
    "        \n",
    "    # measure convolutions\n",
    "    for i in range(len(df)):\n",
    "        neighbours = [i]\n",
    "        neighbours += w.neighbors[i]\n",
    "\n",
    "        vicinity = df.iloc[neighbours]\n",
    "\n",
    "        for c in characters:\n",
    "            convolutions[c].append(np.nanpercentile(vicinity[c], [25, 50, 75], interpolation='midpoint'))\n",
    "    \n",
    "    # save convolutions to parquet file\n",
    "    conv = pd.DataFrame(convolutions)\n",
    "    exploded = pd.concat([pd.DataFrame(conv[c].to_list(), columns=[c + '_q1', c + '_q2',c + '_q3']) for c in characters], axis=1)\n",
    "    exploded[df.keep].to_parquet(f\"../../urbangrammar_samba/spatial_signatures/morphometrics/convolutions/conv_{chunk_id}.pq\")\n",
    "        \n",
    "    return f\"Chunk {chunk_id} processed sucessfully in {time() - s} seconds.\""
   ]
  },
  {
   "cell_type": "code",
   "execution_count": null,
   "metadata": {},
   "outputs": [],
   "source": [
    "workers = 8\n",
    "client = Client(LocalCluster(n_workers=workers, threads_per_worker=1))\n",
    "client"
   ]
  },
  {
   "cell_type": "code",
   "execution_count": null,
   "metadata": {},
   "outputs": [],
   "source": [
    "%%time\n",
    "inputs = iter(range(103))\n",
    "futures = [client.submit(convolute, next(inputs)) for i in range(workers)]\n",
    "ac = as_completed(futures)\n",
    "for finished_future in ac:\n",
    "    # submit new future \n",
    "    try:\n",
    "        new_future = client.submit(convolute, next(inputs))\n",
    "        ac.add(new_future)\n",
    "    except StopIteration:\n",
    "        pass\n",
    "    print(finished_future.result())"
   ]
  }
 ],
 "metadata": {
  "kernelspec": {
   "display_name": "Python 3",
   "language": "python",
   "name": "python3"
  },
  "language_info": {
   "codemirror_mode": {
    "name": "ipython",
    "version": 3
   },
   "file_extension": ".py",
   "mimetype": "text/x-python",
   "name": "python",
   "nbconvert_exporter": "python",
   "pygments_lexer": "ipython3",
   "version": "3.8.8"
  }
 },
 "nbformat": 4,
 "nbformat_minor": 4
}
