{
 "cells": [
  {
   "cell_type": "markdown",
   "metadata": {},
   "source": [
    "# Generate hierarchical unique IDs\n",
    "\n",
    "Each tessellation cell will have an unique hierarchical index (`hindex`) in a form `c000e000000t0000` where `c000` represents a chunk, `e000000` represents an enclosure, and `t0000` represents a cell.\n",
    "\n",
    "Each enclosure then have an unique hierarchical index as `c000e00000`."
   ]
  },
  {
   "cell_type": "code",
   "execution_count": 1,
   "metadata": {},
   "outputs": [],
   "source": [
    "import geopandas as gpd\n",
    "import pandas as pd\n",
    "from tqdm import tqdm\n",
    "import warnings\n",
    "\n",
    "warnings.filterwarnings('ignore', message='.*initial implementation of Parquet.*')"
   ]
  },
  {
   "cell_type": "code",
   "execution_count": 2,
   "metadata": {},
   "outputs": [],
   "source": [
    "folder = \"../../urbangrammar_samba/spatial_signatures/morphometrics/cells/\""
   ]
  },
  {
   "cell_type": "code",
   "execution_count": 14,
   "metadata": {},
   "outputs": [
    {
     "name": "stderr",
     "output_type": "stream",
     "text": [
      "100%|██████████| 103/103 [16:51<00:00,  9.82s/it]\n"
     ]
    }
   ],
   "source": [
    "for c in tqdm(range(103), total=103):\n",
    "    tess = gpd.read_parquet(folder + f'cells_{c}.pq')\n",
    "    tess = tess.sort_values('enclosureID')\n",
    "    \n",
    "    tess_ids = []\n",
    "    i = 0\n",
    "    count = 0\n",
    "    for eid in tess.enclosureID:\n",
    "        if eid == i:\n",
    "            tess_ids.append(count)\n",
    "            count += 1\n",
    "        else:\n",
    "            i = eid\n",
    "            count = 0\n",
    "            tess_ids.append(count)\n",
    "            count += 1\n",
    "    tess['tess_ID'] = tess_ids\n",
    "    tess = tess.sort_index()\n",
    "    hindex = (\n",
    "        \"c\" + (str(c) if len(str(c)) == 3 else (\"0\" * (3 - len(str(c)))) + str(c))\n",
    "        + \"e\"\n",
    "        + tess.enclosureID.astype(str).apply(\n",
    "            lambda x: x if len(x) == 6 else (\"0\" * (6 - len(x))) + x\n",
    "        )\n",
    "        + \"t\"\n",
    "        + tess.tess_ID.astype(str).apply(\n",
    "            lambda x: x if len(x) == 4 else (\"0\" * (4 - len(x))) + x\n",
    "        )\n",
    "    )\n",
    "\n",
    "    tess.insert(0, 'hindex', hindex)\n",
    "\n",
    "    tess.drop(columns=['uID', 'enclosureID', 'tess_ID']).to_parquet(folder + f'cells_{c}.pq')\n",
    "    tess.to_parquet(folder + f'cells_{c}.pq')\n",
    "    tess[['hindex', 'tessellation', 'buildings']].to_parquet(f\"../../urbangrammar_samba/spatial_signatures/tessellation/tess_{c}.pq\")"
   ]
  },
  {
   "cell_type": "code",
   "execution_count": 15,
   "metadata": {},
   "outputs": [
    {
     "name": "stderr",
     "output_type": "stream",
     "text": [
      "100%|██████████| 103/103 [00:29<00:00,  3.45it/s]\n"
     ]
    }
   ],
   "source": [
    "for c in tqdm(range(103), total=103):\n",
    "    encl =  gpd.read_parquet(f\"../../urbangrammar_samba/spatial_signatures/enclosures/encl_{c}.pq\")\n",
    "    hindex = (\n",
    "        \"c\" + (str(c) if len(str(c)) == 3 else (\"0\" * (3 - len(str(c)))) + str(c))\n",
    "        + \"e\"\n",
    "        + encl.enclosureID.astype(str).apply(\n",
    "            lambda x: x if len(x) == 6 else (\"0\" * (6 - len(x))) + x\n",
    "        )\n",
    "    )\n",
    "    encl.insert(0, 'hindex', hindex)\n",
    "    encl.drop(columns='enclosureID').to_parquet(f\"../../urbangrammar_samba/spatial_signatures/enclosures/encl_{c}.pq\")"
   ]
  },
  {
   "cell_type": "code",
   "execution_count": 29,
   "metadata": {},
   "outputs": [
    {
     "name": "stderr",
     "output_type": "stream",
     "text": [
      "100%|██████████| 103/103 [12:18<00:00,  7.17s/it]\n"
     ]
    }
   ],
   "source": [
    "for c in tqdm(range(103), total=103):\n",
    "    conv = pd.read_parquet(f\"../../urbangrammar_samba/spatial_signatures/morphometrics/convolutions/conv_{c}.pq\")\n",
    "    tess = gpd.read_parquet(folder + f'cells_{c}.pq')\n",
    "    conv.insert(0, 'hindex', tess['hindex'])\n",
    "    conv.to_parquet(f\"../../urbangrammar_samba/spatial_signatures/morphometrics/convolutions/conv_{c}.pq\")"
   ]
  },
  {
   "cell_type": "code",
   "execution_count": null,
   "metadata": {},
   "outputs": [],
   "source": []
  }
 ],
 "metadata": {
  "kernelspec": {
   "display_name": "Python 3",
   "language": "python",
   "name": "python3"
  },
  "language_info": {
   "codemirror_mode": {
    "name": "ipython",
    "version": 3
   },
   "file_extension": ".py",
   "mimetype": "text/x-python",
   "name": "python",
   "nbconvert_exporter": "python",
   "pygments_lexer": "ipython3",
   "version": "3.8.6"
  }
 },
 "nbformat": 4,
 "nbformat_minor": 4
}
