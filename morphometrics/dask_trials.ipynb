{
 "cells": [
  {
   "cell_type": "code",
   "execution_count": 1,
   "metadata": {
    "collapsed": true,
    "jupyter": {
     "outputs_hidden": true
    }
   },
   "outputs": [
    {
     "name": "stdout",
     "output_type": "stream",
     "text": [
      "\u001b[33mWARNING: The directory '/home/jovyan/.cache/pip' or its parent directory is not owned or is not writable by the current user. The cache has been disabled. Check the permissions and owner of that directory. If executing pip with sudo, you may want sudo's -H flag.\u001b[0m\n",
      "Collecting git+git://github.com/jsignell/dask-geopandas.git\n",
      "  Cloning git://github.com/jsignell/dask-geopandas.git to /tmp/pip-req-build-wmkzdt98\n",
      "Requirement already satisfied: geopandas in /opt/conda/lib/python3.7/site-packages (from dask-geopandas==0+untagged.7.gcb73333) (0.8.1)\n",
      "Requirement already satisfied: dask>=2.2.0 in /opt/conda/lib/python3.7/site-packages (from dask-geopandas==0+untagged.7.gcb73333) (2.21.0)\n",
      "Requirement already satisfied: distributed>=2.2.0 in /opt/conda/lib/python3.7/site-packages (from dask-geopandas==0+untagged.7.gcb73333) (2.21.0)\n",
      "Requirement already satisfied: shapely in /opt/conda/lib/python3.7/site-packages (from geopandas->dask-geopandas==0+untagged.7.gcb73333) (1.7.0)\n",
      "Requirement already satisfied: fiona in /opt/conda/lib/python3.7/site-packages (from geopandas->dask-geopandas==0+untagged.7.gcb73333) (1.8.13)\n",
      "Requirement already satisfied: pyproj>=2.2.0 in /opt/conda/lib/python3.7/site-packages (from geopandas->dask-geopandas==0+untagged.7.gcb73333) (2.6.1.post1)\n",
      "Requirement already satisfied: pandas>=0.23.0 in /opt/conda/lib/python3.7/site-packages (from geopandas->dask-geopandas==0+untagged.7.gcb73333) (1.1.0)\n",
      "Requirement already satisfied: pyyaml in /opt/conda/lib/python3.7/site-packages (from dask>=2.2.0->dask-geopandas==0+untagged.7.gcb73333) (5.3.1)\n",
      "Requirement already satisfied: zict>=0.1.3 in /opt/conda/lib/python3.7/site-packages (from distributed>=2.2.0->dask-geopandas==0+untagged.7.gcb73333) (2.0.0)\n",
      "Requirement already satisfied: sortedcontainers!=2.0.0,!=2.0.1 in /opt/conda/lib/python3.7/site-packages (from distributed>=2.2.0->dask-geopandas==0+untagged.7.gcb73333) (2.2.2)\n",
      "Requirement already satisfied: setuptools in /opt/conda/lib/python3.7/site-packages (from distributed>=2.2.0->dask-geopandas==0+untagged.7.gcb73333) (49.2.0.post20200712)\n",
      "Requirement already satisfied: cloudpickle>=1.5.0 in /opt/conda/lib/python3.7/site-packages (from distributed>=2.2.0->dask-geopandas==0+untagged.7.gcb73333) (1.5.0)\n",
      "Requirement already satisfied: tornado>=5; python_version < \"3.8\" in /opt/conda/lib/python3.7/site-packages (from distributed>=2.2.0->dask-geopandas==0+untagged.7.gcb73333) (6.0.4)\n",
      "Requirement already satisfied: toolz>=0.8.2 in /opt/conda/lib/python3.7/site-packages (from distributed>=2.2.0->dask-geopandas==0+untagged.7.gcb73333) (0.10.0)\n",
      "Requirement already satisfied: msgpack>=0.6.0 in /opt/conda/lib/python3.7/site-packages (from distributed>=2.2.0->dask-geopandas==0+untagged.7.gcb73333) (1.0.0)\n",
      "Requirement already satisfied: tblib>=1.6.0 in /opt/conda/lib/python3.7/site-packages (from distributed>=2.2.0->dask-geopandas==0+untagged.7.gcb73333) (1.6.0)\n",
      "Requirement already satisfied: click>=6.6 in /opt/conda/lib/python3.7/site-packages (from distributed>=2.2.0->dask-geopandas==0+untagged.7.gcb73333) (7.1.2)\n",
      "Requirement already satisfied: psutil>=5.0 in /opt/conda/lib/python3.7/site-packages (from distributed>=2.2.0->dask-geopandas==0+untagged.7.gcb73333) (5.7.2)\n",
      "Requirement already satisfied: attrs>=17 in /opt/conda/lib/python3.7/site-packages (from fiona->geopandas->dask-geopandas==0+untagged.7.gcb73333) (19.3.0)\n",
      "Requirement already satisfied: cligj>=0.5 in /opt/conda/lib/python3.7/site-packages (from fiona->geopandas->dask-geopandas==0+untagged.7.gcb73333) (0.5.0)\n",
      "Requirement already satisfied: click-plugins>=1.0 in /opt/conda/lib/python3.7/site-packages (from fiona->geopandas->dask-geopandas==0+untagged.7.gcb73333) (1.1.1)\n",
      "Requirement already satisfied: six>=1.7 in /opt/conda/lib/python3.7/site-packages (from fiona->geopandas->dask-geopandas==0+untagged.7.gcb73333) (1.15.0)\n",
      "Requirement already satisfied: munch in /opt/conda/lib/python3.7/site-packages (from fiona->geopandas->dask-geopandas==0+untagged.7.gcb73333) (2.5.0)\n",
      "Requirement already satisfied: numpy>=1.15.4 in /opt/conda/lib/python3.7/site-packages (from pandas>=0.23.0->geopandas->dask-geopandas==0+untagged.7.gcb73333) (1.19.1)\n",
      "Requirement already satisfied: python-dateutil>=2.7.3 in /opt/conda/lib/python3.7/site-packages (from pandas>=0.23.0->geopandas->dask-geopandas==0+untagged.7.gcb73333) (2.8.0)\n",
      "Requirement already satisfied: pytz>=2017.2 in /opt/conda/lib/python3.7/site-packages (from pandas>=0.23.0->geopandas->dask-geopandas==0+untagged.7.gcb73333) (2020.1)\n",
      "Requirement already satisfied: heapdict in /opt/conda/lib/python3.7/site-packages (from zict>=0.1.3->distributed>=2.2.0->dask-geopandas==0+untagged.7.gcb73333) (1.0.1)\n",
      "Building wheels for collected packages: dask-geopandas\n",
      "  Building wheel for dask-geopandas (setup.py) ... \u001b[?25ldone\n",
      "\u001b[?25h  Created wheel for dask-geopandas: filename=dask_geopandas-0+untagged.7.gcb73333-py3-none-any.whl size=13073 sha256=771843a4443b04c9cb4ebf5467f7d81c367acbcc1a432b4d69d2341add53952f\n",
      "  Stored in directory: /tmp/pip-ephem-wheel-cache-qdqpagb6/wheels/ff/55/cb/2b4f9123cf14297d989da457790c5d863cda30fa41ab22d763\n",
      "Successfully built dask-geopandas\n",
      "Installing collected packages: dask-geopandas\n",
      "Successfully installed dask-geopandas-0+untagged.7.gcb73333\n"
     ]
    }
   ],
   "source": [
    "# !pip install git+git://github.com/jsignell/dask-geopandas.git"
   ]
  },
  {
   "cell_type": "code",
   "execution_count": 2,
   "metadata": {},
   "outputs": [],
   "source": [
    "from dask.distributed import Client, LocalCluster\n",
    "import dask_geopandas as dg\n",
    "import geopandas"
   ]
  },
  {
   "cell_type": "code",
   "execution_count": 3,
   "metadata": {},
   "outputs": [
    {
     "data": {
      "text/html": [
       "<table style=\"border: 2px solid white;\">\n",
       "<tr>\n",
       "<td style=\"vertical-align: top; border: 0px solid white\">\n",
       "<h3 style=\"text-align: left;\">Client</h3>\n",
       "<ul style=\"text-align: left; list-style: none; margin: 0; padding: 0;\">\n",
       "  <li><b>Scheduler: </b>tcp://127.0.0.1:45911</li>\n",
       "  <li><b>Dashboard: </b><a href='http://127.0.0.1:8787/status' target='_blank'>http://127.0.0.1:8787/status</a></li>\n",
       "</ul>\n",
       "</td>\n",
       "<td style=\"vertical-align: top; border: 0px solid white\">\n",
       "<h3 style=\"text-align: left;\">Cluster</h3>\n",
       "<ul style=\"text-align: left; list-style:none; margin: 0; padding: 0;\">\n",
       "  <li><b>Workers: </b>14</li>\n",
       "  <li><b>Cores: </b>28</li>\n",
       "  <li><b>Memory: </b>84.28 GB</li>\n",
       "</ul>\n",
       "</td>\n",
       "</tr>\n",
       "</table>"
      ],
      "text/plain": [
       "<Client: 'tcp://127.0.0.1:45911' processes=14 threads=28, memory=84.28 GB>"
      ]
     },
     "execution_count": 3,
     "metadata": {},
     "output_type": "execute_result"
    }
   ],
   "source": [
    "client = Client(LocalCluster(n_workers=14))\n",
    "client"
   ]
  },
  {
   "cell_type": "code",
   "execution_count": 4,
   "metadata": {},
   "outputs": [],
   "source": [
    "df = geopandas.read_parquet(\"../../urbangrammar_samba/spatial_signatures/buildings/blg_0.pq\")"
   ]
  },
  {
   "cell_type": "code",
   "execution_count": 5,
   "metadata": {},
   "outputs": [],
   "source": [
    "ddf = dg.from_geopandas(df, npartitions=14)"
   ]
  },
  {
   "cell_type": "code",
   "execution_count": 6,
   "metadata": {},
   "outputs": [],
   "source": [
    "def get_bbox(series):\n",
    "    return series.apply(lambda g: g.minimum_rotated_rectangle)"
   ]
  },
  {
   "cell_type": "code",
   "execution_count": 7,
   "metadata": {},
   "outputs": [],
   "source": [
    "bbox = ddf.geometry.map_partitions(get_bbox, meta=geopandas.GeoSeries())"
   ]
  },
  {
   "cell_type": "code",
   "execution_count": 8,
   "metadata": {},
   "outputs": [],
   "source": [
    "ddf['area'] = ddf.geometry.area\n",
    "ddf['length'] = ddf.geometry.length"
   ]
  },
  {
   "cell_type": "code",
   "execution_count": 9,
   "metadata": {},
   "outputs": [],
   "source": [
    "ddf['eri'] = (ddf['area'] / bbox.area).pow(1./2) * (bbox.length / ddf['length'])"
   ]
  },
  {
   "cell_type": "code",
   "execution_count": 10,
   "metadata": {},
   "outputs": [
    {
     "name": "stdout",
     "output_type": "stream",
     "text": [
      "CPU times: user 1.54 s, sys: 189 ms, total: 1.73 s\n",
      "Wall time: 6.62 s\n"
     ]
    },
    {
     "data": {
      "text/html": [
       "<div>\n",
       "<style scoped>\n",
       "    .dataframe tbody tr th:only-of-type {\n",
       "        vertical-align: middle;\n",
       "    }\n",
       "\n",
       "    .dataframe tbody tr th {\n",
       "        vertical-align: top;\n",
       "    }\n",
       "\n",
       "    .dataframe thead th {\n",
       "        text-align: right;\n",
       "    }\n",
       "</style>\n",
       "<table border=\"1\" class=\"dataframe\">\n",
       "  <thead>\n",
       "    <tr style=\"text-align: right;\">\n",
       "      <th></th>\n",
       "      <th>uID</th>\n",
       "      <th>geometry</th>\n",
       "      <th>area</th>\n",
       "      <th>length</th>\n",
       "      <th>eri</th>\n",
       "    </tr>\n",
       "  </thead>\n",
       "  <tbody>\n",
       "    <tr>\n",
       "      <th>2326419</th>\n",
       "      <td>2326419</td>\n",
       "      <td>POLYGON ((359111.400 434416.180, 359123.470 43...</td>\n",
       "      <td>131.44635</td>\n",
       "      <td>45.959465</td>\n",
       "      <td>0.999993</td>\n",
       "    </tr>\n",
       "    <tr>\n",
       "      <th>2326423</th>\n",
       "      <td>2326423</td>\n",
       "      <td>POLYGON ((359130.950 434416.050, 359122.160 43...</td>\n",
       "      <td>64.71930</td>\n",
       "      <td>32.338801</td>\n",
       "      <td>1.000022</td>\n",
       "    </tr>\n",
       "    <tr>\n",
       "      <th>2326424</th>\n",
       "      <td>2326424</td>\n",
       "      <td>POLYGON ((359130.610 434419.410, 359145.280 43...</td>\n",
       "      <td>158.77450</td>\n",
       "      <td>51.086096</td>\n",
       "      <td>1.000021</td>\n",
       "    </tr>\n",
       "    <tr>\n",
       "      <th>2326425</th>\n",
       "      <td>2326425</td>\n",
       "      <td>POLYGON ((359160.490 434474.880, 359159.490 43...</td>\n",
       "      <td>189.31275</td>\n",
       "      <td>55.043887</td>\n",
       "      <td>0.999984</td>\n",
       "    </tr>\n",
       "    <tr>\n",
       "      <th>2326426</th>\n",
       "      <td>2326426</td>\n",
       "      <td>POLYGON ((359156.180 434436.290, 359167.620 43...</td>\n",
       "      <td>163.25300</td>\n",
       "      <td>51.298783</td>\n",
       "      <td>0.999985</td>\n",
       "    </tr>\n",
       "    <tr>\n",
       "      <th>...</th>\n",
       "      <td>...</td>\n",
       "      <td>...</td>\n",
       "      <td>...</td>\n",
       "      <td>...</td>\n",
       "      <td>...</td>\n",
       "    </tr>\n",
       "    <tr>\n",
       "      <th>2573206</th>\n",
       "      <td>2573206</td>\n",
       "      <td>POLYGON ((335422.740 427198.940, 335425.690 42...</td>\n",
       "      <td>532.25255</td>\n",
       "      <td>154.044586</td>\n",
       "      <td>0.599067</td>\n",
       "    </tr>\n",
       "    <tr>\n",
       "      <th>2573207</th>\n",
       "      <td>2573207</td>\n",
       "      <td>POLYGON ((335421.370 427071.200, 335439.210 42...</td>\n",
       "      <td>314.15700</td>\n",
       "      <td>71.202935</td>\n",
       "      <td>1.000001</td>\n",
       "    </tr>\n",
       "    <tr>\n",
       "      <th>2573208</th>\n",
       "      <td>2573208</td>\n",
       "      <td>POLYGON ((335432.380 427227.080, 335438.650 42...</td>\n",
       "      <td>192.07815</td>\n",
       "      <td>56.055383</td>\n",
       "      <td>0.999980</td>\n",
       "    </tr>\n",
       "    <tr>\n",
       "      <th>2573209</th>\n",
       "      <td>2573209</td>\n",
       "      <td>POLYGON ((335464.150 427074.040, 335467.790 42...</td>\n",
       "      <td>402.79990</td>\n",
       "      <td>104.394290</td>\n",
       "      <td>0.997457</td>\n",
       "    </tr>\n",
       "    <tr>\n",
       "      <th>2573210</th>\n",
       "      <td>2573210</td>\n",
       "      <td>POLYGON ((335439.200 427215.890, 335448.350 42...</td>\n",
       "      <td>194.56290</td>\n",
       "      <td>59.086616</td>\n",
       "      <td>0.999892</td>\n",
       "    </tr>\n",
       "  </tbody>\n",
       "</table>\n",
       "<p>112951 rows × 5 columns</p>\n",
       "</div>"
      ],
      "text/plain": [
       "             uID                                           geometry  \\\n",
       "2326419  2326419  POLYGON ((359111.400 434416.180, 359123.470 43...   \n",
       "2326423  2326423  POLYGON ((359130.950 434416.050, 359122.160 43...   \n",
       "2326424  2326424  POLYGON ((359130.610 434419.410, 359145.280 43...   \n",
       "2326425  2326425  POLYGON ((359160.490 434474.880, 359159.490 43...   \n",
       "2326426  2326426  POLYGON ((359156.180 434436.290, 359167.620 43...   \n",
       "...          ...                                                ...   \n",
       "2573206  2573206  POLYGON ((335422.740 427198.940, 335425.690 42...   \n",
       "2573207  2573207  POLYGON ((335421.370 427071.200, 335439.210 42...   \n",
       "2573208  2573208  POLYGON ((335432.380 427227.080, 335438.650 42...   \n",
       "2573209  2573209  POLYGON ((335464.150 427074.040, 335467.790 42...   \n",
       "2573210  2573210  POLYGON ((335439.200 427215.890, 335448.350 42...   \n",
       "\n",
       "              area      length       eri  \n",
       "2326419  131.44635   45.959465  0.999993  \n",
       "2326423   64.71930   32.338801  1.000022  \n",
       "2326424  158.77450   51.086096  1.000021  \n",
       "2326425  189.31275   55.043887  0.999984  \n",
       "2326426  163.25300   51.298783  0.999985  \n",
       "...            ...         ...       ...  \n",
       "2573206  532.25255  154.044586  0.599067  \n",
       "2573207  314.15700   71.202935  1.000001  \n",
       "2573208  192.07815   56.055383  0.999980  \n",
       "2573209  402.79990  104.394290  0.997457  \n",
       "2573210  194.56290   59.086616  0.999892  \n",
       "\n",
       "[112951 rows x 5 columns]"
      ]
     },
     "execution_count": 10,
     "metadata": {},
     "output_type": "execute_result"
    }
   ],
   "source": [
    "%%time\n",
    "ddf.compute()"
   ]
  },
  {
   "cell_type": "code",
   "execution_count": 26,
   "metadata": {},
   "outputs": [
    {
     "name": "stderr",
     "output_type": "stream",
     "text": [
      "distributed.nanny - WARNING - Restarting worker\n",
      "distributed.nanny - WARNING - Restarting worker\n",
      "distributed.nanny - WARNING - Restarting worker\n",
      "distributed.nanny - WARNING - Restarting worker\n",
      "distributed.nanny - WARNING - Restarting worker\n",
      "distributed.nanny - WARNING - Restarting worker\n",
      "distributed.nanny - WARNING - Restarting worker\n"
     ]
    },
    {
     "data": {
      "text/html": [
       "<table style=\"border: 2px solid white;\">\n",
       "<tr>\n",
       "<td style=\"vertical-align: top; border: 0px solid white\">\n",
       "<h3 style=\"text-align: left;\">Client</h3>\n",
       "<ul style=\"text-align: left; list-style: none; margin: 0; padding: 0;\">\n",
       "  <li><b>Scheduler: </b>tcp://127.0.0.1:45425</li>\n",
       "  <li><b>Dashboard: </b><a href='http://127.0.0.1:8787/status' target='_blank'>http://127.0.0.1:8787/status</a></li>\n",
       "</ul>\n",
       "</td>\n",
       "<td style=\"vertical-align: top; border: 0px solid white\">\n",
       "<h3 style=\"text-align: left;\">Cluster</h3>\n",
       "<ul style=\"text-align: left; list-style:none; margin: 0; padding: 0;\">\n",
       "  <li><b>Workers: </b>7</li>\n",
       "  <li><b>Cores: </b>28</li>\n",
       "  <li><b>Memory: </b>84.28 GB</li>\n",
       "</ul>\n",
       "</td>\n",
       "</tr>\n",
       "</table>"
      ],
      "text/plain": [
       "<Client: 'tcp://127.0.0.1:45425' processes=0 threads=0, memory=0 B>"
      ]
     },
     "execution_count": 26,
     "metadata": {},
     "output_type": "execute_result"
    }
   ],
   "source": [
    "client.restart()"
   ]
  },
  {
   "cell_type": "code",
   "execution_count": 8,
   "metadata": {},
   "outputs": [],
   "source": [
    "ddf = dg.read_parquet(\"../../urbangrammar_samba/spatial_signatures/buildings/blg_*.pq\")"
   ]
  }
 ],
 "metadata": {
  "kernelspec": {
   "display_name": "Python 3",
   "language": "python",
   "name": "python3"
  },
  "language_info": {
   "codemirror_mode": {
    "name": "ipython",
    "version": 3
   },
   "file_extension": ".py",
   "mimetype": "text/x-python",
   "name": "python",
   "nbconvert_exporter": "python",
   "pygments_lexer": "ipython3",
   "version": "3.7.8"
  }
 },
 "nbformat": 4,
 "nbformat_minor": 4
}
